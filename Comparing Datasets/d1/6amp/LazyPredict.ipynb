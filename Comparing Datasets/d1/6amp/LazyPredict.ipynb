{
 "cells": [
  {
   "cell_type": "markdown",
   "metadata": {},
   "source": [
    "# Imports and dataset loading"
   ]
  },
  {
   "cell_type": "code",
   "execution_count": 1,
   "metadata": {
    "scrolled": true
   },
   "outputs": [
    {
     "name": "stderr",
     "output_type": "stream",
     "text": [
      "/home/leandro/Documentos/Mestrado/ACOPResults/acopEnv/lib/python3.6/site-packages/sklearn/utils/deprecation.py:143: FutureWarning: The sklearn.utils.testing module is  deprecated in version 0.22 and will be removed in version 0.24. The corresponding classes / functions should instead be imported from sklearn.utils. Anything that cannot be imported from sklearn.utils is now part of the private API.\n",
      "  warnings.warn(message, FutureWarning)\n"
     ]
    }
   ],
   "source": [
    "import numpy as np\n",
    "import matplotlib.pyplot as plt\n",
    "import math\n",
    "from sklearn.multioutput import MultiOutputRegressor\n",
    "from sklearn import linear_model\n",
    "from sklearn.neighbors import KNeighborsRegressor\n",
    "from sklearn.kernel_ridge import KernelRidge\n",
    "from sklearn.neural_network import MLPRegressor\n",
    "from sklearn.svm import SVR\n",
    "from sklearn.preprocessing import MinMaxScaler\n",
    "from keras.models import Sequential\n",
    "from keras.layers import Dense\n",
    "from keras.wrappers.scikit_learn import KerasRegressor\n",
    "from lazypredict.Supervised import LazyRegressor\n",
    "from sklearn.model_selection import train_test_split\n",
    "import autokeras as ak\n",
    "import tensorflow as tf\n",
    "import pandas as pd\n",
    "\n",
    "import os\n",
    "path = os.getcwd()\n",
    "currentAmpNumber = int(os.path.basename(path)[0])\n",
    "maxAmpNumber     = 7\n",
    "\n",
    "strategyArray = []\n",
    "gainArray     = []\n",
    "lossArray     = []\n",
    "ampNumber     = [maxAmpNumber, currentAmpNumber]\n",
    "\n",
    "originalDataset = []\n",
    "binaryDataset   = []\n",
    "\n",
    "gainScalerList = []\n",
    "lossScalerList = []\n",
    "\n",
    "originalDataset.append(pd.read_csv('../dataset.txt', sep = ',',header = None))\n",
    "originalDataset.append(pd.read_csv('dataset-{}.txt'.format(ampNumber[-1]), sep = ',', header = None))\n",
    "        \n",
    "for i in range(2):\n",
    "    binaryDataset.append([])\n",
    "    \n",
    "    for line in originalDataset[i].values:\n",
    "        myList = [1 if j != 0 else 0 for j in line[:40]]\n",
    "        myList.extend(line[40:])\n",
    "        binaryDataset[i].append(myList)\n",
    "    \n",
    "    binaryDataset[i] = pd.DataFrame(binaryDataset[i])\n",
    "\n",
    "def loadDataset(datasetIndex): \n",
    "    dataset = binaryDataset[datasetIndex].values[:, :40]\n",
    "    \n",
    "    for i in range(0, ampNumber[datasetIndex] * 2, 2):\n",
    "        gain    = np.array(binaryDataset[datasetIndex].values[:, 40 + i])\n",
    "        #gain    = gainScaler.transform(gain.reshape(-1, 1))\n",
    "        gain    = gain.reshape(-1, 1)\n",
    "        dataset = np.hstack((dataset, gain))\n",
    "        \n",
    "        loss    = np.array(binaryDataset[datasetIndex].values[:, 40 + i + 1])\n",
    "        #loss    = lossScaler.transform(loss.reshape(-1, 1))\n",
    "        loss    = loss.reshape(-1, 1)\n",
    "        dataset = np.hstack((dataset, loss))\n",
    "                \n",
    "    X, y = np.array(dataset[:, :40]), np.array(dataset[:, 40:])\n",
    "    return X, y"
   ]
  },
  {
   "cell_type": "markdown",
   "metadata": {},
   "source": [
    "# Model setup"
   ]
  },
  {
   "cell_type": "code",
   "execution_count": 2,
   "metadata": {},
   "outputs": [
    {
     "name": "stderr",
     "output_type": "stream",
     "text": [
      "\r",
      "  0%|          | 0/43 [00:00<?, ?it/s]"
     ]
    },
    {
     "name": "stdout",
     "output_type": "stream",
     "text": [
      "AdaBoostRegressor model failed to execute\n",
      "y should be a 1d array, got an array of shape (3796, 14) instead.\n"
     ]
    },
    {
     "name": "stderr",
     "output_type": "stream",
     "text": [
      "\r",
      "  5%|▍         | 2/43 [00:00<00:11,  3.47it/s]"
     ]
    },
    {
     "name": "stdout",
     "output_type": "stream",
     "text": [
      "BayesianRidge model failed to execute\n",
      "y should be a 1d array, got an array of shape (3796, 14) instead.\n"
     ]
    },
    {
     "name": "stderr",
     "output_type": "stream",
     "text": [
      " 16%|█▋        | 7/43 [00:01<00:07,  4.70it/s]"
     ]
    },
    {
     "name": "stdout",
     "output_type": "stream",
     "text": [
      "ElasticNetCV model failed to execute\n",
      "For multi-task outputs, use MultiTaskElasticNetCV\n"
     ]
    },
    {
     "name": "stderr",
     "output_type": "stream",
     "text": [
      "\r",
      " 21%|██        | 9/43 [00:01<00:08,  4.05it/s]"
     ]
    },
    {
     "name": "stdout",
     "output_type": "stream",
     "text": [
      "GammaRegressor model failed to execute\n",
      "y should be a 1d array, got an array of shape (3796, 14) instead.\n"
     ]
    },
    {
     "name": "stderr",
     "output_type": "stream",
     "text": [
      " 33%|███▎      | 14/43 [00:08<00:22,  1.30it/s]"
     ]
    },
    {
     "name": "stdout",
     "output_type": "stream",
     "text": [
      "GeneralizedLinearRegressor model failed to execute\n",
      "y should be a 1d array, got an array of shape (3796, 14) instead.\n",
      "GradientBoostingRegressor model failed to execute\n",
      "y should be a 1d array, got an array of shape (3796, 14) instead.\n",
      "HistGradientBoostingRegressor model failed to execute\n",
      "y should be a 1d array, got an array of shape (3796, 14) instead.\n",
      "HuberRegressor model failed to execute\n",
      "y should be a 1d array, got an array of shape (3796, 14) instead.\n"
     ]
    },
    {
     "name": "stderr",
     "output_type": "stream",
     "text": [
      " 47%|████▋     | 20/43 [00:12<00:16,  1.36it/s]"
     ]
    },
    {
     "name": "stdout",
     "output_type": "stream",
     "text": [
      "LarsCV model failed to execute\n",
      "y should be a 1d array, got an array of shape (3796, 14) instead.\n"
     ]
    },
    {
     "name": "stderr",
     "output_type": "stream",
     "text": [
      "\r",
      " 51%|█████     | 22/43 [00:12<00:11,  1.84it/s]"
     ]
    },
    {
     "name": "stdout",
     "output_type": "stream",
     "text": [
      "LassoCV model failed to execute\n",
      "For multi-task outputs, use MultiTaskLassoCV\n",
      "LassoLarsCV model failed to execute\n",
      "y should be a 1d array, got an array of shape (3796, 14) instead.\n"
     ]
    },
    {
     "name": "stderr",
     "output_type": "stream",
     "text": [
      " 60%|██████    | 26/43 [00:12<00:05,  3.30it/s]"
     ]
    },
    {
     "name": "stdout",
     "output_type": "stream",
     "text": [
      "LassoLarsIC model failed to execute\n",
      "y should be a 1d array, got an array of shape (3796, 14) instead.\n",
      "LinearSVR model failed to execute\n",
      "y should be a 1d array, got an array of shape (3796, 14) instead.\n"
     ]
    },
    {
     "name": "stderr",
     "output_type": "stream",
     "text": [
      " 67%|██████▋   | 29/43 [00:22<00:17,  1.26s/it]"
     ]
    },
    {
     "name": "stdout",
     "output_type": "stream",
     "text": [
      "NuSVR model failed to execute\n",
      "y should be a 1d array, got an array of shape (3796, 14) instead.\n",
      "OrthogonalMatchingPursuitCV model failed to execute"
     ]
    },
    {
     "name": "stderr",
     "output_type": "stream",
     "text": [
      "\r",
      " 72%|███████▏  | 31/43 [00:23<00:10,  1.10it/s]"
     ]
    },
    {
     "name": "stdout",
     "output_type": "stream",
     "text": [
      "\n",
      "y should be a 1d array, got an array of shape (3796, 14) instead.\n",
      "PassiveAggressiveRegressor model failed to execute\n",
      "y should be a 1d array, got an array of shape (3796, 14) instead.\n",
      "PoissonRegressor model failed to execute\n",
      "y should be a 1d array, got an array of shape (3796, 14) instead.\n"
     ]
    },
    {
     "name": "stderr",
     "output_type": "stream",
     "text": [
      " 95%|█████████▌| 41/43 [00:25<00:00,  2.22it/s]"
     ]
    },
    {
     "name": "stdout",
     "output_type": "stream",
     "text": [
      "SGDRegressor model failed to execute\n",
      "y should be a 1d array, got an array of shape (3796, 14) instead.\n",
      "SVR model failed to execute\n",
      "y should be a 1d array, got an array of shape (3796, 14) instead.\n",
      "StackingRegressor model failed to execute\n",
      "__init__() missing 1 required positional argument: 'estimators'\n",
      "TweedieRegressor model failed to execute\n",
      "y should be a 1d array, got an array of shape (3796, 14) instead.\n"
     ]
    },
    {
     "name": "stderr",
     "output_type": "stream",
     "text": [
      "100%|██████████| 43/43 [00:25<00:00,  1.69it/s]\n",
      "  0%|          | 0/43 [00:00<?, ?it/s]"
     ]
    },
    {
     "name": "stdout",
     "output_type": "stream",
     "text": [
      "XGBRegressor model failed to execute\n",
      "only size-1 arrays can be converted to Python scalars\n",
      "LGBMRegressor model failed to execute\n",
      "y should be a 1d array, got an array of shape (3796, 14) instead.\n",
      "AdaBoostRegressor model failed to execute\n",
      "y should be a 1d array, got an array of shape (674, 2) instead.\n"
     ]
    },
    {
     "name": "stderr",
     "output_type": "stream",
     "text": [
      " 14%|█▍        | 6/43 [00:00<00:02, 16.48it/s]"
     ]
    },
    {
     "name": "stdout",
     "output_type": "stream",
     "text": [
      "BayesianRidge model failed to execute\n",
      "y should be a 1d array, got an array of shape (674, 2) instead.\n",
      "ElasticNetCV model failed to execute\n",
      "For multi-task outputs, use MultiTaskElasticNetCV\n"
     ]
    },
    {
     "name": "stderr",
     "output_type": "stream",
     "text": [
      " 35%|███▍      | 15/43 [00:00<00:01, 17.87it/s]"
     ]
    },
    {
     "name": "stdout",
     "output_type": "stream",
     "text": [
      "GammaRegressor model failed to execute\n",
      "y should be a 1d array, got an array of shape (674, 2) instead.\n",
      "GeneralizedLinearRegressor model failed to execute\n",
      "y should be a 1d array, got an array of shape (674, 2) instead.\n",
      "GradientBoostingRegressor model failed to execute\n",
      "y should be a 1d array, got an array of shape (674, 2) instead.\n",
      "HistGradientBoostingRegressor model failed to execute\n",
      "y should be a 1d array, got an array of shape (674, 2) instead.\n",
      "HuberRegressor model failed to execute\n",
      "y should be a 1d array, got an array of shape (674, 2) instead.\n"
     ]
    },
    {
     "name": "stderr",
     "output_type": "stream",
     "text": [
      " 53%|█████▎    | 23/43 [00:01<00:01, 16.42it/s]"
     ]
    },
    {
     "name": "stdout",
     "output_type": "stream",
     "text": [
      "LarsCV model failed to execute\n",
      "y should be a 1d array, got an array of shape (674, 2) instead.\n",
      "LassoCV model failed to execute\n",
      "For multi-task outputs, use MultiTaskLassoCV\n",
      "LassoLarsCV model failed to execute\n",
      "y should be a 1d array, got an array of shape (674, 2) instead.\n"
     ]
    },
    {
     "name": "stderr",
     "output_type": "stream",
     "text": [
      "\r",
      " 58%|█████▊    | 25/43 [00:01<00:01, 15.08it/s]"
     ]
    },
    {
     "name": "stdout",
     "output_type": "stream",
     "text": [
      "LassoLarsIC model failed to execute\n",
      "y should be a 1d array, got an array of shape (674, 2) instead.\n",
      "LinearSVR model failed to execute\n",
      "y should be a 1d array, got an array of shape (674, 2) instead.\n"
     ]
    },
    {
     "name": "stderr",
     "output_type": "stream",
     "text": [
      " 72%|███████▏  | 31/43 [00:04<00:03,  3.55it/s]"
     ]
    },
    {
     "name": "stdout",
     "output_type": "stream",
     "text": [
      "NuSVR model failed to execute\n",
      "y should be a 1d array, got an array of shape (674, 2) instead.\n",
      "OrthogonalMatchingPursuitCV model failed to execute\n",
      "y should be a 1d array, got an array of shape (674, 2) instead.\n",
      "PassiveAggressiveRegressor model failed to execute\n",
      "y should be a 1d array, got an array of shape (674, 2) instead.\n",
      "PoissonRegressor model failed to execute"
     ]
    },
    {
     "name": "stderr",
     "output_type": "stream",
     "text": [
      "\r",
      " 77%|███████▋  | 33/43 [00:05<00:02,  4.56it/s]"
     ]
    },
    {
     "name": "stdout",
     "output_type": "stream",
     "text": [
      "\n",
      "y should be a 1d array, got an array of shape (674, 2) instead.\n"
     ]
    },
    {
     "name": "stderr",
     "output_type": "stream",
     "text": [
      " 95%|█████████▌| 41/43 [00:06<00:00,  6.25it/s]"
     ]
    },
    {
     "name": "stdout",
     "output_type": "stream",
     "text": [
      "SGDRegressor model failed to execute\n",
      "y should be a 1d array, got an array of shape (674, 2) instead.\n",
      "SVR model failed to execute\n",
      "y should be a 1d array, got an array of shape (674, 2) instead.\n",
      "StackingRegressor model failed to execute\n",
      "__init__() missing 1 required positional argument: 'estimators'\n",
      "TweedieRegressor model failed to execute\n",
      "y should be a 1d array, got an array of shape (674, 2) instead.\n",
      "XGBRegressor model failed to execute\n",
      "only size-1 arrays can be converted to Python scalars\n",
      "LGBMRegressor model failed to execute"
     ]
    },
    {
     "name": "stderr",
     "output_type": "stream",
     "text": [
      "100%|██████████| 43/43 [00:06<00:00,  6.89it/s]\n",
      " 14%|█▍        | 6/43 [00:00<00:00, 57.26it/s]"
     ]
    },
    {
     "name": "stdout",
     "output_type": "stream",
     "text": [
      "\n",
      "y should be a 1d array, got an array of shape (674, 2) instead.\n",
      "AdaBoostRegressor model failed to execute\n",
      "y should be a 1d array, got an array of shape (674, 2) instead.\n",
      "BayesianRidge model failed to execute\n",
      "y should be a 1d array, got an array of shape (674, 2) instead.\n",
      "ElasticNetCV model failed to execute\n",
      "For multi-task outputs, use MultiTaskElasticNetCV\n"
     ]
    },
    {
     "name": "stderr",
     "output_type": "stream",
     "text": [
      " 26%|██▌       | 11/43 [00:00<00:02, 15.35it/s]"
     ]
    },
    {
     "name": "stdout",
     "output_type": "stream",
     "text": [
      "GammaRegressor model failed to execute\n",
      "y should be a 1d array, got an array of shape (674, 2) instead.\n"
     ]
    },
    {
     "name": "stderr",
     "output_type": "stream",
     "text": [
      "\r",
      " 37%|███▋      | 16/43 [00:00<00:01, 17.52it/s]"
     ]
    },
    {
     "name": "stdout",
     "output_type": "stream",
     "text": [
      "GeneralizedLinearRegressor model failed to execute\n",
      "y should be a 1d array, got an array of shape (674, 2) instead.\n",
      "GradientBoostingRegressor model failed to execute\n",
      "y should be a 1d array, got an array of shape (674, 2) instead.\n",
      "HistGradientBoostingRegressor model failed to execute\n",
      "y should be a 1d array, got an array of shape (674, 2) instead.\n",
      "HuberRegressor model failed to execute\n",
      "y should be a 1d array, got an array of shape (674, 2) instead.\n"
     ]
    },
    {
     "name": "stderr",
     "output_type": "stream",
     "text": [
      " 51%|█████     | 22/43 [00:01<00:01, 16.82it/s]"
     ]
    },
    {
     "name": "stdout",
     "output_type": "stream",
     "text": [
      "LarsCV model failed to execute\n",
      "y should be a 1d array, got an array of shape (674, 2) instead.\n",
      "LassoCV model failed to execute\n",
      "For multi-task outputs, use MultiTaskLassoCV\n",
      "LassoLarsCV model failed to execute\n",
      "y should be a 1d array, got an array of shape (674, 2) instead.\n",
      "LassoLarsIC model failed to execute\n",
      "y should be a 1d array, got an array of shape (674, 2) instead.\n"
     ]
    },
    {
     "name": "stderr",
     "output_type": "stream",
     "text": [
      "\r",
      " 58%|█████▊    | 25/43 [00:01<00:00, 18.45it/s]"
     ]
    },
    {
     "name": "stdout",
     "output_type": "stream",
     "text": [
      "LinearSVR model failed to execute\n",
      "y should be a 1d array, got an array of shape (674, 2) instead.\n"
     ]
    },
    {
     "name": "stderr",
     "output_type": "stream",
     "text": [
      " 70%|██████▉   | 30/43 [00:05<00:04,  2.78it/s]"
     ]
    },
    {
     "name": "stdout",
     "output_type": "stream",
     "text": [
      "NuSVR model failed to execute\n",
      "y should be a 1d array, got an array of shape (674, 2) instead.\n",
      "OrthogonalMatchingPursuitCV model failed to execute\n",
      "y should be a 1d array, got an array of shape (674, 2) instead.\n",
      "PassiveAggressiveRegressor model failed to execute\n",
      "y should be a 1d array, got an array of shape (674, 2) instead.\n",
      "PoissonRegressor model failed to execute\n",
      "y should be a 1d array, got an array of shape (674, 2) instead.\n"
     ]
    },
    {
     "name": "stderr",
     "output_type": "stream",
     "text": [
      " 93%|█████████▎| 40/43 [00:07<00:00,  5.27it/s]"
     ]
    },
    {
     "name": "stdout",
     "output_type": "stream",
     "text": [
      "SGDRegressor model failed to execute\n",
      "y should be a 1d array, got an array of shape (674, 2) instead.\n",
      "SVR model failed to execute\n",
      "y should be a 1d array, got an array of shape (674, 2) instead.\n",
      "StackingRegressor model failed to execute\n",
      "__init__() missing 1 required positional argument: 'estimators'\n",
      "TweedieRegressor model failed to execute\n",
      "y should be a 1d array, got an array of shape (674, 2) instead.\n",
      "XGBRegressor model failed to execute\n",
      "only size-1 arrays can be converted to Python scalars\n"
     ]
    },
    {
     "name": "stderr",
     "output_type": "stream",
     "text": [
      "100%|██████████| 43/43 [00:07<00:00,  5.73it/s]\n",
      "  5%|▍         | 2/43 [00:00<00:02, 19.14it/s]"
     ]
    },
    {
     "name": "stdout",
     "output_type": "stream",
     "text": [
      "LGBMRegressor model failed to execute\n",
      "y should be a 1d array, got an array of shape (674, 2) instead.\n",
      "AdaBoostRegressor model failed to execute\n",
      "y should be a 1d array, got an array of shape (674, 2) instead.\n",
      "BayesianRidge model failed to execute\n",
      "y should be a 1d array, got an array of shape (674, 2) instead.\n"
     ]
    },
    {
     "name": "stderr",
     "output_type": "stream",
     "text": [
      " 19%|█▊        | 8/43 [00:00<00:01, 19.39it/s]"
     ]
    },
    {
     "name": "stdout",
     "output_type": "stream",
     "text": [
      "ElasticNetCV model failed to execute\n",
      "For multi-task outputs, use MultiTaskElasticNetCV\n"
     ]
    },
    {
     "name": "stderr",
     "output_type": "stream",
     "text": [
      " 28%|██▊       | 12/43 [00:00<00:02, 13.12it/s]"
     ]
    },
    {
     "name": "stdout",
     "output_type": "stream",
     "text": [
      "GammaRegressor model failed to execute\n",
      "y should be a 1d array, got an array of shape (674, 2) instead.\n",
      "GeneralizedLinearRegressor model failed to execute\n",
      "y should be a 1d array, got an array of shape (674, 2) instead.\n",
      "GradientBoostingRegressor model failed to execute\n",
      "y should be a 1d array, got an array of shape (674, 2) instead.\n",
      "HistGradientBoostingRegressor model failed to execute\n",
      "y should be a 1d array, got an array of shape (674, 2) instead.\n"
     ]
    },
    {
     "name": "stderr",
     "output_type": "stream",
     "text": [
      "\r",
      " 37%|███▋      | 16/43 [00:00<00:01, 14.67it/s]"
     ]
    },
    {
     "name": "stdout",
     "output_type": "stream",
     "text": [
      "HuberRegressor model failed to execute\n",
      "y should be a 1d array, got an array of shape (674, 2) instead.\n"
     ]
    },
    {
     "name": "stderr",
     "output_type": "stream",
     "text": [
      " 58%|█████▊    | 25/43 [00:01<00:00, 18.38it/s]"
     ]
    },
    {
     "name": "stdout",
     "output_type": "stream",
     "text": [
      "LarsCV model failed to execute\n",
      "y should be a 1d array, got an array of shape (674, 2) instead.\n",
      "LassoCV model failed to execute\n",
      "For multi-task outputs, use MultiTaskLassoCV\n",
      "LassoLarsCV model failed to execute\n",
      "y should be a 1d array, got an array of shape (674, 2) instead.\n",
      "LassoLarsIC model failed to execute\n",
      "y should be a 1d array, got an array of shape (674, 2) instead.\n",
      "LinearSVR model failed to execute\n",
      "y should be a 1d array, got an array of shape (674, 2) instead.\n"
     ]
    },
    {
     "name": "stderr",
     "output_type": "stream",
     "text": [
      " 72%|███████▏  | 31/43 [00:05<00:03,  3.51it/s]"
     ]
    },
    {
     "name": "stdout",
     "output_type": "stream",
     "text": [
      "NuSVR model failed to execute\n",
      "y should be a 1d array, got an array of shape (674, 2) instead.\n",
      "OrthogonalMatchingPursuitCV model failed to execute\n",
      "y should be a 1d array, got an array of shape (674, 2) instead.\n",
      "PassiveAggressiveRegressor model failed to execute\n",
      "y should be a 1d array, got an array of shape (674, 2) instead.\n",
      "PoissonRegressor model failed to execute\n",
      "y should be a 1d array, got an array of shape (674, 2) instead.\n"
     ]
    },
    {
     "name": "stderr",
     "output_type": "stream",
     "text": [
      " 93%|█████████▎| 40/43 [00:06<00:00,  5.82it/s]"
     ]
    },
    {
     "name": "stdout",
     "output_type": "stream",
     "text": [
      "SGDRegressor model failed to execute\n",
      "y should be a 1d array, got an array of shape (674, 2) instead.\n",
      "SVR model failed to execute\n",
      "y should be a 1d array, got an array of shape (674, 2) instead.\n",
      "StackingRegressor model failed to execute\n",
      "__init__() missing 1 required positional argument: 'estimators'\n",
      "TweedieRegressor model failed to execute\n",
      "y should be a 1d array, got an array of shape (674, 2) instead.\n"
     ]
    },
    {
     "name": "stderr",
     "output_type": "stream",
     "text": [
      "100%|██████████| 43/43 [00:06<00:00,  6.60it/s]\n",
      "  0%|          | 0/43 [00:00<?, ?it/s]"
     ]
    },
    {
     "name": "stdout",
     "output_type": "stream",
     "text": [
      "XGBRegressor model failed to execute\n",
      "only size-1 arrays can be converted to Python scalars\n",
      "LGBMRegressor model failed to execute\n",
      "y should be a 1d array, got an array of shape (674, 2) instead.\n",
      "AdaBoostRegressor model failed to execute\n",
      "y should be a 1d array, got an array of shape (674, 2) instead.\n"
     ]
    },
    {
     "name": "stderr",
     "output_type": "stream",
     "text": [
      " 12%|█▏        | 5/43 [00:00<00:02, 13.74it/s]"
     ]
    },
    {
     "name": "stdout",
     "output_type": "stream",
     "text": [
      "BayesianRidge model failed to execute\n",
      "y should be a 1d array, got an array of shape (674, 2) instead.\n"
     ]
    },
    {
     "name": "stderr",
     "output_type": "stream",
     "text": [
      "\r",
      " 16%|█▋        | 7/43 [00:00<00:02, 14.31it/s]"
     ]
    },
    {
     "name": "stdout",
     "output_type": "stream",
     "text": [
      "ElasticNetCV model failed to execute\n",
      "For multi-task outputs, use MultiTaskElasticNetCV\n"
     ]
    },
    {
     "name": "stderr",
     "output_type": "stream",
     "text": [
      " 26%|██▌       | 11/43 [00:01<00:04,  7.80it/s]"
     ]
    },
    {
     "name": "stdout",
     "output_type": "stream",
     "text": [
      "GammaRegressor model failed to execute\n",
      "y should be a 1d array, got an array of shape (674, 2) instead.\n",
      "GeneralizedLinearRegressor model failed to execute\n",
      "y should be a 1d array, got an array of shape (674, 2) instead.\n"
     ]
    },
    {
     "name": "stderr",
     "output_type": "stream",
     "text": [
      "\r",
      " 37%|███▋      | 16/43 [00:01<00:02, 10.16it/s]"
     ]
    },
    {
     "name": "stdout",
     "output_type": "stream",
     "text": [
      "GradientBoostingRegressor model failed to execute\n",
      "y should be a 1d array, got an array of shape (674, 2) instead.\n",
      "HistGradientBoostingRegressor model failed to execute\n",
      "y should be a 1d array, got an array of shape (674, 2) instead.\n",
      "HuberRegressor model failed to execute\n",
      "y should be a 1d array, got an array of shape (674, 2) instead.\n"
     ]
    },
    {
     "name": "stderr",
     "output_type": "stream",
     "text": [
      " 51%|█████     | 22/43 [00:01<00:01, 13.88it/s]"
     ]
    },
    {
     "name": "stdout",
     "output_type": "stream",
     "text": [
      "LarsCV model failed to execute\n",
      "y should be a 1d array, got an array of shape (674, 2) instead.\n",
      "LassoCV model failed to execute\n",
      "For multi-task outputs, use MultiTaskLassoCV\n",
      "LassoLarsCV model failed to execute\n",
      "y should be a 1d array, got an array of shape (674, 2) instead.\n",
      "LassoLarsIC model failed to execute"
     ]
    },
    {
     "name": "stderr",
     "output_type": "stream",
     "text": [
      "\r",
      " 58%|█████▊    | 25/43 [00:01<00:01, 15.58it/s]"
     ]
    },
    {
     "name": "stdout",
     "output_type": "stream",
     "text": [
      "\n",
      "y should be a 1d array, got an array of shape (674, 2) instead.\n",
      "LinearSVR model failed to execute\n",
      "y should be a 1d array, got an array of shape (674, 2) instead.\n"
     ]
    },
    {
     "name": "stderr",
     "output_type": "stream",
     "text": [
      " 70%|██████▉   | 30/43 [00:05<00:04,  3.14it/s]"
     ]
    },
    {
     "name": "stdout",
     "output_type": "stream",
     "text": [
      "NuSVR model failed to execute\n",
      "y should be a 1d array, got an array of shape (674, 2) instead.\n",
      "OrthogonalMatchingPursuitCV model failed to execute\n",
      "y should be a 1d array, got an array of shape (674, 2) instead.\n",
      "PassiveAggressiveRegressor model failed to execute\n",
      "y should be a 1d array, got an array of shape (674, 2) instead.\n",
      "PoissonRegressor model failed to execute\n",
      "y should be a 1d array, got an array of shape (674, 2) instead.\n"
     ]
    },
    {
     "name": "stderr",
     "output_type": "stream",
     "text": [
      " 95%|█████████▌| 41/43 [00:07<00:00,  5.94it/s]"
     ]
    },
    {
     "name": "stdout",
     "output_type": "stream",
     "text": [
      "SGDRegressor model failed to execute\n",
      "y should be a 1d array, got an array of shape (674, 2) instead.\n",
      "SVR model failed to execute\n",
      "y should be a 1d array, got an array of shape (674, 2) instead.\n",
      "StackingRegressor model failed to execute\n",
      "__init__() missing 1 required positional argument: 'estimators'\n",
      "TweedieRegressor model failed to execute\n",
      "y should be a 1d array, got an array of shape (674, 2) instead.\n",
      "XGBRegressor model failed to execute\n",
      "only size-1 arrays can be converted to Python scalars\n"
     ]
    },
    {
     "name": "stderr",
     "output_type": "stream",
     "text": [
      "100%|██████████| 43/43 [00:07<00:00,  5.92it/s]\n",
      "  5%|▍         | 2/43 [00:00<00:02, 16.59it/s]"
     ]
    },
    {
     "name": "stdout",
     "output_type": "stream",
     "text": [
      "LGBMRegressor model failed to execute\n",
      "y should be a 1d array, got an array of shape (674, 2) instead.\n",
      "AdaBoostRegressor model failed to execute\n",
      "y should be a 1d array, got an array of shape (674, 2) instead.\n",
      "BayesianRidge model failed to execute\n",
      "y should be a 1d array, got an array of shape (674, 2) instead.\n"
     ]
    },
    {
     "name": "stderr",
     "output_type": "stream",
     "text": [
      " 16%|█▋        | 7/43 [00:00<00:02, 16.82it/s]"
     ]
    },
    {
     "name": "stdout",
     "output_type": "stream",
     "text": [
      "ElasticNetCV model failed to execute\n",
      "For multi-task outputs, use MultiTaskElasticNetCV\n"
     ]
    },
    {
     "name": "stderr",
     "output_type": "stream",
     "text": [
      " 26%|██▌       | 11/43 [00:01<00:03,  9.69it/s]"
     ]
    },
    {
     "name": "stdout",
     "output_type": "stream",
     "text": [
      "GammaRegressor model failed to execute\n",
      "y should be a 1d array, got an array of shape (674, 2) instead.\n"
     ]
    },
    {
     "name": "stderr",
     "output_type": "stream",
     "text": [
      "\r",
      " 35%|███▍      | 15/43 [00:01<00:02, 12.22it/s]"
     ]
    },
    {
     "name": "stdout",
     "output_type": "stream",
     "text": [
      "GeneralizedLinearRegressor model failed to execute\n",
      "y should be a 1d array, got an array of shape (674, 2) instead.\n",
      "GradientBoostingRegressor model failed to execute\n",
      "y should be a 1d array, got an array of shape (674, 2) instead.\n",
      "HistGradientBoostingRegressor model failed to execute\n",
      "y should be a 1d array, got an array of shape (674, 2) instead.\n",
      "HuberRegressor model failed to execute\n",
      "y should be a 1d array, got an array of shape (674, 2) instead.\n"
     ]
    },
    {
     "name": "stderr",
     "output_type": "stream",
     "text": [
      " 58%|█████▊    | 25/43 [00:01<00:00, 18.89it/s]"
     ]
    },
    {
     "name": "stdout",
     "output_type": "stream",
     "text": [
      "LarsCV model failed to execute\n",
      "y should be a 1d array, got an array of shape (674, 2) instead.\n",
      "LassoCV model failed to execute\n",
      "For multi-task outputs, use MultiTaskLassoCV\n",
      "LassoLarsCV model failed to execute\n",
      "y should be a 1d array, got an array of shape (674, 2) instead.\n",
      "LassoLarsIC model failed to execute\n",
      "y should be a 1d array, got an array of shape (674, 2) instead.\n",
      "LinearSVR model failed to execute\n",
      "y should be a 1d array, got an array of shape (674, 2) instead.\n"
     ]
    },
    {
     "name": "stderr",
     "output_type": "stream",
     "text": [
      " 72%|███████▏  | 31/43 [00:03<00:02,  5.26it/s]"
     ]
    },
    {
     "name": "stdout",
     "output_type": "stream",
     "text": [
      "NuSVR model failed to execute\n",
      "y should be a 1d array, got an array of shape (674, 2) instead.\n",
      "OrthogonalMatchingPursuitCV model failed to execute\n",
      "y should be a 1d array, got an array of shape (674, 2) instead.\n",
      "PassiveAggressiveRegressor model failed to execute\n",
      "y should be a 1d array, got an array of shape (674, 2) instead.\n",
      "PoissonRegressor model failed to execute\n",
      "y should be a 1d array, got an array of shape (674, 2) instead.\n"
     ]
    },
    {
     "name": "stderr",
     "output_type": "stream",
     "text": [
      "100%|██████████| 43/43 [00:04<00:00,  9.25it/s]\n",
      "  0%|          | 0/43 [00:00<?, ?it/s]"
     ]
    },
    {
     "name": "stdout",
     "output_type": "stream",
     "text": [
      "SGDRegressor model failed to execute\n",
      "y should be a 1d array, got an array of shape (674, 2) instead.\n",
      "SVR model failed to execute\n",
      "y should be a 1d array, got an array of shape (674, 2) instead.\n",
      "StackingRegressor model failed to execute\n",
      "__init__() missing 1 required positional argument: 'estimators'\n",
      "TweedieRegressor model failed to execute\n",
      "y should be a 1d array, got an array of shape (674, 2) instead.\n",
      "XGBRegressor model failed to execute\n",
      "only size-1 arrays can be converted to Python scalars\n",
      "LGBMRegressor model failed to execute\n",
      "y should be a 1d array, got an array of shape (674, 2) instead.\n"
     ]
    },
    {
     "name": "stderr",
     "output_type": "stream",
     "text": [
      " 14%|█▍        | 6/43 [00:00<00:01, 23.24it/s]"
     ]
    },
    {
     "name": "stdout",
     "output_type": "stream",
     "text": [
      "AdaBoostRegressor model failed to execute\n",
      "y should be a 1d array, got an array of shape (674, 2) instead.\n",
      "BayesianRidge model failed to execute\n",
      "y should be a 1d array, got an array of shape (674, 2) instead.\n",
      "ElasticNetCV model failed to execute\n",
      "For multi-task outputs, use MultiTaskElasticNetCV\n"
     ]
    },
    {
     "name": "stderr",
     "output_type": "stream",
     "text": [
      " 26%|██▌       | 11/43 [00:00<00:02, 13.84it/s]"
     ]
    },
    {
     "name": "stdout",
     "output_type": "stream",
     "text": [
      "GammaRegressor model failed to execute\n",
      "y should be a 1d array, got an array of shape (674, 2) instead.\n",
      "GeneralizedLinearRegressor model failed to execute\n",
      "y should be a 1d array, got an array of shape (674, 2) instead.\n",
      "GradientBoostingRegressor model failed to execute\n",
      "y should be a 1d array, got an array of shape (674, 2) instead.\n"
     ]
    },
    {
     "name": "stderr",
     "output_type": "stream",
     "text": [
      "\r",
      " 37%|███▋      | 16/43 [00:00<00:01, 16.90it/s]"
     ]
    },
    {
     "name": "stdout",
     "output_type": "stream",
     "text": [
      "HistGradientBoostingRegressor model failed to execute\n",
      "y should be a 1d array, got an array of shape (674, 2) instead.\n",
      "HuberRegressor model failed to execute\n",
      "y should be a 1d array, got an array of shape (674, 2) instead.\n"
     ]
    },
    {
     "name": "stderr",
     "output_type": "stream",
     "text": [
      " 56%|█████▌    | 24/43 [00:01<00:00, 19.24it/s]"
     ]
    },
    {
     "name": "stdout",
     "output_type": "stream",
     "text": [
      "LarsCV model failed to execute\n",
      "y should be a 1d array, got an array of shape (674, 2) instead.\n",
      "LassoCV model failed to execute\n",
      "For multi-task outputs, use MultiTaskLassoCV\n",
      "LassoLarsCV model failed to execute\n",
      "y should be a 1d array, got an array of shape (674, 2) instead.\n",
      "LassoLarsIC model failed to execute\n",
      "y should be a 1d array, got an array of shape (674, 2) instead.\n",
      "LinearSVR model failed to execute\n",
      "y should be a 1d array, got an array of shape (674, 2) instead.\n"
     ]
    },
    {
     "name": "stderr",
     "output_type": "stream",
     "text": [
      " 77%|███████▋  | 33/43 [00:02<00:01,  8.16it/s]"
     ]
    },
    {
     "name": "stdout",
     "output_type": "stream",
     "text": [
      "NuSVR model failed to execute\n",
      "y should be a 1d array, got an array of shape (674, 2) instead.\n",
      "OrthogonalMatchingPursuitCV model failed to execute\n",
      "y should be a 1d array, got an array of shape (674, 2) instead.\n",
      "PassiveAggressiveRegressor model failed to execute\n",
      "y should be a 1d array, got an array of shape (674, 2) instead.\n",
      "PoissonRegressor model failed to execute\n",
      "y should be a 1d array, got an array of shape (674, 2) instead.\n"
     ]
    },
    {
     "name": "stderr",
     "output_type": "stream",
     "text": [
      "100%|██████████| 43/43 [00:03<00:00, 13.90it/s]"
     ]
    },
    {
     "name": "stdout",
     "output_type": "stream",
     "text": [
      "SGDRegressor model failed to execute\n",
      "y should be a 1d array, got an array of shape (674, 2) instead.\n",
      "SVR model failed to execute\n",
      "y should be a 1d array, got an array of shape (674, 2) instead.\n",
      "StackingRegressor model failed to execute\n",
      "__init__() missing 1 required positional argument: 'estimators'\n",
      "TweedieRegressor model failed to execute\n",
      "y should be a 1d array, got an array of shape (674, 2) instead.\n",
      "XGBRegressor model failed to execute\n",
      "only size-1 arrays can be converted to Python scalars\n",
      "LGBMRegressor model failed to execute\n",
      "y should be a 1d array, got an array of shape (674, 2) instead.\n"
     ]
    },
    {
     "name": "stderr",
     "output_type": "stream",
     "text": [
      "\n"
     ]
    }
   ],
   "source": [
    "summaryList = []\n",
    "\n",
    "#1 regressor per link\n",
    "X, y = loadDataset(0)\n",
    "reg  = LazyRegressor(verbose = 0, ignore_warnings = False)\n",
    "\n",
    "X_train, X_test, y_train, y_test = train_test_split(X, y, test_size = 0.3, random_state = 0)\n",
    "models, summary                  = reg.fit(X_train, X_test, y_train, y_test)\n",
    "\n",
    "summaryList.append(summary)\n",
    "\n",
    "#1 regressor per amplifier\n",
    "X, y = loadDataset(1)\n",
    "\n",
    "for j in range(0, ampNumber[-1] * 2, 2):\n",
    "    reg = LazyRegressor(verbose = 0, ignore_warnings = False)\n",
    "\n",
    "    X_train, X_test, y_train, y_test = train_test_split(X, y[:, j: j + 2], test_size = 0.3, random_state = 0)\n",
    "    models, summary                  = reg.fit(X_train, X_test, y_train, y_test)\n",
    "    \n",
    "    summaryList.append(summary)"
   ]
  },
  {
   "cell_type": "code",
   "execution_count": 3,
   "metadata": {
    "scrolled": true
   },
   "outputs": [
    {
     "name": "stdout",
     "output_type": "stream",
     "text": [
      "BaggingRegressor\n",
      "6.073871661405846\n",
      "\n",
      "RandomForestRegressor\n",
      "2.070596680444275\n",
      "\n",
      "RidgeCV\n",
      "2.003218768317919\n",
      "\n",
      "RANSACRegressor\n",
      "2.2339396617720366\n",
      "\n",
      "BaggingRegressor\n",
      "2.80909186788774\n",
      "\n",
      "RANSACRegressor\n",
      "1.9496113872184395\n",
      "\n",
      "BaggingRegressor\n",
      "0.21606717336146875\n",
      "\n"
     ]
    }
   ],
   "source": [
    "for summary in summaryList:\n",
    "    print(summary['RMSE'].index[0]) #best regressor\n",
    "    print(summary['RMSE'][0]) #best RMSE\n",
    "    print()"
   ]
  },
  {
   "cell_type": "code",
   "execution_count": 4,
   "metadata": {},
   "outputs": [],
   "source": [
    "def prepTable():\n",
    "    rows    = [\"One regressor / link\"]\n",
    "    columns = (\"Best strategy\", \"Best RMSE\")\n",
    "\n",
    "    for i in range(ampNumber[-1]):\n",
    "        rows.append(\"Amp {} RMSE\".format(i + 1))\n",
    "\n",
    "    rows.append(\"Mean RMSE ({} amps)\".format(ampNumber[-1]))\n",
    "\n",
    "    data = []\n",
    "\n",
    "    for summary in summaryList:\n",
    "        data.append([summary['RMSE'].index[0], round(summary['RMSE'][0], 3)])\n",
    "\n",
    "    total  = 0\n",
    "    errors = [data[i][1] for i in range(1, ampNumber[-1] + 1)]\n",
    "\n",
    "    data.append([\"\", \"{} (+-{})\".format(round(np.mean(errors), 3), round(np.std(errors), 3))])\n",
    "\n",
    "    return rows, columns, data"
   ]
  },
  {
   "cell_type": "code",
   "execution_count": 5,
   "metadata": {},
   "outputs": [
    {
     "data": {
      "text/plain": [
       "<matplotlib.table.Table at 0x7f28087a0b70>"
      ]
     },
     "execution_count": 5,
     "metadata": {},
     "output_type": "execute_result"
    },
    {
     "data": {
      "image/png": "[encoded data removed]",
      "text/plain": [
       "<Figure size 1080x360 with 1 Axes>"
      ]
     },
     "metadata": {
      "needs_background": "light"
     },
     "output_type": "display_data"
    }
   ],
   "source": [
    "rows, columns, data = prepTable()\n",
    "\n",
    "fig = plt.figure(figsize = (15, 5))\n",
    "ax  = fig.add_subplot()\n",
    "ax.axis(\"off\")\n",
    "\n",
    "ax.table(cellText  = data,\n",
    "         rowLabels = rows,\n",
    "         colLabels = columns, loc=\"upper center\")\n"
   ]
  },
  {
   "cell_type": "code",
   "execution_count": 6,
   "metadata": {},
   "outputs": [
    {
     "name": "stdout",
     "output_type": "stream",
     "text": [
      "2.071,2.003,2.234,2.809,1.95,0.216/\n"
     ]
    }
   ],
   "source": [
    "data   = np.array(data)\n",
    "yerr   = data[1:-1, 1].astype(np.float)\n",
    "output = \",\".join(map(str, yerr)) + \"/\"\n",
    "\n",
    "print(output)\n",
    "\n",
    "f = open(\"../../output.txt\", \"a\")\n",
    "f.write(output)\n",
    "f.close()"
   ]
  }
 ],
 "metadata": {
  "kernelspec": {
   "display_name": "acopEnv",
   "language": "python",
   "name": "acopenv"
  },
  "language_info": {
   "codemirror_mode": {
    "name": "ipython",
    "version": 3
   },
   "file_extension": ".py",
   "mimetype": "text/x-python",
   "name": "python",
   "nbconvert_exporter": "python",
   "pygments_lexer": "ipython3",
   "version": "3.6.9"
  }
 },
 "nbformat": 4,
 "nbformat_minor": 2
}
