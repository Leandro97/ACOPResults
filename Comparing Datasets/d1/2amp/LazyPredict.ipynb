{
 "cells": [
  {
   "cell_type": "markdown",
   "metadata": {},
   "source": [
    "# Imports and dataset loading"
   ]
  },
  {
   "cell_type": "code",
   "execution_count": 1,
   "metadata": {
    "scrolled": true
   },
   "outputs": [
    {
     "name": "stderr",
     "output_type": "stream",
     "text": [
      "/home/leandro/Documentos/Mestrado/ACOPResults/acopEnv/lib/python3.6/site-packages/sklearn/utils/deprecation.py:143: FutureWarning: The sklearn.utils.testing module is  deprecated in version 0.22 and will be removed in version 0.24. The corresponding classes / functions should instead be imported from sklearn.utils. Anything that cannot be imported from sklearn.utils is now part of the private API.\n",
      "  warnings.warn(message, FutureWarning)\n"
     ]
    }
   ],
   "source": [
    "import numpy as np\n",
    "import matplotlib.pyplot as plt\n",
    "import math\n",
    "from sklearn.multioutput import MultiOutputRegressor\n",
    "from sklearn import linear_model\n",
    "from sklearn.neighbors import KNeighborsRegressor\n",
    "from sklearn.kernel_ridge import KernelRidge\n",
    "from sklearn.neural_network import MLPRegressor\n",
    "from sklearn.svm import SVR\n",
    "from sklearn.preprocessing import MinMaxScaler\n",
    "from keras.models import Sequential\n",
    "from keras.layers import Dense\n",
    "from keras.wrappers.scikit_learn import KerasRegressor\n",
    "from lazypredict.Supervised import LazyRegressor\n",
    "from sklearn.model_selection import train_test_split\n",
    "import autokeras as ak\n",
    "import tensorflow as tf\n",
    "import pandas as pd\n",
    "\n",
    "import os\n",
    "path = os.getcwd()\n",
    "currentAmpNumber = int(os.path.basename(path)[0])\n",
    "maxAmpNumber     = 7\n",
    "\n",
    "strategyArray = []\n",
    "gainArray     = []\n",
    "lossArray     = []\n",
    "ampNumber     = [maxAmpNumber, currentAmpNumber]\n",
    "\n",
    "originalDataset = []\n",
    "binaryDataset   = []\n",
    "\n",
    "gainScalerList = []\n",
    "lossScalerList = []\n",
    "\n",
    "originalDataset.append(pd.read_csv('../dataset.txt', sep = ',',header = None))\n",
    "originalDataset.append(pd.read_csv('dataset-{}.txt'.format(ampNumber[-1]), sep = ',', header = None))\n",
    "        \n",
    "for i in range(2):\n",
    "    binaryDataset.append([])\n",
    "    \n",
    "    for line in originalDataset[i].values:\n",
    "        myList = [1 if j != 0 else 0 for j in line[:40]]\n",
    "        myList.extend(line[40:])\n",
    "        binaryDataset[i].append(myList)\n",
    "    \n",
    "    binaryDataset[i] = pd.DataFrame(binaryDataset[i])\n",
    "\n",
    "def loadDataset(datasetIndex): \n",
    "    dataset = binaryDataset[datasetIndex].values[:, :40]\n",
    "    \n",
    "    for i in range(0, ampNumber[datasetIndex] * 2, 2):\n",
    "        gain    = np.array(binaryDataset[datasetIndex].values[:, 40 + i])\n",
    "        #gain    = gainScaler.transform(gain.reshape(-1, 1))\n",
    "        gain    = gain.reshape(-1, 1)\n",
    "        dataset = np.hstack((dataset, gain))\n",
    "        \n",
    "        loss    = np.array(binaryDataset[datasetIndex].values[:, 40 + i + 1])\n",
    "        #loss    = lossScaler.transform(loss.reshape(-1, 1))\n",
    "        loss    = loss.reshape(-1, 1)\n",
    "        dataset = np.hstack((dataset, loss))\n",
    "                \n",
    "    X, y = np.array(dataset[:, :40]), np.array(dataset[:, 40:])\n",
    "    return X, y"
   ]
  },
  {
   "cell_type": "markdown",
   "metadata": {},
   "source": [
    "# Model setup"
   ]
  },
  {
   "cell_type": "code",
   "execution_count": 2,
   "metadata": {},
   "outputs": [
    {
     "name": "stderr",
     "output_type": "stream",
     "text": [
      "  9%|▉         | 4/43 [00:00<00:01, 35.86it/s]"
     ]
    },
    {
     "name": "stdout",
     "output_type": "stream",
     "text": [
      "AdaBoostRegressor model failed to execute\n",
      "y should be a 1d array, got an array of shape (3796, 14) instead.\n",
      "BayesianRidge model failed to execute\n",
      "y should be a 1d array, got an array of shape (3796, 14) instead.\n"
     ]
    },
    {
     "name": "stderr",
     "output_type": "stream",
     "text": [
      "\r",
      " 16%|█▋        | 7/43 [00:00<00:01, 32.82it/s]"
     ]
    },
    {
     "name": "stdout",
     "output_type": "stream",
     "text": [
      "ElasticNetCV model failed to execute\n",
      "For multi-task outputs, use MultiTaskElasticNetCV\n"
     ]
    },
    {
     "name": "stderr",
     "output_type": "stream",
     "text": [
      "\r",
      " 21%|██        | 9/43 [00:00<00:03,  9.77it/s]"
     ]
    },
    {
     "name": "stdout",
     "output_type": "stream",
     "text": [
      "GammaRegressor model failed to execute\n",
      "y should be a 1d array, got an array of shape (3796, 14) instead.\n"
     ]
    },
    {
     "name": "stderr",
     "output_type": "stream",
     "text": [
      "\r",
      " 26%|██▌       | 11/43 [00:02<00:11,  2.78it/s]"
     ]
    },
    {
     "name": "stdout",
     "output_type": "stream",
     "text": [
      "GeneralizedLinearRegressor model failed to execute\n",
      "y should be a 1d array, got an array of shape (3796, 14) instead.\n",
      "GradientBoostingRegressor model failed to execute\n",
      "y should be a 1d array, got an array of shape (3796, 14) instead.\n",
      "HistGradientBoostingRegressor model failed to execute\n",
      "y should be a 1d array, got an array of shape (3796, 14) instead.\n",
      "HuberRegressor model failed to execute\n",
      "y should be a 1d array, got an array of shape (3796, 14) instead.\n"
     ]
    },
    {
     "name": "stderr",
     "output_type": "stream",
     "text": [
      " 51%|█████     | 22/43 [00:04<00:05,  3.93it/s]"
     ]
    },
    {
     "name": "stdout",
     "output_type": "stream",
     "text": [
      "LarsCV model failed to execute\n",
      "y should be a 1d array, got an array of shape (3796, 14) instead.\n",
      "LassoCV model failed to execute\n",
      "For multi-task outputs, use MultiTaskLassoCV\n",
      "LassoLarsCV model failed to execute\n",
      "y should be a 1d array, got an array of shape (3796, 14) instead.\n",
      "LassoLarsIC model failed to execute\n",
      "y should be a 1d array, got an array of shape (3796, 14) instead.\n",
      "LinearSVR model failed to execute\n",
      "y should be a 1d array, got an array of shape (3796, 14) instead.\n"
     ]
    },
    {
     "name": "stderr",
     "output_type": "stream",
     "text": [
      "\r",
      " 63%|██████▎   | 27/43 [00:07<00:05,  2.75it/s]"
     ]
    },
    {
     "name": "stdout",
     "output_type": "stream",
     "text": [
      "NuSVR model failed to execute\n",
      "y should be a 1d array, got an array of shape (3796, 14) instead.\n",
      "OrthogonalMatchingPursuitCV model failed to execute\n",
      "y should be a 1d array, got an array of shape (3796, 14) instead.\n",
      "PassiveAggressiveRegressor model failed to execute\n",
      "y should be a 1d array, got an array of shape (3796, 14) instead.\n",
      "PoissonRegressor model failed to execute\n",
      "y should be a 1d array, got an array of shape (3796, 14) instead.\n"
     ]
    },
    {
     "name": "stderr",
     "output_type": "stream",
     "text": [
      "100%|██████████| 43/43 [00:08<00:00,  5.15it/s]\n",
      "  0%|          | 0/43 [00:00<?, ?it/s]"
     ]
    },
    {
     "name": "stdout",
     "output_type": "stream",
     "text": [
      "SGDRegressor model failed to execute\n",
      "y should be a 1d array, got an array of shape (3796, 14) instead.\n",
      "SVR model failed to execute\n",
      "y should be a 1d array, got an array of shape (3796, 14) instead.\n",
      "StackingRegressor model failed to execute\n",
      "__init__() missing 1 required positional argument: 'estimators'\n",
      "TweedieRegressor model failed to execute\n",
      "y should be a 1d array, got an array of shape (3796, 14) instead.\n",
      "XGBRegressor model failed to execute\n",
      "only size-1 arrays can be converted to Python scalars\n",
      "LGBMRegressor model failed to execute\n",
      "y should be a 1d array, got an array of shape (3796, 14) instead.\n",
      "\n",
      "\n",
      "##########\n",
      "\n",
      "\n"
     ]
    },
    {
     "name": "stderr",
     "output_type": "stream",
     "text": [
      " 93%|█████████▎| 40/43 [00:05<00:00,  8.32it/s]"
     ]
    },
    {
     "name": "stdout",
     "output_type": "stream",
     "text": [
      "StackingRegressor model failed to execute\n",
      "__init__() missing 1 required positional argument: 'estimators'\n"
     ]
    },
    {
     "name": "stderr",
     "output_type": "stream",
     "text": [
      "100%|██████████| 43/43 [00:05<00:00,  7.32it/s]\n",
      " 30%|███       | 13/43 [00:00<00:01, 18.10it/s]"
     ]
    },
    {
     "name": "stdout",
     "output_type": "stream",
     "text": [
      "GammaRegressor model failed to execute\n",
      "Some value(s) of y are out of the valid range for family GammaDistribution\n"
     ]
    },
    {
     "name": "stderr",
     "output_type": "stream",
     "text": [
      " 93%|█████████▎| 40/43 [00:04<00:00,  5.92it/s]"
     ]
    },
    {
     "name": "stdout",
     "output_type": "stream",
     "text": [
      "StackingRegressor model failed to execute\n",
      "__init__() missing 1 required positional argument: 'estimators'\n"
     ]
    },
    {
     "name": "stderr",
     "output_type": "stream",
     "text": [
      "100%|██████████| 43/43 [00:05<00:00,  8.58it/s]\n",
      " 95%|█████████▌| 41/43 [00:06<00:00,  8.95it/s]"
     ]
    },
    {
     "name": "stdout",
     "output_type": "stream",
     "text": [
      "StackingRegressor model failed to execute\n",
      "__init__() missing 1 required positional argument: 'estimators'\n"
     ]
    },
    {
     "name": "stderr",
     "output_type": "stream",
     "text": [
      "100%|██████████| 43/43 [00:06<00:00,  6.67it/s]\n",
      " 30%|███       | 13/43 [00:00<00:02, 14.35it/s]"
     ]
    },
    {
     "name": "stdout",
     "output_type": "stream",
     "text": [
      "GammaRegressor model failed to execute\n",
      "Some value(s) of y are out of the valid range for family GammaDistribution\n"
     ]
    },
    {
     "name": "stderr",
     "output_type": "stream",
     "text": [
      " 77%|███████▋  | 33/43 [00:04<00:02,  4.36it/s]"
     ]
    },
    {
     "name": "stdout",
     "output_type": "stream",
     "text": [
      "RANSACRegressor model failed to execute\n",
      "RANSAC could not find a valid consensus set. All `max_trials` iterations were skipped because each randomly chosen sub-sample failed the passing criteria. See estimator attributes for diagnostics (n_skips*).\n"
     ]
    },
    {
     "name": "stderr",
     "output_type": "stream",
     "text": [
      " 93%|█████████▎| 40/43 [00:05<00:00,  7.03it/s]"
     ]
    },
    {
     "name": "stdout",
     "output_type": "stream",
     "text": [
      "StackingRegressor model failed to execute\n",
      "__init__() missing 1 required positional argument: 'estimators'\n"
     ]
    },
    {
     "name": "stderr",
     "output_type": "stream",
     "text": [
      "100%|██████████| 43/43 [00:05<00:00,  8.00it/s]\n"
     ]
    }
   ],
   "source": [
    "summaryList = []\n",
    "\n",
    "#1 regressor per link\n",
    "X, y = loadDataset(0)\n",
    "\n",
    "reg  = LazyRegressor(verbose = 0, ignore_warnings = False)\n",
    "\n",
    "X_train, X_test, y_train, y_test = train_test_split(X, y, test_size = 0.3, random_state = 0)\n",
    "models, summary                  = reg.fit(X_train, X_test, y_train, y_test)\n",
    "\n",
    "summaryList.append(summary)\n",
    "\n",
    "print(\"\\n\\n##########\\n\\n\")\n",
    "\n",
    "#1 regressor per amplifier\n",
    "X, y = loadDataset(1)\n",
    "\n",
    "for j in range(0, ampNumber[-1] * 2):\n",
    "    reg = LazyRegressor(verbose = 0, ignore_warnings = False)\n",
    "\n",
    "    X_train, X_test, y_train, y_test = train_test_split(X, y[:, j], test_size = 0.3, random_state = 0)\n",
    "    models, summary                  = reg.fit(X_train, X_test, y_train, y_test)\n",
    "    \n",
    "    summaryList.append(summary)"
   ]
  },
  {
   "cell_type": "code",
   "execution_count": 3,
   "metadata": {},
   "outputs": [
    {
     "name": "stdout",
     "output_type": "stream",
     "text": [
      "20\n",
      "\n",
      "\n",
      "\n",
      "42\n",
      "\n",
      "\n",
      "\n",
      "41\n"
     ]
    }
   ],
   "source": [
    "print(len(summaryList[0]['RMSE'])) #one regressor for link\n",
    "print(\"\\n\\n\")\n",
    "\n",
    "print(len(summaryList[1]['RMSE'])) #1st amp gain\n",
    "print(\"\\n\\n\")\n",
    "\n",
    "print(len(summaryList[2]['RMSE'])) #1st amp loss"
   ]
  },
  {
   "cell_type": "code",
   "execution_count": 4,
   "metadata": {},
   "outputs": [],
   "source": [
    "def prepTable():\n",
    "    rows    = [\"One regressor / link\"]\n",
    "    columns = (\"Best strategy\", \"Best RMSE\")\n",
    "    counter = 1\n",
    "    \n",
    "    for i in range(ampNumber[-1] * 2):\n",
    "        aux = \"Gain\" if i % 2 == 0 else \"Loss\"\n",
    "        rows.append(\"Amp {} {} RMSE\".format(counter, aux))\n",
    "                    \n",
    "        if aux == \"Loss\":\n",
    "            counter += 1\n",
    "\n",
    "    gains  = []\n",
    "    losses = []\n",
    "    \n",
    "    for index, summary in enumerate(summaryList):\n",
    "        if index == 0: \n",
    "            continue\n",
    "            \n",
    "        if index % 2 != 0:\n",
    "            gains.append([summary['RMSE'].index[0], round(summary['RMSE'][0], 3)])\n",
    "        else:\n",
    "            losses.append([summary['RMSE'].index[0], round(summary['RMSE'][0], 3)])\n",
    "\n",
    "    mean = [summaryList[0]['RMSE'].index[0], round(summaryList[0]['RMSE'][0], 3)]\n",
    "    \n",
    "    return rows, columns, mean, gains, losses"
   ]
  },
  {
   "cell_type": "code",
   "execution_count": 5,
   "metadata": {},
   "outputs": [
    {
     "name": "stdout",
     "output_type": "stream",
     "text": [
      "['One regressor / link', 'Amp 1 Gain RMSE', 'Amp 1 Loss RMSE', 'Amp 2 Gain RMSE', 'Amp 2 Loss RMSE']\n"
     ]
    },
    {
     "data": {
      "text/plain": [
       "<matplotlib.table.Table at 0x7f0062befb38>"
      ]
     },
     "execution_count": 5,
     "metadata": {},
     "output_type": "execute_result"
    },
    {
     "data": {
      "image/png": "[encoded data removed]",
      "text/plain": [
       "<Figure size 1080x360 with 1 Axes>"
      ]
     },
     "metadata": {
      "needs_background": "light"
     },
     "output_type": "display_data"
    }
   ],
   "source": [
    "rows, columns, mean, gains, losses = prepTable()\n",
    "\n",
    "data       = gains + losses\n",
    "data[::2]  = gains\n",
    "data[1::2] = losses\n",
    "\n",
    "fig = plt.figure(figsize = (15, 5))\n",
    "ax  = fig.add_subplot()\n",
    "ax.axis(\"off\")\n",
    "\n",
    "print(rows)\n",
    "ax.table(cellText  = [mean] + data,\n",
    "         rowLabels = rows,\n",
    "         colLabels = columns, loc=\"upper center\")\n"
   ]
  },
  {
   "cell_type": "code",
   "execution_count": 6,
   "metadata": {},
   "outputs": [],
   "source": [
    "gains  = np.array(gains)\n",
    "losses = np.array(losses)\n",
    "\n",
    "yerr   = gains[:, 1].astype(np.float)\n",
    "output = \",\".join(map(str, yerr)) + \"/\"\n",
    "\n",
    "f = open(\"../../gain-output.txt\", \"a\")\n",
    "f.write(output)\n",
    "f.close()\n",
    "\n",
    "yerr   = losses[:, 1].astype(np.float)\n",
    "output = \",\".join(map(str, yerr)) + \"/\"\n",
    "\n",
    "f = open(\"../../loss-output.txt\", \"a\")\n",
    "f.write(output)\n",
    "f.close()"
   ]
  }
 ],
 "metadata": {
  "kernelspec": {
   "display_name": "acopEnv",
   "language": "python",
   "name": "acopenv"
  },
  "language_info": {
   "codemirror_mode": {
    "name": "ipython",
    "version": 3
   },
   "file_extension": ".py",
   "mimetype": "text/x-python",
   "name": "python",
   "nbconvert_exporter": "python",
   "pygments_lexer": "ipython3",
   "version": "3.6.9"
  }
 },
 "nbformat": 4,
 "nbformat_minor": 2
}
