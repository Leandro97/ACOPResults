{
 "cells": [
  {
   "cell_type": "code",
   "execution_count": 1,
   "metadata": {},
   "outputs": [
    {
     "name": "stdout",
     "output_type": "stream",
     "text": [
      "[21.0, 23.0]\n",
      "[2.0, 0.0]\n",
      "\n",
      "[22.0, 24.0, 24.0]\n",
      "[3.0, 8.0, 0.0]\n",
      "\n",
      "[23.0, 23.0, 24.0, 20.0]\n",
      "[3.0, 3.0, 1.0, 1.0]\n",
      "\n"
     ]
    }
   ],
   "source": [
    "import pandas as pd\n",
    "import numpy as np\n",
    "\n",
    "def getMedian(array):\n",
    "    gain = []\n",
    "    loss = []\n",
    "\n",
    "    for i in range(40, len(array[:][0]), 2):\n",
    "        gain.append(np.median(array[:, i]))\n",
    "        loss.append(np.median(array[:, i + 1]))\n",
    "    \n",
    "    print(gain)\n",
    "    print(loss)\n",
    "    print()\n",
    "    \n",
    "result2 = pd.read_csv('dataset-2.txt', sep=',',header = None)\n",
    "result2 = result2.values\n",
    "getMedian(result2)\n",
    "\n",
    "result3 = pd.read_csv('dataset-3.txt', sep=',',header = None)\n",
    "result3 = result3.values\n",
    "getMedian(result3)\n",
    "\n",
    "result4 = pd.read_csv('dataset-4.txt', sep=',',header = None)\n",
    "result4 = result4.values\n",
    "getMedian(result4)"
   ]
  }
 ],
 "metadata": {
  "kernelspec": {
   "display_name": "Python 3",
   "language": "python",
   "name": "python3"
  },
  "language_info": {
   "codemirror_mode": {
    "name": "ipython",
    "version": 2
   },
   "file_extension": ".py",
   "mimetype": "text/x-python",
   "name": "python",
   "nbconvert_exporter": "python",
   "pygments_lexer": "ipython2",
   "version": "2.7.17"
  }
 },
 "nbformat": 4,
 "nbformat_minor": 2
}
