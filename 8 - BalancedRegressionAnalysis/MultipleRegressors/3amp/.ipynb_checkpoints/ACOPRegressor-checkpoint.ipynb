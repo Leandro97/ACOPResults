{
 "cells": [
  {
   "cell_type": "markdown",
   "metadata": {},
   "source": [
    "# Imports "
   ]
  },
  {
   "cell_type": "code",
   "execution_count": 1,
   "metadata": {},
   "outputs": [
    {
     "name": "stderr",
     "output_type": "stream",
     "text": [
      "/home/leandro/.local/lib/python3.6/site-packages/sklearn/utils/deprecation.py:143: FutureWarning: The sklearn.utils.testing module is  deprecated in version 0.22 and will be removed in version 0.24. The corresponding classes / functions should instead be imported from sklearn.utils. Anything that cannot be imported from sklearn.utils is now part of the private API.\n",
      "  warnings.warn(message, FutureWarning)\n",
      "  7%|▋         | 3/43 [00:00<00:01, 25.56it/s]"
     ]
    },
    {
     "name": "stdout",
     "output_type": "stream",
     "text": [
      "[104, 779, 214, 307, 262, 294, 1154, 1105, 770, 1126, 728, 1125, 924]\n",
      "2 chs: 104 entries\n",
      "3 chs: 779 entries\n",
      "4 chs: 214 entries\n",
      "5 chs: 307 entries\n",
      "6 chs: 262 entries\n",
      "7 chs: 294 entries\n",
      "8 chs: 1154 entries\n",
      "9 chs: 1105 entries\n",
      "10 chs: 770 entries\n",
      "15 chs: 1126 entries\n",
      "20 chs: 728 entries\n",
      "30 chs: 1125 entries\n",
      "40 chs: 924 entries\n"
     ]
    },
    {
     "name": "stderr",
     "output_type": "stream",
     "text": [
      " 88%|████████▊ | 38/43 [00:06<00:00,  5.52it/s]"
     ]
    },
    {
     "name": "stdout",
     "output_type": "stream",
     "text": [
      "StackingRegressor model failed to execute\n",
      "__init__() missing 1 required positional argument: 'estimators'\n"
     ]
    },
    {
     "name": "stderr",
     "output_type": "stream",
     "text": [
      "100%|██████████| 43/43 [00:06<00:00,  6.36it/s]\n",
      " 26%|██▌       | 11/43 [00:00<00:02, 12.93it/s]"
     ]
    },
    {
     "name": "stdout",
     "output_type": "stream",
     "text": [
      "GammaRegressor model failed to execute\n",
      "Some value(s) of y are out of the valid range for family GammaDistribution\n"
     ]
    },
    {
     "name": "stderr",
     "output_type": "stream",
     "text": [
      " 88%|████████▊ | 38/43 [00:06<00:01,  4.93it/s]"
     ]
    },
    {
     "name": "stdout",
     "output_type": "stream",
     "text": [
      "StackingRegressor model failed to execute\n",
      "__init__() missing 1 required positional argument: 'estimators'\n"
     ]
    },
    {
     "name": "stderr",
     "output_type": "stream",
     "text": [
      "100%|██████████| 43/43 [00:06<00:00,  6.34it/s]\n",
      " 91%|█████████ | 39/43 [00:09<00:00,  4.22it/s]"
     ]
    },
    {
     "name": "stdout",
     "output_type": "stream",
     "text": [
      "StackingRegressor model failed to execute\n",
      "__init__() missing 1 required positional argument: 'estimators'\n"
     ]
    },
    {
     "name": "stderr",
     "output_type": "stream",
     "text": [
      "100%|██████████| 43/43 [00:09<00:00,  4.41it/s]\n",
      " 26%|██▌       | 11/43 [00:00<00:02, 13.18it/s]"
     ]
    },
    {
     "name": "stdout",
     "output_type": "stream",
     "text": [
      "GammaRegressor model failed to execute\n",
      "Some value(s) of y are out of the valid range for family GammaDistribution\n"
     ]
    },
    {
     "name": "stderr",
     "output_type": "stream",
     "text": [
      " 88%|████████▊ | 38/43 [00:08<00:01,  3.96it/s]"
     ]
    },
    {
     "name": "stdout",
     "output_type": "stream",
     "text": [
      "StackingRegressor model failed to execute\n",
      "__init__() missing 1 required positional argument: 'estimators'\n"
     ]
    },
    {
     "name": "stderr",
     "output_type": "stream",
     "text": [
      "100%|██████████| 43/43 [00:08<00:00,  4.91it/s]\n",
      " 74%|███████▍  | 32/43 [00:10<00:05,  1.91it/s]"
     ]
    },
    {
     "name": "stdout",
     "output_type": "stream",
     "text": [
      "RANSACRegressor model failed to execute\n",
      "RANSAC could not find a valid consensus set. All `max_trials` iterations were skipped because each randomly chosen sub-sample failed the passing criteria. See estimator attributes for diagnostics (n_skips*).\n"
     ]
    },
    {
     "name": "stderr",
     "output_type": "stream",
     "text": [
      " 95%|█████████▌| 41/43 [00:11<00:00,  4.65it/s]"
     ]
    },
    {
     "name": "stdout",
     "output_type": "stream",
     "text": [
      "StackingRegressor model failed to execute\n",
      "__init__() missing 1 required positional argument: 'estimators'\n"
     ]
    },
    {
     "name": "stderr",
     "output_type": "stream",
     "text": [
      "100%|██████████| 43/43 [00:12<00:00,  3.51it/s]\n",
      " 26%|██▌       | 11/43 [00:01<00:03,  9.93it/s]"
     ]
    },
    {
     "name": "stdout",
     "output_type": "stream",
     "text": [
      "GammaRegressor model failed to execute\n",
      "Some value(s) of y are out of the valid range for family GammaDistribution\n"
     ]
    },
    {
     "name": "stderr",
     "output_type": "stream",
     "text": [
      " 77%|███████▋  | 33/43 [00:07<00:02,  4.91it/s]"
     ]
    },
    {
     "name": "stdout",
     "output_type": "stream",
     "text": [
      "RANSACRegressor model failed to execute\n",
      "RANSAC could not find a valid consensus set. All `max_trials` iterations were skipped because each randomly chosen sub-sample failed the passing criteria. See estimator attributes for diagnostics (n_skips*).\n"
     ]
    },
    {
     "name": "stderr",
     "output_type": "stream",
     "text": [
      " 88%|████████▊ | 38/43 [00:07<00:00,  5.38it/s]"
     ]
    },
    {
     "name": "stdout",
     "output_type": "stream",
     "text": [
      "StackingRegressor model failed to execute\n",
      "__init__() missing 1 required positional argument: 'estimators'\n"
     ]
    },
    {
     "name": "stderr",
     "output_type": "stream",
     "text": [
      "100%|██████████| 43/43 [00:07<00:00,  5.44it/s]\n"
     ]
    }
   ],
   "source": [
    "import ipynb.fs.full.PrepareData as data\n",
    "from sklearn.multioutput import MultiOutputRegressor\n",
    "import itertools\n",
    "\n",
    "strategyArray = []\n",
    "errorArray    = [[], []]"
   ]
  },
  {
   "cell_type": "markdown",
   "metadata": {},
   "source": [
    "# Sorting the dataset"
   ]
  },
  {
   "cell_type": "code",
   "execution_count": 2,
   "metadata": {
    "scrolled": false
   },
   "outputs": [
    {
     "name": "stdout",
     "output_type": "stream",
     "text": [
      "dict_keys(['BaggingRegressor', 'RandomForestRegressor', 'XGBRegressor', 'DecisionTreeRegressor', 'TransformedTargetRegressor'])\n"
     ]
    }
   ],
   "source": [
    "sortedDict = {}\n",
    "commonRegressors = data.commonRegressors\n",
    "\n",
    "for regressor in commonRegressors:\n",
    "    sortedDict[regressor] = 0\n",
    "    \n",
    "    for i in range(data.ampNumber):\n",
    "        sortedDict[regressor] += data.finalList[i][regressor][0] + data.finalList[i][regressor][1]\n",
    "\n",
    "sortedDict = dict(sorted(sortedDict.items(), key = lambda x : x[1]))\n",
    "sortedDict = dict(itertools.islice(sortedDict.items(), 5))\n",
    "\n",
    "print(sortedDict.keys())"
   ]
  },
  {
   "cell_type": "markdown",
   "metadata": {},
   "source": [
    "# Processing data"
   ]
  },
  {
   "cell_type": "code",
   "execution_count": 3,
   "metadata": {},
   "outputs": [],
   "source": [
    "from sklearn.metrics import mean_absolute_error\n",
    "\n",
    "def getMAE(yTrue, yPredicted):\n",
    "    gainErrors = []\n",
    "    lossErrors = []\n",
    "    \n",
    "    rangeList = list(range(len(yTrue[0])))\n",
    "    \n",
    "    for true, predicted in zip(yTrue, yPredicted):\n",
    "        gainTrue      = [true[x] for x in rangeList[0::2]]\n",
    "        gainPredicted = [predicted[x] for x in rangeList[0::2]]\n",
    "        lossTrue      = [true[x] for x in rangeList[1::2]]\n",
    "        lossPredicted = [predicted[x] for x in rangeList[1::2]]\n",
    "        \n",
    "        gainErrors.append(mean_absolute_error(gainTrue, gainPredicted))\n",
    "        lossErrors.append(mean_absolute_error(lossTrue, lossPredicted))\n",
    "        \n",
    "    return gainErrors, lossErrors"
   ]
  },
  {
   "cell_type": "markdown",
   "metadata": {},
   "source": [
    "# Plotting function"
   ]
  },
  {
   "cell_type": "code",
   "execution_count": 4,
   "metadata": {},
   "outputs": [],
   "source": [
    "import matplotlib.pyplot as plt\n",
    "\n",
    "def plotGainBoxPlots(data):\n",
    "    plt.boxplot(data)\n",
    "    plt.ylabel(\"Mean Absolute error (dB)\", fontsize = 8)\n",
    "    \n",
    "    plt.suptitle(\"Gain Test error\", fontsize = 16)\n",
    "    plt.legend(strategyArray, handlelength = 0, bbox_to_anchor=(1.6, 1), loc = \"right\")\n",
    "\n",
    "    plt.show()\n",
    "\n",
    "def plotLossBoxPlots(data):\n",
    "    plt.boxplot(data)\n",
    "    plt.ylabel(\"Mean Absolute error (dB)\", fontsize = 8)\n",
    "    \n",
    "    plt.suptitle(\"Loss Test error\", fontsize = 16)\n",
    "    plt.legend(strategyArray, handlelength = 0, bbox_to_anchor=(1.6, 1), loc = \"right\")\n",
    "\n",
    "    plt.show()"
   ]
  },
  {
   "cell_type": "markdown",
   "metadata": {},
   "source": [
    "# Building the models"
   ]
  },
  {
   "cell_type": "code",
   "execution_count": 5,
   "metadata": {},
   "outputs": [],
   "source": [
    "X, y = data.loadDataset()\n",
    "X_train, X_test, y_train, y_test = data.train_test_split(X, y, test_size = 0.3, random_state = 0)\n",
    "\n",
    "count = 1"
   ]
  },
  {
   "cell_type": "code",
   "execution_count": 6,
   "metadata": {
    "scrolled": true
   },
   "outputs": [
    {
     "ename": "NameError",
     "evalue": "name 'finalY' is not defined",
     "output_type": "error",
     "traceback": [
      "\u001b[0;31m---------------------------------------------------------------------------\u001b[0m",
      "\u001b[0;31mNameError\u001b[0m                                 Traceback (most recent call last)",
      "\u001b[0;32m<ipython-input-6-a450150812a6>\u001b[0m in \u001b[0;36m<module>\u001b[0;34m\u001b[0m\n\u001b[1;32m     12\u001b[0m     \u001b[0mresult\u001b[0m \u001b[0;34m=\u001b[0m \u001b[0mmodel\u001b[0m\u001b[0;34m.\u001b[0m\u001b[0mpredict\u001b[0m\u001b[0;34m(\u001b[0m\u001b[0mX_test\u001b[0m\u001b[0;34m)\u001b[0m\u001b[0;34m\u001b[0m\u001b[0;34m\u001b[0m\u001b[0m\n\u001b[1;32m     13\u001b[0m \u001b[0;34m\u001b[0m\u001b[0m\n\u001b[0;32m---> 14\u001b[0;31m     \u001b[0;32mif\u001b[0m \u001b[0mlen\u001b[0m\u001b[0;34m(\u001b[0m\u001b[0mfinalY\u001b[0m\u001b[0;34m)\u001b[0m \u001b[0;34m==\u001b[0m \u001b[0;36m0\u001b[0m\u001b[0;34m:\u001b[0m\u001b[0;34m\u001b[0m\u001b[0;34m\u001b[0m\u001b[0m\n\u001b[0m\u001b[1;32m     15\u001b[0m         \u001b[0mfinalY\u001b[0m \u001b[0;34m=\u001b[0m \u001b[0my_test\u001b[0m\u001b[0;34m[\u001b[0m\u001b[0;34m:\u001b[0m\u001b[0;34m,\u001b[0m \u001b[0mi\u001b[0m\u001b[0;34m:\u001b[0m \u001b[0mi\u001b[0m \u001b[0;34m+\u001b[0m \u001b[0;36m2\u001b[0m\u001b[0;34m]\u001b[0m\u001b[0;34m\u001b[0m\u001b[0;34m\u001b[0m\u001b[0m\n\u001b[1;32m     16\u001b[0m         \u001b[0mfinalResult\u001b[0m \u001b[0;34m=\u001b[0m \u001b[0mresult\u001b[0m\u001b[0;34m\u001b[0m\u001b[0;34m\u001b[0m\u001b[0m\n",
      "\u001b[0;31mNameError\u001b[0m: name 'finalY' is not defined"
     ]
    }
   ],
   "source": [
    "from sklearn.ensemble import BaggingRegressor\n",
    "from sklearn.tree import ExtraTreeRegressor\n",
    "\n",
    "finalY      = []\n",
    "finalResult = []\n",
    "\n",
    "for i in range(0, data.ampNumber * 2, 2):\n",
    "    extra_tree = ExtraTreeRegressor(criterion = \"mse\", random_state = 0)\n",
    "    model      = MultiOutputRegressor(BaggingRegressor(base_estimator = extra_tree, \n",
    "                                                       n_estimators   = 100,\n",
    "                                                       random_state   = 0))\n",
    "\n",
    "    model.fit(X_train, y_train[:, i: i + 2])\n",
    "\n",
    "    result = model.predict(X_test)\n",
    "    \n",
    "    if len(finalY) == 0:\n",
    "        finalY = y_test[:, i: i + 2]\n",
    "        finalResult = result\n",
    "    else:        \n",
    "        finalY      = data.np.hstack((finalY, y_test[:, i: i + 2]))\n",
    "        finalResult = data.np.hstack((finalResult, result))\n",
    "    \n",
    "print(finalY[0], finalResult[0])\n",
    "\n",
    "strategyArray.append(\"{} - BaggingRegressor\".format(count))\n",
    "result = getMAE(finalY, finalResult)\n",
    "\n",
    "errorArray[0].append(result[0])\n",
    "errorArray[1].append(result[1])\n",
    "\n",
    "count += 1"
   ]
  },
  {
   "cell_type": "code",
   "execution_count": null,
   "metadata": {},
   "outputs": [],
   "source": [
    "from sklearn.ensemble import RandomForestRegressor\n",
    "\n",
    "finalY      = []\n",
    "finalResult = []\n",
    "\n",
    "for i in range(0, data.ampNumber * 2, 2):\n",
    "    model = MultiOutputRegressor(RandomForestRegressor())\n",
    "    model.fit(X_train, y_train[:, i: i + 2])\n",
    "\n",
    "    result = model.predict(X_test)\n",
    "    \n",
    "    if len(finalY) == 0:\n",
    "        finalY = y_test[:, i: i + 2]\n",
    "        finalResult = result\n",
    "    else:        \n",
    "        finalY      = data.np.hstack((finalY, y_test[:, i: i + 2]))\n",
    "        finalResult = data.np.hstack((finalResult, result))\n",
    "    \n",
    "print(finalY[0], finalResult[0])\n",
    "\n",
    "strategyArray.append(\"{} - RandomForestRegressor\".format(count))\n",
    "result = getMAE(finalY, finalResult)\n",
    "\n",
    "errorArray[0].append(result[0])\n",
    "errorArray[1].append(result[1])\n",
    "\n",
    "count += 1"
   ]
  },
  {
   "cell_type": "code",
   "execution_count": null,
   "metadata": {},
   "outputs": [],
   "source": [
    "from xgboost import XGBRegressor\n",
    "\n",
    "finalY      = []\n",
    "finalResult = []\n",
    "\n",
    "for i in range(0, data.ampNumber * 2, 2):\n",
    "    model = MultiOutputRegressor(XGBRegressor())\n",
    "    model.fit(X_train, y_train[:, i: i + 2])\n",
    "\n",
    "    result = model.predict(X_test)\n",
    "    \n",
    "    if len(finalY) == 0:\n",
    "        finalY = y_test[:, i: i + 2]\n",
    "        finalResult = result\n",
    "    else:        \n",
    "        finalY      = data.np.hstack((finalY, y_test[:, i: i + 2]))\n",
    "        finalResult = data.np.hstack((finalResult, result))\n",
    "    \n",
    "print(finalY[0], finalResult[0])\n",
    "\n",
    "strategyArray.append(\"{} - XGBRegressor\".format(count))\n",
    "result = getMAE(finalY, finalResult)\n",
    "\n",
    "errorArray[0].append(result[0])\n",
    "errorArray[1].append(result[1])\n",
    "\n",
    "count += 1"
   ]
  },
  {
   "cell_type": "code",
   "execution_count": null,
   "metadata": {},
   "outputs": [],
   "source": [
    "from sklearn.tree import DecisionTreeRegressor\n",
    "\n",
    "finalY      = []\n",
    "finalResult = []\n",
    "\n",
    "for i in range(0, data.ampNumber * 2, 2):\n",
    "    model = MultiOutputRegressor(DecisionTreeRegressor())\n",
    "    model.fit(X_train, y_train[:, i: i + 2])\n",
    "\n",
    "    result = model.predict(X_test)\n",
    "    \n",
    "    if len(finalY) == 0:\n",
    "        finalY = y_test[:, i: i + 2]\n",
    "        finalResult = result\n",
    "    else:        \n",
    "        finalY      = data.np.hstack((finalY, y_test[:, i: i + 2]))\n",
    "        finalResult = data.np.hstack((finalResult, result))\n",
    "    \n",
    "print(finalY[0], finalResult[0])\n",
    "\n",
    "strategyArray.append(\"{} - DecisionTreeRegressor\".format(count))\n",
    "result = getMAE(finalY, finalResult)\n",
    "\n",
    "errorArray[0].append(result[0])\n",
    "errorArray[1].append(result[1])\n",
    "\n",
    "count += 1"
   ]
  },
  {
   "cell_type": "code",
   "execution_count": null,
   "metadata": {},
   "outputs": [],
   "source": [
    "from sklearn.compose import TransformedTargetRegressor\n",
    "\n",
    "finalY      = []\n",
    "finalResult = []\n",
    "\n",
    "for i in range(0, data.ampNumber * 2, 2):\n",
    "    model = MultiOutputRegressor(TransformedTargetRegressor())\n",
    "    model.fit(X_train, y_train[:, i: i + 2])\n",
    "\n",
    "    result = model.predict(X_test)\n",
    "    \n",
    "    if len(finalY) == 0:\n",
    "        finalY = y_test[:, i: i + 2]\n",
    "        finalResult = result\n",
    "    else:        \n",
    "        finalY      = data.np.hstack((finalY, y_test[:, i: i + 2]))\n",
    "        finalResult = data.np.hstack((finalResult, result))\n",
    "    \n",
    "print(finalY[0], finalResult[0])\n",
    "\n",
    "strategyArray.append(\"{} - TransformedTargetRegressor\".format(count))\n",
    "result = getMAE(finalY, finalResult)\n",
    "\n",
    "errorArray[0].append(result[0])\n",
    "errorArray[1].append(result[1])\n",
    "\n",
    "count += 1"
   ]
  },
  {
   "cell_type": "code",
   "execution_count": null,
   "metadata": {},
   "outputs": [],
   "source": [
    "from sklearn.dummy import DummyRegressor\n",
    "\n",
    "finalY      = []\n",
    "finalResult = []\n",
    "\n",
    "for i in range(0, data.ampNumber * 2, 2):\n",
    "    model = MultiOutputRegressor(DummyRegressor())\n",
    "    model.fit(X_train, y_train[:, i: i + 2])\n",
    "\n",
    "    result = model.predict(X_test)\n",
    "    \n",
    "    if len(finalY) == 0:\n",
    "        finalY = y_test[:, i: i + 2]\n",
    "        finalResult = result\n",
    "    else:        \n",
    "        finalY      = data.np.hstack((finalY, y_test[:, i: i + 2]))\n",
    "        finalResult = data.np.hstack((finalResult, result))\n",
    "    \n",
    "print(finalY[0], finalResult[0])\n",
    "\n",
    "strategyArray.append(\"{} - DummyRegressor\".format(count))\n",
    "result = getMAE(finalY, finalResult)\n",
    "\n",
    "errorArray[0].append(result[0])\n",
    "errorArray[1].append(result[1])\n",
    "\n",
    "count += 1"
   ]
  },
  {
   "cell_type": "code",
   "execution_count": null,
   "metadata": {},
   "outputs": [],
   "source": [
    "print(sortedDict.keys())\n",
    "plotGainBoxPlots(errorArray[0])\n",
    "plotLossBoxPlots(errorArray[1])"
   ]
  }
 ],
 "metadata": {
  "kernelspec": {
   "display_name": "acopEnv",
   "language": "python",
   "name": "acopenv"
  },
  "language_info": {
   "codemirror_mode": {
    "name": "ipython",
    "version": 3
   },
   "file_extension": ".py",
   "mimetype": "text/x-python",
   "name": "python",
   "nbconvert_exporter": "python",
   "pygments_lexer": "ipython3",
   "version": "3.6.9"
  }
 },
 "nbformat": 4,
 "nbformat_minor": 2
}
