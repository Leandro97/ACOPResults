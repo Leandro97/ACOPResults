{
 "cells": [
  {
   "cell_type": "markdown",
   "metadata": {},
   "source": [
    "# Imports "
   ]
  },
  {
   "cell_type": "code",
   "execution_count": null,
   "metadata": {},
   "outputs": [
    {
     "name": "stderr",
     "output_type": "stream",
     "text": [
      "/home/leandro/Documentos/Mestrado/ACOPResults/acopEnv/lib/python3.6/site-packages/sklearn/utils/deprecation.py:143: FutureWarning: The sklearn.utils.testing module is  deprecated in version 0.22 and will be removed in version 0.24. The corresponding classes / functions should instead be imported from sklearn.utils. Anything that cannot be imported from sklearn.utils is now part of the private API.\n",
      "  warnings.warn(message, FutureWarning)\n",
      " 14%|█▍        | 6/43 [00:00<00:00, 51.30it/s]"
     ]
    },
    {
     "name": "stdout",
     "output_type": "stream",
     "text": [
      "[178, 37, 3062, 2854, 3127, 3466, 3663, 4011, 3906, 3768, 3411, 2748, 2674]\n",
      "2 chs: 178 entries\n",
      "3 chs: 37 entries\n",
      "4 chs: 3062 entries\n",
      "5 chs: 2854 entries\n",
      "6 chs: 3127 entries\n",
      "7 chs: 3466 entries\n",
      "8 chs: 3663 entries\n",
      "9 chs: 4011 entries\n",
      "10 chs: 3906 entries\n",
      "15 chs: 3768 entries\n",
      "20 chs: 3411 entries\n",
      "30 chs: 2748 entries\n",
      "40 chs: 2674 entries\n"
     ]
    },
    {
     "name": "stderr",
     "output_type": "stream",
     "text": [
      " 93%|█████████▎| 40/43 [00:04<00:00,  6.44it/s]"
     ]
    },
    {
     "name": "stdout",
     "output_type": "stream",
     "text": [
      "StackingRegressor model failed to execute\n",
      "__init__() missing 1 required positional argument: 'estimators'\n"
     ]
    },
    {
     "name": "stderr",
     "output_type": "stream",
     "text": [
      "100%|██████████| 43/43 [00:04<00:00,  8.80it/s]\n",
      " 30%|███       | 13/43 [00:00<00:01, 19.62it/s]"
     ]
    },
    {
     "name": "stdout",
     "output_type": "stream",
     "text": [
      "GammaRegressor model failed to execute\n",
      "Some value(s) of y are out of the valid range for family GammaDistribution\n"
     ]
    },
    {
     "name": "stderr",
     "output_type": "stream",
     "text": [
      " 93%|█████████▎| 40/43 [00:04<00:00,  8.56it/s]"
     ]
    },
    {
     "name": "stdout",
     "output_type": "stream",
     "text": [
      "StackingRegressor model failed to execute\n",
      "__init__() missing 1 required positional argument: 'estimators'\n"
     ]
    },
    {
     "name": "stderr",
     "output_type": "stream",
     "text": [
      "100%|██████████| 43/43 [00:04<00:00,  9.21it/s]\n",
      " 88%|████████▊ | 38/43 [00:04<00:00,  9.50it/s]"
     ]
    },
    {
     "name": "stdout",
     "output_type": "stream",
     "text": [
      "StackingRegressor model failed to execute\n",
      "__init__() missing 1 required positional argument: 'estimators'\n"
     ]
    },
    {
     "name": "stderr",
     "output_type": "stream",
     "text": [
      "100%|██████████| 43/43 [00:04<00:00,  9.73it/s]\n",
      " 30%|███       | 13/43 [00:00<00:01, 17.51it/s]"
     ]
    },
    {
     "name": "stdout",
     "output_type": "stream",
     "text": [
      "GammaRegressor model failed to execute\n",
      "Some value(s) of y are out of the valid range for family GammaDistribution\n"
     ]
    },
    {
     "name": "stderr",
     "output_type": "stream",
     "text": [
      " 95%|█████████▌| 41/43 [00:04<00:00, 10.11it/s]"
     ]
    },
    {
     "name": "stdout",
     "output_type": "stream",
     "text": [
      "StackingRegressor model failed to execute\n",
      "__init__() missing 1 required positional argument: 'estimators'\n"
     ]
    },
    {
     "name": "stderr",
     "output_type": "stream",
     "text": [
      "100%|██████████| 43/43 [00:05<00:00,  8.39it/s]\n",
      " 95%|█████████▌| 41/43 [00:05<00:00,  6.42it/s]"
     ]
    },
    {
     "name": "stdout",
     "output_type": "stream",
     "text": [
      "StackingRegressor model failed to execute\n",
      "__init__() missing 1 required positional argument: 'estimators'\n"
     ]
    },
    {
     "name": "stderr",
     "output_type": "stream",
     "text": [
      "100%|██████████| 43/43 [00:05<00:00,  8.25it/s]\n",
      " 28%|██▊       | 12/43 [00:00<00:02, 11.66it/s]"
     ]
    },
    {
     "name": "stdout",
     "output_type": "stream",
     "text": [
      "GammaRegressor model failed to execute\n",
      "Some value(s) of y are out of the valid range for family GammaDistribution\n"
     ]
    },
    {
     "name": "stderr",
     "output_type": "stream",
     "text": [
      " 74%|███████▍  | 32/43 [00:04<00:01,  6.12it/s]"
     ]
    },
    {
     "name": "stdout",
     "output_type": "stream",
     "text": [
      "RANSACRegressor model failed to execute\n",
      "RANSAC could not find a valid consensus set. All `max_trials` iterations were skipped because each randomly chosen sub-sample failed the passing criteria. See estimator attributes for diagnostics (n_skips*).\n"
     ]
    },
    {
     "name": "stderr",
     "output_type": "stream",
     "text": [
      " 93%|█████████▎| 40/43 [00:05<00:00,  8.15it/s]"
     ]
    },
    {
     "name": "stdout",
     "output_type": "stream",
     "text": [
      "StackingRegressor model failed to execute\n",
      "__init__() missing 1 required positional argument: 'estimators'\n"
     ]
    },
    {
     "name": "stderr",
     "output_type": "stream",
     "text": [
      "100%|██████████| 43/43 [00:05<00:00,  7.65it/s]\n",
      " 93%|█████████▎| 40/43 [00:05<00:00,  4.93it/s]"
     ]
    },
    {
     "name": "stdout",
     "output_type": "stream",
     "text": [
      "StackingRegressor model failed to execute\n",
      "__init__() missing 1 required positional argument: 'estimators'\n"
     ]
    },
    {
     "name": "stderr",
     "output_type": "stream",
     "text": [
      "100%|██████████| 43/43 [00:05<00:00,  7.77it/s]\n",
      " 30%|███       | 13/43 [00:00<00:01, 20.35it/s]"
     ]
    },
    {
     "name": "stdout",
     "output_type": "stream",
     "text": [
      "GammaRegressor model failed to execute\n",
      "Some value(s) of y are out of the valid range for family GammaDistribution\n"
     ]
    }
   ],
   "source": [
    "import ipynb.fs.full.PrepareData as data\n",
    "from sklearn.multioutput import MultiOutputRegressor\n",
    "import itertools\n",
    "\n",
    "strategyArray = []\n",
    "errorArray    = []"
   ]
  },
  {
   "cell_type": "markdown",
   "metadata": {},
   "source": [
    "# Sorting the dataset"
   ]
  },
  {
   "cell_type": "code",
   "execution_count": null,
   "metadata": {
    "scrolled": false
   },
   "outputs": [],
   "source": [
    "sortedDict = {}\n",
    "commonRegressors = data.commonRegressors\n",
    "\n",
    "for regressor in commonRegressors:\n",
    "    sortedDict[regressor] = 0\n",
    "    \n",
    "    for i in range(data.ampNumber):\n",
    "        sortedDict[regressor] += data.finalList[i][regressor][0] + data.finalList[i][regressor][1]\n",
    "\n",
    "\n",
    "sortedDict = dict(sorted(sortedDict.items(), key = lambda x : x[1]))\n",
    "sortedDict = dict(itertools.islice(sortedDict.items(), 5))\n",
    "\n",
    "print(sortedDict)"
   ]
  },
  {
   "cell_type": "markdown",
   "metadata": {},
   "source": [
    "# Processing data"
   ]
  },
  {
   "cell_type": "code",
   "execution_count": null,
   "metadata": {},
   "outputs": [],
   "source": [
    "from sklearn.metrics import mean_absolute_error\n",
    "\n",
    "def getMAE(yTrue, yPredicted):\n",
    "    errors = []\n",
    "    \n",
    "    for true, predicted in zip(yTrue, yPredicted):\n",
    "        error = mean_absolute_error(true, predicted)\n",
    "        errors.append(error)\n",
    "        \n",
    "    return errors"
   ]
  },
  {
   "cell_type": "markdown",
   "metadata": {},
   "source": [
    "# Plotting function"
   ]
  },
  {
   "cell_type": "code",
   "execution_count": null,
   "metadata": {},
   "outputs": [],
   "source": [
    "import matplotlib.pyplot as plt\n",
    "\n",
    "def plotErrorBoxPlots():\n",
    "    plt.boxplot(errorArray)\n",
    "    plt.ylabel(\"Mean Absolute error (dB)\", fontsize = 8)\n",
    "    \n",
    "    plt.suptitle(\"Test error\", fontsize = 16)\n",
    "    plt.legend(strategyArray, handlelength = 0, bbox_to_anchor=(1.6, 1), loc = \"right\")\n",
    "\n",
    "    plt.show()"
   ]
  },
  {
   "cell_type": "markdown",
   "metadata": {},
   "source": [
    "# Building the models"
   ]
  },
  {
   "cell_type": "code",
   "execution_count": null,
   "metadata": {},
   "outputs": [],
   "source": [
    "X, y = data.loadDataset()\n",
    "X_train, X_test, y_train, y_test = data.train_test_split(X, y, test_size = 0.3, random_state = 0)\n",
    "\n",
    "count = 1"
   ]
  },
  {
   "cell_type": "code",
   "execution_count": null,
   "metadata": {
    "scrolled": true
   },
   "outputs": [],
   "source": [
    "from sklearn.ensemble import BaggingRegressor\n",
    "from sklearn.tree import ExtraTreeRegressor\n",
    "\n",
    "extra_tree = ExtraTreeRegressor(criterion = \"mse\", random_state=0)\n",
    "model      = MultiOutputRegressor(BaggingRegressor(base_estimator = extra_tree, \n",
    "                                                   n_estimators   = 100,\n",
    "                                                   random_state   = 0))\n",
    "\n",
    "model.fit(X_train, y_train)\n",
    "\n",
    "result = model.predict(X_test)\n",
    "\n",
    "print(y_test[0], result[0])\n",
    "\n",
    "strategyArray.append(\"{} - BaggingRegressor\".format(count))\n",
    "errorArray.append(getMAE(y_test, result))\n",
    "count += 1"
   ]
  },
  {
   "cell_type": "code",
   "execution_count": null,
   "metadata": {},
   "outputs": [],
   "source": [
    "from sklearn.linear_model import LassoCV\n",
    "\n",
    "model = MultiOutputRegressor(LassoCV())\n",
    "\n",
    "model.fit(X_train, y_train)\n",
    "\n",
    "result = model.predict(X_test)\n",
    "\n",
    "print(y_test[0], result[0])\n",
    "\n",
    "\n",
    "strategyArray.append(\"{} - LassoCV\".format(count))\n",
    "errorArray.append(getMAE(y_test, result))\n",
    "count += 1"
   ]
  },
  {
   "cell_type": "code",
   "execution_count": null,
   "metadata": {},
   "outputs": [],
   "source": [
    "from sklearn.linear_model import ElasticNetCV\n",
    "\n",
    "model = MultiOutputRegressor(ElasticNetCV())\n",
    "\n",
    "model.fit(X_train, y_train)\n",
    "\n",
    "result = model.predict(X_test)\n",
    "\n",
    "print(y_test[0], result[0])\n",
    "\n",
    "\n",
    "strategyArray.append(\"{} - ElasticNetCV\".format(count))\n",
    "errorArray.append(getMAE(y_test, result))\n",
    "count += 1"
   ]
  },
  {
   "cell_type": "code",
   "execution_count": null,
   "metadata": {},
   "outputs": [],
   "source": [
    "from sklearn.ensemble import GradientBoostingRegressor\n",
    "\n",
    "model = MultiOutputRegressor(GradientBoostingRegressor())\n",
    "\n",
    "model.fit(X_train, y_train)\n",
    "\n",
    "result = model.predict(X_test)\n",
    "\n",
    "print(y_test[0], result[0])\n",
    "\n",
    "strategyArray.append(\"{} - GradientBoostingRegressor\".format(count))\n",
    "errorArray.append(getMAE(y_test, result))\n",
    "count += 1"
   ]
  },
  {
   "cell_type": "code",
   "execution_count": null,
   "metadata": {},
   "outputs": [],
   "source": [
    "from xgboost import XGBRegressor\n",
    "\n",
    "model = MultiOutputRegressor(XGBRegressor())\n",
    "\n",
    "model.fit(X_train, y_train)\n",
    "\n",
    "result = model.predict(X_test)\n",
    "\n",
    "print(y_test[0], result[0])\n",
    "\n",
    "\n",
    "strategyArray.append(\"{} - XGBRegressor\".format(count))\n",
    "errorArray.append(getMAE(y_test, result))\n",
    "count += 1"
   ]
  },
  {
   "cell_type": "code",
   "execution_count": null,
   "metadata": {},
   "outputs": [],
   "source": [
    "from sklearn.dummy import DummyRegressor\n",
    "\n",
    "model = MultiOutputRegressor(DummyRegressor())\n",
    "\n",
    "model.fit(X_train, y_train)\n",
    "\n",
    "result = model.predict(X_test)\n",
    "\n",
    "print(y_test[0], result[0])\n",
    "\n",
    "\n",
    "strategyArray.append(\"{} - DummyRegressor\".format(count))\n",
    "errorArray.append(getMAE(y_test, result))\n",
    "count += 1"
   ]
  },
  {
   "cell_type": "code",
   "execution_count": null,
   "metadata": {},
   "outputs": [],
   "source": [
    "plotErrorBoxPlots()"
   ]
  }
 ],
 "metadata": {
  "kernelspec": {
   "display_name": "acopEnv",
   "language": "python",
   "name": "acopenv"
  },
  "language_info": {
   "codemirror_mode": {
    "name": "ipython",
    "version": 3
   },
   "file_extension": ".py",
   "mimetype": "text/x-python",
   "name": "python",
   "nbconvert_exporter": "python",
   "pygments_lexer": "ipython3",
   "version": "3.6.9"
  }
 },
 "nbformat": 4,
 "nbformat_minor": 2
}
