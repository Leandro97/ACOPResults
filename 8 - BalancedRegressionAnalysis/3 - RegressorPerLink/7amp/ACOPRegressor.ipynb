{
 "cells": [
  {
   "cell_type": "markdown",
   "metadata": {},
   "source": [
    "# Imports "
   ]
  },
  {
   "cell_type": "code",
   "execution_count": 1,
   "metadata": {},
   "outputs": [
    {
     "name": "stderr",
     "output_type": "stream",
     "text": [
      "/home/leandro/.local/lib/python3.6/site-packages/sklearn/utils/deprecation.py:143: FutureWarning: The sklearn.utils.testing module is  deprecated in version 0.22 and will be removed in version 0.24. The corresponding classes / functions should instead be imported from sklearn.utils. Anything that cannot be imported from sklearn.utils is now part of the private API.\n",
      "  warnings.warn(message, FutureWarning)\n",
      "  0%|          | 0/43 [00:00<?, ?it/s]"
     ]
    },
    {
     "name": "stdout",
     "output_type": "stream",
     "text": [
      "[114, 102, 67, 14, 133, 38, 97, 129, 89, 71, 40, 77]\n",
      "2 chs: 114 entries\n",
      "3 chs: 102 entries\n",
      "4 chs: 67 entries\n",
      "5 chs: 14 entries\n",
      "6 chs: 133 entries\n",
      "7 chs: 38 entries\n",
      "8 chs: 97 entries\n",
      "9 chs: 129 entries\n",
      "10 chs: 89 entries\n",
      "15 chs: 71 entries\n",
      "20 chs: 40 entries\n",
      "30 chs: 77 entries\n",
      "Dataset entries: 182\n"
     ]
    },
    {
     "name": "stderr",
     "output_type": "stream",
     "text": [
      " 81%|████████▏ | 35/43 [00:04<00:00, 10.16it/s]"
     ]
    },
    {
     "name": "stdout",
     "output_type": "stream",
     "text": [
      "RANSACRegressor model failed to execute\n",
      "RANSAC could not find a valid consensus set. All `max_trials` iterations were skipped because each randomly chosen sub-sample failed the passing criteria. See estimator attributes for diagnostics (n_skips*).\n"
     ]
    },
    {
     "name": "stderr",
     "output_type": "stream",
     "text": [
      "\r",
      " 95%|█████████▌| 41/43 [00:04<00:00, 13.48it/s]"
     ]
    },
    {
     "name": "stdout",
     "output_type": "stream",
     "text": [
      "StackingRegressor model failed to execute\n",
      "__init__() missing 1 required positional argument: 'estimators'\n"
     ]
    },
    {
     "name": "stderr",
     "output_type": "stream",
     "text": [
      "100%|██████████| 43/43 [00:05<00:00,  8.26it/s]\n",
      " 26%|██▌       | 11/43 [00:00<00:02, 12.52it/s]"
     ]
    },
    {
     "name": "stdout",
     "output_type": "stream",
     "text": [
      "GammaRegressor model failed to execute\n",
      "Some value(s) of y are out of the valid range for family GammaDistribution\n"
     ]
    },
    {
     "name": "stderr",
     "output_type": "stream",
     "text": [
      " 77%|███████▋  | 33/43 [00:04<00:01,  7.85it/s]"
     ]
    },
    {
     "name": "stdout",
     "output_type": "stream",
     "text": [
      "RANSACRegressor model failed to execute\n",
      "RANSAC could not find a valid consensus set. All `max_trials` iterations were skipped because each randomly chosen sub-sample failed the passing criteria. See estimator attributes for diagnostics (n_skips*).\n"
     ]
    },
    {
     "name": "stderr",
     "output_type": "stream",
     "text": [
      " 88%|████████▊ | 38/43 [00:04<00:00,  8.94it/s]"
     ]
    },
    {
     "name": "stdout",
     "output_type": "stream",
     "text": [
      "StackingRegressor model failed to execute\n",
      "__init__() missing 1 required positional argument: 'estimators'\n"
     ]
    },
    {
     "name": "stderr",
     "output_type": "stream",
     "text": [
      "100%|██████████| 43/43 [00:05<00:00,  8.14it/s]\n",
      "100%|██████████| 43/43 [00:05<00:00,  7.55it/s]\n",
      "  0%|          | 0/43 [00:00<?, ?it/s]"
     ]
    },
    {
     "name": "stdout",
     "output_type": "stream",
     "text": [
      "StackingRegressor model failed to execute\n",
      "__init__() missing 1 required positional argument: 'estimators'\n"
     ]
    },
    {
     "name": "stderr",
     "output_type": "stream",
     "text": [
      " 30%|███       | 13/43 [00:00<00:01, 22.68it/s]"
     ]
    },
    {
     "name": "stdout",
     "output_type": "stream",
     "text": [
      "GammaRegressor model failed to execute\n",
      "Some value(s) of y are out of the valid range for family GammaDistribution\n"
     ]
    },
    {
     "name": "stderr",
     "output_type": "stream",
     "text": [
      " 81%|████████▏ | 35/43 [00:04<00:00,  9.54it/s]"
     ]
    },
    {
     "name": "stdout",
     "output_type": "stream",
     "text": [
      "RANSACRegressor model failed to execute\n",
      "RANSAC could not find a valid consensus set. All `max_trials` iterations were skipped because each randomly chosen sub-sample failed the passing criteria. See estimator attributes for diagnostics (n_skips*).\n"
     ]
    },
    {
     "name": "stderr",
     "output_type": "stream",
     "text": [
      "\r",
      " 88%|████████▊ | 38/43 [00:04<00:00, 11.99it/s]"
     ]
    },
    {
     "name": "stdout",
     "output_type": "stream",
     "text": [
      "StackingRegressor model failed to execute\n",
      "__init__() missing 1 required positional argument: 'estimators'\n"
     ]
    },
    {
     "name": "stderr",
     "output_type": "stream",
     "text": [
      "100%|██████████| 43/43 [00:04<00:00,  8.97it/s]\n",
      " 88%|████████▊ | 38/43 [00:04<00:00,  7.96it/s]"
     ]
    },
    {
     "name": "stdout",
     "output_type": "stream",
     "text": [
      "StackingRegressor model failed to execute\n",
      "__init__() missing 1 required positional argument: 'estimators'\n"
     ]
    },
    {
     "name": "stderr",
     "output_type": "stream",
     "text": [
      "100%|██████████| 43/43 [00:05<00:00,  7.98it/s]\n",
      " 26%|██▌       | 11/43 [00:01<00:02, 11.77it/s]"
     ]
    },
    {
     "name": "stdout",
     "output_type": "stream",
     "text": [
      "GammaRegressor model failed to execute\n",
      "Some value(s) of y are out of the valid range for family GammaDistribution\n"
     ]
    },
    {
     "name": "stderr",
     "output_type": "stream",
     "text": [
      " 79%|███████▉  | 34/43 [00:05<00:01,  7.82it/s]"
     ]
    },
    {
     "name": "stdout",
     "output_type": "stream",
     "text": [
      "RANSACRegressor model failed to execute\n",
      "RANSAC could not find a valid consensus set. All `max_trials` iterations were skipped because each randomly chosen sub-sample failed the passing criteria. See estimator attributes for diagnostics (n_skips*).\n"
     ]
    },
    {
     "name": "stderr",
     "output_type": "stream",
     "text": [
      "\r",
      " 93%|█████████▎| 40/43 [00:05<00:00, 10.57it/s]"
     ]
    },
    {
     "name": "stdout",
     "output_type": "stream",
     "text": [
      "StackingRegressor model failed to execute\n",
      "__init__() missing 1 required positional argument: 'estimators'\n"
     ]
    },
    {
     "name": "stderr",
     "output_type": "stream",
     "text": [
      "100%|██████████| 43/43 [00:05<00:00,  7.55it/s]\n",
      " 77%|███████▋  | 33/43 [00:06<00:03,  2.63it/s]"
     ]
    },
    {
     "name": "stdout",
     "output_type": "stream",
     "text": [
      "RANSACRegressor model failed to execute\n",
      "RANSAC could not find a valid consensus set. All `max_trials` iterations were skipped because each randomly chosen sub-sample failed the passing criteria. See estimator attributes for diagnostics (n_skips*).\n"
     ]
    },
    {
     "name": "stderr",
     "output_type": "stream",
     "text": [
      " 88%|████████▊ | 38/43 [00:07<00:01,  4.10it/s]"
     ]
    },
    {
     "name": "stdout",
     "output_type": "stream",
     "text": [
      "StackingRegressor model failed to execute\n",
      "__init__() missing 1 required positional argument: 'estimators'\n"
     ]
    },
    {
     "name": "stderr",
     "output_type": "stream",
     "text": [
      "100%|██████████| 43/43 [00:07<00:00,  5.39it/s]\n",
      " 26%|██▌       | 11/43 [00:01<00:02, 11.86it/s]"
     ]
    },
    {
     "name": "stdout",
     "output_type": "stream",
     "text": [
      "GammaRegressor model failed to execute\n",
      "Some value(s) of y are out of the valid range for family GammaDistribution\n"
     ]
    },
    {
     "name": "stderr",
     "output_type": "stream",
     "text": [
      " 77%|███████▋  | 33/43 [00:04<00:01,  7.43it/s]"
     ]
    },
    {
     "name": "stdout",
     "output_type": "stream",
     "text": [
      "RANSACRegressor model failed to execute\n",
      "RANSAC could not find a valid consensus set. All `max_trials` iterations were skipped because each randomly chosen sub-sample failed the passing criteria. See estimator attributes for diagnostics (n_skips*).\n"
     ]
    },
    {
     "name": "stderr",
     "output_type": "stream",
     "text": [
      " 88%|████████▊ | 38/43 [00:05<00:00,  8.48it/s]"
     ]
    },
    {
     "name": "stdout",
     "output_type": "stream",
     "text": [
      "StackingRegressor model failed to execute\n",
      "__init__() missing 1 required positional argument: 'estimators'\n"
     ]
    },
    {
     "name": "stderr",
     "output_type": "stream",
     "text": [
      "100%|██████████| 43/43 [00:05<00:00,  7.37it/s]\n",
      " 88%|████████▊ | 38/43 [00:05<00:00,  6.48it/s]"
     ]
    },
    {
     "name": "stdout",
     "output_type": "stream",
     "text": [
      "StackingRegressor model failed to execute\n",
      "__init__() missing 1 required positional argument: 'estimators'\n"
     ]
    },
    {
     "name": "stderr",
     "output_type": "stream",
     "text": [
      "100%|██████████| 43/43 [00:06<00:00,  7.07it/s]\n",
      " 28%|██▊       | 12/43 [00:01<00:03,  9.15it/s]"
     ]
    },
    {
     "name": "stdout",
     "output_type": "stream",
     "text": [
      "GammaRegressor model failed to execute\n",
      "Some value(s) of y are out of the valid range for family GammaDistribution\n"
     ]
    },
    {
     "name": "stderr",
     "output_type": "stream",
     "text": [
      " 88%|████████▊ | 38/43 [00:05<00:00,  7.23it/s]"
     ]
    },
    {
     "name": "stdout",
     "output_type": "stream",
     "text": [
      "StackingRegressor model failed to execute\n",
      "__init__() missing 1 required positional argument: 'estimators'\n"
     ]
    },
    {
     "name": "stderr",
     "output_type": "stream",
     "text": [
      "100%|██████████| 43/43 [00:05<00:00,  7.62it/s]\n",
      " 93%|█████████▎| 40/43 [00:06<00:00,  6.85it/s]"
     ]
    },
    {
     "name": "stdout",
     "output_type": "stream",
     "text": [
      "StackingRegressor model failed to execute\n",
      "__init__() missing 1 required positional argument: 'estimators'\n"
     ]
    },
    {
     "name": "stderr",
     "output_type": "stream",
     "text": [
      "100%|██████████| 43/43 [00:06<00:00,  6.80it/s]\n",
      " 26%|██▌       | 11/43 [00:00<00:02, 13.26it/s]"
     ]
    },
    {
     "name": "stdout",
     "output_type": "stream",
     "text": [
      "GammaRegressor model failed to execute\n",
      "Some value(s) of y are out of the valid range for family GammaDistribution\n"
     ]
    },
    {
     "name": "stderr",
     "output_type": "stream",
     "text": [
      " 88%|████████▊ | 38/43 [00:07<00:01,  4.96it/s]"
     ]
    },
    {
     "name": "stdout",
     "output_type": "stream",
     "text": [
      "StackingRegressor model failed to execute\n",
      "__init__() missing 1 required positional argument: 'estimators'\n"
     ]
    },
    {
     "name": "stderr",
     "output_type": "stream",
     "text": [
      "100%|██████████| 43/43 [00:07<00:00,  5.82it/s]\n",
      " 88%|████████▊ | 38/43 [00:05<00:00,  5.29it/s]"
     ]
    },
    {
     "name": "stdout",
     "output_type": "stream",
     "text": [
      "StackingRegressor model failed to execute\n",
      "__init__() missing 1 required positional argument: 'estimators'\n"
     ]
    },
    {
     "name": "stderr",
     "output_type": "stream",
     "text": [
      "100%|██████████| 43/43 [00:05<00:00,  7.26it/s]\n",
      " 28%|██▊       | 12/43 [00:01<00:03,  9.72it/s]"
     ]
    },
    {
     "name": "stdout",
     "output_type": "stream",
     "text": [
      "GammaRegressor model failed to execute\n",
      "Some value(s) of y are out of the valid range for family GammaDistribution\n"
     ]
    },
    {
     "name": "stderr",
     "output_type": "stream",
     "text": [
      " 74%|███████▍  | 32/43 [00:05<00:01,  7.46it/s]"
     ]
    },
    {
     "name": "stdout",
     "output_type": "stream",
     "text": [
      "RANSACRegressor model failed to execute\n",
      "RANSAC could not find a valid consensus set. All `max_trials` iterations were skipped because each randomly chosen sub-sample failed the passing criteria. See estimator attributes for diagnostics (n_skips*).\n"
     ]
    },
    {
     "name": "stderr",
     "output_type": "stream",
     "text": [
      " 88%|████████▊ | 38/43 [00:05<00:00,  7.57it/s]"
     ]
    },
    {
     "name": "stdout",
     "output_type": "stream",
     "text": [
      "StackingRegressor model failed to execute\n",
      "__init__() missing 1 required positional argument: 'estimators'\n"
     ]
    },
    {
     "name": "stderr",
     "output_type": "stream",
     "text": [
      "100%|██████████| 43/43 [00:06<00:00,  7.07it/s]\n"
     ]
    }
   ],
   "source": [
    "import ipynb.fs.full.PrepareData as data\n",
    "from sklearn.multioutput import MultiOutputRegressor\n",
    "import itertools\n",
    "\n",
    "strategyArray = []\n",
    "errorArray    = [[], []]"
   ]
  },
  {
   "cell_type": "markdown",
   "metadata": {},
   "source": [
    "# Sorting the dataset"
   ]
  },
  {
   "cell_type": "code",
   "execution_count": 2,
   "metadata": {
    "scrolled": false
   },
   "outputs": [
    {
     "name": "stdout",
     "output_type": "stream",
     "text": [
      "dict_keys(['RandomForestRegressor', 'BaggingRegressor', 'XGBRegressor', 'DecisionTreeRegressor', 'ExtraTreesRegressor'])\n"
     ]
    }
   ],
   "source": [
    "sortedDict = {}\n",
    "commonRegressors = data.commonRegressors\n",
    "\n",
    "for regressor in commonRegressors:\n",
    "    sortedDict[regressor] = 0\n",
    "    \n",
    "    for i in range(data.ampNumber):\n",
    "        sortedDict[regressor] += data.finalList[i][regressor][0] + data.finalList[i][regressor][1]\n",
    "\n",
    "\n",
    "sortedDict = dict(sorted(sortedDict.items(), key = lambda x : x[1]))\n",
    "sortedDict = dict(itertools.islice(sortedDict.items(), 5))\n",
    "\n",
    "print(sortedDict.keys())"
   ]
  },
  {
   "cell_type": "markdown",
   "metadata": {},
   "source": [
    "# Processing data"
   ]
  },
  {
   "cell_type": "code",
   "execution_count": 3,
   "metadata": {},
   "outputs": [],
   "source": [
    "from sklearn.metrics import mean_absolute_error\n",
    "\n",
    "def getMAE(yTrue, yPredicted):\n",
    "    gainErrors = []\n",
    "    lossErrors = []\n",
    "    \n",
    "    rangeList = list(range(len(yTrue[0])))\n",
    "    \n",
    "    for true, predicted in zip(yTrue, yPredicted):\n",
    "        gainTrue      = [true[x] for x in rangeList[0::2]]\n",
    "        gainPredicted = [predicted[x] for x in rangeList[0::2]]\n",
    "        lossTrue      = [true[x] for x in rangeList[1::2]]\n",
    "        lossPredicted = [predicted[x] for x in rangeList[1::2]]\n",
    "        \n",
    "        gainErrors.append(mean_absolute_error(gainTrue, gainPredicted))\n",
    "        lossErrors.append(mean_absolute_error(lossTrue, lossPredicted))\n",
    "        \n",
    "    return gainErrors, lossErrors"
   ]
  },
  {
   "cell_type": "markdown",
   "metadata": {},
   "source": [
    "# Plotting function"
   ]
  },
  {
   "cell_type": "code",
   "execution_count": 4,
   "metadata": {},
   "outputs": [],
   "source": [
    "import matplotlib.pyplot as plt\n",
    "\n",
    "def plotGrid(gainData, lossData):\n",
    "    fontSize = 32\n",
    "    \n",
    "    fig, axis = plt.subplots(2, figsize = (10, 10))\n",
    "    \n",
    "    axis[0].boxplot(gainData)\n",
    "    axis[0].set_title(\"Test error for Gain\", fontsize = fontSize)\n",
    "    axis[0].get_xaxis().set_visible(False)\n",
    "    axis[0].yaxis.set_tick_params(labelsize = fontSize)\n",
    "    axis[0].set_yticklabels(range(0, 4))\n",
    "    axis[0].set_ylim(0, 3)\n",
    "    \n",
    "    axis[1].boxplot(lossData)\n",
    "    axis[1].set_title(\"Test error for Loss\", fontsize = fontSize)\n",
    "    axis[1].xaxis.set_tick_params(labelsize = fontSize)\n",
    "    axis[1].yaxis.set_tick_params(labelsize = fontSize)\n",
    "    axis[1].set_xticklabels(strategyArray)\n",
    "    axis[1].set_yticklabels(range(0, 4))\n",
    "    axis[1].set_ylim(0, 3)\n",
    "\n",
    "    #fig.text(0.053, 0.5, 'Erro Médio Absoluto (dB)', va='center', rotation='vertical', fontsize = 30)\n",
    "\n",
    "    plt.gcf().subplots_adjust(bottom = 0.08)\n",
    "    fig.savefig(\"../../graphs/perLink-{}amp.pdf\".format(data.ampNumber), format = 'pdf', dpi = 1000, bbox_inches = \"tight\")"
   ]
  },
  {
   "cell_type": "markdown",
   "metadata": {},
   "source": [
    "# Building the models"
   ]
  },
  {
   "cell_type": "code",
   "execution_count": 5,
   "metadata": {},
   "outputs": [],
   "source": [
    "cvData = []\n",
    "X, y = data.loadDataset()\n",
    "\n",
    "for i in range(5):\n",
    "    X_train, X_test, y_train, y_test = data.train_test_split(X, y, test_size = 0.3, random_state = i)\n",
    "    cvData.append([X_train, X_test, y_train, y_test])\n",
    "    \n",
    "count = 1"
   ]
  },
  {
   "cell_type": "code",
   "execution_count": 6,
   "metadata": {
    "scrolled": true
   },
   "outputs": [
    {
     "name": "stdout",
     "output_type": "stream",
     "text": [
      "[17.  0. 18.  0. 20.  2. 19.  1. 18.  0. 19.  1. 24.  0.] [1.66636313e+01 3.43736325e-03 1.82387336e+01 1.81931491e-01\n",
      " 1.93288005e+01 1.21532175e+00 1.87692408e+01 9.27772465e-01\n",
      " 1.94307455e+01 1.52103962e+00 1.96506123e+01 1.67534285e+00\n",
      " 2.33278984e+01 1.01042476e+00]\n",
      "[16.  0. 21.  2. 18.  0. 18.  0. 19.  2. 20.  1. 23.  0.] [16.24563881  0.06071178 20.22749821  1.40632239 18.48555633  0.91185405\n",
      " 19.28177364  1.35035398 19.48448172  1.59171316 20.52857815  2.13839149\n",
      " 22.67691126  0.80786812]\n",
      "[17.  0. 19.  1. 19.  1. 18.  0. 19.  2. 20.  1. 23.  0.] [1.68801501e+01 1.99658669e-04 1.80767623e+01 5.76444459e-01\n",
      " 1.95738248e+01 9.57715036e-01 1.81754732e+01 1.96310995e-01\n",
      " 1.89017035e+01 1.36293409e+00 1.90770721e+01 7.70897597e-01\n",
      " 2.31834219e+01 1.09598184e+00]\n",
      "[17.  0. 19.  1. 18.  0. 18.  0. 19.  1. 19.  1. 23.  0.] [16.57923134  0.02780863 18.75859568  0.62698589 18.56164038  0.30033251\n",
      " 17.98195746  0.15478881 20.27053786  2.40874954 19.95210159  2.14896059\n",
      " 22.32278234  0.18815355]\n",
      "[17.  0. 19.  1. 19.  1. 18.  0. 18.  0. 23.  5. 23.  0.] [1.69613906e+01 1.00736575e-02 1.82824540e+01 2.49387481e-01\n",
      " 1.88568252e+01 8.63053297e-01 1.84788629e+01 5.03303748e-01\n",
      " 1.85672175e+01 5.66021597e-01 2.04225748e+01 2.62575382e+00\n",
      " 2.26668988e+01 1.45161614e-01]\n"
     ]
    }
   ],
   "source": [
    "from sklearn.linear_model import BayesianRidge\n",
    "\n",
    "errorArray[0].append([])\n",
    "errorArray[1].append([])\n",
    "\n",
    "for i in range(5):\n",
    "    model = MultiOutputRegressor(BayesianRidge())\n",
    "    model.fit(cvData[i][0], cvData[i][2])\n",
    "\n",
    "    result = model.predict(cvData[i][1])\n",
    "\n",
    "    print(cvData[i][-1][0], result[0])\n",
    "\n",
    "    mae = getMAE(cvData[i][3], result)\n",
    "\n",
    "    errorArray[0][-1].extend(mae[0])\n",
    "    errorArray[1][-1].extend(mae[1])\n",
    "\n",
    "strategyArray.append(\"BR\")\n",
    "count += 1"
   ]
  },
  {
   "cell_type": "code",
   "execution_count": 7,
   "metadata": {},
   "outputs": [
    {
     "name": "stdout",
     "output_type": "stream",
     "text": [
      "[17.  0. 18.  0. 20.  2. 19.  1. 18.  0. 19.  1. 24.  0.] [16.66857526  0.         18.22325538  0.17188187 19.39549014  1.22796894\n",
      " 18.76802447  0.92658529 19.43821092  1.53604392 19.61130956  1.61289545\n",
      " 23.43736825  1.05029321]\n",
      "[16.  0. 21.  2. 18.  0. 18.  0. 19.  2. 20.  1. 23.  0.] [16.16377624  0.03091208 20.3261747   1.45152165 18.35399965  0.95492142\n",
      " 19.34620445  1.33586183 19.49082198  1.60213244 20.64406782  2.22922736\n",
      " 22.50706311  0.76562927]\n",
      "[17.  0. 19.  1. 19.  1. 18.  0. 19.  2. 20.  1. 23.  0.] [16.88718027  0.         18.06647543  0.5794808  19.56969568  0.97787092\n",
      " 18.15658252  0.17966702 18.9003771   1.36453071 19.0748943   0.76890352\n",
      " 23.1951957   1.10477143]\n",
      "[17.  0. 19.  1. 18.  0. 18.  0. 19.  1. 19.  1. 23.  0.] [16.55154499  0.02861356 18.75384252  0.64054245 18.58935908  0.28934298\n",
      " 17.97795712  0.14236795 20.34282532  2.43254996 19.95912693  2.17742617\n",
      " 22.18886049  0.16053775]\n",
      "[17.  0. 19.  1. 19.  1. 18.  0. 18.  0. 23.  5. 23.  0.] [16.96571965  0.         18.2740788   0.24668368 18.83380067  0.84779103\n",
      " 18.48314921  0.49230423 18.54221062  0.53945099 20.43162417  2.65904334\n",
      " 22.5887966   0.12761558]\n"
     ]
    }
   ],
   "source": [
    "from sklearn.ensemble import RandomForestRegressor\n",
    "\n",
    "errorArray[0].append([])\n",
    "errorArray[1].append([])\n",
    "\n",
    "for i in range(5):\n",
    "    model = MultiOutputRegressor(RandomForestRegressor())\n",
    "    model.fit(cvData[i][0], cvData[i][2])\n",
    "\n",
    "    result = model.predict(cvData[i][1])\n",
    "\n",
    "    print(cvData[i][-1][0], result[0])\n",
    "\n",
    "    mae = getMAE(cvData[i][3], result)\n",
    "\n",
    "    errorArray[0][-1].extend(mae[0])\n",
    "    errorArray[1][-1].extend(mae[1])\n",
    "\n",
    "strategyArray.append(\"RF\")\n",
    "count += 1"
   ]
  },
  {
   "cell_type": "code",
   "execution_count": 8,
   "metadata": {},
   "outputs": [
    {
     "name": "stdout",
     "output_type": "stream",
     "text": [
      "[17.  0. 18.  0. 20.  2. 19.  1. 18.  0. 19.  1. 24.  0.] [16.66666667  0.         18.2173913   0.17391304 19.39130435  1.23188406\n",
      " 18.76811594  0.92753623 19.44927536  1.53623188 19.62318841  1.63768116\n",
      " 23.44927536  1.04347826]\n",
      "[16.  0. 21.  2. 18.  0. 18.  0. 19.  2. 20.  1. 23.  0.] [16.14814815  0.03703704 20.33333333  1.44444444 18.37037037  0.92592593\n",
      " 19.2962963   1.37037037 19.48148148  1.59259259 20.62962963  2.22222222\n",
      " 22.51851852  0.77777778]\n",
      "[17.  0. 19.  1. 19.  1. 18.  0. 19.  2. 20.  1. 23.  0.] [16.88461538  0.         18.07692308  0.57692308 19.57692308  0.96153846\n",
      " 18.17307692  0.19230769 18.90384615  1.36538462 19.07692308  0.76923077\n",
      " 23.19230769  1.09615385]\n",
      "[17.  0. 19.  1. 18.  0. 18.  0. 19.  1. 19.  1. 23.  0.] [16.55384615  0.03076923 18.76923077  0.63076923 18.56923077  0.29230769\n",
      " 17.96923077  0.13846154 20.33846154  2.46153846 19.95384615  2.15384615\n",
      " 22.18461538  0.15384615]\n",
      "[17.  0. 19.  1. 19.  1. 18.  0. 18.  0. 23.  5. 23.  0.] [16.96590909  0.         18.28409091  0.25       18.84090909  0.85227273\n",
      " 18.47727273  0.5        18.55681818  0.55681818 20.43181818  2.64772727\n",
      " 22.59090909  0.125     ]\n"
     ]
    }
   ],
   "source": [
    "from sklearn.tree import DecisionTreeRegressor\n",
    "\n",
    "errorArray[0].append([])\n",
    "errorArray[1].append([])\n",
    "\n",
    "for i in range(5):\n",
    "    model = MultiOutputRegressor(DecisionTreeRegressor())\n",
    "    model.fit(cvData[i][0], cvData[i][2])\n",
    "\n",
    "    result = model.predict(cvData[i][1])\n",
    "\n",
    "    print(cvData[i][-1][0], result[0])\n",
    "\n",
    "    mae = getMAE(cvData[i][3], result)\n",
    "\n",
    "    errorArray[0][-1].extend(mae[0])\n",
    "    errorArray[1][-1].extend(mae[1])\n",
    "\n",
    "strategyArray.append(\"DT\")\n",
    "count += 1"
   ]
  },
  {
   "cell_type": "code",
   "execution_count": 9,
   "metadata": {},
   "outputs": [
    {
     "name": "stdout",
     "output_type": "stream",
     "text": [
      "[17.  0. 18.  0. 20.  2. 19.  1. 18.  0. 19.  1. 24.  0.] [1.66666667e+01 4.52217881e-04 1.82439771e+01 1.75905365e-01\n",
      " 1.93486155e+01 1.22931536e+00 1.87681159e+01 9.27536232e-01\n",
      " 1.94468085e+01 1.53191489e+00 1.96333505e+01 1.64775053e+00\n",
      " 2.34350273e+01 1.02747741e+00]\n",
      "[16.  0. 21.  2. 18.  0. 18.  0. 19.  2. 20.  1. 23.  0.] [16.15044187  0.03704501 20.28525009  1.43229427 18.39294495  0.9262917\n",
      " 19.25002425  1.35016595 19.48148165  1.59259272 20.60620528  2.19564808\n",
      " 22.55374751  0.7827227 ]\n",
      "[17.  0. 19.  1. 19.  1. 18.  0. 19.  2. 20.  1. 23.  0.] [1.68626518e+01 1.80375773e-03 1.80554050e+01 5.72687172e-01\n",
      " 1.95675166e+01 9.50382735e-01 1.81788395e+01 1.94044144e-01\n",
      " 1.89024514e+01 1.36102472e+00 1.90996586e+01 7.86642955e-01\n",
      " 2.31754156e+01 1.07736513e+00]\n",
      "[17.  0. 19.  1. 18.  0. 18.  0. 19.  1. 19.  1. 23.  0.] [16.58101623  0.02984869 18.70218784  0.6307661  18.5692612   0.29227457\n",
      " 18.0052437   0.22063097 20.32063294  2.4299651  19.95382932  2.15382955\n",
      " 22.20054906  0.18186125]\n",
      "[17.  0. 19.  1. 19.  1. 18.  0. 18.  0. 23.  5. 23.  0.] [1.69659091e+01 4.81565419e-04 1.82435897e+01 2.48442901e-01\n",
      " 1.88409091e+01 8.52272727e-01 1.84809151e+01 5.01321457e-01\n",
      " 1.85605552e+01 5.61744018e-01 2.04270094e+01 2.64573273e+00\n",
      " 2.25932824e+01 1.26414053e-01]\n"
     ]
    }
   ],
   "source": [
    "from sklearn.linear_model import LassoCV\n",
    "\n",
    "errorArray[0].append([])\n",
    "errorArray[1].append([])\n",
    "\n",
    "for i in range(5):\n",
    "    model = MultiOutputRegressor(LassoCV())\n",
    "    model.fit(cvData[i][0], cvData[i][2])\n",
    "\n",
    "    result = model.predict(cvData[i][1])\n",
    "\n",
    "    print(cvData[i][-1][0], result[0])\n",
    "\n",
    "    mae = getMAE(cvData[i][3], result)\n",
    "\n",
    "    errorArray[0][-1].extend(mae[0])\n",
    "    errorArray[1][-1].extend(mae[1])\n",
    "\n",
    "strategyArray.append(\"LCV\")\n",
    "count += 1"
   ]
  },
  {
   "cell_type": "code",
   "execution_count": 10,
   "metadata": {},
   "outputs": [
    {
     "name": "stdout",
     "output_type": "stream",
     "text": [
      "[17.  0. 18.  0. 20.  2. 19.  1. 18.  0. 19.  1. 24.  0.] [16.90684134  0.15283843 18.39010189  0.36826783 18.66957787  0.5720524\n",
      " 18.8224163   0.84425036 19.16011645  1.25764192 19.9650655   2.08296943\n",
      " 22.80931587  0.66084425]\n",
      "[16.  0. 21.  2. 18.  0. 18.  0. 19.  2. 20.  1. 23.  0.] [16.90538574  0.14847162 18.41193595  0.3915575  18.70014556  0.61135371\n",
      " 18.78165939  0.7845706  19.16302766  1.286754   19.97525473  2.07423581\n",
      " 22.81950509  0.70305677]\n",
      "[17.  0. 19.  1. 19.  1. 18.  0. 19.  2. 20.  1. 23.  0.] [16.94177584  0.1426492  18.35371179  0.3580786  18.6768559   0.59388646\n",
      " 18.84716157  0.8588064  19.10043668  1.20669578 19.930131    2.02911208\n",
      " 22.78165939  0.65938865]\n",
      "[17.  0. 19.  1. 18.  0. 18.  0. 19.  1. 19.  1. 23.  0.] [16.8922853   0.13100437 18.36535662  0.36098981 18.72343523  0.62736536\n",
      " 18.86608443  0.88937409 19.15429403  1.23871907 19.89665211  2.00582242\n",
      " 22.83842795  0.69723435]\n",
      "[17.  0. 19.  1. 19.  1. 18.  0. 18.  0. 23.  5. 23.  0.] [16.90393013  0.1411936  18.35225619  0.36098981 18.7510917   0.63464338\n",
      " 18.7874818   0.8209607  19.15283843  1.23580786 19.94032023  2.0349345\n",
      " 22.7845706   0.66375546]\n"
     ]
    }
   ],
   "source": [
    "from sklearn.dummy import DummyRegressor\n",
    "\n",
    "errorArray[0].append([])\n",
    "errorArray[1].append([])\n",
    "\n",
    "for i in range(5):\n",
    "    model = MultiOutputRegressor(DummyRegressor())\n",
    "    model.fit(cvData[i][0], cvData[i][2])\n",
    "\n",
    "    result = model.predict(cvData[i][1])\n",
    "\n",
    "    print(cvData[i][-1][0], result[0])\n",
    "    \n",
    "    mae = getMAE(cvData[i][3], result)\n",
    "\n",
    "    errorArray[0][-1].extend(mae[0])\n",
    "    errorArray[1][-1].extend(mae[1])\n",
    "\n",
    "strategyArray.append(\"SM\")\n",
    "count += 1"
   ]
  },
  {
   "cell_type": "code",
   "execution_count": 11,
   "metadata": {},
   "outputs": [
    {
     "name": "stdout",
     "output_type": "stream",
     "text": [
      "dict_keys(['RandomForestRegressor', 'BaggingRegressor', 'XGBRegressor', 'DecisionTreeRegressor', 'ExtraTreesRegressor'])\n",
      "### Gain ###\n",
      "Mean: 0.6981988110519464. Median: 0.6649588720080567. Max: 1.7742169698807355\n",
      "Mean: 0.6952848101502164. Median: 0.6621054574977434. Max: 1.7649441098439351\n",
      "Mean: 0.694945462048953. Median: 0.6610644257703083. Max: 1.7649769585253456\n",
      "Mean: 0.6973728571572687. Median: 0.6651860582279231. Max: 1.7686337852320884\n",
      "Mean: 0.8567383895309288. Median: 0.8163859430234979. Max: 1.9931378665003119\n",
      "### Loss ###\n",
      "Mean: 0.5805847655646963. Median: 0.5807509665030991. Max: 1.305670606936625\n",
      "Mean: 0.5789080998837974. Median: 0.5838682222961679. Max: 1.2961060854265598\n",
      "Mean: 0.5789328991075552. Median: 0.5824175824175823. Max: 1.2923076923076924\n",
      "Mean: 0.5806283078104847. Median: 0.5846758122054216. Max: 1.312433971567869\n",
      "Mean: 0.7924558120191308. Median: 0.7500519858598461. Max: 1.6770638386358911\n",
      "Mean Total - Gain: 0.7285080659878627. Loss: 0.622301976877133\n"
     ]
    },
    {
     "data": {
      "image/png": "[encoded data removed]",
      "text/plain": [
       "<matplotlib.figure.Figure at 0x7f62b4779ac8>"
      ]
     },
     "metadata": {
      "needs_background": "light"
     },
     "output_type": "display_data"
    }
   ],
   "source": [
    "import numpy as np\n",
    "print(sortedDict.keys())\n",
    "\n",
    "gain = 0\n",
    "print(\"### Gain ###\")\n",
    "\n",
    "for gainError in errorArray[0]:\n",
    "    gain += np.mean(gainError)\n",
    "    print(\"Mean: {}. Median: {}. Max: {}\".format(np.mean(gainError), np.median(gainError), np.max(gainError)))\n",
    "\n",
    "loss = 0\n",
    "print(\"### Loss ###\")\n",
    "\n",
    "for lossError in errorArray[1]:\n",
    "    loss += np.mean(lossError)\n",
    "    print(\"Mean: {}. Median: {}. Max: {}\".format(np.mean(lossError), np.median(lossError), np.max(lossError)))\n",
    "    \n",
    "print(\"Mean Total - Gain: {}. Loss: {}\".format(gain / 5, loss / 5))\n",
    "plotGrid(errorArray[0], errorArray[1])"
   ]
  }
 ],
 "metadata": {
  "kernelspec": {
   "display_name": "acopEnv",
   "language": "python",
   "name": "acopenv"
  },
  "language_info": {
   "codemirror_mode": {
    "name": "ipython",
    "version": 3
   },
   "file_extension": ".py",
   "mimetype": "text/x-python",
   "name": "python",
   "nbconvert_exporter": "python",
   "pygments_lexer": "ipython3",
   "version": "3.6.9"
  }
 },
 "nbformat": 4,
 "nbformat_minor": 2
}
