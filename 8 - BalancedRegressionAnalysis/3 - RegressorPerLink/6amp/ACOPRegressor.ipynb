{
 "cells": [
  {
   "cell_type": "markdown",
   "metadata": {},
   "source": [
    "# Imports "
   ]
  },
  {
   "cell_type": "code",
   "execution_count": 1,
   "metadata": {},
   "outputs": [
    {
     "name": "stderr",
     "output_type": "stream",
     "text": [
      "/home/leandro/.local/lib/python3.6/site-packages/sklearn/utils/deprecation.py:143: FutureWarning: The sklearn.utils.testing module is  deprecated in version 0.22 and will be removed in version 0.24. The corresponding classes / functions should instead be imported from sklearn.utils. Anything that cannot be imported from sklearn.utils is now part of the private API.\n",
      "  warnings.warn(message, FutureWarning)\n",
      "  0%|          | 0/43 [00:00<?, ?it/s]"
     ]
    },
    {
     "name": "stdout",
     "output_type": "stream",
     "text": [
      "[185, 165, 192, 207, 202, 153, 184, 144, 132, 137, 162, 150, 157]\n",
      "2 chs: 185 entries\n",
      "3 chs: 165 entries\n",
      "4 chs: 192 entries\n",
      "5 chs: 207 entries\n",
      "6 chs: 202 entries\n",
      "7 chs: 153 entries\n",
      "8 chs: 184 entries\n",
      "9 chs: 144 entries\n",
      "10 chs: 132 entries\n",
      "15 chs: 137 entries\n",
      "20 chs: 162 entries\n",
      "30 chs: 150 entries\n",
      "40 chs: 157 entries\n",
      "Dataset entries: 1716\n"
     ]
    },
    {
     "name": "stderr",
     "output_type": "stream",
     "text": [
      " 77%|███████▋  | 33/43 [00:04<00:01,  8.26it/s]"
     ]
    },
    {
     "name": "stdout",
     "output_type": "stream",
     "text": [
      "RANSACRegressor model failed to execute\n",
      "RANSAC could not find a valid consensus set. All `max_trials` iterations were skipped because each randomly chosen sub-sample failed the passing criteria. See estimator attributes for diagnostics (n_skips*).\n"
     ]
    },
    {
     "name": "stderr",
     "output_type": "stream",
     "text": [
      " 88%|████████▊ | 38/43 [00:05<00:00,  8.15it/s]"
     ]
    },
    {
     "name": "stdout",
     "output_type": "stream",
     "text": [
      "StackingRegressor model failed to execute\n",
      "__init__() missing 1 required positional argument: 'estimators'\n"
     ]
    },
    {
     "name": "stderr",
     "output_type": "stream",
     "text": [
      "100%|██████████| 43/43 [00:06<00:00,  7.14it/s]\n",
      " 23%|██▎       | 10/43 [00:01<00:04,  7.93it/s]"
     ]
    },
    {
     "name": "stdout",
     "output_type": "stream",
     "text": [
      "GammaRegressor model failed to execute\n",
      "Some value(s) of y are out of the valid range for family GammaDistribution\n"
     ]
    },
    {
     "name": "stderr",
     "output_type": "stream",
     "text": [
      " 77%|███████▋  | 33/43 [00:04<00:01,  7.66it/s]"
     ]
    },
    {
     "name": "stdout",
     "output_type": "stream",
     "text": [
      "RANSACRegressor model failed to execute\n",
      "RANSAC could not find a valid consensus set. All `max_trials` iterations were skipped because each randomly chosen sub-sample failed the passing criteria. See estimator attributes for diagnostics (n_skips*).\n"
     ]
    },
    {
     "name": "stderr",
     "output_type": "stream",
     "text": [
      " 88%|████████▊ | 38/43 [00:05<00:00,  7.48it/s]"
     ]
    },
    {
     "name": "stdout",
     "output_type": "stream",
     "text": [
      "StackingRegressor model failed to execute\n",
      "__init__() missing 1 required positional argument: 'estimators'\n"
     ]
    },
    {
     "name": "stderr",
     "output_type": "stream",
     "text": [
      "100%|██████████| 43/43 [00:05<00:00,  8.01it/s]\n",
      " 77%|███████▋  | 33/43 [00:05<00:01,  6.20it/s]"
     ]
    },
    {
     "name": "stdout",
     "output_type": "stream",
     "text": [
      "RANSACRegressor model failed to execute\n",
      "RANSAC could not find a valid consensus set. All `max_trials` iterations were skipped because each randomly chosen sub-sample failed the passing criteria. See estimator attributes for diagnostics (n_skips*).\n"
     ]
    },
    {
     "name": "stderr",
     "output_type": "stream",
     "text": [
      " 88%|████████▊ | 38/43 [00:05<00:00,  7.67it/s]"
     ]
    },
    {
     "name": "stdout",
     "output_type": "stream",
     "text": [
      "StackingRegressor model failed to execute\n",
      "__init__() missing 1 required positional argument: 'estimators'\n"
     ]
    },
    {
     "name": "stderr",
     "output_type": "stream",
     "text": [
      "100%|██████████| 43/43 [00:05<00:00,  7.17it/s]\n",
      " 23%|██▎       | 10/43 [00:01<00:05,  5.65it/s]"
     ]
    },
    {
     "name": "stdout",
     "output_type": "stream",
     "text": [
      "GammaRegressor model failed to execute\n",
      "Some value(s) of y are out of the valid range for family GammaDistribution\n"
     ]
    },
    {
     "name": "stderr",
     "output_type": "stream",
     "text": [
      " 74%|███████▍  | 32/43 [00:05<00:01,  5.75it/s]"
     ]
    },
    {
     "name": "stdout",
     "output_type": "stream",
     "text": [
      "RANSACRegressor model failed to execute\n",
      "RANSAC could not find a valid consensus set. All `max_trials` iterations were skipped because each randomly chosen sub-sample failed the passing criteria. See estimator attributes for diagnostics (n_skips*).\n"
     ]
    },
    {
     "name": "stderr",
     "output_type": "stream",
     "text": [
      " 88%|████████▊ | 38/43 [00:06<00:00,  7.36it/s]"
     ]
    },
    {
     "name": "stdout",
     "output_type": "stream",
     "text": [
      "StackingRegressor model failed to execute\n",
      "__init__() missing 1 required positional argument: 'estimators'\n"
     ]
    },
    {
     "name": "stderr",
     "output_type": "stream",
     "text": [
      "100%|██████████| 43/43 [00:06<00:00,  6.29it/s]\n",
      " 77%|███████▋  | 33/43 [00:05<00:02,  4.95it/s]"
     ]
    },
    {
     "name": "stdout",
     "output_type": "stream",
     "text": [
      "RANSACRegressor model failed to execute\n",
      "RANSAC could not find a valid consensus set. All `max_trials` iterations were skipped because each randomly chosen sub-sample failed the passing criteria. See estimator attributes for diagnostics (n_skips*).\n"
     ]
    },
    {
     "name": "stderr",
     "output_type": "stream",
     "text": [
      " 91%|█████████ | 39/43 [00:06<00:00,  5.60it/s]"
     ]
    },
    {
     "name": "stdout",
     "output_type": "stream",
     "text": [
      "StackingRegressor model failed to execute\n",
      "__init__() missing 1 required positional argument: 'estimators'\n"
     ]
    },
    {
     "name": "stderr",
     "output_type": "stream",
     "text": [
      "100%|██████████| 43/43 [00:06<00:00,  6.23it/s]\n",
      " 21%|██        | 9/43 [00:01<00:07,  4.72it/s]"
     ]
    },
    {
     "name": "stdout",
     "output_type": "stream",
     "text": [
      "GammaRegressor model failed to execute\n",
      "Some value(s) of y are out of the valid range for family GammaDistribution\n"
     ]
    },
    {
     "name": "stderr",
     "output_type": "stream",
     "text": [
      " 77%|███████▋  | 33/43 [00:06<00:01,  5.56it/s]"
     ]
    },
    {
     "name": "stdout",
     "output_type": "stream",
     "text": [
      "RANSACRegressor model failed to execute\n",
      "RANSAC could not find a valid consensus set. All `max_trials` iterations were skipped because each randomly chosen sub-sample failed the passing criteria. See estimator attributes for diagnostics (n_skips*).\n"
     ]
    },
    {
     "name": "stderr",
     "output_type": "stream",
     "text": [
      " 88%|████████▊ | 38/43 [00:07<00:00,  5.46it/s]"
     ]
    },
    {
     "name": "stdout",
     "output_type": "stream",
     "text": [
      "StackingRegressor model failed to execute\n",
      "__init__() missing 1 required positional argument: 'estimators'\n"
     ]
    },
    {
     "name": "stderr",
     "output_type": "stream",
     "text": [
      "100%|██████████| 43/43 [00:07<00:00,  5.47it/s]\n",
      " 88%|████████▊ | 38/43 [00:07<00:01,  4.66it/s]"
     ]
    },
    {
     "name": "stdout",
     "output_type": "stream",
     "text": [
      "StackingRegressor model failed to execute\n",
      "__init__() missing 1 required positional argument: 'estimators'\n"
     ]
    },
    {
     "name": "stderr",
     "output_type": "stream",
     "text": [
      "100%|██████████| 43/43 [00:08<00:00,  5.20it/s]\n",
      " 23%|██▎       | 10/43 [00:01<00:05,  6.45it/s]"
     ]
    },
    {
     "name": "stdout",
     "output_type": "stream",
     "text": [
      "GammaRegressor model failed to execute\n",
      "Some value(s) of y are out of the valid range for family GammaDistribution\n"
     ]
    },
    {
     "name": "stderr",
     "output_type": "stream",
     "text": [
      " 88%|████████▊ | 38/43 [00:06<00:00,  6.27it/s]"
     ]
    },
    {
     "name": "stdout",
     "output_type": "stream",
     "text": [
      "StackingRegressor model failed to execute\n",
      "__init__() missing 1 required positional argument: 'estimators'\n"
     ]
    },
    {
     "name": "stderr",
     "output_type": "stream",
     "text": [
      "100%|██████████| 43/43 [00:06<00:00,  6.59it/s]\n",
      " 88%|████████▊ | 38/43 [00:07<00:01,  3.88it/s]"
     ]
    },
    {
     "name": "stdout",
     "output_type": "stream",
     "text": [
      "StackingRegressor model failed to execute\n",
      "__init__() missing 1 required positional argument: 'estimators'\n"
     ]
    },
    {
     "name": "stderr",
     "output_type": "stream",
     "text": [
      "100%|██████████| 43/43 [00:08<00:00,  5.34it/s]\n",
      " 21%|██        | 9/43 [00:00<00:02, 14.82it/s]"
     ]
    },
    {
     "name": "stdout",
     "output_type": "stream",
     "text": [
      "GammaRegressor model failed to execute\n",
      "Some value(s) of y are out of the valid range for family GammaDistribution\n"
     ]
    },
    {
     "name": "stderr",
     "output_type": "stream",
     "text": [
      " 88%|████████▊ | 38/43 [00:06<00:01,  4.96it/s]"
     ]
    },
    {
     "name": "stdout",
     "output_type": "stream",
     "text": [
      "StackingRegressor model failed to execute\n",
      "__init__() missing 1 required positional argument: 'estimators'\n"
     ]
    },
    {
     "name": "stderr",
     "output_type": "stream",
     "text": [
      "100%|██████████| 43/43 [00:06<00:00,  6.55it/s]\n",
      " 88%|████████▊ | 38/43 [00:07<00:01,  3.69it/s]"
     ]
    },
    {
     "name": "stdout",
     "output_type": "stream",
     "text": [
      "StackingRegressor model failed to execute\n",
      "__init__() missing 1 required positional argument: 'estimators'\n"
     ]
    },
    {
     "name": "stderr",
     "output_type": "stream",
     "text": [
      "100%|██████████| 43/43 [00:08<00:00,  5.32it/s]\n",
      " 23%|██▎       | 10/43 [00:00<00:02, 13.02it/s]"
     ]
    },
    {
     "name": "stdout",
     "output_type": "stream",
     "text": [
      "GammaRegressor model failed to execute\n",
      "Some value(s) of y are out of the valid range for family GammaDistribution\n"
     ]
    },
    {
     "name": "stderr",
     "output_type": "stream",
     "text": [
      " 77%|███████▋  | 33/43 [00:05<00:01,  5.48it/s]"
     ]
    },
    {
     "name": "stdout",
     "output_type": "stream",
     "text": [
      "RANSACRegressor model failed to execute\n",
      "RANSAC could not find a valid consensus set. All `max_trials` iterations were skipped because each randomly chosen sub-sample failed the passing criteria. See estimator attributes for diagnostics (n_skips*).\n"
     ]
    },
    {
     "name": "stderr",
     "output_type": "stream",
     "text": [
      " 88%|████████▊ | 38/43 [00:06<00:00,  5.52it/s]"
     ]
    },
    {
     "name": "stdout",
     "output_type": "stream",
     "text": [
      "StackingRegressor model failed to execute\n",
      "__init__() missing 1 required positional argument: 'estimators'\n"
     ]
    },
    {
     "name": "stderr",
     "output_type": "stream",
     "text": [
      "100%|██████████| 43/43 [00:07<00:00,  6.01it/s]\n"
     ]
    }
   ],
   "source": [
    "import ipynb.fs.full.PrepareData as data\n",
    "from sklearn.multioutput import MultiOutputRegressor\n",
    "import itertools\n",
    "\n",
    "strategyArray = []\n",
    "errorArray    = [[], []]"
   ]
  },
  {
   "cell_type": "markdown",
   "metadata": {},
   "source": [
    "# Sorting the dataset"
   ]
  },
  {
   "cell_type": "code",
   "execution_count": 2,
   "metadata": {
    "scrolled": false
   },
   "outputs": [
    {
     "name": "stdout",
     "output_type": "stream",
     "text": [
      "dict_keys(['RidgeCV', 'MLPRegressor', 'XGBRegressor', 'GaussianProcessRegressor', 'Ridge'])\n"
     ]
    }
   ],
   "source": [
    "sortedDict = {}\n",
    "commonRegressors = data.commonRegressors\n",
    "\n",
    "for regressor in commonRegressors:\n",
    "    sortedDict[regressor] = 0\n",
    "    \n",
    "    for i in range(data.ampNumber):\n",
    "        sortedDict[regressor] += data.finalList[i][regressor][0] + data.finalList[i][regressor][1]\n",
    "\n",
    "\n",
    "sortedDict = dict(sorted(sortedDict.items(), key = lambda x : x[1]))\n",
    "sortedDict = dict(itertools.islice(sortedDict.items(), 5))\n",
    "\n",
    "print(sortedDict.keys())"
   ]
  },
  {
   "cell_type": "markdown",
   "metadata": {},
   "source": [
    "# Processing data"
   ]
  },
  {
   "cell_type": "code",
   "execution_count": 3,
   "metadata": {},
   "outputs": [],
   "source": [
    "from sklearn.metrics import mean_absolute_error\n",
    "\n",
    "def getMAE(yTrue, yPredicted):\n",
    "    gainErrors = []\n",
    "    lossErrors = []\n",
    "    \n",
    "    rangeList = list(range(len(yTrue[0])))\n",
    "    \n",
    "    for true, predicted in zip(yTrue, yPredicted):\n",
    "        gainTrue      = [true[x] for x in rangeList[0::2]]\n",
    "        gainPredicted = [predicted[x] for x in rangeList[0::2]]\n",
    "        lossTrue      = [true[x] for x in rangeList[1::2]]\n",
    "        lossPredicted = [predicted[x] for x in rangeList[1::2]]\n",
    "        \n",
    "        gainErrors.append(mean_absolute_error(gainTrue, gainPredicted))\n",
    "        lossErrors.append(mean_absolute_error(lossTrue, lossPredicted))\n",
    "        \n",
    "    return gainErrors, lossErrors"
   ]
  },
  {
   "cell_type": "markdown",
   "metadata": {},
   "source": [
    "# Plotting function"
   ]
  },
  {
   "cell_type": "code",
   "execution_count": 4,
   "metadata": {},
   "outputs": [],
   "source": [
    "import matplotlib.pyplot as plt\n",
    "\n",
    "def plotGrid(gainData, lossData):\n",
    "    fontSize = 32\n",
    "    \n",
    "    fig, axis = plt.subplots(2, figsize = (10, 10))\n",
    "    \n",
    "    axis[0].boxplot(gainData)\n",
    "    axis[0].set_title(\"Test error for Gain\", fontsize = fontSize)\n",
    "    axis[0].get_xaxis().set_visible(False)\n",
    "    axis[0].yaxis.set_tick_params(labelsize = fontSize)\n",
    "    axis[0].set_yticklabels(range(0, 4))\n",
    "    axis[0].set_ylim(0, 3)\n",
    "    \n",
    "    axis[1].boxplot(lossData)\n",
    "    axis[1].set_title(\"Test error for Loss\", fontsize = fontSize)\n",
    "    axis[1].xaxis.set_tick_params(labelsize = fontSize)\n",
    "    axis[1].yaxis.set_tick_params(labelsize = fontSize)\n",
    "    axis[1].set_xticklabels(strategyArray)\n",
    "    axis[1].set_yticklabels(range(0, 4))\n",
    "    axis[1].set_ylim(0, 3)\n",
    "\n",
    "    #fig.text(0.053, 0.5, 'Erro Médio Absoluto (dB)', va='center', rotation='vertical', fontsize = 30)\n",
    "\n",
    "    plt.gcf().subplots_adjust(bottom = 0.08)\n",
    "    fig.savefig(\"../../graphs/perLink-{}amp.pdf\".format(data.ampNumber), format = 'pdf', dpi = 1000, bbox_inches = \"tight\")"
   ]
  },
  {
   "cell_type": "markdown",
   "metadata": {},
   "source": [
    "# Building the models"
   ]
  },
  {
   "cell_type": "code",
   "execution_count": 5,
   "metadata": {},
   "outputs": [],
   "source": [
    "cvData = []\n",
    "X, y = data.loadDataset()\n",
    "\n",
    "for i in range(5):\n",
    "    X_train, X_test, y_train, y_test = data.train_test_split(X, y, test_size = 0.3, random_state = i)\n",
    "    cvData.append([X_train, X_test, y_train, y_test])\n",
    "    \n",
    "count = 1"
   ]
  },
  {
   "cell_type": "code",
   "execution_count": 6,
   "metadata": {
    "scrolled": true
   },
   "outputs": [
    {
     "name": "stdout",
     "output_type": "stream",
     "text": [
      "[17.  0. 18.  0. 18.  0. 18.  0. 22.  4. 24.  0.] [1.69820721e+01 8.88204711e-03 1.84228639e+01 3.92957021e-01\n",
      " 1.83118662e+01 3.11190351e-01 1.88139493e+01 7.94866725e-01\n",
      " 2.02506948e+01 2.36665555e+00 2.26944298e+01 1.63788980e-01]\n",
      "[17.  0. 19.  1. 17.  0. 20.  2. 19.  0. 20.  0.] [1.69396373e+01 1.30817151e-03 1.84632181e+01 4.45434791e-01\n",
      " 1.81892040e+01 1.86307119e-01 1.97085235e+01 1.79587525e+00\n",
      " 1.93513521e+01 1.43899522e+00 2.24490071e+01 4.67634678e-01]\n",
      "[17.  0. 18.  0. 18.  0. 19.  1. 22.  6. 24.  0.] [16.95115081  0.11575363 18.53330255  0.44292903 18.30166804  0.22452239\n",
      " 18.7716127   0.82350334 19.61397736  1.80582167 22.58761793  0.29439467]\n",
      "[19.  2. 19.  0. 17.  0. 21.  3. 18.  0. 24.  1.] [17.00884208  0.26546878 18.31350348  0.0458361  18.32511347  0.65229156\n",
      " 19.1975415   1.04679578 19.80788737  1.88215605 22.72276083  0.76391378]\n",
      "[18.  1. 18.  0. 18.  0. 18.  0. 21.  3. 24.  1.] [17.18457081  0.25072243 18.40470634  0.34258975 18.18892061  0.21629959\n",
      " 18.45108562  0.35159075 19.85535093  1.92093832 22.59566207  0.98444119]\n"
     ]
    }
   ],
   "source": [
    "from sklearn.linear_model import BayesianRidge\n",
    "\n",
    "errorArray[0].append([])\n",
    "errorArray[1].append([])\n",
    "\n",
    "for i in range(5):\n",
    "    model = MultiOutputRegressor(BayesianRidge())\n",
    "    model.fit(cvData[i][0], cvData[i][2])\n",
    "\n",
    "    result = model.predict(cvData[i][1])\n",
    "\n",
    "    print(cvData[i][-1][0], result[0])\n",
    "\n",
    "    mae = getMAE(cvData[i][3], result)\n",
    "\n",
    "    errorArray[0][-1].extend(mae[0])\n",
    "    errorArray[1][-1].extend(mae[1])\n",
    "\n",
    "strategyArray.append(\"BR\")\n",
    "count += 1"
   ]
  },
  {
   "cell_type": "code",
   "execution_count": 7,
   "metadata": {},
   "outputs": [
    {
     "name": "stdout",
     "output_type": "stream",
     "text": [
      "[17.  0. 18.  0. 18.  0. 18.  0. 22.  4. 24.  0.] [1.69831704e+01 8.56493385e-03 1.84216536e+01 3.97175984e-01\n",
      " 1.83087413e+01 3.00996140e-01 1.88043113e+01 7.89261905e-01\n",
      " 2.02615073e+01 2.36329245e+00 2.26871171e+01 1.61686890e-01]\n",
      "[17.  0. 19.  1. 17.  0. 20.  2. 19.  0. 20.  0.] [16.93957403  0.         18.47162806  0.46012851 18.18443626  0.16628812\n",
      " 19.70059216  1.80369037 19.35709626  1.44559934 22.27889102  0.46986296]\n",
      "[17.  0. 18.  0. 18.  0. 19.  1. 22.  6. 24.  0.] [16.94221402  0.10675946 18.54114191  0.48332461 18.26731659  0.19027224\n",
      " 18.79391551  0.84412676 19.59745869  1.82188949 22.46978148  0.27132385]\n",
      "[19.  2. 19.  0. 17.  0. 21.  3. 18.  0. 24.  1.] [1.70110754e+01 2.63573859e-01 1.83092047e+01 1.95123661e-02\n",
      " 1.83192085e+01 6.70700220e-01 1.91896964e+01 1.04904317e+00\n",
      " 1.98220673e+01 1.88484804e+00 2.28579469e+01 7.74281108e-01]\n",
      "[18.  1. 18.  0. 18.  0. 18.  0. 21.  3. 24.  1.] [17.20084852  0.25548563 18.40346439  0.34560407 18.17754304  0.2088253\n",
      " 18.41481034  0.32053163 19.87252686  1.92355136 22.64615833  1.02511475]\n"
     ]
    }
   ],
   "source": [
    "from sklearn.ensemble import RandomForestRegressor\n",
    "\n",
    "errorArray[0].append([])\n",
    "errorArray[1].append([])\n",
    "\n",
    "for i in range(5):\n",
    "    model = MultiOutputRegressor(RandomForestRegressor())\n",
    "    model.fit(cvData[i][0], cvData[i][2])\n",
    "\n",
    "    result = model.predict(cvData[i][1])\n",
    "\n",
    "    print(cvData[i][-1][0], result[0])\n",
    "\n",
    "    mae = getMAE(cvData[i][3], result)\n",
    "\n",
    "    errorArray[0][-1].extend(mae[0])\n",
    "    errorArray[1][-1].extend(mae[1])\n",
    "\n",
    "strategyArray.append(\"RF\")\n",
    "count += 1"
   ]
  },
  {
   "cell_type": "code",
   "execution_count": 8,
   "metadata": {},
   "outputs": [
    {
     "name": "stdout",
     "output_type": "stream",
     "text": [
      "[17.  0. 18.  0. 18.  0. 18.  0. 22.  4. 24.  0.] [1.69823009e+01 8.84955752e-03 1.84247788e+01 3.98230088e-01\n",
      " 1.83097345e+01 3.09734513e-01 1.88053097e+01 7.87610619e-01\n",
      " 2.02566372e+01 2.37168142e+00 2.26902655e+01 1.59292035e-01]\n",
      "[17.  0. 19.  1. 17.  0. 20.  2. 19.  0. 20.  0.] [16.93859649  0.         18.46491228  0.45614035 18.18421053  0.1754386\n",
      " 19.71929825  1.80701754 19.34210526  1.42982456 22.28070175  0.46491228]\n",
      "[17.  0. 18.  0. 18.  0. 19.  1. 22.  6. 24.  0.] [16.9375      0.10416667 18.54166667  0.47916667 18.27083333  0.1875\n",
      " 18.79166667  0.84375    19.61458333  1.8125     22.47916667  0.27083333]\n",
      "[19.  2. 19.  0. 17.  0. 21.  3. 18.  0. 24.  1.] [1.70103093e+01 2.68041237e-01 1.83092784e+01 2.06185567e-02\n",
      " 1.83298969e+01 6.70103093e-01 1.91958763e+01 1.04123711e+00\n",
      " 1.98144330e+01 1.88659794e+00 2.28350515e+01 7.73195876e-01]\n",
      "[18.  1. 18.  0. 18.  0. 18.  0. 21.  3. 24.  1.] [17.1942446   0.25899281 18.41007194  0.34532374 18.17266187  0.20863309\n",
      " 18.41007194  0.31654676 19.87769784  1.94244604 22.64028777  1.03597122]\n"
     ]
    }
   ],
   "source": [
    "from sklearn.tree import DecisionTreeRegressor\n",
    "\n",
    "errorArray[0].append([])\n",
    "errorArray[1].append([])\n",
    "\n",
    "for i in range(5):\n",
    "    model = MultiOutputRegressor(DecisionTreeRegressor())\n",
    "    model.fit(cvData[i][0], cvData[i][2])\n",
    "\n",
    "    result = model.predict(cvData[i][1])\n",
    "\n",
    "    print(cvData[i][-1][0], result[0])\n",
    "\n",
    "    mae = getMAE(cvData[i][3], result)\n",
    "\n",
    "    errorArray[0][-1].extend(mae[0])\n",
    "    errorArray[1][-1].extend(mae[1])\n",
    "\n",
    "strategyArray.append(\"DT\")\n",
    "count += 1"
   ]
  },
  {
   "cell_type": "code",
   "execution_count": 9,
   "metadata": {},
   "outputs": [
    {
     "name": "stdout",
     "output_type": "stream",
     "text": [
      "[17.  0. 18.  0. 18.  0. 18.  0. 22.  4. 24.  0.] [1.69811935e+01 1.36319156e-02 1.84119834e+01 3.98230088e-01\n",
      " 1.83097345e+01 3.09734513e-01 1.88083154e+01 8.04471326e-01\n",
      " 2.02236863e+01 2.33120683e+00 2.26902655e+01 1.81924354e-01]\n",
      "[17.  0. 19.  1. 17.  0. 20.  2. 19.  0. 20.  0.] [1.69396411e+01 2.77392406e-03 1.84644501e+01 4.26811565e-01\n",
      " 1.82127637e+01 1.85622549e-01 1.97030384e+01 1.80155336e+00\n",
      " 1.93797649e+01 1.47528391e+00 2.23359945e+01 4.64912281e-01]\n",
      "[17.  0. 18.  0. 18.  0. 19.  1. 22.  6. 24.  0.] [16.93880261  0.11641789 18.51549091  0.45439583 18.29411766  0.18905016\n",
      " 18.79166297  0.84374652 19.61459798  1.81258446 22.51998396  0.28107936]\n",
      "[19.  2. 19.  0. 17.  0. 21.  3. 18.  0. 24.  1.] [17.00526413  0.26532403 18.3116271   0.03843436 18.28342246  0.66394083\n",
      " 19.19587639  1.0412372  19.77155222  1.83511738 22.76510364  0.76691537]\n",
      "[18.  1. 18.  0. 18.  0. 18.  0. 21.  3. 24.  1.] [17.19216351  0.25840784 18.39395243  0.34526519 18.1814704   0.20867861\n",
      " 18.41209447  0.31855593 19.85164879  1.92055665 22.59425019  1.02439491]\n"
     ]
    }
   ],
   "source": [
    "from sklearn.linear_model import LassoCV\n",
    "\n",
    "errorArray[0].append([])\n",
    "errorArray[1].append([])\n",
    "\n",
    "for i in range(5):\n",
    "    model = MultiOutputRegressor(LassoCV())\n",
    "    model.fit(cvData[i][0], cvData[i][2])\n",
    "\n",
    "    result = model.predict(cvData[i][1])\n",
    "\n",
    "    print(cvData[i][-1][0], result[0])\n",
    "\n",
    "    mae = getMAE(cvData[i][3], result)\n",
    "\n",
    "    errorArray[0][-1].extend(mae[0])\n",
    "    errorArray[1][-1].extend(mae[1])\n",
    "\n",
    "strategyArray.append(\"LCV\")\n",
    "count += 1"
   ]
  },
  {
   "cell_type": "code",
   "execution_count": 10,
   "metadata": {},
   "outputs": [
    {
     "name": "stdout",
     "output_type": "stream",
     "text": [
      "[17.  0. 18.  0. 18.  0. 18.  0. 22.  4. 24.  0.] [17.04977079  0.16699411 18.36083824  0.29993451 18.4086444   0.40798952\n",
      " 18.87819253  0.87098887 19.75834971  1.88081205 22.63588736  0.4891945 ]\n",
      "[17.  0. 19.  1. 17.  0. 20.  2. 19.  0. 20.  0.] [17.0556647   0.17223314 18.35952849  0.29862475 18.39816634  0.40667976\n",
      " 18.89914866  0.88212181 19.73346431  1.85199738 22.60445318  0.50425671]\n",
      "[17.  0. 18.  0. 18.  0. 19.  1. 22.  6. 24.  0.] [17.04453176  0.1578258  18.35690897  0.29338572 18.4119188   0.41453831\n",
      " 18.88670596  0.87950229 19.74132286  1.85658153 22.59004584  0.50294695]\n",
      "[19.  2. 19.  0. 17.  0. 21.  3. 18.  0. 24.  1.] [17.04453176  0.15848068 18.35625409  0.29796988 18.42239686  0.43091028\n",
      " 18.88474132  0.87229862 19.77013752  1.87819253 22.58153242  0.48657498]\n",
      "[18.  1. 18.  0. 18.  0. 18.  0. 21.  3. 24.  1.] [17.04453176  0.15848068 18.34708579  0.28356254 18.4302554   0.43680419\n",
      " 18.89652914  0.88801572 19.73608382  1.85396202 22.62606418  0.51211526]\n"
     ]
    }
   ],
   "source": [
    "from sklearn.dummy import DummyRegressor\n",
    "\n",
    "errorArray[0].append([])\n",
    "errorArray[1].append([])\n",
    "\n",
    "for i in range(5):\n",
    "    model = MultiOutputRegressor(DummyRegressor())\n",
    "    model.fit(cvData[i][0], cvData[i][2])\n",
    "\n",
    "    result = model.predict(cvData[i][1])\n",
    "\n",
    "    print(cvData[i][-1][0], result[0])\n",
    "    \n",
    "    mae = getMAE(cvData[i][3], result)\n",
    "\n",
    "    errorArray[0][-1].extend(mae[0])\n",
    "    errorArray[1][-1].extend(mae[1])\n",
    "\n",
    "strategyArray.append(\"SM\")\n",
    "count += 1"
   ]
  },
  {
   "cell_type": "code",
   "execution_count": 11,
   "metadata": {},
   "outputs": [
    {
     "name": "stdout",
     "output_type": "stream",
     "text": [
      "dict_keys(['RidgeCV', 'MLPRegressor', 'XGBRegressor', 'GaussianProcessRegressor', 'Ridge'])\n",
      "### Gain ###\n",
      "Mean: 0.7134837949640096. Median: 0.6789149571292074. Max: 2.764707173995413\n",
      "Mean: 0.7098840968161423. Median: 0.6739111271354948. Max: 2.738910014430451\n",
      "Mean: 0.7098027401086977. Median: 0.6746031746031745. Max: 2.7488888888888887\n",
      "Mean: 0.7120788436283738. Median: 0.6775550613332637. Max: 2.7481115072617897\n",
      "Mean: 0.741251735095674. Median: 0.7137087972058502. Max: 2.773957651167867\n",
      "### Loss ###\n",
      "Mean: 0.5563124684631069. Median: 0.5265512291674109. Max: 2.3113676074205043\n",
      "Mean: 0.5539650576046987. Median: 0.5255016872724925. Max: 2.311187857327882\n",
      "Mean: 0.5536911362096155. Median: 0.5249221183800623. Max: 2.3088888888888888\n",
      "Mean: 0.5551877258114261. Median: 0.5272459622144708. Max: 2.3121850088813094\n",
      "Mean: 0.6093815310834163. Median: 0.5897184020956123. Max: 2.3248199083169614\n",
      "Mean Total - Gain: 0.7173002421225794. Loss: 0.5657075838344527\n"
     ]
    },
    {
     "data": {
      "image/png": "[encoded data removed]",
      "text/plain": [
       "<matplotlib.figure.Figure at 0x7fa107083588>"
      ]
     },
     "metadata": {
      "needs_background": "light"
     },
     "output_type": "display_data"
    }
   ],
   "source": [
    "import numpy as np\n",
    "print(sortedDict.keys())\n",
    "\n",
    "gain = 0\n",
    "print(\"### Gain ###\")\n",
    "\n",
    "for gainError in errorArray[0]:\n",
    "    gain += np.mean(gainError)\n",
    "    print(\"Mean: {}. Median: {}. Max: {}\".format(np.mean(gainError), np.median(gainError), np.max(gainError)))\n",
    "\n",
    "loss = 0\n",
    "print(\"### Loss ###\")\n",
    "\n",
    "for lossError in errorArray[1]:\n",
    "    loss += np.mean(lossError)\n",
    "    print(\"Mean: {}. Median: {}. Max: {}\".format(np.mean(lossError), np.median(lossError), np.max(lossError)))\n",
    "    \n",
    "print(\"Mean Total - Gain: {}. Loss: {}\".format(gain / 5, loss / 5))\n",
    "plotGrid(errorArray[0], errorArray[1])"
   ]
  }
 ],
 "metadata": {
  "kernelspec": {
   "display_name": "acopEnv",
   "language": "python",
   "name": "acopenv"
  },
  "language_info": {
   "codemirror_mode": {
    "name": "ipython",
    "version": 3
   },
   "file_extension": ".py",
   "mimetype": "text/x-python",
   "name": "python",
   "nbconvert_exporter": "python",
   "pygments_lexer": "ipython3",
   "version": "3.6.9"
  }
 },
 "nbformat": 4,
 "nbformat_minor": 2
}
