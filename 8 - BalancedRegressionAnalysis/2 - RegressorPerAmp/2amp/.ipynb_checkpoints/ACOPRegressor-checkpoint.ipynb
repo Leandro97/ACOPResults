{
 "cells": [
  {
   "cell_type": "markdown",
   "metadata": {},
   "source": [
    "# Imports "
   ]
  },
  {
   "cell_type": "code",
   "execution_count": 1,
   "metadata": {},
   "outputs": [
    {
     "name": "stderr",
     "output_type": "stream",
     "text": [
      "/home/leandro/.local/lib/python3.6/site-packages/sklearn/utils/deprecation.py:143: FutureWarning: The sklearn.utils.testing module is  deprecated in version 0.22 and will be removed in version 0.24. The corresponding classes / functions should instead be imported from sklearn.utils. Anything that cannot be imported from sklearn.utils is now part of the private API.\n",
      "  warnings.warn(message, FutureWarning)\n",
      " 12%|█▏        | 5/43 [00:00<00:00, 46.09it/s]"
     ]
    },
    {
     "name": "stdout",
     "output_type": "stream",
     "text": [
      "[90, 83, 88, 89, 89, 89, 86, 88, 86, 89, 85, 89, 87]\n",
      "2 chs: 90 entries\n",
      "3 chs: 83 entries\n",
      "4 chs: 88 entries\n",
      "5 chs: 89 entries\n",
      "6 chs: 89 entries\n",
      "7 chs: 89 entries\n",
      "8 chs: 86 entries\n",
      "9 chs: 88 entries\n",
      "10 chs: 86 entries\n",
      "15 chs: 89 entries\n",
      "20 chs: 85 entries\n",
      "30 chs: 89 entries\n",
      "40 chs: 87 entries\n",
      "Dataset entries: 1079\n"
     ]
    },
    {
     "name": "stderr",
     "output_type": "stream",
     "text": [
      " 77%|███████▋  | 33/43 [00:04<00:01,  5.08it/s]"
     ]
    },
    {
     "name": "stdout",
     "output_type": "stream",
     "text": [
      "RANSACRegressor model failed to execute\n",
      "RANSAC could not find a valid consensus set. All `max_trials` iterations were skipped because each randomly chosen sub-sample failed the passing criteria. See estimator attributes for diagnostics (n_skips*).\n"
     ]
    },
    {
     "name": "stderr",
     "output_type": "stream",
     "text": [
      " 91%|█████████ | 39/43 [00:05<00:00,  7.28it/s]"
     ]
    },
    {
     "name": "stdout",
     "output_type": "stream",
     "text": [
      "StackingRegressor model failed to execute\n",
      "__init__() missing 1 required positional argument: 'estimators'\n"
     ]
    },
    {
     "name": "stderr",
     "output_type": "stream",
     "text": [
      "100%|██████████| 43/43 [00:05<00:00,  7.44it/s]\n",
      " 28%|██▊       | 12/43 [00:00<00:02, 14.42it/s]"
     ]
    },
    {
     "name": "stdout",
     "output_type": "stream",
     "text": [
      "GammaRegressor model failed to execute\n",
      "Some value(s) of y are out of the valid range for family GammaDistribution\n"
     ]
    },
    {
     "name": "stderr",
     "output_type": "stream",
     "text": [
      " 77%|███████▋  | 33/43 [00:05<00:01,  8.10it/s]"
     ]
    },
    {
     "name": "stdout",
     "output_type": "stream",
     "text": [
      "RANSACRegressor model failed to execute\n",
      "RANSAC could not find a valid consensus set. All `max_trials` iterations were skipped because each randomly chosen sub-sample failed the passing criteria. See estimator attributes for diagnostics (n_skips*).\n"
     ]
    },
    {
     "name": "stderr",
     "output_type": "stream",
     "text": [
      " 88%|████████▊ | 38/43 [00:05<00:00,  9.86it/s]"
     ]
    },
    {
     "name": "stdout",
     "output_type": "stream",
     "text": [
      "StackingRegressor model failed to execute\n",
      "__init__() missing 1 required positional argument: 'estimators'\n"
     ]
    },
    {
     "name": "stderr",
     "output_type": "stream",
     "text": [
      "100%|██████████| 43/43 [00:05<00:00,  7.49it/s]\n",
      " 88%|████████▊ | 38/43 [00:06<00:00,  5.41it/s]"
     ]
    },
    {
     "name": "stdout",
     "output_type": "stream",
     "text": [
      "StackingRegressor model failed to execute\n",
      "__init__() missing 1 required positional argument: 'estimators'\n"
     ]
    },
    {
     "name": "stderr",
     "output_type": "stream",
     "text": [
      "100%|██████████| 43/43 [00:06<00:00,  6.67it/s]\n",
      " 28%|██▊       | 12/43 [00:00<00:01, 16.84it/s]"
     ]
    },
    {
     "name": "stdout",
     "output_type": "stream",
     "text": [
      "GammaRegressor model failed to execute\n",
      "Some value(s) of y are out of the valid range for family GammaDistribution\n"
     ]
    },
    {
     "name": "stderr",
     "output_type": "stream",
     "text": [
      " 77%|███████▋  | 33/43 [00:05<00:01,  9.96it/s]"
     ]
    },
    {
     "name": "stdout",
     "output_type": "stream",
     "text": [
      "RANSACRegressor model failed to execute\n",
      "RANSAC could not find a valid consensus set. All `max_trials` iterations were skipped because each randomly chosen sub-sample failed the passing criteria. See estimator attributes for diagnostics (n_skips*).\n"
     ]
    },
    {
     "name": "stderr",
     "output_type": "stream",
     "text": [
      " 88%|████████▊ | 38/43 [00:05<00:00, 11.34it/s]"
     ]
    },
    {
     "name": "stdout",
     "output_type": "stream",
     "text": [
      "StackingRegressor model failed to execute\n",
      "__init__() missing 1 required positional argument: 'estimators'\n"
     ]
    },
    {
     "name": "stderr",
     "output_type": "stream",
     "text": [
      "100%|██████████| 43/43 [00:05<00:00,  7.19it/s]\n"
     ]
    }
   ],
   "source": [
    "import ipynb.fs.full.PrepareData as data\n",
    "from sklearn.multioutput import MultiOutputRegressor\n",
    "import itertools\n",
    "\n",
    "strategyArray = []\n",
    "errorArray    = [[], []]"
   ]
  },
  {
   "cell_type": "markdown",
   "metadata": {},
   "source": [
    "# Sorting the dataset"
   ]
  },
  {
   "cell_type": "code",
   "execution_count": 2,
   "metadata": {
    "scrolled": false
   },
   "outputs": [
    {
     "name": "stdout",
     "output_type": "stream",
     "text": [
      "dict_keys(['LassoLars', 'ElasticNetCV', 'Lasso', 'LarsCV', 'LassoCV'])\n"
     ]
    }
   ],
   "source": [
    "sortedDict = {}\n",
    "commonRegressors = data.commonRegressors\n",
    "\n",
    "for regressor in commonRegressors:\n",
    "    sortedDict[regressor] = 0\n",
    "    \n",
    "    for i in range(data.ampNumber):\n",
    "        sortedDict[regressor] += data.finalList[i][regressor][0] + data.finalList[i][regressor][1]\n",
    "\n",
    "sortedDict = dict(sorted(sortedDict.items(), key = lambda x : x[1]))\n",
    "sortedDict = dict(itertools.islice(sortedDict.items(), 5))\n",
    "\n",
    "print(sortedDict.keys())"
   ]
  },
  {
   "cell_type": "markdown",
   "metadata": {},
   "source": [
    "# Processing data"
   ]
  },
  {
   "cell_type": "code",
   "execution_count": 3,
   "metadata": {},
   "outputs": [],
   "source": [
    "from sklearn.metrics import mean_absolute_error\n",
    "\n",
    "def getMAE(yTrue, yPredicted):\n",
    "    gainErrors = []\n",
    "    lossErrors = []\n",
    "    \n",
    "    rangeList = list(range(len(yTrue[0])))\n",
    "    \n",
    "    for true, predicted in zip(yTrue, yPredicted):\n",
    "        gainTrue      = [true[x] for x in rangeList[0::2]]\n",
    "        gainPredicted = [predicted[x] for x in rangeList[0::2]]\n",
    "        lossTrue      = [true[x] for x in rangeList[1::2]]\n",
    "        lossPredicted = [predicted[x] for x in rangeList[1::2]]\n",
    "        \n",
    "        gainErrors.append(mean_absolute_error(gainTrue, gainPredicted))\n",
    "        lossErrors.append(mean_absolute_error(lossTrue, lossPredicted))\n",
    "        \n",
    "    return gainErrors, lossErrors"
   ]
  },
  {
   "cell_type": "markdown",
   "metadata": {},
   "source": [
    "# Plotting function"
   ]
  },
  {
   "cell_type": "code",
   "execution_count": 4,
   "metadata": {},
   "outputs": [],
   "source": [
    "import matplotlib.pyplot as plt\n",
    "\n",
    "def plotGrid(gainData, lossData):\n",
    "    fontSize = 32\n",
    "    \n",
    "    fig, axis = plt.subplots(2, figsize = (10, 10))\n",
    "    \n",
    "    axis[0].boxplot(gainData)\n",
    "    axis[0].set_title(\"Test error for Gain\", fontsize = fontSize)\n",
    "    axis[0].get_xaxis().set_visible(False)\n",
    "    axis[0].yaxis.set_tick_params(labelsize = fontSize)\n",
    "    axis[0].set_yticklabels(range(0, 4))\n",
    "    axis[0].set_ylim(0, 3)\n",
    "    \n",
    "    axis[1].boxplot(lossData)\n",
    "    axis[1].set_title(\"Test error for Loss\", fontsize = fontSize)\n",
    "    axis[1].xaxis.set_tick_params(labelsize = fontSize)\n",
    "    axis[1].yaxis.set_tick_params(labelsize = fontSize)\n",
    "    axis[1].set_xticklabels(strategyArray)\n",
    "    axis[1].set_yticklabels(range(0, 4))\n",
    "    axis[1].set_ylim(0, 3)\n",
    "\n",
    "    #fig.text(0.053, 0.5, 'Erro Médio Absoluto (dB)', va='center', rotation='vertical', fontsize = 30)\n",
    "\n",
    "    plt.gcf().subplots_adjust(bottom = 0.08)\n",
    "    fig.savefig(\"../../graphs/perAmp-{}amp.pdf\".format(data.ampNumber), format = 'pdf', dpi = 1000, bbox_inches = \"tight\")"
   ]
  },
  {
   "cell_type": "markdown",
   "metadata": {},
   "source": [
    "# Building the models"
   ]
  },
  {
   "cell_type": "code",
   "execution_count": 5,
   "metadata": {},
   "outputs": [],
   "source": [
    "cvData = []\n",
    "X, y = data.loadDataset()\n",
    "\n",
    "for i in range(5):\n",
    "    X_train, X_test, y_train, y_test = data.train_test_split(X, y, test_size = 0.3, random_state = i)\n",
    "    cvData.append([X_train, X_test, y_train, y_test])\n",
    "    \n",
    "count = 1"
   ]
  },
  {
   "cell_type": "code",
   "execution_count": 6,
   "metadata": {
    "scrolled": true
   },
   "outputs": [
    {
     "name": "stdout",
     "output_type": "stream",
     "text": [
      "[17.  0. 21.  0.] [17.67219401  0.67219401 22.3925369   0.24785494]\n",
      "[17.  0. 23.  0.] [17.69086828  0.69086828 22.34496289  0.16615434]\n",
      "[19.  2. 24.  3.] [17.68087708  0.68087708 22.41640048  0.51582271]\n",
      "[17.  0. 19.  0.] [17.67201608  0.67201608 22.38058101  1.12181178]\n",
      "[17.  0. 23.  2.] [17.69382856  0.69382856 22.41208177  1.2173187 ]\n"
     ]
    }
   ],
   "source": [
    "from sklearn.linear_model import BayesianRidge\n",
    "\n",
    "errorArray[0].append([])\n",
    "errorArray[1].append([])\n",
    "\n",
    "for i in range(5):\n",
    "    finalResult = []\n",
    "\n",
    "    for j in range(0, data.ampNumber * 2, 2):\n",
    "        model = MultiOutputRegressor(BayesianRidge())\n",
    "        model.fit(cvData[i][0], cvData[i][2][:, j: j + 2])\n",
    "\n",
    "        result = model.predict(cvData[i][1])\n",
    "\n",
    "        if len(finalResult) == 0:\n",
    "            finalResult = result\n",
    "        else:\n",
    "            finalResult = data.np.hstack((finalResult, result))\n",
    "\n",
    "    print(cvData[i][-1][0], finalResult[0])\n",
    "    \n",
    "    mae = getMAE(cvData[i][3], finalResult)\n",
    "\n",
    "    errorArray[0][-1].extend(mae[0])\n",
    "    errorArray[1][-1].extend(mae[1])\n",
    "\n",
    "strategyArray.append(\"BR\")\n",
    "count += 1"
   ]
  },
  {
   "cell_type": "code",
   "execution_count": 7,
   "metadata": {},
   "outputs": [
    {
     "name": "stdout",
     "output_type": "stream",
     "text": [
      "[17.  0. 21.  0.] [17.61497035  0.61046504 22.20816903  0.25917916]\n",
      "[17.  0. 23.  0.] [17.74159651  0.73418996 22.48623544  0.13078658]\n",
      "[19.  2. 24.  3.] [17.72449654  0.75465752 22.55544769  0.5211958 ]\n",
      "[17.  0. 19.  0.] [17.77603406  0.76421453 22.5213837   1.20640573]\n",
      "[17.  0. 23.  2.] [17.61640035  0.64452735 22.46714894  1.25621758]\n"
     ]
    }
   ],
   "source": [
    "from sklearn.ensemble import RandomForestRegressor\n",
    "\n",
    "errorArray[0].append([])\n",
    "errorArray[1].append([])\n",
    "\n",
    "for i in range(5):\n",
    "    finalResult = []\n",
    "\n",
    "    for j in range(0, data.ampNumber * 2, 2):\n",
    "        model = MultiOutputRegressor(RandomForestRegressor())\n",
    "        model.fit(cvData[i][0], cvData[i][2][:, j: j + 2])\n",
    "\n",
    "        result = model.predict(cvData[i][1])\n",
    "\n",
    "        if len(finalResult) == 0:\n",
    "            finalResult = result\n",
    "        else:\n",
    "            finalResult = data.np.hstack((finalResult, result))\n",
    "\n",
    "    print(cvData[i][-1][0], finalResult[0])\n",
    "    \n",
    "    mae = getMAE(cvData[i][3], finalResult)\n",
    "\n",
    "    errorArray[0][-1].extend(mae[0])\n",
    "    errorArray[1][-1].extend(mae[1])\n",
    "\n",
    "strategyArray.append(\"RF\")\n",
    "count += 1"
   ]
  },
  {
   "cell_type": "code",
   "execution_count": 8,
   "metadata": {},
   "outputs": [
    {
     "name": "stdout",
     "output_type": "stream",
     "text": [
      "[17.  0. 21.  0.] [17.60655738  0.60655738 22.24590164  0.24590164]\n",
      "[17.  0. 23.  0.] [17.74193548  0.74193548 22.48387097  0.12903226]\n",
      "[19.  2. 24.  3.] [17.75        0.75       22.56666667  0.51666667]\n",
      "[17.  0. 19.  0.] [17.77777778  0.77777778 22.55555556  1.2037037 ]\n",
      "[17.  0. 23.  2.] [17.63492063  0.63492063 22.44444444  1.23809524]\n"
     ]
    }
   ],
   "source": [
    "from sklearn.tree import DecisionTreeRegressor\n",
    "\n",
    "errorArray[0].append([])\n",
    "errorArray[1].append([])\n",
    "\n",
    "for i in range(5):\n",
    "    finalResult = []\n",
    "\n",
    "    for j in range(0, data.ampNumber * 2, 2):\n",
    "        model = MultiOutputRegressor(DecisionTreeRegressor())\n",
    "        model.fit(cvData[i][0], cvData[i][2][:, j: j + 2])\n",
    "\n",
    "        result = model.predict(cvData[i][1])\n",
    "\n",
    "        if len(finalResult) == 0:\n",
    "            finalResult = result\n",
    "        else:\n",
    "            finalResult = data.np.hstack((finalResult, result))\n",
    "\n",
    "    print(cvData[i][-1][0], finalResult[0])\n",
    "    \n",
    "    mae = getMAE(cvData[i][3], finalResult)\n",
    "\n",
    "    errorArray[0][-1].extend(mae[0])\n",
    "    errorArray[1][-1].extend(mae[1])\n",
    "\n",
    "strategyArray.append(\"DT\")\n",
    "count += 1"
   ]
  },
  {
   "cell_type": "code",
   "execution_count": 9,
   "metadata": {},
   "outputs": [
    {
     "name": "stdout",
     "output_type": "stream",
     "text": [
      "[17.  0. 21.  0.] [17.67329193  0.67329193 22.39378882  0.26301334]\n",
      "[17.  0. 23.  0.] [17.69068323  0.69068323 22.34534161  0.2567519 ]\n",
      "[19.  2. 24.  3.] [17.68074534  0.68074534 22.41614907  0.51666667]\n",
      "[17.  0. 19.  0.] [17.67204969  0.67204969 22.38136646  1.15358823]\n",
      "[17.  0. 23.  2.] [17.6931677   0.6931677  22.41242236  1.17816481]\n"
     ]
    }
   ],
   "source": [
    "from sklearn.linear_model import LassoCV\n",
    "\n",
    "errorArray[0].append([])\n",
    "errorArray[1].append([])\n",
    "\n",
    "for i in range(5):\n",
    "    finalResult = []\n",
    "\n",
    "    for j in range(0, data.ampNumber * 2, 2):\n",
    "        model = MultiOutputRegressor(LassoCV())\n",
    "        model.fit(cvData[i][0], cvData[i][2][:, j: j + 2])\n",
    "\n",
    "        result = model.predict(cvData[i][1])\n",
    "\n",
    "        if len(finalResult) == 0:\n",
    "            finalResult = result\n",
    "        else:\n",
    "            finalResult = data.np.hstack((finalResult, result))\n",
    "\n",
    "    print(cvData[i][-1][0], finalResult[0])\n",
    "    \n",
    "    mae = getMAE(cvData[i][3], finalResult)\n",
    "\n",
    "    errorArray[0][-1].extend(mae[0])\n",
    "    errorArray[1][-1].extend(mae[1])\n",
    "\n",
    "strategyArray.append(\"LCV\")\n",
    "count += 1"
   ]
  },
  {
   "cell_type": "code",
   "execution_count": 10,
   "metadata": {},
   "outputs": [
    {
     "name": "stdout",
     "output_type": "stream",
     "text": [
      "[17.  0. 21.  0.] [17.67329193  0.67329193 22.39378882  0.73167702]\n",
      "[17.  0. 23.  0.] [17.69068323  0.69068323 22.34534161  0.72546584]\n",
      "[19.  2. 24.  3.] [17.68074534  0.68074534 22.41614907  0.73167702]\n",
      "[17.  0. 19.  0.] [17.67204969  0.67204969 22.38136646  0.73416149]\n",
      "[17.  0. 23.  2.] [17.6931677   0.6931677  22.41242236  0.69813665]\n"
     ]
    }
   ],
   "source": [
    "from sklearn.dummy import DummyRegressor\n",
    "\n",
    "errorArray[0].append([])\n",
    "errorArray[1].append([])\n",
    "\n",
    "for i in range(5):\n",
    "    finalResult = []\n",
    "\n",
    "    for j in range(0, data.ampNumber * 2, 2):\n",
    "        model = MultiOutputRegressor(DummyRegressor())\n",
    "        model.fit(cvData[i][0], cvData[i][2][:, j: j + 2])\n",
    "\n",
    "        result = model.predict(cvData[i][1])\n",
    "\n",
    "        if len(finalResult) == 0:\n",
    "            finalResult = result\n",
    "        else:\n",
    "            finalResult = data.np.hstack((finalResult, result))\n",
    "\n",
    "    print(cvData[i][-1][0], finalResult[0])\n",
    "    \n",
    "    mae = getMAE(cvData[i][3], finalResult)\n",
    "\n",
    "    errorArray[0][-1].extend(mae[0])\n",
    "    errorArray[1][-1].extend(mae[1])\n",
    "\n",
    "strategyArray.append(\"SM\")\n",
    "count += 1"
   ]
  },
  {
   "cell_type": "code",
   "execution_count": 11,
   "metadata": {},
   "outputs": [
    {
     "name": "stdout",
     "output_type": "stream",
     "text": [
      "dict_keys(['LassoLars', 'ElasticNetCV', 'Lasso', 'LarsCV', 'LassoCV'])\n",
      "### Gain ###\n",
      "Mean: 1.2488184066288348. Median: 1.1408003529418966\n",
      "Mean: 1.2625372763665013. Median: 1.1838773399835834\n",
      "Mean: 1.2622645195850015. Median: 1.1754385964912295\n",
      "Mean: 1.2487529030515798. Median: 1.140372670807455\n",
      "Mean: 1.2487529030515798. Median: 1.140372670807455\n",
      "### Loss ###\n",
      "Mean: 0.7779083851842927. Median: 0.6815037152086338\n",
      "Mean: 0.7796221796236305. Median: 0.683154858651061\n",
      "Mean: 0.7801954536253423. Median: 0.6875\n",
      "Mean: 0.7790165697742175. Median: 0.6623681990214709\n",
      "Mean: 0.8635697182464669. Median: 0.7062111801242237\n",
      "Mean Total - Gain: 1.2542252017366995. Loss: 0.79606246129079\n"
     ]
    },
    {
     "data": {
      "image/png": "[encoded data removed]",
      "text/plain": [
       "<matplotlib.figure.Figure at 0x7f7fb8486278>"
      ]
     },
     "metadata": {
      "needs_background": "light"
     },
     "output_type": "display_data"
    }
   ],
   "source": [
    "import numpy as np\n",
    "print(sortedDict.keys())\n",
    "\n",
    "gain = 0\n",
    "print(\"### Gain ###\")\n",
    "\n",
    "for gainError in errorArray[0]:\n",
    "    gain += np.mean(gainError)\n",
    "    print(\"Mean: {}. Median: {}\".format(np.mean(gainError), np.median(gainError)))\n",
    "\n",
    "loss = 0\n",
    "print(\"### Loss ###\")\n",
    "\n",
    "for lossError in errorArray[1]:\n",
    "    loss += np.mean(lossError)\n",
    "    print(\"Mean: {}. Median: {}\".format(np.mean(lossError), np.median(lossError)))\n",
    "    \n",
    "print(\"Mean Total - Gain: {}. Loss: {}\".format(gain / 5, loss / 5))\n",
    "plotGrid(errorArray[0], errorArray[1])"
   ]
  }
 ],
 "metadata": {
  "kernelspec": {
   "display_name": "acopEnv",
   "language": "python",
   "name": "acopenv"
  },
  "language_info": {
   "codemirror_mode": {
    "name": "ipython",
    "version": 3
   },
   "file_extension": ".py",
   "mimetype": "text/x-python",
   "name": "python",
   "nbconvert_exporter": "python",
   "pygments_lexer": "ipython3",
   "version": "3.6.9"
  }
 },
 "nbformat": 4,
 "nbformat_minor": 2
}
