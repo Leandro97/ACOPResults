{
 "cells": [
  {
   "cell_type": "markdown",
   "metadata": {},
   "source": [
    "# Imports "
   ]
  },
  {
   "cell_type": "code",
   "execution_count": 1,
   "metadata": {},
   "outputs": [
    {
     "name": "stderr",
     "output_type": "stream",
     "text": [
      "/home/leandro/.local/lib/python3.6/site-packages/sklearn/utils/deprecation.py:143: FutureWarning: The sklearn.utils.testing module is  deprecated in version 0.22 and will be removed in version 0.24. The corresponding classes / functions should instead be imported from sklearn.utils. Anything that cannot be imported from sklearn.utils is now part of the private API.\n",
      "  warnings.warn(message, FutureWarning)\n",
      "  0%|          | 0/43 [00:00<?, ?it/s]"
     ]
    },
    {
     "name": "stdout",
     "output_type": "stream",
     "text": [
      "[316, 311, 316, 302, 314, 318, 313, 320, 315, 311, 310, 307, 314]\n",
      "2 chs: 316 entries\n",
      "3 chs: 311 entries\n",
      "4 chs: 316 entries\n",
      "5 chs: 302 entries\n",
      "6 chs: 314 entries\n",
      "7 chs: 318 entries\n",
      "8 chs: 313 entries\n",
      "9 chs: 320 entries\n",
      "10 chs: 315 entries\n",
      "15 chs: 311 entries\n",
      "20 chs: 310 entries\n",
      "30 chs: 307 entries\n",
      "40 chs: 314 entries\n",
      "Dataset entries: 3926\n"
     ]
    },
    {
     "name": "stderr",
     "output_type": "stream",
     "text": [
      " 74%|███████▍  | 32/43 [00:09<00:02,  4.08it/s]"
     ]
    },
    {
     "name": "stdout",
     "output_type": "stream",
     "text": [
      "RANSACRegressor model failed to execute\n",
      "RANSAC could not find a valid consensus set. All `max_trials` iterations were skipped because each randomly chosen sub-sample failed the passing criteria. See estimator attributes for diagnostics (n_skips*).\n"
     ]
    },
    {
     "name": "stderr",
     "output_type": "stream",
     "text": [
      " 88%|████████▊ | 38/43 [00:11<00:01,  4.91it/s]"
     ]
    },
    {
     "name": "stdout",
     "output_type": "stream",
     "text": [
      "StackingRegressor model failed to execute\n",
      "__init__() missing 1 required positional argument: 'estimators'\n"
     ]
    },
    {
     "name": "stderr",
     "output_type": "stream",
     "text": [
      "100%|██████████| 43/43 [00:11<00:00,  3.74it/s]\n",
      " 21%|██        | 9/43 [00:00<00:02, 12.56it/s]"
     ]
    },
    {
     "name": "stdout",
     "output_type": "stream",
     "text": [
      "GammaRegressor model failed to execute\n",
      "Some value(s) of y are out of the valid range for family GammaDistribution\n"
     ]
    },
    {
     "name": "stderr",
     "output_type": "stream",
     "text": [
      " 77%|███████▋  | 33/43 [00:10<00:02,  4.15it/s]"
     ]
    },
    {
     "name": "stdout",
     "output_type": "stream",
     "text": [
      "RANSACRegressor model failed to execute\n",
      "RANSAC could not find a valid consensus set. All `max_trials` iterations were skipped because each randomly chosen sub-sample failed the passing criteria. See estimator attributes for diagnostics (n_skips*).\n"
     ]
    },
    {
     "name": "stderr",
     "output_type": "stream",
     "text": [
      " 88%|████████▊ | 38/43 [00:10<00:00,  5.82it/s]"
     ]
    },
    {
     "name": "stdout",
     "output_type": "stream",
     "text": [
      "StackingRegressor model failed to execute\n",
      "__init__() missing 1 required positional argument: 'estimators'\n"
     ]
    },
    {
     "name": "stderr",
     "output_type": "stream",
     "text": [
      "100%|██████████| 43/43 [00:10<00:00,  3.92it/s]\n",
      " 74%|███████▍  | 32/43 [00:11<00:05,  2.11it/s]"
     ]
    },
    {
     "name": "stdout",
     "output_type": "stream",
     "text": [
      "RANSACRegressor model failed to execute\n",
      "RANSAC could not find a valid consensus set. All `max_trials` iterations were skipped because each randomly chosen sub-sample failed the passing criteria. See estimator attributes for diagnostics (n_skips*).\n"
     ]
    },
    {
     "name": "stderr",
     "output_type": "stream",
     "text": [
      " 88%|████████▊ | 38/43 [00:13<00:01,  2.93it/s]"
     ]
    },
    {
     "name": "stdout",
     "output_type": "stream",
     "text": [
      "StackingRegressor model failed to execute\n",
      "__init__() missing 1 required positional argument: 'estimators'\n"
     ]
    },
    {
     "name": "stderr",
     "output_type": "stream",
     "text": [
      "100%|██████████| 43/43 [00:13<00:00,  3.20it/s]\n",
      " 21%|██        | 9/43 [00:00<00:03, 11.26it/s]"
     ]
    },
    {
     "name": "stdout",
     "output_type": "stream",
     "text": [
      "GammaRegressor model failed to execute\n",
      "Some value(s) of y are out of the valid range for family GammaDistribution\n"
     ]
    },
    {
     "name": "stderr",
     "output_type": "stream",
     "text": [
      " 74%|███████▍  | 32/43 [00:09<00:03,  3.66it/s]"
     ]
    },
    {
     "name": "stdout",
     "output_type": "stream",
     "text": [
      "RANSACRegressor model failed to execute\n",
      "RANSAC could not find a valid consensus set. All `max_trials` iterations were skipped because each randomly chosen sub-sample failed the passing criteria. See estimator attributes for diagnostics (n_skips*).\n"
     ]
    },
    {
     "name": "stderr",
     "output_type": "stream",
     "text": [
      " 88%|████████▊ | 38/43 [00:11<00:01,  3.86it/s]"
     ]
    },
    {
     "name": "stdout",
     "output_type": "stream",
     "text": [
      "StackingRegressor model failed to execute\n",
      "__init__() missing 1 required positional argument: 'estimators'\n"
     ]
    },
    {
     "name": "stderr",
     "output_type": "stream",
     "text": [
      "100%|██████████| 43/43 [00:11<00:00,  3.79it/s]\n",
      " 88%|████████▊ | 38/43 [00:13<00:02,  2.42it/s]"
     ]
    },
    {
     "name": "stdout",
     "output_type": "stream",
     "text": [
      "StackingRegressor model failed to execute\n",
      "__init__() missing 1 required positional argument: 'estimators'\n"
     ]
    },
    {
     "name": "stderr",
     "output_type": "stream",
     "text": [
      "100%|██████████| 43/43 [00:14<00:00,  2.98it/s]\n",
      " 21%|██        | 9/43 [00:00<00:03,  9.01it/s]"
     ]
    },
    {
     "name": "stdout",
     "output_type": "stream",
     "text": [
      "GammaRegressor model failed to execute\n",
      "Some value(s) of y are out of the valid range for family GammaDistribution\n"
     ]
    },
    {
     "name": "stderr",
     "output_type": "stream",
     "text": [
      " 88%|████████▊ | 38/43 [00:10<00:01,  3.00it/s]"
     ]
    },
    {
     "name": "stdout",
     "output_type": "stream",
     "text": [
      "StackingRegressor model failed to execute\n",
      "__init__() missing 1 required positional argument: 'estimators'\n"
     ]
    },
    {
     "name": "stderr",
     "output_type": "stream",
     "text": [
      "100%|██████████| 43/43 [00:11<00:00,  3.81it/s]\n",
      " 88%|████████▊ | 38/43 [00:13<00:01,  2.76it/s]"
     ]
    },
    {
     "name": "stdout",
     "output_type": "stream",
     "text": [
      "StackingRegressor model failed to execute\n",
      "__init__() missing 1 required positional argument: 'estimators'\n"
     ]
    },
    {
     "name": "stderr",
     "output_type": "stream",
     "text": [
      "100%|██████████| 43/43 [00:13<00:00,  3.20it/s]\n",
      " 21%|██        | 9/43 [00:01<00:03, 10.68it/s]"
     ]
    },
    {
     "name": "stdout",
     "output_type": "stream",
     "text": [
      "GammaRegressor model failed to execute\n",
      "Some value(s) of y are out of the valid range for family GammaDistribution\n"
     ]
    },
    {
     "name": "stderr",
     "output_type": "stream",
     "text": [
      " 77%|███████▋  | 33/43 [00:12<00:04,  2.23it/s]"
     ]
    },
    {
     "name": "stdout",
     "output_type": "stream",
     "text": [
      "RANSACRegressor model failed to execute\n",
      "RANSAC could not find a valid consensus set. All `max_trials` iterations were skipped because each randomly chosen sub-sample failed the passing criteria. See estimator attributes for diagnostics (n_skips*).\n"
     ]
    },
    {
     "name": "stderr",
     "output_type": "stream",
     "text": [
      " 88%|████████▊ | 38/43 [00:13<00:01,  3.02it/s]"
     ]
    },
    {
     "name": "stdout",
     "output_type": "stream",
     "text": [
      "StackingRegressor model failed to execute\n",
      "__init__() missing 1 required positional argument: 'estimators'\n"
     ]
    },
    {
     "name": "stderr",
     "output_type": "stream",
     "text": [
      "100%|██████████| 43/43 [00:14<00:00,  3.05it/s]\n"
     ]
    }
   ],
   "source": [
    "import ipynb.fs.full.PrepareData as data\n",
    "from sklearn.multioutput import MultiOutputRegressor\n",
    "import itertools\n",
    "\n",
    "strategyArray = []\n",
    "errorArray    = [[], []]"
   ]
  },
  {
   "cell_type": "markdown",
   "metadata": {},
   "source": [
    "# Sorting the dataset"
   ]
  },
  {
   "cell_type": "code",
   "execution_count": 2,
   "metadata": {
    "scrolled": false
   },
   "outputs": [
    {
     "name": "stdout",
     "output_type": "stream",
     "text": [
      "dict_keys(['GaussianProcessRegressor', 'LGBMRegressor', 'GradientBoostingRegressor', 'XGBRegressor', 'Ridge'])\n"
     ]
    }
   ],
   "source": [
    "sortedDict = {}\n",
    "commonRegressors = data.commonRegressors\n",
    "\n",
    "for regressor in commonRegressors:\n",
    "    sortedDict[regressor] = 0\n",
    "    \n",
    "    for i in range(data.ampNumber):\n",
    "        sortedDict[regressor] += data.finalList[i][regressor][0] + data.finalList[i][regressor][1]\n",
    "\n",
    "sortedDict = dict(sorted(sortedDict.items(), key = lambda x : x[1]))\n",
    "sortedDict = dict(itertools.islice(sortedDict.items(), 5))\n",
    "\n",
    "print(sortedDict.keys())"
   ]
  },
  {
   "cell_type": "markdown",
   "metadata": {},
   "source": [
    "# Processing data"
   ]
  },
  {
   "cell_type": "code",
   "execution_count": 3,
   "metadata": {},
   "outputs": [],
   "source": [
    "from sklearn.metrics import mean_absolute_error\n",
    "\n",
    "def getMAE(yTrue, yPredicted):\n",
    "    gainErrors = []\n",
    "    lossErrors = []\n",
    "    \n",
    "    rangeList = list(range(len(yTrue[0])))\n",
    "    \n",
    "    for true, predicted in zip(yTrue, yPredicted):\n",
    "        gainTrue      = [true[x] for x in rangeList[0::2]]\n",
    "        gainPredicted = [predicted[x] for x in rangeList[0::2]]\n",
    "        lossTrue      = [true[x] for x in rangeList[1::2]]\n",
    "        lossPredicted = [predicted[x] for x in rangeList[1::2]]\n",
    "        \n",
    "        gainErrors.append(mean_absolute_error(gainTrue, gainPredicted))\n",
    "        lossErrors.append(mean_absolute_error(lossTrue, lossPredicted))\n",
    "        \n",
    "    return gainErrors, lossErrors"
   ]
  },
  {
   "cell_type": "markdown",
   "metadata": {},
   "source": [
    "# Plotting function"
   ]
  },
  {
   "cell_type": "code",
   "execution_count": 4,
   "metadata": {},
   "outputs": [],
   "source": [
    "import matplotlib.pyplot as plt\n",
    "\n",
    "def plotGrid(gainData, lossData):\n",
    "    fontSize = 32\n",
    "    \n",
    "    fig, axis = plt.subplots(2, figsize = (10, 10))\n",
    "    \n",
    "    axis[0].boxplot(gainData)\n",
    "    axis[0].set_title(\"Test error for Gain\", fontsize = fontSize)\n",
    "    axis[0].get_xaxis().set_visible(False)\n",
    "    axis[0].yaxis.set_tick_params(labelsize = fontSize)\n",
    "    axis[0].set_yticklabels(range(0, 4))\n",
    "    axis[0].set_ylim(0, 3)\n",
    "    \n",
    "    axis[1].boxplot(lossData)\n",
    "    axis[1].set_title(\"Test error for Loss\", fontsize = fontSize)\n",
    "    axis[1].xaxis.set_tick_params(labelsize = fontSize)\n",
    "    axis[1].yaxis.set_tick_params(labelsize = fontSize)\n",
    "    axis[1].set_xticklabels(strategyArray)\n",
    "    axis[1].set_yticklabels(range(0, 4))\n",
    "    axis[1].set_ylim(0, 3)\n",
    "\n",
    "    #fig.text(0.053, 0.5, 'Erro Médio Absoluto (dB)', va='center', rotation='vertical', fontsize = 30)\n",
    "\n",
    "    plt.gcf().subplots_adjust(bottom = 0.08)\n",
    "    fig.savefig(\"../../graphs/perAmp-{}amp.pdf\".format(data.ampNumber), format = 'pdf', dpi = 1000, bbox_inches = \"tight\")"
   ]
  },
  {
   "cell_type": "markdown",
   "metadata": {},
   "source": [
    "# Building the models"
   ]
  },
  {
   "cell_type": "code",
   "execution_count": 5,
   "metadata": {},
   "outputs": [],
   "source": [
    "cvData = []\n",
    "X, y = data.loadDataset()\n",
    "\n",
    "for i in range(5):\n",
    "    X_train, X_test, y_train, y_test = data.train_test_split(X, y, test_size = 0.3, random_state = i)\n",
    "    cvData.append([X_train, X_test, y_train, y_test])\n",
    "    \n",
    "count = 1"
   ]
  },
  {
   "cell_type": "code",
   "execution_count": 6,
   "metadata": {
    "scrolled": true
   },
   "outputs": [
    {
     "name": "stdout",
     "output_type": "stream",
     "text": [
      "[17.  0. 18.  0. 21.  3. 24.  0.] [1.69900112e+01 1.17162602e-03 1.83613651e+01 3.68645634e-01\n",
      " 1.93812637e+01 1.38035585e+00 2.19504345e+01 5.56025771e-01]\n",
      "[17.  0. 19.  1. 19.  1. 24.  2.] [1.69845851e+01 8.96006401e-04 1.83490187e+01 3.65785864e-01\n",
      " 1.93855323e+01 1.36306191e+00 2.19356326e+01 1.24122924e+00]\n",
      "[17.  0. 18.  0. 18.  0. 20.  0.] [1.69862723e+01 6.31941157e-05 1.83642961e+01 3.98827507e-01\n",
      " 1.92745678e+01 1.22329062e+00 2.19316390e+01 4.21258715e-02]\n",
      "[17.  0. 18.  0. 20.  3. 20.  0.] [16.97909811  0.03461093 18.38603864  0.42629273 19.41038058  1.39274979\n",
      " 21.98099483  0.24098912]\n",
      "[17.  0. 18.  0. 19.  2. 20.  0.] [17.06088871  0.11573047 18.34531464  0.3484548  19.39774595  1.4124771\n",
      " 21.96721056  0.12080042]\n"
     ]
    }
   ],
   "source": [
    "from sklearn.linear_model import BayesianRidge\n",
    "\n",
    "errorArray[0].append([])\n",
    "errorArray[1].append([])\n",
    "\n",
    "for i in range(5):\n",
    "    finalResult = []\n",
    "\n",
    "    for j in range(0, data.ampNumber * 2, 2):\n",
    "        model = MultiOutputRegressor(BayesianRidge())\n",
    "        model.fit(cvData[i][0], cvData[i][2][:, j: j + 2])\n",
    "\n",
    "        result = model.predict(cvData[i][1])\n",
    "\n",
    "        if len(finalResult) == 0:\n",
    "            finalResult = result\n",
    "        else:\n",
    "            finalResult = data.np.hstack((finalResult, result))\n",
    "\n",
    "    print(cvData[i][-1][0], finalResult[0])\n",
    "    \n",
    "    mae = getMAE(cvData[i][3], finalResult)\n",
    "\n",
    "    errorArray[0][-1].extend(mae[0])\n",
    "    errorArray[1][-1].extend(mae[1])\n",
    "\n",
    "strategyArray.append(\"BR\")\n",
    "count += 1"
   ]
  },
  {
   "cell_type": "code",
   "execution_count": 7,
   "metadata": {},
   "outputs": [
    {
     "name": "stdout",
     "output_type": "stream",
     "text": [
      "[17.  0. 18.  0. 21.  3. 24.  0.] [16.99054207  0.         18.32127388  0.33003345 19.38054646  1.38473572\n",
      " 21.95583004  0.55391139]\n",
      "[17.  0. 19.  1. 19.  1. 24.  2.] [16.98352064  0.         18.3126916   0.33334724 19.30427335  1.30286532\n",
      " 22.01016207  1.25670452]\n",
      "[17.  0. 18.  0. 18.  0. 20.  0.] [16.98645265  0.         18.34593505  0.39658859 19.22761362  1.19692227\n",
      " 21.76633798  0.04250704]\n",
      "[17.  0. 18.  0. 20.  3. 20.  0.] [16.97669643  0.03522164 18.44403046  0.45813308 19.40670616  1.38462848\n",
      " 22.01224168  0.2424638 ]\n",
      "[17.  0. 18.  0. 19.  2. 20.  0.] [17.06751648  0.12245267 18.35958851  0.35157938 19.50002045  1.52262281\n",
      " 22.05160597  0.11079901]\n"
     ]
    }
   ],
   "source": [
    "from sklearn.ensemble import RandomForestRegressor\n",
    "\n",
    "errorArray[0].append([])\n",
    "errorArray[1].append([])\n",
    "\n",
    "for i in range(5):\n",
    "    finalResult = []\n",
    "\n",
    "    for j in range(0, data.ampNumber * 2, 2):\n",
    "        model = MultiOutputRegressor(RandomForestRegressor())\n",
    "        model.fit(cvData[i][0], cvData[i][2][:, j: j + 2])\n",
    "\n",
    "        result = model.predict(cvData[i][1])\n",
    "\n",
    "        if len(finalResult) == 0:\n",
    "            finalResult = result\n",
    "        else:\n",
    "            finalResult = data.np.hstack((finalResult, result))\n",
    "\n",
    "    print(cvData[i][-1][0], finalResult[0])\n",
    "    \n",
    "    mae = getMAE(cvData[i][3], finalResult)\n",
    "\n",
    "    errorArray[0][-1].extend(mae[0])\n",
    "    errorArray[1][-1].extend(mae[1])\n",
    "\n",
    "strategyArray.append(\"RF\")\n",
    "count += 1"
   ]
  },
  {
   "cell_type": "code",
   "execution_count": 8,
   "metadata": {},
   "outputs": [
    {
     "name": "stdout",
     "output_type": "stream",
     "text": [
      "[17.  0. 18.  0. 21.  3. 24.  0.] [16.99078341  0.         18.32258065  0.33640553 19.37788018  1.38248848\n",
      " 21.94930876  0.55760369]\n",
      "[17.  0. 19.  1. 19.  1. 24.  2.] [16.98190045  0.         18.31674208  0.33484163 19.30316742  1.29864253\n",
      " 22.          1.25339367]\n",
      "[17.  0. 18.  0. 18.  0. 20.  0.] [16.98617512  0.         18.34562212  0.39170507 19.22119816  1.19354839\n",
      " 21.75576037  0.04147465]\n",
      "[17.  0. 18.  0. 20.  3. 20.  0.] [16.97757848  0.03587444 18.44843049  0.46188341 19.40807175  1.39013453\n",
      " 22.          0.23766816]\n",
      "[17.  0. 18.  0. 19.  2. 20.  0.] [17.0678733   0.11764706 18.35294118  0.35294118 19.50678733  1.5158371\n",
      " 22.05429864  0.11312217]\n"
     ]
    }
   ],
   "source": [
    "from sklearn.tree import DecisionTreeRegressor\n",
    "\n",
    "errorArray[0].append([])\n",
    "errorArray[1].append([])\n",
    "\n",
    "for i in range(5):\n",
    "    finalResult = []\n",
    "\n",
    "    for j in range(0, data.ampNumber * 2, 2):\n",
    "        model = MultiOutputRegressor(DecisionTreeRegressor())\n",
    "        model.fit(cvData[i][0], cvData[i][2][:, j: j + 2])\n",
    "\n",
    "        result = model.predict(cvData[i][1])\n",
    "\n",
    "        if len(finalResult) == 0:\n",
    "            finalResult = result\n",
    "        else:\n",
    "            finalResult = data.np.hstack((finalResult, result))\n",
    "\n",
    "    print(cvData[i][-1][0], finalResult[0])\n",
    "    \n",
    "    mae = getMAE(cvData[i][3], finalResult)\n",
    "\n",
    "    errorArray[0][-1].extend(mae[0])\n",
    "    errorArray[1][-1].extend(mae[1])\n",
    "\n",
    "strategyArray.append(\"DT\")\n",
    "count += 1"
   ]
  },
  {
   "cell_type": "code",
   "execution_count": 9,
   "metadata": {},
   "outputs": [
    {
     "name": "stdout",
     "output_type": "stream",
     "text": [
      "[17.  0. 18.  0. 21.  3. 24.  0.] [1.69853933e+01 2.77137626e-03 1.83680873e+01 3.86779169e-01\n",
      " 1.93753709e+01 1.37685460e+00 2.19537653e+01 5.50300209e-01]\n",
      "[17.  0. 19.  1. 19.  1. 24.  2.] [1.69903562e+01 6.15326922e-03 1.83245148e+01 3.49996865e-01\n",
      " 1.93854325e+01 1.37177542e+00 2.19368661e+01 1.24996361e+00]\n",
      "[17.  0. 18.  0. 18.  0. 20.  0.] [1.69870188e+01 3.67546617e-03 1.83620955e+01 3.94438955e-01\n",
      " 1.93222327e+01 1.29780620e+00 2.19390543e+01 4.36771635e-02]\n",
      "[17.  0. 18.  0. 20.  3. 20.  0.] [1.69864706e+01 1.99201753e-02 1.83753846e+01 4.01538462e-01\n",
      " 1.93996937e+01 1.38744257e+00 2.19960658e+01 2.49385698e-01]\n",
      "[17.  0. 18.  0. 19.  2. 20.  0.] [17.06040604  0.11027042 18.3558669   0.34104116 19.4298699   1.44763214\n",
      " 21.96672504  0.12054265]\n"
     ]
    }
   ],
   "source": [
    "from sklearn.linear_model import LassoCV\n",
    "\n",
    "errorArray[0].append([])\n",
    "errorArray[1].append([])\n",
    "\n",
    "for i in range(5):\n",
    "    finalResult = []\n",
    "\n",
    "    for j in range(0, data.ampNumber * 2, 2):\n",
    "        model = MultiOutputRegressor(LassoCV())\n",
    "        model.fit(cvData[i][0], cvData[i][2][:, j: j + 2])\n",
    "\n",
    "        result = model.predict(cvData[i][1])\n",
    "\n",
    "        if len(finalResult) == 0:\n",
    "            finalResult = result\n",
    "        else:\n",
    "            finalResult = data.np.hstack((finalResult, result))\n",
    "\n",
    "    print(cvData[i][-1][0], finalResult[0])\n",
    "    \n",
    "    mae = getMAE(cvData[i][3], finalResult)\n",
    "\n",
    "    errorArray[0][-1].extend(mae[0])\n",
    "    errorArray[1][-1].extend(mae[1])\n",
    "\n",
    "strategyArray.append(\"LCV\")\n",
    "count += 1"
   ]
  },
  {
   "cell_type": "code",
   "execution_count": 10,
   "metadata": {},
   "outputs": [
    {
     "name": "stdout",
     "output_type": "stream",
     "text": [
      "[17.  0. 18.  0. 21.  3. 24.  0.] [17.01015762  0.04063047 18.35481611  0.36952715 19.38283713  1.37723292\n",
      " 21.95376532  0.4262697 ]\n",
      "[17.  0. 19.  1. 19.  1. 24.  2.] [17.01260946  0.04203152 18.3502627   0.37057793 19.38423818  1.37793345\n",
      " 21.93450088  0.4234676 ]\n",
      "[17.  0. 18.  0. 18.  0. 20.  0.] [17.01330998  0.04448336 18.35551664  0.3737303  19.38388792  1.37688266\n",
      " 21.93905429  0.43607706]\n",
      "[17.  0. 18.  0. 20.  3. 20.  0.] [17.00805604  0.04343257 18.36182137  0.37232925 19.38879159  1.38178634\n",
      " 21.98038529  0.44518389]\n",
      "[17.  0. 18.  0. 19.  2. 20.  0.] [17.01260946  0.04483363 18.3558669   0.37548161 19.39859895  1.38739054\n",
      " 21.96672504  0.43642732]\n"
     ]
    }
   ],
   "source": [
    "from sklearn.dummy import DummyRegressor\n",
    "\n",
    "errorArray[0].append([])\n",
    "errorArray[1].append([])\n",
    "\n",
    "for i in range(5):\n",
    "    finalResult = []\n",
    "\n",
    "    for j in range(0, data.ampNumber * 2, 2):\n",
    "        model = MultiOutputRegressor(DummyRegressor())\n",
    "        model.fit(cvData[i][0], cvData[i][2][:, j: j + 2])\n",
    "\n",
    "        result = model.predict(cvData[i][1])\n",
    "\n",
    "        if len(finalResult) == 0:\n",
    "            finalResult = result\n",
    "        else:\n",
    "            finalResult = data.np.hstack((finalResult, result))\n",
    "\n",
    "    print(cvData[i][-1][0], finalResult[0])\n",
    "    \n",
    "    mae = getMAE(cvData[i][3], finalResult)\n",
    "\n",
    "    errorArray[0][-1].extend(mae[0])\n",
    "    errorArray[1][-1].extend(mae[1])\n",
    "\n",
    "strategyArray.append(\"SM\")\n",
    "count += 1"
   ]
  },
  {
   "cell_type": "code",
   "execution_count": 11,
   "metadata": {},
   "outputs": [
    {
     "name": "stdout",
     "output_type": "stream",
     "text": [
      "dict_keys(['GaussianProcessRegressor', 'LGBMRegressor', 'GradientBoostingRegressor', 'XGBRegressor', 'Ridge'])\n",
      "### Gain ###\n",
      "Mean: 0.7461487656679648. Median: 0.7412572970765154\n",
      "Mean: 0.7454282659963595. Median: 0.7341478123009155\n",
      "Mean: 0.745407836198286. Median: 0.7345132743362832\n",
      "Mean: 0.7452783080202189. Median: 0.7380385450022899\n",
      "Mean: 0.7433395001316345. Median: 0.7403677758318743\n",
      "### Loss ###\n",
      "Mean: 0.5045112008493124. Median: 0.4862715359405454\n",
      "Mean: 0.5021529277867853. Median: 0.47830459779528245\n",
      "Mean: 0.502200738150013. Median: 0.4777777777777778\n",
      "Mean: 0.5036785635027057. Median: 0.48588372814532726\n",
      "Mean: 0.5379017003765896. Median: 0.5535026269702277\n",
      "Mean Total - Gain: 0.7451205352028928. Loss: 0.5100890261330813\n"
     ]
    },
    {
     "data": {
      "image/png": "[encoded data removed]",
      "text/plain": [
       "<matplotlib.figure.Figure at 0x7f52e6cc4320>"
      ]
     },
     "metadata": {
      "needs_background": "light"
     },
     "output_type": "display_data"
    }
   ],
   "source": [
    "import numpy as np\n",
    "print(sortedDict.keys())\n",
    "\n",
    "gain = 0\n",
    "print(\"### Gain ###\")\n",
    "\n",
    "for gainError in errorArray[0]:\n",
    "    gain += np.mean(gainError)\n",
    "    print(\"Mean: {}. Median: {}\".format(np.mean(gainError), np.median(gainError)))\n",
    "\n",
    "loss = 0\n",
    "print(\"### Loss ###\")\n",
    "\n",
    "for lossError in errorArray[1]:\n",
    "    loss += np.mean(lossError)\n",
    "    print(\"Mean: {}. Median: {}\".format(np.mean(lossError), np.median(lossError)))\n",
    "    \n",
    "print(\"Mean Total - Gain: {}. Loss: {}\".format(gain / 5, loss / 5))\n",
    "plotGrid(errorArray[0], errorArray[1])"
   ]
  }
 ],
 "metadata": {
  "kernelspec": {
   "display_name": "acopEnv",
   "language": "python",
   "name": "acopenv"
  },
  "language_info": {
   "codemirror_mode": {
    "name": "ipython",
    "version": 3
   },
   "file_extension": ".py",
   "mimetype": "text/x-python",
   "name": "python",
   "nbconvert_exporter": "python",
   "pygments_lexer": "ipython3",
   "version": "3.6.9"
  }
 },
 "nbformat": 4,
 "nbformat_minor": 2
}
