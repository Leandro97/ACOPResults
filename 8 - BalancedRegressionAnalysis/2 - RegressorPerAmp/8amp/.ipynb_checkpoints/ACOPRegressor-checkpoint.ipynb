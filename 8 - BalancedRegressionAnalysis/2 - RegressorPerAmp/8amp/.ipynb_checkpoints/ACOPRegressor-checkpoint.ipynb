{
 "cells": [
  {
   "cell_type": "markdown",
   "metadata": {},
   "source": [
    "# Imports "
   ]
  },
  {
   "cell_type": "code",
   "execution_count": 1,
   "metadata": {},
   "outputs": [
    {
     "name": "stderr",
     "output_type": "stream",
     "text": [
      "/home/leandro/.local/lib/python3.6/site-packages/sklearn/utils/deprecation.py:143: FutureWarning: The sklearn.utils.testing module is  deprecated in version 0.22 and will be removed in version 0.24. The corresponding classes / functions should instead be imported from sklearn.utils. Anything that cannot be imported from sklearn.utils is now part of the private API.\n",
      "  warnings.warn(message, FutureWarning)\n",
      "  0%|          | 0/43 [00:00<?, ?it/s]"
     ]
    },
    {
     "name": "stdout",
     "output_type": "stream",
     "text": [
      "[0, 40, 40, 40, 10, 70]\n",
      "2 chs: 40 entries\n",
      "3 chs: 40 entries\n",
      "4 chs: 40 entries\n",
      "5 chs: 10 entries\n",
      "6 chs: 70 entries\n",
      "Dataset entries: 130\n"
     ]
    },
    {
     "name": "stderr",
     "output_type": "stream",
     "text": [
      " 77%|███████▋  | 33/43 [00:04<00:01,  6.18it/s]"
     ]
    },
    {
     "name": "stdout",
     "output_type": "stream",
     "text": [
      "RANSACRegressor model failed to execute\n",
      "RANSAC could not find a valid consensus set. All `max_trials` iterations were skipped because each randomly chosen sub-sample failed the passing criteria. See estimator attributes for diagnostics (n_skips*).\n"
     ]
    },
    {
     "name": "stderr",
     "output_type": "stream",
     "text": [
      " 95%|█████████▌| 41/43 [00:05<00:00,  9.03it/s]"
     ]
    },
    {
     "name": "stdout",
     "output_type": "stream",
     "text": [
      "StackingRegressor model failed to execute\n",
      "__init__() missing 1 required positional argument: 'estimators'\n"
     ]
    },
    {
     "name": "stderr",
     "output_type": "stream",
     "text": [
      "100%|██████████| 43/43 [00:05<00:00,  7.97it/s]\n",
      " 30%|███       | 13/43 [00:01<00:02, 13.98it/s]"
     ]
    },
    {
     "name": "stdout",
     "output_type": "stream",
     "text": [
      "GammaRegressor model failed to execute\n",
      "Some value(s) of y are out of the valid range for family GammaDistribution\n"
     ]
    },
    {
     "name": "stderr",
     "output_type": "stream",
     "text": [
      " 81%|████████▏ | 35/43 [00:02<00:00, 15.53it/s]"
     ]
    },
    {
     "name": "stdout",
     "output_type": "stream",
     "text": [
      "RANSACRegressor model failed to execute\n",
      "RANSAC could not find a valid consensus set. All `max_trials` iterations were skipped because each randomly chosen sub-sample failed the passing criteria. See estimator attributes for diagnostics (n_skips*).\n",
      "StackingRegressor model failed to execute\n",
      "__init__() missing 1 required positional argument: 'estimators'\n"
     ]
    },
    {
     "name": "stderr",
     "output_type": "stream",
     "text": [
      "100%|██████████| 43/43 [00:03<00:00, 14.28it/s]\n",
      " 81%|████████▏ | 35/43 [00:04<00:01,  5.72it/s]"
     ]
    },
    {
     "name": "stdout",
     "output_type": "stream",
     "text": [
      "RANSACRegressor model failed to execute\n",
      "RANSAC could not find a valid consensus set. All `max_trials` iterations were skipped because each randomly chosen sub-sample failed the passing criteria. See estimator attributes for diagnostics (n_skips*).\n",
      "StackingRegressor model failed to execute\n",
      "__init__() missing 1 required positional argument: 'estimators'\n"
     ]
    },
    {
     "name": "stderr",
     "output_type": "stream",
     "text": [
      "100%|██████████| 43/43 [00:06<00:00,  6.82it/s]\n",
      " 21%|██        | 9/43 [00:00<00:01, 20.04it/s]"
     ]
    },
    {
     "name": "stdout",
     "output_type": "stream",
     "text": [
      "GammaRegressor model failed to execute\n",
      "Some value(s) of y are out of the valid range for family GammaDistribution\n"
     ]
    },
    {
     "name": "stderr",
     "output_type": "stream",
     "text": [
      " 81%|████████▏ | 35/43 [00:02<00:00, 13.11it/s]"
     ]
    },
    {
     "name": "stdout",
     "output_type": "stream",
     "text": [
      "RANSACRegressor model failed to execute\n",
      "RANSAC could not find a valid consensus set. All `max_trials` iterations were skipped because each randomly chosen sub-sample failed the passing criteria. See estimator attributes for diagnostics (n_skips*).\n"
     ]
    },
    {
     "name": "stderr",
     "output_type": "stream",
     "text": [
      "\r",
      " 88%|████████▊ | 38/43 [00:02<00:00, 15.63it/s]"
     ]
    },
    {
     "name": "stdout",
     "output_type": "stream",
     "text": [
      "StackingRegressor model failed to execute\n",
      "__init__() missing 1 required positional argument: 'estimators'\n"
     ]
    },
    {
     "name": "stderr",
     "output_type": "stream",
     "text": [
      "100%|██████████| 43/43 [00:02<00:00, 14.75it/s]\n",
      " 79%|███████▉  | 34/43 [00:03<00:00, 10.90it/s]"
     ]
    },
    {
     "name": "stdout",
     "output_type": "stream",
     "text": [
      "RANSACRegressor model failed to execute\n",
      "RANSAC could not find a valid consensus set. All `max_trials` iterations were skipped because each randomly chosen sub-sample failed the passing criteria. See estimator attributes for diagnostics (n_skips*).\n"
     ]
    },
    {
     "name": "stderr",
     "output_type": "stream",
     "text": [
      "\r",
      " 93%|█████████▎| 40/43 [00:03<00:00, 14.41it/s]"
     ]
    },
    {
     "name": "stdout",
     "output_type": "stream",
     "text": [
      "StackingRegressor model failed to execute\n",
      "__init__() missing 1 required positional argument: 'estimators'\n"
     ]
    },
    {
     "name": "stderr",
     "output_type": "stream",
     "text": [
      "100%|██████████| 43/43 [00:05<00:00,  8.38it/s]\n",
      " 26%|██▌       | 11/43 [00:00<00:01, 17.68it/s]"
     ]
    },
    {
     "name": "stdout",
     "output_type": "stream",
     "text": [
      "GammaRegressor model failed to execute\n",
      "Some value(s) of y are out of the valid range for family GammaDistribution\n"
     ]
    },
    {
     "name": "stderr",
     "output_type": "stream",
     "text": [
      " 77%|███████▋  | 33/43 [00:02<00:00, 13.29it/s]"
     ]
    },
    {
     "name": "stdout",
     "output_type": "stream",
     "text": [
      "RANSACRegressor model failed to execute\n",
      "RANSAC could not find a valid consensus set. All `max_trials` iterations were skipped because each randomly chosen sub-sample failed the passing criteria. See estimator attributes for diagnostics (n_skips*).\n"
     ]
    },
    {
     "name": "stderr",
     "output_type": "stream",
     "text": [
      " 95%|█████████▌| 41/43 [00:03<00:00, 13.60it/s]"
     ]
    },
    {
     "name": "stdout",
     "output_type": "stream",
     "text": [
      "StackingRegressor model failed to execute\n",
      "__init__() missing 1 required positional argument: 'estimators'\n"
     ]
    },
    {
     "name": "stderr",
     "output_type": "stream",
     "text": [
      "100%|██████████| 43/43 [00:04<00:00,  9.84it/s]\n",
      " 77%|███████▋  | 33/43 [00:03<00:01,  7.77it/s]"
     ]
    },
    {
     "name": "stdout",
     "output_type": "stream",
     "text": [
      "RANSACRegressor model failed to execute\n",
      "RANSAC could not find a valid consensus set. All `max_trials` iterations were skipped because each randomly chosen sub-sample failed the passing criteria. See estimator attributes for diagnostics (n_skips*).\n"
     ]
    },
    {
     "name": "stderr",
     "output_type": "stream",
     "text": [
      "\r",
      " 81%|████████▏ | 35/43 [00:03<00:01,  7.82it/s]"
     ]
    },
    {
     "name": "stdout",
     "output_type": "stream",
     "text": [
      "StackingRegressor model failed to execute\n",
      "__init__() missing 1 required positional argument: 'estimators'\n"
     ]
    },
    {
     "name": "stderr",
     "output_type": "stream",
     "text": [
      "100%|██████████| 43/43 [00:05<00:00,  7.66it/s]\n",
      " 30%|███       | 13/43 [00:00<00:01, 21.69it/s]"
     ]
    },
    {
     "name": "stdout",
     "output_type": "stream",
     "text": [
      "GammaRegressor model failed to execute\n",
      "Some value(s) of y are out of the valid range for family GammaDistribution\n"
     ]
    },
    {
     "name": "stderr",
     "output_type": "stream",
     "text": [
      " 79%|███████▉  | 34/43 [00:04<00:00,  9.48it/s]"
     ]
    },
    {
     "name": "stdout",
     "output_type": "stream",
     "text": [
      "RANSACRegressor model failed to execute\n",
      "RANSAC could not find a valid consensus set. All `max_trials` iterations were skipped because each randomly chosen sub-sample failed the passing criteria. See estimator attributes for diagnostics (n_skips*).\n",
      "StackingRegressor model failed to execute\n",
      "__init__() missing 1 required positional argument: 'estimators'\n"
     ]
    },
    {
     "name": "stderr",
     "output_type": "stream",
     "text": [
      "100%|██████████| 43/43 [00:04<00:00,  9.76it/s]\n",
      " 81%|████████▏ | 35/43 [00:03<00:00,  9.69it/s]"
     ]
    },
    {
     "name": "stdout",
     "output_type": "stream",
     "text": [
      "StackingRegressor model failed to execute\n",
      "__init__() missing 1 required positional argument: 'estimators'\n"
     ]
    },
    {
     "name": "stderr",
     "output_type": "stream",
     "text": [
      "100%|██████████| 43/43 [00:03<00:00, 12.73it/s]\n",
      " 23%|██▎       | 10/43 [00:00<00:01, 26.83it/s]"
     ]
    },
    {
     "name": "stdout",
     "output_type": "stream",
     "text": [
      "GammaRegressor model failed to execute\n",
      "Some value(s) of y are out of the valid range for family GammaDistribution\n"
     ]
    },
    {
     "name": "stderr",
     "output_type": "stream",
     "text": [
      " 84%|████████▎ | 36/43 [00:04<00:00, 13.73it/s]"
     ]
    },
    {
     "name": "stdout",
     "output_type": "stream",
     "text": [
      "StackingRegressor model failed to execute\n",
      "__init__() missing 1 required positional argument: 'estimators'\n"
     ]
    },
    {
     "name": "stderr",
     "output_type": "stream",
     "text": [
      "100%|██████████| 43/43 [00:05<00:00,  7.51it/s]\n",
      " 79%|███████▉  | 34/43 [00:02<00:00, 12.68it/s]"
     ]
    },
    {
     "name": "stdout",
     "output_type": "stream",
     "text": [
      "StackingRegressor model failed to execute\n",
      "__init__() missing 1 required positional argument: 'estimators'\n"
     ]
    },
    {
     "name": "stderr",
     "output_type": "stream",
     "text": [
      "100%|██████████| 43/43 [00:05<00:00,  7.43it/s]\n",
      " 21%|██        | 9/43 [00:00<00:01, 22.70it/s]"
     ]
    },
    {
     "name": "stdout",
     "output_type": "stream",
     "text": [
      "GammaRegressor model failed to execute\n",
      "Some value(s) of y are out of the valid range for family GammaDistribution\n"
     ]
    },
    {
     "name": "stderr",
     "output_type": "stream",
     "text": [
      " 79%|███████▉  | 34/43 [00:03<00:00,  9.58it/s]"
     ]
    },
    {
     "name": "stdout",
     "output_type": "stream",
     "text": [
      "StackingRegressor model failed to execute\n",
      "__init__() missing 1 required positional argument: 'estimators'\n"
     ]
    },
    {
     "name": "stderr",
     "output_type": "stream",
     "text": [
      "100%|██████████| 43/43 [00:04<00:00, 10.20it/s]\n",
      " 79%|███████▉  | 34/43 [00:03<00:01,  5.98it/s]"
     ]
    },
    {
     "name": "stdout",
     "output_type": "stream",
     "text": [
      "StackingRegressor model failed to execute\n",
      "__init__() missing 1 required positional argument: 'estimators'\n"
     ]
    },
    {
     "name": "stderr",
     "output_type": "stream",
     "text": [
      "100%|██████████| 43/43 [00:05<00:00,  8.33it/s]\n",
      " 30%|███       | 13/43 [00:00<00:01, 18.49it/s]"
     ]
    },
    {
     "name": "stdout",
     "output_type": "stream",
     "text": [
      "GammaRegressor model failed to execute\n",
      "Some value(s) of y are out of the valid range for family GammaDistribution\n"
     ]
    },
    {
     "name": "stderr",
     "output_type": "stream",
     "text": [
      "100%|██████████| 43/43 [00:04<00:00, 10.50it/s]\n",
      "  0%|          | 0/43 [00:00<?, ?it/s]"
     ]
    },
    {
     "name": "stdout",
     "output_type": "stream",
     "text": [
      "StackingRegressor model failed to execute\n",
      "__init__() missing 1 required positional argument: 'estimators'\n"
     ]
    },
    {
     "name": "stderr",
     "output_type": "stream",
     "text": [
      "100%|██████████| 43/43 [00:04<00:00, 10.58it/s]\n",
      "  0%|          | 0/43 [00:00<?, ?it/s]"
     ]
    },
    {
     "name": "stdout",
     "output_type": "stream",
     "text": [
      "StackingRegressor model failed to execute\n",
      "__init__() missing 1 required positional argument: 'estimators'\n"
     ]
    },
    {
     "name": "stderr",
     "output_type": "stream",
     "text": [
      " 30%|███       | 13/43 [00:00<00:01, 17.94it/s]"
     ]
    },
    {
     "name": "stdout",
     "output_type": "stream",
     "text": [
      "GammaRegressor model failed to execute\n",
      "Some value(s) of y are out of the valid range for family GammaDistribution\n"
     ]
    },
    {
     "name": "stderr",
     "output_type": "stream",
     "text": [
      " 81%|████████▏ | 35/43 [00:02<00:00, 13.55it/s]"
     ]
    },
    {
     "name": "stdout",
     "output_type": "stream",
     "text": [
      "RANSACRegressor model failed to execute\n",
      "RANSAC could not find a valid consensus set. All `max_trials` iterations were skipped because each randomly chosen sub-sample failed the passing criteria. See estimator attributes for diagnostics (n_skips*).\n",
      "StackingRegressor model failed to execute\n",
      "__init__() missing 1 required positional argument: 'estimators'\n"
     ]
    },
    {
     "name": "stderr",
     "output_type": "stream",
     "text": [
      "100%|██████████| 43/43 [00:04<00:00, 10.66it/s]\n"
     ]
    }
   ],
   "source": [
    "import ipynb.fs.full.PrepareData as data\n",
    "from sklearn.multioutput import MultiOutputRegressor\n",
    "import itertools\n",
    "\n",
    "strategyArray = []\n",
    "errorArray    = [[], []]"
   ]
  },
  {
   "cell_type": "markdown",
   "metadata": {},
   "source": [
    "# Sorting the dataset"
   ]
  },
  {
   "cell_type": "code",
   "execution_count": 2,
   "metadata": {
    "scrolled": false
   },
   "outputs": [
    {
     "name": "stdout",
     "output_type": "stream",
     "text": [
      "dict_keys(['AdaBoostRegressor', 'BaggingRegressor', 'LassoCV', 'OrthogonalMatchingPursuitCV', 'ElasticNetCV'])\n"
     ]
    }
   ],
   "source": [
    "sortedDict = {}\n",
    "commonRegressors = data.commonRegressors\n",
    "\n",
    "for regressor in commonRegressors:\n",
    "    sortedDict[regressor] = 0\n",
    "    \n",
    "    for i in range(data.ampNumber):\n",
    "        sortedDict[regressor] += data.finalList[i][regressor][0] + data.finalList[i][regressor][1]\n",
    "\n",
    "sortedDict = dict(sorted(sortedDict.items(), key = lambda x : x[1]))\n",
    "sortedDict = dict(itertools.islice(sortedDict.items(), 5))\n",
    "\n",
    "print(sortedDict.keys())"
   ]
  },
  {
   "cell_type": "markdown",
   "metadata": {},
   "source": [
    "# Processing data"
   ]
  },
  {
   "cell_type": "code",
   "execution_count": 3,
   "metadata": {},
   "outputs": [],
   "source": [
    "from sklearn.metrics import mean_absolute_error\n",
    "\n",
    "def getMAE(yTrue, yPredicted):\n",
    "    gainErrors = []\n",
    "    lossErrors = []\n",
    "    \n",
    "    rangeList = list(range(len(yTrue[0])))\n",
    "    \n",
    "    for true, predicted in zip(yTrue, yPredicted):\n",
    "        gainTrue      = [true[x] for x in rangeList[0::2]]\n",
    "        gainPredicted = [predicted[x] for x in rangeList[0::2]]\n",
    "        lossTrue      = [true[x] for x in rangeList[1::2]]\n",
    "        lossPredicted = [predicted[x] for x in rangeList[1::2]]\n",
    "        \n",
    "        gainErrors.append(mean_absolute_error(gainTrue, gainPredicted))\n",
    "        lossErrors.append(mean_absolute_error(lossTrue, lossPredicted))\n",
    "        \n",
    "    return gainErrors, lossErrors"
   ]
  },
  {
   "cell_type": "markdown",
   "metadata": {},
   "source": [
    "# Plotting function"
   ]
  },
  {
   "cell_type": "code",
   "execution_count": 4,
   "metadata": {},
   "outputs": [],
   "source": [
    "import matplotlib.pyplot as plt\n",
    "\n",
    "def plotGrid(gainData, lossData):\n",
    "    fontSize = 32\n",
    "    \n",
    "    fig, axis = plt.subplots(2, figsize = (10, 10))\n",
    "    \n",
    "    axis[0].boxplot(gainData)\n",
    "    axis[0].set_title(\"Test error for Gain\", fontsize = fontSize)\n",
    "    axis[0].get_xaxis().set_visible(False)\n",
    "    axis[0].yaxis.set_tick_params(labelsize = fontSize)\n",
    "    axis[0].set_yticklabels(range(0, 4))\n",
    "    axis[0].set_ylim(0, 3)\n",
    "    \n",
    "    axis[1].boxplot(lossData)\n",
    "    axis[1].set_title(\"Test error for Loss\", fontsize = fontSize)\n",
    "    axis[1].xaxis.set_tick_params(labelsize = fontSize)\n",
    "    axis[1].yaxis.set_tick_params(labelsize = fontSize)\n",
    "    axis[1].set_xticklabels(strategyArray)\n",
    "    axis[1].set_yticklabels(range(0, 4))\n",
    "    axis[1].set_ylim(0, 3)\n",
    "\n",
    "    #fig.text(0.053, 0.5, 'Erro Médio Absoluto (dB)', va='center', rotation='vertical', fontsize = 30)\n",
    "\n",
    "    plt.gcf().subplots_adjust(bottom = 0.08)\n",
    "    fig.savefig(\"../../graphs/perAmp-{}amp.pdf\".format(data.ampNumber), format = 'pdf', dpi = 1000, bbox_inches = \"tight\")"
   ]
  },
  {
   "cell_type": "markdown",
   "metadata": {},
   "source": [
    "# Building the models"
   ]
  },
  {
   "cell_type": "code",
   "execution_count": 5,
   "metadata": {},
   "outputs": [],
   "source": [
    "cvData = []\n",
    "X, y = data.loadDataset()\n",
    "\n",
    "for i in range(5):\n",
    "    X_train, X_test, y_train, y_test = data.train_test_split(X, y, test_size = 0.3, random_state = i)\n",
    "    cvData.append([X_train, X_test, y_train, y_test])\n",
    "    \n",
    "count = 1"
   ]
  },
  {
   "cell_type": "code",
   "execution_count": 6,
   "metadata": {
    "scrolled": true
   },
   "outputs": [
    {
     "name": "stdout",
     "output_type": "stream",
     "text": [
      "[17.  0. 18.  0. 18.  0. 19.  1. 18.  0. 19.  2. 19.  0. 24.  0.] [1.68632928e+01 1.84051775e-04 1.81057859e+01 3.43091421e-08\n",
      " 1.80652360e+01 1.47166208e-02 1.86112790e+01 6.79053102e-01\n",
      " 1.83283337e+01 1.95858710e-01 1.97660430e+01 1.86946617e+00\n",
      " 1.80319683e+01 3.28030370e-02 2.30501026e+01 3.18812308e-01]\n",
      "[17.  0. 18.  0. 18.  0. 19.  1. 18.  0. 20.  2. 18.  0. 24.  0.] [ 1.69004802e+01  2.30280040e-04  1.81028520e+01 -6.61825176e-08\n",
      "  1.80166671e+01  1.46300669e-02  1.85954277e+01  6.50965717e-01\n",
      "  1.84084270e+01  1.22814103e-01  1.97089764e+01  2.00792624e+00\n",
      "  1.81006507e+01  3.35100682e-02  2.30891605e+01  1.93912920e-01]\n",
      "[16.  0. 19.  0. 18.  0. 18.  0. 18.  0. 21.  3. 20.  2. 24.  1.] [ 1.69603771e+01  1.22522370e-05  1.80392762e+01 -6.21315899e-08\n",
      "  1.83758089e+01  4.10028871e-01  1.80740197e+01  3.69267044e-02\n",
      "  1.84692712e+01  2.87473075e-01  2.09462663e+01  3.32978274e+00\n",
      "  2.03880403e+01  2.81576422e+00  2.33095693e+01  9.64232893e-01]\n",
      "[17.  0. 18.  0. 17.  0. 18.  0. 23.  4. 17.  0. 22.  4. 22.  0.] [ 1.69204185e+01  4.52641552e-01  1.82567517e+01 -3.10918461e-08\n",
      "  1.79071307e+01  1.86390572e-03  1.89176704e+01  1.15801868e+00\n",
      "  2.15700405e+01  3.20695100e+00  1.75305497e+01  8.72893040e-04\n",
      "  2.11764293e+01  3.44961130e+00  2.32729289e+01  9.17836292e-01]\n",
      "[17.  0. 18.  0. 19.  1. 18.  0. 19.  1. 21.  3. 21.  3. 23.  1.] [1.69247468e+01 1.79329033e-05 1.80747175e+01 1.09674630e-08\n",
      " 1.82949463e+01 3.23532598e-01 1.80840321e+01 3.90294109e-02\n",
      " 1.85114154e+01 2.27048056e-01 2.08750510e+01 3.43118286e+00\n",
      " 2.03723192e+01 2.78451154e+00 2.34313741e+01 9.65000986e-01]\n"
     ]
    }
   ],
   "source": [
    "from sklearn.linear_model import BayesianRidge\n",
    "\n",
    "errorArray[0].append([])\n",
    "errorArray[1].append([])\n",
    "\n",
    "for i in range(5):\n",
    "    finalResult = []\n",
    "\n",
    "    for j in range(0, data.ampNumber * 2, 2):\n",
    "        model = MultiOutputRegressor(BayesianRidge())\n",
    "        model.fit(cvData[i][0], cvData[i][2][:, j: j + 2])\n",
    "\n",
    "        result = model.predict(cvData[i][1])\n",
    "\n",
    "        if len(finalResult) == 0:\n",
    "            finalResult = result\n",
    "        else:\n",
    "            finalResult = data.np.hstack((finalResult, result))\n",
    "\n",
    "    print(cvData[i][-1][0], finalResult[0])\n",
    "    \n",
    "    mae = getMAE(cvData[i][3], finalResult)\n",
    "\n",
    "    errorArray[0][-1].extend(mae[0])\n",
    "    errorArray[1][-1].extend(mae[1])\n",
    "\n",
    "strategyArray.append(\"BR\")\n",
    "count += 1"
   ]
  },
  {
   "cell_type": "code",
   "execution_count": 7,
   "metadata": {},
   "outputs": [
    {
     "name": "stdout",
     "output_type": "stream",
     "text": [
      "[17.  0. 18.  0. 18.  0. 19.  1. 18.  0. 19.  2. 19.  0. 24.  0.] [16.85772776  0.         18.10780505  0.         17.9997804   0.\n",
      " 18.67476604  0.7217688  18.29165471  0.15966259 19.76837747  1.85296458\n",
      " 17.99874165  0.         22.98651417  0.24355341]\n",
      "[17.  0. 18.  0. 18.  0. 19.  1. 18.  0. 20.  2. 18.  0. 24.  0.] [16.89446915  0.         18.10795524  0.         17.97230376  0.\n",
      " 18.70653056  0.71364612 18.36661483  0.06329445 19.70340106  1.99376379\n",
      " 18.08251771  0.         23.08204081  0.12208591]\n",
      "[16.  0. 19.  0. 18.  0. 18.  0. 18.  0. 21.  3. 20.  2. 24.  1.] [16.95581267  0.         18.03826525  0.         18.4267718   0.42487577\n",
      " 18.          0.         18.49066208  0.30687617 20.96722656  3.34631487\n",
      " 20.43932773  2.84563682 23.42187445  1.04780804]\n",
      "[17.  0. 18.  0. 17.  0. 18.  0. 23.  4. 17.  0. 22.  4. 22.  0.] [16.92064942  0.45660557 18.26411082  0.         17.89935875  0.\n",
      " 18.92144802  1.16563483 21.591266    3.19519509 17.53850451  0.\n",
      " 21.13113798  3.44184265 23.29238673  0.93181822]\n",
      "[17.  0. 18.  0. 19.  1. 18.  0. 19.  1. 21.  3. 21.  3. 23.  1.] [16.92421986  0.         18.07694793  0.         18.33330876  0.33815213\n",
      " 18.          0.         18.5717945   0.26242176 20.88199669  3.44209647\n",
      " 20.40601203  2.82649082 23.56330997  1.03002486]\n"
     ]
    }
   ],
   "source": [
    "from sklearn.ensemble import RandomForestRegressor\n",
    "\n",
    "errorArray[0].append([])\n",
    "errorArray[1].append([])\n",
    "\n",
    "for i in range(5):\n",
    "    finalResult = []\n",
    "\n",
    "    for j in range(0, data.ampNumber * 2, 2):\n",
    "        model = MultiOutputRegressor(RandomForestRegressor())\n",
    "        model.fit(cvData[i][0], cvData[i][2][:, j: j + 2])\n",
    "\n",
    "        result = model.predict(cvData[i][1])\n",
    "\n",
    "        if len(finalResult) == 0:\n",
    "            finalResult = result\n",
    "        else:\n",
    "            finalResult = data.np.hstack((finalResult, result))\n",
    "\n",
    "    print(cvData[i][-1][0], finalResult[0])\n",
    "    \n",
    "    mae = getMAE(cvData[i][3], finalResult)\n",
    "\n",
    "    errorArray[0][-1].extend(mae[0])\n",
    "    errorArray[1][-1].extend(mae[1])\n",
    "\n",
    "strategyArray.append(\"RF\")\n",
    "count += 1"
   ]
  },
  {
   "cell_type": "code",
   "execution_count": 8,
   "metadata": {},
   "outputs": [
    {
     "name": "stdout",
     "output_type": "stream",
     "text": [
      "[17.  0. 18.  0. 18.  0. 19.  1. 18.  0. 19.  2. 19.  0. 24.  0.] [16.86206897  0.         18.10344828  0.         18.          0.\n",
      " 18.68965517  0.72413793 18.27586207  0.13793103 19.75862069  1.86206897\n",
      " 18.          0.         23.          0.24137931]\n",
      "[17.  0. 18.  0. 18.  0. 19.  1. 18.  0. 20.  2. 18.  0. 24.  0.] [16.9         0.         18.1         0.         17.96666667  0.\n",
      " 18.7         0.7        18.36666667  0.06666667 19.7         2.\n",
      " 18.06666667  0.         23.06666667  0.13333333]\n",
      "[16.  0. 19.  0. 18.  0. 18.  0. 18.  0. 21.  3. 20.  2. 24.  1.] [16.96153846  0.         18.03846154  0.         18.42307692  0.42307692\n",
      " 18.          0.         18.5         0.30769231 20.96153846  3.34615385\n",
      " 20.42307692  2.84615385 23.42307692  1.03846154]\n",
      "[17.  0. 18.  0. 17.  0. 18.  0. 23.  4. 17.  0. 22.  4. 22.  0.] [16.92156863  0.45098039 18.25490196  0.         17.90196078  0.\n",
      " 18.92156863  1.15686275 21.58823529  3.21568627 17.52941176  0.\n",
      " 21.17647059  3.45098039 23.29411765  0.92156863]\n",
      "[17.  0. 18.  0. 19.  1. 18.  0. 19.  1. 21.  3. 21.  3. 23.  1.] [16.92592593  0.         18.07407407  0.         18.33333333  0.33333333\n",
      " 18.          0.         18.55555556  0.25925926 20.88888889  3.44444444\n",
      " 20.40740741  2.81481481 23.55555556  1.03703704]\n"
     ]
    }
   ],
   "source": [
    "from sklearn.tree import DecisionTreeRegressor\n",
    "\n",
    "errorArray[0].append([])\n",
    "errorArray[1].append([])\n",
    "\n",
    "for i in range(5):\n",
    "    finalResult = []\n",
    "\n",
    "    for j in range(0, data.ampNumber * 2, 2):\n",
    "        model = MultiOutputRegressor(DecisionTreeRegressor())\n",
    "        model.fit(cvData[i][0], cvData[i][2][:, j: j + 2])\n",
    "\n",
    "        result = model.predict(cvData[i][1])\n",
    "\n",
    "        if len(finalResult) == 0:\n",
    "            finalResult = result\n",
    "        else:\n",
    "            finalResult = data.np.hstack((finalResult, result))\n",
    "\n",
    "    print(cvData[i][-1][0], finalResult[0])\n",
    "    \n",
    "    mae = getMAE(cvData[i][3], finalResult)\n",
    "\n",
    "    errorArray[0][-1].extend(mae[0])\n",
    "    errorArray[1][-1].extend(mae[1])\n",
    "\n",
    "strategyArray.append(\"DT\")\n",
    "count += 1"
   ]
  },
  {
   "cell_type": "code",
   "execution_count": 9,
   "metadata": {},
   "outputs": [
    {
     "name": "stdout",
     "output_type": "stream",
     "text": [
      "[17.  0. 18.  0. 18.  0. 19.  1. 18.  0. 19.  2. 19.  0. 24.  0.] [1.68626355e+01 1.99228477e-04 1.81034396e+01 2.66797465e-04\n",
      " 1.80007038e+01 6.05666431e-04 1.86615287e+01 7.21931241e-01\n",
      " 1.84130860e+01 2.80790244e-01 1.97585909e+01 1.86202346e+00\n",
      " 1.80051602e+01 5.25599489e-03 2.30000401e+01 2.69235415e-01]\n",
      "[17.  0. 18.  0. 18.  0. 19.  1. 18.  0. 20.  2. 18.  0. 24.  0.] [1.69099021e+01 3.67763177e-04 1.80999805e+01 2.47298192e-04\n",
      " 1.80244750e+01 6.26137585e-04 1.86556657e+01 6.94131610e-01\n",
      " 1.84581439e+01 1.96844783e-01 1.96999510e+01 1.99994209e+00\n",
      " 1.81694350e+01 9.94298542e-03 2.30667415e+01 1.34424909e-01]\n",
      "[16.  0. 19.  0. 18.  0. 18.  0. 18.  0. 21.  3. 20.  2. 24.  1.] [1.69556224e+01 2.41652073e-04 1.80567306e+01 2.69574107e-04\n",
      " 1.84181113e+01 4.22119169e-01 1.80009687e+01 4.71124719e-02\n",
      " 1.84963238e+01 3.04114476e-01 2.09586977e+01 3.34337434e+00\n",
      " 2.04004299e+01 2.84337687e+00 2.34223177e+01 9.64899286e-01]\n",
      "[17.  0. 18.  0. 17.  0. 18.  0. 23.  4. 17.  0. 22.  4. 22.  0.] [1.69199306e+01 4.51330043e-01 1.82553514e+01 2.79034691e-04\n",
      " 1.79287875e+01 1.72426117e-04 1.89140847e+01 1.16149630e+00\n",
      " 2.15853483e+01 3.20969414e+00 1.75309351e+01 1.54600302e-03\n",
      " 2.11474437e+01 3.44950843e+00 2.32859341e+01 9.03264137e-01]\n",
      "[17.  0. 18.  0. 19.  1. 18.  0. 19.  1. 21.  3. 21.  3. 23.  1.] [1.69148173e+01 2.62869752e-04 1.80846239e+01 2.02613682e-04\n",
      " 1.83214001e+01 3.33004975e-01 1.80022698e+01 1.35310295e-03\n",
      " 1.84682484e+01 2.55665654e-01 2.08855126e+01 3.44146091e+00\n",
      " 2.03817801e+01 2.81203910e+00 2.34835841e+01 1.03642456e+00]\n"
     ]
    }
   ],
   "source": [
    "from sklearn.linear_model import LassoCV\n",
    "\n",
    "errorArray[0].append([])\n",
    "errorArray[1].append([])\n",
    "\n",
    "for i in range(5):\n",
    "    finalResult = []\n",
    "\n",
    "    for j in range(0, data.ampNumber * 2, 2):\n",
    "        model = MultiOutputRegressor(LassoCV())\n",
    "        model.fit(cvData[i][0], cvData[i][2][:, j: j + 2])\n",
    "\n",
    "        result = model.predict(cvData[i][1])\n",
    "\n",
    "        if len(finalResult) == 0:\n",
    "            finalResult = result\n",
    "        else:\n",
    "            finalResult = data.np.hstack((finalResult, result))\n",
    "\n",
    "    print(cvData[i][-1][0], finalResult[0])\n",
    "    \n",
    "    mae = getMAE(cvData[i][3], finalResult)\n",
    "\n",
    "    errorArray[0][-1].extend(mae[0])\n",
    "    errorArray[1][-1].extend(mae[1])\n",
    "\n",
    "strategyArray.append(\"LCV\")\n",
    "count += 1"
   ]
  },
  {
   "cell_type": "code",
   "execution_count": 10,
   "metadata": {},
   "outputs": [
    {
     "name": "stdout",
     "output_type": "stream",
     "text": [
      "[17.  0. 18.  0. 18.  0. 19.  1. 18.  0. 19.  2. 19.  0. 24.  0.] [16.81818182  0.1958042  18.53146853  0.27272727 18.15384615  0.17482517\n",
      " 18.47552448  0.59440559 19.5034965   1.35664336 18.90909091  1.22377622\n",
      " 19.83216783  1.90909091 23.06293706  0.63636364]\n",
      "[17.  0. 18.  0. 18.  0. 19.  1. 18.  0. 20.  2. 18.  0. 24.  0.] [16.78321678  0.23776224 18.6013986   0.26573427 18.12587413  0.18881119\n",
      " 18.5034965   0.65034965 19.61538462  1.39160839 18.87412587  1.25174825\n",
      " 19.83916084  1.84615385 23.          0.59440559]\n",
      "[16.  0. 19.  0. 18.  0. 18.  0. 18.  0. 21.  3. 20.  2. 24.  1.] [16.79020979  0.23776224 18.56643357  0.27972028 18.16783217  0.1958042\n",
      " 18.51048951  0.65734266 19.56643357  1.40559441 18.92307692  1.18881119\n",
      " 19.85314685  1.86013986 22.92307692  0.59440559]\n",
      "[17.  0. 18.  0. 17.  0. 18.  0. 23.  4. 17.  0. 22.  4. 22.  0.] [16.83216783  0.20979021 18.48951049  0.25874126 18.1048951   0.13986014\n",
      " 18.47552448  0.62937063 19.65734266  1.41258741 18.86013986  1.2027972\n",
      " 19.9020979   1.97902098 22.98601399  0.64335664]\n",
      "[17.  0. 18.  0. 19.  1. 18.  0. 19.  1. 21.  3. 21.  3. 23.  1.] [16.74125874  0.25874126 18.57342657  0.22377622 18.15384615  0.17482517\n",
      " 18.54545455  0.72027972 19.62237762  1.37762238 18.9020979   1.29370629\n",
      " 19.88111888  1.8951049  22.97202797  0.65734266]\n"
     ]
    }
   ],
   "source": [
    "from sklearn.dummy import DummyRegressor\n",
    "\n",
    "errorArray[0].append([])\n",
    "errorArray[1].append([])\n",
    "\n",
    "for i in range(5):\n",
    "    finalResult = []\n",
    "\n",
    "    for j in range(0, data.ampNumber * 2, 2):\n",
    "        model = MultiOutputRegressor(DummyRegressor())\n",
    "        model.fit(cvData[i][0], cvData[i][2][:, j: j + 2])\n",
    "\n",
    "        result = model.predict(cvData[i][1])\n",
    "\n",
    "        if len(finalResult) == 0:\n",
    "            finalResult = result\n",
    "        else:\n",
    "            finalResult = data.np.hstack((finalResult, result))\n",
    "\n",
    "    print(cvData[i][-1][0], finalResult[0])\n",
    "    \n",
    "    mae = getMAE(cvData[i][3], finalResult)\n",
    "\n",
    "    errorArray[0][-1].extend(mae[0])\n",
    "    errorArray[1][-1].extend(mae[1])\n",
    "\n",
    "strategyArray.append(\"SM\")\n",
    "count += 1"
   ]
  },
  {
   "cell_type": "code",
   "execution_count": 11,
   "metadata": {},
   "outputs": [
    {
     "name": "stdout",
     "output_type": "stream",
     "text": [
      "dict_keys(['AdaBoostRegressor', 'BaggingRegressor', 'LassoCV', 'OrthogonalMatchingPursuitCV', 'ElasticNetCV'])\n",
      "### Gain ###\n",
      "Mean: 0.5422405102160034. Median: 0.4921989681061303\n",
      "Mean: 0.5388632734147275. Median: 0.4856510025680567\n",
      "Mean: 0.5388562853004913. Median: 0.4855769230769229\n",
      "Mean: 0.5410865736108448. Median: 0.4840951545018024\n",
      "Mean: 0.8780819986465149. Median: 0.799825174825175\n",
      "### Loss ###\n",
      "Mean: 0.39538851413453907. Median: 0.31819117194048785\n",
      "Mean: 0.3906722984465829. Median: 0.3217985953752114\n",
      "Mean: 0.3906460735762556. Median: 0.32142857142857145\n",
      "Mean: 0.39397908716658353. Median: 0.3208012674537321\n",
      "Mean: 0.8240328220166929. Median: 0.7552447552447552\n",
      "Mean Total - Gain: 0.6078257282377164. Loss: 0.4789437590681308\n"
     ]
    },
    {
     "data": {
      "image/png": "[encoded data removed]",
      "text/plain": [
       "<matplotlib.figure.Figure at 0x7ff2143f5b70>"
      ]
     },
     "metadata": {
      "needs_background": "light"
     },
     "output_type": "display_data"
    }
   ],
   "source": [
    "import numpy as np\n",
    "print(sortedDict.keys())\n",
    "\n",
    "gain = 0\n",
    "print(\"### Gain ###\")\n",
    "\n",
    "for gainError in errorArray[0]:\n",
    "    gain += np.mean(gainError)\n",
    "    print(\"Mean: {}. Median: {}\".format(np.mean(gainError), np.median(gainError)))\n",
    "\n",
    "loss = 0\n",
    "print(\"### Loss ###\")\n",
    "\n",
    "for lossError in errorArray[1]:\n",
    "    loss += np.mean(lossError)\n",
    "    print(\"Mean: {}. Median: {}\".format(np.mean(lossError), np.median(lossError)))\n",
    "    \n",
    "print(\"Mean Total - Gain: {}. Loss: {}\".format(gain / 5, loss / 5))\n",
    "plotGrid(errorArray[0], errorArray[1])"
   ]
  }
 ],
 "metadata": {
  "kernelspec": {
   "display_name": "acopEnv",
   "language": "python",
   "name": "acopenv"
  },
  "language_info": {
   "codemirror_mode": {
    "name": "ipython",
    "version": 3
   },
   "file_extension": ".py",
   "mimetype": "text/x-python",
   "name": "python",
   "nbconvert_exporter": "python",
   "pygments_lexer": "ipython3",
   "version": "3.6.9"
  }
 },
 "nbformat": 4,
 "nbformat_minor": 2
}
