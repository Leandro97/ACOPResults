{
 "cells": [
  {
   "cell_type": "markdown",
   "metadata": {},
   "source": [
    "# Imports "
   ]
  },
  {
   "cell_type": "code",
   "execution_count": 1,
   "metadata": {},
   "outputs": [
    {
     "name": "stderr",
     "output_type": "stream",
     "text": [
      "/home/leandro/.local/lib/python3.6/site-packages/sklearn/utils/deprecation.py:143: FutureWarning: The sklearn.utils.testing module is  deprecated in version 0.22 and will be removed in version 0.24. The corresponding classes / functions should instead be imported from sklearn.utils. Anything that cannot be imported from sklearn.utils is now part of the private API.\n",
      "  warnings.warn(message, FutureWarning)\n",
      "  0%|          | 0/43 [00:00<?, ?it/s]"
     ]
    },
    {
     "name": "stdout",
     "output_type": "stream",
     "text": [
      "[114, 102, 67, 14, 133, 38, 97, 129, 89, 71, 40, 77]\n",
      "2 chs: 114 entries\n",
      "3 chs: 102 entries\n",
      "4 chs: 67 entries\n",
      "5 chs: 14 entries\n",
      "6 chs: 133 entries\n",
      "7 chs: 38 entries\n",
      "8 chs: 97 entries\n",
      "9 chs: 129 entries\n",
      "10 chs: 89 entries\n",
      "15 chs: 71 entries\n",
      "20 chs: 40 entries\n",
      "30 chs: 77 entries\n",
      "Dataset entries: 182\n"
     ]
    },
    {
     "name": "stderr",
     "output_type": "stream",
     "text": [
      " 81%|████████▏ | 35/43 [00:04<00:01,  7.33it/s]"
     ]
    },
    {
     "name": "stdout",
     "output_type": "stream",
     "text": [
      "RANSACRegressor model failed to execute\n",
      "RANSAC could not find a valid consensus set. All `max_trials` iterations were skipped because each randomly chosen sub-sample failed the passing criteria. See estimator attributes for diagnostics (n_skips*).\n"
     ]
    },
    {
     "name": "stderr",
     "output_type": "stream",
     "text": [
      "\r",
      " 95%|█████████▌| 41/43 [00:04<00:00,  9.89it/s]"
     ]
    },
    {
     "name": "stdout",
     "output_type": "stream",
     "text": [
      "StackingRegressor model failed to execute\n",
      "__init__() missing 1 required positional argument: 'estimators'\n"
     ]
    },
    {
     "name": "stderr",
     "output_type": "stream",
     "text": [
      "100%|██████████| 43/43 [00:04<00:00,  8.80it/s]\n",
      " 26%|██▌       | 11/43 [00:01<00:02, 12.07it/s]"
     ]
    },
    {
     "name": "stdout",
     "output_type": "stream",
     "text": [
      "GammaRegressor model failed to execute\n",
      "Some value(s) of y are out of the valid range for family GammaDistribution\n"
     ]
    },
    {
     "name": "stderr",
     "output_type": "stream",
     "text": [
      " 81%|████████▏ | 35/43 [00:03<00:00,  9.51it/s]"
     ]
    },
    {
     "name": "stdout",
     "output_type": "stream",
     "text": [
      "RANSACRegressor model failed to execute\n",
      "RANSAC could not find a valid consensus set. All `max_trials` iterations were skipped because each randomly chosen sub-sample failed the passing criteria. See estimator attributes for diagnostics (n_skips*).\n",
      "StackingRegressor model failed to execute\n",
      "__init__() missing 1 required positional argument: 'estimators'\n"
     ]
    },
    {
     "name": "stderr",
     "output_type": "stream",
     "text": [
      "100%|██████████| 43/43 [00:04<00:00,  9.82it/s]\n",
      " 88%|████████▊ | 38/43 [00:05<00:00,  7.25it/s]"
     ]
    },
    {
     "name": "stdout",
     "output_type": "stream",
     "text": [
      "StackingRegressor model failed to execute\n",
      "__init__() missing 1 required positional argument: 'estimators'\n"
     ]
    },
    {
     "name": "stderr",
     "output_type": "stream",
     "text": [
      "100%|██████████| 43/43 [00:06<00:00,  7.07it/s]\n",
      " 30%|███       | 13/43 [00:00<00:01, 21.91it/s]"
     ]
    },
    {
     "name": "stdout",
     "output_type": "stream",
     "text": [
      "GammaRegressor model failed to execute\n",
      "Some value(s) of y are out of the valid range for family GammaDistribution\n"
     ]
    },
    {
     "name": "stderr",
     "output_type": "stream",
     "text": [
      " 74%|███████▍  | 32/43 [00:03<00:02,  4.43it/s]"
     ]
    },
    {
     "name": "stdout",
     "output_type": "stream",
     "text": [
      "RANSACRegressor model failed to execute\n",
      "RANSAC could not find a valid consensus set. All `max_trials` iterations were skipped because each randomly chosen sub-sample failed the passing criteria. See estimator attributes for diagnostics (n_skips*).\n"
     ]
    },
    {
     "name": "stderr",
     "output_type": "stream",
     "text": [
      " 88%|████████▊ | 38/43 [00:04<00:00,  5.64it/s]"
     ]
    },
    {
     "name": "stdout",
     "output_type": "stream",
     "text": [
      "StackingRegressor model failed to execute\n",
      "__init__() missing 1 required positional argument: 'estimators'\n"
     ]
    },
    {
     "name": "stderr",
     "output_type": "stream",
     "text": [
      "100%|██████████| 43/43 [00:04<00:00,  8.68it/s]\n",
      " 88%|████████▊ | 38/43 [00:05<00:00,  6.43it/s]"
     ]
    },
    {
     "name": "stdout",
     "output_type": "stream",
     "text": [
      "StackingRegressor model failed to execute\n",
      "__init__() missing 1 required positional argument: 'estimators'\n"
     ]
    },
    {
     "name": "stderr",
     "output_type": "stream",
     "text": [
      "100%|██████████| 43/43 [00:05<00:00,  7.44it/s]\n",
      " 28%|██▊       | 12/43 [00:01<00:03,  9.79it/s]"
     ]
    },
    {
     "name": "stdout",
     "output_type": "stream",
     "text": [
      "GammaRegressor model failed to execute\n",
      "Some value(s) of y are out of the valid range for family GammaDistribution\n"
     ]
    },
    {
     "name": "stderr",
     "output_type": "stream",
     "text": [
      " 74%|███████▍  | 32/43 [00:04<00:01,  8.62it/s]"
     ]
    },
    {
     "name": "stdout",
     "output_type": "stream",
     "text": [
      "RANSACRegressor model failed to execute\n",
      "RANSAC could not find a valid consensus set. All `max_trials` iterations were skipped because each randomly chosen sub-sample failed the passing criteria. See estimator attributes for diagnostics (n_skips*).\n"
     ]
    },
    {
     "name": "stderr",
     "output_type": "stream",
     "text": [
      " 88%|████████▊ | 38/43 [00:05<00:00,  8.07it/s]"
     ]
    },
    {
     "name": "stdout",
     "output_type": "stream",
     "text": [
      "StackingRegressor model failed to execute\n",
      "__init__() missing 1 required positional argument: 'estimators'\n"
     ]
    },
    {
     "name": "stderr",
     "output_type": "stream",
     "text": [
      "100%|██████████| 43/43 [00:05<00:00,  7.20it/s]\n",
      " 74%|███████▍  | 32/43 [00:06<00:01,  6.49it/s]"
     ]
    },
    {
     "name": "stdout",
     "output_type": "stream",
     "text": [
      "RANSACRegressor model failed to execute\n",
      "RANSAC could not find a valid consensus set. All `max_trials` iterations were skipped because each randomly chosen sub-sample failed the passing criteria. See estimator attributes for diagnostics (n_skips*).\n"
     ]
    },
    {
     "name": "stderr",
     "output_type": "stream",
     "text": [
      " 88%|████████▊ | 38/43 [00:06<00:00,  6.96it/s]"
     ]
    },
    {
     "name": "stdout",
     "output_type": "stream",
     "text": [
      "StackingRegressor model failed to execute\n",
      "__init__() missing 1 required positional argument: 'estimators'\n"
     ]
    },
    {
     "name": "stderr",
     "output_type": "stream",
     "text": [
      "100%|██████████| 43/43 [00:07<00:00,  5.90it/s]\n",
      " 26%|██▌       | 11/43 [00:01<00:02, 11.77it/s]"
     ]
    },
    {
     "name": "stdout",
     "output_type": "stream",
     "text": [
      "GammaRegressor model failed to execute\n",
      "Some value(s) of y are out of the valid range for family GammaDistribution\n"
     ]
    },
    {
     "name": "stderr",
     "output_type": "stream",
     "text": [
      " 77%|███████▋  | 33/43 [00:04<00:01,  8.39it/s]"
     ]
    },
    {
     "name": "stdout",
     "output_type": "stream",
     "text": [
      "RANSACRegressor model failed to execute\n",
      "RANSAC could not find a valid consensus set. All `max_trials` iterations were skipped because each randomly chosen sub-sample failed the passing criteria. See estimator attributes for diagnostics (n_skips*).\n"
     ]
    },
    {
     "name": "stderr",
     "output_type": "stream",
     "text": [
      " 88%|████████▊ | 38/43 [00:05<00:00,  8.99it/s]"
     ]
    },
    {
     "name": "stdout",
     "output_type": "stream",
     "text": [
      "StackingRegressor model failed to execute\n",
      "__init__() missing 1 required positional argument: 'estimators'\n"
     ]
    },
    {
     "name": "stderr",
     "output_type": "stream",
     "text": [
      "100%|██████████| 43/43 [00:05<00:00,  7.58it/s]\n",
      " 88%|████████▊ | 38/43 [00:07<00:01,  3.30it/s]"
     ]
    },
    {
     "name": "stdout",
     "output_type": "stream",
     "text": [
      "StackingRegressor model failed to execute\n",
      "__init__() missing 1 required positional argument: 'estimators'\n"
     ]
    },
    {
     "name": "stderr",
     "output_type": "stream",
     "text": [
      "100%|██████████| 43/43 [00:08<00:00,  5.30it/s]\n",
      " 30%|███       | 13/43 [00:00<00:02, 12.52it/s]"
     ]
    },
    {
     "name": "stdout",
     "output_type": "stream",
     "text": [
      "GammaRegressor model failed to execute\n",
      "Some value(s) of y are out of the valid range for family GammaDistribution\n"
     ]
    },
    {
     "name": "stderr",
     "output_type": "stream",
     "text": [
      " 88%|████████▊ | 38/43 [00:05<00:00,  6.88it/s]"
     ]
    },
    {
     "name": "stdout",
     "output_type": "stream",
     "text": [
      "StackingRegressor model failed to execute\n",
      "__init__() missing 1 required positional argument: 'estimators'\n"
     ]
    },
    {
     "name": "stderr",
     "output_type": "stream",
     "text": [
      "100%|██████████| 43/43 [00:05<00:00,  7.78it/s]\n",
      " 88%|████████▊ | 38/43 [00:05<00:00,  6.72it/s]"
     ]
    },
    {
     "name": "stdout",
     "output_type": "stream",
     "text": [
      "StackingRegressor model failed to execute\n",
      "__init__() missing 1 required positional argument: 'estimators'\n"
     ]
    },
    {
     "name": "stderr",
     "output_type": "stream",
     "text": [
      "100%|██████████| 43/43 [00:05<00:00,  7.28it/s]\n",
      " 26%|██▌       | 11/43 [00:01<00:02, 11.82it/s]"
     ]
    },
    {
     "name": "stdout",
     "output_type": "stream",
     "text": [
      "GammaRegressor model failed to execute\n",
      "Some value(s) of y are out of the valid range for family GammaDistribution\n"
     ]
    },
    {
     "name": "stderr",
     "output_type": "stream",
     "text": [
      " 88%|████████▊ | 38/43 [00:05<00:00,  5.22it/s]"
     ]
    },
    {
     "name": "stdout",
     "output_type": "stream",
     "text": [
      "StackingRegressor model failed to execute\n",
      "__init__() missing 1 required positional argument: 'estimators'\n"
     ]
    },
    {
     "name": "stderr",
     "output_type": "stream",
     "text": [
      "100%|██████████| 43/43 [00:05<00:00,  7.72it/s]\n",
      " 88%|████████▊ | 38/43 [00:07<00:01,  4.61it/s]"
     ]
    },
    {
     "name": "stdout",
     "output_type": "stream",
     "text": [
      "StackingRegressor model failed to execute\n",
      "__init__() missing 1 required positional argument: 'estimators'\n"
     ]
    },
    {
     "name": "stderr",
     "output_type": "stream",
     "text": [
      "100%|██████████| 43/43 [00:07<00:00,  5.56it/s]\n",
      " 30%|███       | 13/43 [00:00<00:01, 19.52it/s]"
     ]
    },
    {
     "name": "stdout",
     "output_type": "stream",
     "text": [
      "GammaRegressor model failed to execute\n",
      "Some value(s) of y are out of the valid range for family GammaDistribution\n"
     ]
    },
    {
     "name": "stderr",
     "output_type": "stream",
     "text": [
      " 74%|███████▍  | 32/43 [00:04<00:02,  4.69it/s]"
     ]
    },
    {
     "name": "stdout",
     "output_type": "stream",
     "text": [
      "RANSACRegressor model failed to execute\n",
      "RANSAC could not find a valid consensus set. All `max_trials` iterations were skipped because each randomly chosen sub-sample failed the passing criteria. See estimator attributes for diagnostics (n_skips*).\n"
     ]
    },
    {
     "name": "stderr",
     "output_type": "stream",
     "text": [
      " 88%|████████▊ | 38/43 [00:04<00:00,  5.86it/s]"
     ]
    },
    {
     "name": "stdout",
     "output_type": "stream",
     "text": [
      "StackingRegressor model failed to execute\n",
      "__init__() missing 1 required positional argument: 'estimators'\n"
     ]
    },
    {
     "name": "stderr",
     "output_type": "stream",
     "text": [
      "100%|██████████| 43/43 [00:05<00:00,  8.43it/s]\n"
     ]
    }
   ],
   "source": [
    "import ipynb.fs.full.PrepareData as data\n",
    "from sklearn.multioutput import MultiOutputRegressor\n",
    "import itertools\n",
    "\n",
    "strategyArray = []\n",
    "errorArray    = [[], []]"
   ]
  },
  {
   "cell_type": "markdown",
   "metadata": {},
   "source": [
    "# Sorting the dataset"
   ]
  },
  {
   "cell_type": "code",
   "execution_count": 2,
   "metadata": {
    "scrolled": false
   },
   "outputs": [
    {
     "name": "stdout",
     "output_type": "stream",
     "text": [
      "dict_keys(['RandomForestRegressor', 'BaggingRegressor', 'XGBRegressor', 'DecisionTreeRegressor', 'ExtraTreesRegressor'])\n"
     ]
    }
   ],
   "source": [
    "sortedDict = {}\n",
    "commonRegressors = data.commonRegressors\n",
    "\n",
    "for regressor in commonRegressors:\n",
    "    sortedDict[regressor] = 0\n",
    "    \n",
    "    for i in range(data.ampNumber):\n",
    "        sortedDict[regressor] += data.finalList[i][regressor][0] + data.finalList[i][regressor][1]\n",
    "\n",
    "sortedDict = dict(sorted(sortedDict.items(), key = lambda x : x[1]))\n",
    "sortedDict = dict(itertools.islice(sortedDict.items(), 5))\n",
    "\n",
    "print(sortedDict.keys())"
   ]
  },
  {
   "cell_type": "markdown",
   "metadata": {},
   "source": [
    "# Processing data"
   ]
  },
  {
   "cell_type": "code",
   "execution_count": 3,
   "metadata": {},
   "outputs": [],
   "source": [
    "from sklearn.metrics import mean_absolute_error\n",
    "\n",
    "def getMAE(yTrue, yPredicted):\n",
    "    gainErrors = []\n",
    "    lossErrors = []\n",
    "    \n",
    "    rangeList = list(range(len(yTrue[0])))\n",
    "    \n",
    "    for true, predicted in zip(yTrue, yPredicted):\n",
    "        gainTrue      = [true[x] for x in rangeList[0::2]]\n",
    "        gainPredicted = [predicted[x] for x in rangeList[0::2]]\n",
    "        lossTrue      = [true[x] for x in rangeList[1::2]]\n",
    "        lossPredicted = [predicted[x] for x in rangeList[1::2]]\n",
    "        \n",
    "        gainErrors.append(mean_absolute_error(gainTrue, gainPredicted))\n",
    "        lossErrors.append(mean_absolute_error(lossTrue, lossPredicted))\n",
    "        \n",
    "    return gainErrors, lossErrors"
   ]
  },
  {
   "cell_type": "markdown",
   "metadata": {},
   "source": [
    "# Plotting function"
   ]
  },
  {
   "cell_type": "code",
   "execution_count": 4,
   "metadata": {},
   "outputs": [],
   "source": [
    "import matplotlib.pyplot as plt\n",
    "\n",
    "def plotGrid(gainData, lossData):\n",
    "    fontSize = 32\n",
    "    \n",
    "    fig, axis = plt.subplots(2, figsize = (10, 10))\n",
    "    \n",
    "    axis[0].boxplot(gainData)\n",
    "    axis[0].set_title(\"Test error for Gain\", fontsize = fontSize)\n",
    "    axis[0].get_xaxis().set_visible(False)\n",
    "    axis[0].yaxis.set_tick_params(labelsize = fontSize)\n",
    "    axis[0].set_yticklabels(range(0, 4))\n",
    "    axis[0].set_ylim(0, 3)\n",
    "    \n",
    "    axis[1].boxplot(lossData)\n",
    "    axis[1].set_title(\"Test error for Loss\", fontsize = fontSize)\n",
    "    axis[1].xaxis.set_tick_params(labelsize = fontSize)\n",
    "    axis[1].yaxis.set_tick_params(labelsize = fontSize)\n",
    "    axis[1].set_xticklabels(strategyArray)\n",
    "    axis[1].set_yticklabels(range(0, 4))\n",
    "    axis[1].set_ylim(0, 3)\n",
    "\n",
    "    #fig.text(0.053, 0.5, 'Erro Médio Absoluto (dB)', va='center', rotation='vertical', fontsize = fontSize)\n",
    "\n",
    "    plt.gcf().subplots_adjust(bottom = 0.08)\n",
    "    fig.savefig(\"../../graphs/perVar-{}amp.pdf\".format(data.ampNumber), format = 'pdf', dpi = 1000, bbox_inches = \"tight\")"
   ]
  },
  {
   "cell_type": "markdown",
   "metadata": {},
   "source": [
    "# Building the models"
   ]
  },
  {
   "cell_type": "code",
   "execution_count": 5,
   "metadata": {},
   "outputs": [],
   "source": [
    "cvData = []\n",
    "X, y = data.loadDataset()\n",
    "\n",
    "for i in range(5):\n",
    "    X_train, X_test, y_train, y_test = data.train_test_split(X, y, test_size = 0.2, random_state = i)\n",
    "    cvData.append([X_train, X_test, y_train, y_test])\n",
    "    \n",
    "count = 1"
   ]
  },
  {
   "cell_type": "code",
   "execution_count": 6,
   "metadata": {
    "scrolled": true
   },
   "outputs": [
    {
     "name": "stdout",
     "output_type": "stream",
     "text": [
      "[17.  0. 18.  0. 20.  2. 19.  1. 18.  0. 19.  1. 24.  0.] [1.66863904e+01 4.49324114e-03 1.81946908e+01 1.69630464e-01\n",
      " 1.93726005e+01 1.23397243e+00 1.87890907e+01 9.75399396e-01\n",
      " 1.93610857e+01 1.46281319e+00 1.96104898e+01 1.59461351e+00\n",
      " 2.32241847e+01 1.00881181e+00]\n",
      "[16.  0. 21.  2. 18.  0. 18.  0. 19.  2. 20.  1. 23.  0.] [16.24312551  0.06285866 20.25621088  1.42951707 18.47073331  0.91604238\n",
      " 19.23636247  1.30304305 19.46667257  1.56946224 20.51374891  2.09576845\n",
      " 22.68891233  0.78503012]\n",
      "[17.  0. 19.  1. 19.  1. 18.  0. 19.  2. 20.  1. 23.  0.] [1.68891350e+01 8.89322526e-05 1.79687255e+01 5.15233437e-01\n",
      " 1.96373142e+01 9.80958420e-01 1.81269639e+01 1.75170427e-01\n",
      " 1.89202012e+01 1.34177125e+00 1.90471531e+01 7.35800718e-01\n",
      " 2.32286194e+01 1.18715135e+00]\n",
      "[17.  0. 19.  1. 18.  0. 18.  0. 19.  1. 19.  1. 23.  0.] [16.57296603  0.0348881  18.73602601  0.61233862 18.55813046  0.289401\n",
      " 17.97232184  0.1296242  20.41579697  2.58202642 20.08605246  2.31240607\n",
      " 22.33149921  0.16454228]\n",
      "[17.  0. 19.  1. 19.  1. 18.  0. 18.  0. 23.  5. 23.  0.] [1.69561023e+01 8.03247000e-03 1.82813007e+01 2.41911371e-01\n",
      " 1.88521739e+01 8.56674467e-01 1.85062661e+01 5.27848831e-01\n",
      " 1.85553776e+01 5.53909139e-01 2.03973408e+01 2.59909969e+00\n",
      " 2.25705813e+01 1.32643610e-01]\n"
     ]
    }
   ],
   "source": [
    "from sklearn.linear_model import BayesianRidge\n",
    "\n",
    "errorArray[0].append([])\n",
    "errorArray[1].append([])\n",
    "\n",
    "for i in range(5):\n",
    "    finalResult = []\n",
    "\n",
    "    for j in range(0, data.ampNumber * 2):\n",
    "        model = MultiOutputRegressor(BayesianRidge())\n",
    "        model.fit(cvData[i][0], cvData[i][2][:, j: j + 1])\n",
    "\n",
    "        result = model.predict(cvData[i][1])\n",
    "\n",
    "        if len(finalResult) == 0:\n",
    "            finalResult = result\n",
    "        else:\n",
    "            finalResult = data.np.hstack((finalResult, result))\n",
    "\n",
    "    print(cvData[i][-1][0], finalResult[0])\n",
    "    \n",
    "    mae = getMAE(cvData[i][3], finalResult)\n",
    "\n",
    "    errorArray[0][-1].extend(mae[0])\n",
    "    errorArray[1][-1].extend(mae[1])\n",
    "\n",
    "strategyArray.append(\"BR\")\n",
    "count += 1"
   ]
  },
  {
   "cell_type": "code",
   "execution_count": 7,
   "metadata": {},
   "outputs": [
    {
     "name": "stdout",
     "output_type": "stream",
     "text": [
      "[17.  0. 18.  0. 20.  2. 19.  1. 18.  0. 19.  1. 24.  0.] [16.68965277  0.         18.18834722  0.16107787 19.43884922  1.25120216\n",
      " 18.78168331  0.98017292 19.38239499  1.51211777 19.58430329  1.54866434\n",
      " 23.33170835  1.0493932 ]\n",
      "[16.  0. 21.  2. 18.  0. 18.  0. 19.  2. 20.  1. 23.  0.] [16.1268196   0.04176071 20.35986787  1.41397967 18.36265737  0.92268787\n",
      " 19.2353218   1.32813823 19.47440983  1.59296095 20.5901706   2.17083773\n",
      " 22.54672537  0.73150647]\n",
      "[17.  0. 19.  1. 19.  1. 18.  0. 19.  2. 20.  1. 23.  0.] [16.89367619  0.         17.96326732  0.51870381 19.64295644  0.97487146\n",
      " 18.12752463  0.17774049 18.91797995  1.34526877 19.05486447  0.73871702\n",
      " 23.24773645  1.20741786]\n",
      "[17.  0. 19.  1. 18.  0. 18.  0. 19.  1. 19.  1. 23.  0.] [16.55370462  0.03924397 18.75784614  0.61335139 18.56837273  0.29099123\n",
      " 17.96319168  0.11098542 20.49005499  2.58280497 20.0905173   2.3228542\n",
      " 22.22864527  0.13833247]\n",
      "[17.  0. 19.  1. 19.  1. 18.  0. 18.  0. 23.  5. 23.  0.] [16.95952231  0.         18.27780635  0.23592703 18.82331785  0.84240207\n",
      " 18.50536499  0.52094054 18.54835465  0.55227891 20.39721655  2.61944638\n",
      " 22.5028005   0.11368113]\n"
     ]
    }
   ],
   "source": [
    "from sklearn.ensemble import RandomForestRegressor\n",
    "\n",
    "errorArray[0].append([])\n",
    "errorArray[1].append([])\n",
    "\n",
    "for i in range(5):\n",
    "    finalResult = []\n",
    "\n",
    "    for j in range(0, data.ampNumber * 2):\n",
    "        model = MultiOutputRegressor(RandomForestRegressor())\n",
    "        model.fit(cvData[i][0], cvData[i][2][:, j: j + 1])\n",
    "\n",
    "        result = model.predict(cvData[i][1])\n",
    "\n",
    "        if len(finalResult) == 0:\n",
    "            finalResult = result\n",
    "        else:\n",
    "            finalResult = data.np.hstack((finalResult, result))\n",
    "\n",
    "    print(cvData[i][-1][0], finalResult[0])\n",
    "    \n",
    "    mae = getMAE(cvData[i][3], finalResult)\n",
    "\n",
    "    errorArray[0][-1].extend(mae[0])\n",
    "    errorArray[1][-1].extend(mae[1])\n",
    "\n",
    "strategyArray.append(\"RF\".format(count))\n",
    "count += 1"
   ]
  },
  {
   "cell_type": "code",
   "execution_count": 8,
   "metadata": {},
   "outputs": [
    {
     "name": "stdout",
     "output_type": "stream",
     "text": [
      "[17.  0. 18.  0. 20.  2. 19.  1. 18.  0. 19.  1. 24.  0.] [16.6875  0.     18.175   0.1625 19.425   1.25   18.7875  0.975  19.375\n",
      "  1.475  19.5875  1.5625 23.325   1.0375]\n",
      "[16.  0. 21.  2. 18.  0. 18.  0. 19.  2. 20.  1. 23.  0.] [16.14285714  0.03571429 20.35714286  1.46428571 18.35714286  0.92857143\n",
      " 19.25        1.32142857 19.46428571  1.57142857 20.60714286  2.17857143\n",
      " 22.53571429  0.75      ]\n",
      "[17.  0. 19.  1. 19.  1. 18.  0. 19.  2. 20.  1. 23.  0.] [16.890625  0.       17.96875   0.515625 19.640625  0.984375 18.125\n",
      "  0.171875 18.921875  1.34375  19.046875  0.734375 23.234375  1.1875  ]\n",
      "[17.  0. 19.  1. 18.  0. 18.  0. 19.  1. 19.  1. 23.  0.] [16.55128205  0.03846154 18.74358974  0.61538462 18.56410256  0.28205128\n",
      " 17.96153846  0.11538462 20.47435897  2.62820513 20.08974359  2.32051282\n",
      " 22.23076923  0.12820513]\n",
      "[17.  0. 19.  1. 19.  1. 18.  0. 18.  0. 23.  5. 23.  0.] [16.95959596  0.         18.28282828  0.24242424 18.83838384  0.84848485\n",
      " 18.50505051  0.52525253 18.54545455  0.54545455 20.4040404   2.61616162\n",
      " 22.50505051  0.11111111]\n"
     ]
    }
   ],
   "source": [
    "from sklearn.tree import DecisionTreeRegressor\n",
    "\n",
    "errorArray[0].append([])\n",
    "errorArray[1].append([])\n",
    "\n",
    "for i in range(5):\n",
    "    finalResult = []\n",
    "\n",
    "    for j in range(0, data.ampNumber * 2):\n",
    "        model = MultiOutputRegressor(DecisionTreeRegressor())\n",
    "        model.fit(cvData[i][0], cvData[i][2][:, j: j + 1])\n",
    "\n",
    "        result = model.predict(cvData[i][1])\n",
    "\n",
    "        if len(finalResult) == 0:\n",
    "            finalResult = result\n",
    "        else:\n",
    "            finalResult = data.np.hstack((finalResult, result))\n",
    "\n",
    "    print(cvData[i][-1][0], finalResult[0])\n",
    "    \n",
    "    mae = getMAE(cvData[i][3], finalResult)\n",
    "\n",
    "    errorArray[0][-1].extend(mae[0])\n",
    "    errorArray[1][-1].extend(mae[1])\n",
    "\n",
    "strategyArray.append(\"DT\")\n",
    "count += 1"
   ]
  },
  {
   "cell_type": "code",
   "execution_count": 9,
   "metadata": {},
   "outputs": [
    {
     "name": "stdout",
     "output_type": "stream",
     "text": [
      "[17.  0. 18.  0. 20.  2. 19.  1. 18.  0. 19.  1. 24.  0.] [1.66875000e+01 4.82781890e-04 1.82060529e+01 1.75107922e-01\n",
      " 1.94224530e+01 1.24684148e+00 1.87875000e+01 9.75000000e-01\n",
      " 1.93750000e+01 1.47500000e+00 1.96006316e+01 1.57042446e+00\n",
      " 2.33028937e+01 1.02805348e+00]\n",
      "[16.  0. 21.  2. 18.  0. 18.  0. 19.  2. 20.  1. 23.  0.] [16.15547268  0.03573516 20.2688357   1.44353676 18.53841314  0.92858978\n",
      " 19.13887519  1.13873155 19.46428589  1.57142863 20.60092717  2.17114927\n",
      " 22.59520869  0.78093064]\n",
      "[17.  0. 19.  1. 19.  1. 18.  0. 19.  2. 20.  1. 23.  0.] [1.68834303e+01 4.98949566e-04 1.79716067e+01 5.09935543e-01\n",
      " 1.96307997e+01 9.73728766e-01 1.81303679e+01 1.73620322e-01\n",
      " 1.89192430e+01 1.33503064e+00 1.90651760e+01 7.48432249e-01\n",
      " 2.32155944e+01 1.17772554e+00]\n",
      "[17.  0. 19.  1. 18.  0. 18.  0. 19.  1. 19.  1. 23.  0.] [16.57098808  0.03688364 18.69082065  0.61538109 18.56408272  0.28201947\n",
      " 17.97500001  0.12671126 20.47228072  2.61952647 20.08972947  2.3205031\n",
      " 22.27275066  0.18393194]\n",
      "[17.  0. 19.  1. 19.  1. 18.  0. 18.  0. 23.  5. 23.  0.] [1.69595960e+01 4.48221570e-04 1.82466407e+01 2.40804838e-01\n",
      " 1.88383838e+01 8.48484848e-01 1.85169618e+01 5.36680322e-01\n",
      " 1.85470225e+01 5.49080727e-01 2.03994159e+01 2.61331372e+00\n",
      " 2.25156427e+01 1.12517197e-01]\n"
     ]
    }
   ],
   "source": [
    "from sklearn.linear_model import LassoCV\n",
    "\n",
    "errorArray[0].append([])\n",
    "errorArray[1].append([])\n",
    "\n",
    "for i in range(5):\n",
    "    finalResult = []\n",
    "\n",
    "    for j in range(0, data.ampNumber * 2):\n",
    "        model = MultiOutputRegressor(LassoCV())\n",
    "        model.fit(cvData[i][0], cvData[i][2][:, j: j + 1])\n",
    "\n",
    "        result = model.predict(cvData[i][1])\n",
    "\n",
    "        if len(finalResult) == 0:\n",
    "            finalResult = result\n",
    "        else:\n",
    "            finalResult = data.np.hstack((finalResult, result))\n",
    "\n",
    "    print(cvData[i][-1][0], finalResult[0])\n",
    "    \n",
    "    mae = getMAE(cvData[i][3], finalResult)\n",
    "\n",
    "    errorArray[0][-1].extend(mae[0])\n",
    "    errorArray[1][-1].extend(mae[1])\n",
    "\n",
    "strategyArray.append(\"LCV\")\n",
    "count += 1"
   ]
  },
  {
   "cell_type": "code",
   "execution_count": 10,
   "metadata": {},
   "outputs": [
    {
     "name": "stdout",
     "output_type": "stream",
     "text": [
      "[17.  0. 18.  0. 20.  2. 19.  1. 18.  0. 19.  1. 24.  0.] [16.91210191  0.14904459 18.39872611  0.38853503 18.67261146  0.57197452\n",
      " 18.83821656  0.8611465  19.13503185  1.22929936 19.92611465  2.02547771\n",
      " 22.78853503  0.66624204]\n",
      "[16.  0. 21.  2. 18.  0. 18.  0. 19.  2. 20.  1. 23.  0.] [16.91082803  0.14522293 18.37707006  0.37707006 18.71592357  0.61019108\n",
      " 18.82802548  0.84585987 19.13248408  1.24840764 19.94904459  2.03949045\n",
      " 22.84203822  0.69171975]\n",
      "[17.  0. 19.  1. 19.  1. 18.  0. 19.  2. 20.  1. 23.  0.] [16.92738854  0.14267516 18.35541401  0.36050955 18.69808917  0.59872611\n",
      " 18.86751592  0.89299363 19.09936306  1.19490446 19.93630573  2.0343949\n",
      " 22.79617834  0.66624204]\n",
      "[17.  0. 19.  1. 18.  0. 18.  0. 19.  1. 19.  1. 23.  0.] [16.9044586   0.13630573 18.37197452  0.36942675 18.71082803  0.62038217\n",
      " 18.87133758  0.88917197 19.15031847  1.23694268 19.91719745  2.02292994\n",
      " 22.83057325  0.68152866]\n",
      "[17.  0. 19.  1. 19.  1. 18.  0. 18.  0. 23.  5. 23.  0.] [16.91847134  0.14649682 18.34267516  0.36178344 18.74267516  0.62038217\n",
      " 18.82165605  0.8611465  19.14649682  1.22675159 19.91974522  2.01528662\n",
      " 22.79235669  0.67006369]\n"
     ]
    }
   ],
   "source": [
    "from sklearn.dummy import DummyRegressor\n",
    "\n",
    "errorArray[0].append([])\n",
    "errorArray[1].append([])\n",
    "\n",
    "for i in range(5):\n",
    "    finalResult = []\n",
    "\n",
    "    for j in range(0, data.ampNumber * 2):\n",
    "        model = MultiOutputRegressor(DummyRegressor())\n",
    "        model.fit(cvData[i][0], cvData[i][2][:, j: j + 1])\n",
    "\n",
    "        result = model.predict(cvData[i][1])\n",
    "\n",
    "        if len(finalResult) == 0:\n",
    "            finalResult = result\n",
    "        else:\n",
    "            finalResult = data.np.hstack((finalResult, result))\n",
    "\n",
    "    print(cvData[i][-1][0], finalResult[0])\n",
    "    \n",
    "    mae = getMAE(cvData[i][3], finalResult)\n",
    "\n",
    "    errorArray[0][-1].extend(mae[0])\n",
    "    errorArray[1][-1].extend(mae[1])\n",
    "\n",
    "strategyArray.append(\"SM\".format(count))\n",
    "count += 1"
   ]
  },
  {
   "cell_type": "code",
   "execution_count": 11,
   "metadata": {
    "scrolled": true
   },
   "outputs": [
    {
     "name": "stdout",
     "output_type": "stream",
     "text": [
      "dict_keys(['RandomForestRegressor', 'BaggingRegressor', 'XGBRegressor', 'DecisionTreeRegressor', 'ExtraTreesRegressor'])\n",
      "### Gain ###\n",
      "Mean: 0.69705549530863. Median: 0.6609617234217902\n",
      "Mean: 0.6943667164520139. Median: 0.6584577596994231\n",
      "Mean: 0.693860182276883. Median: 0.6588072122052705\n",
      "Mean: 0.6963806583030605. Median: 0.662302931631051\n",
      "Mean: 0.8479751319843143. Median: 0.8027297543221111\n",
      "### Loss ###\n",
      "Mean: 0.5831800809265905. Median: 0.5771687503405304\n",
      "Mean: 0.5817750103865302. Median: 0.5798713324252008\n",
      "Mean: 0.5815788429754083. Median: 0.578363384188627\n",
      "Mean: 0.583517586451363. Median: 0.5813100576549086\n",
      "Mean: 0.7875868694660121. Median: 0.7523202911737944\n",
      "Mean Total - Gain: 0.7259276368649804. Loss: 0.6235276780411808\n"
     ]
    },
    {
     "data": {
      "image/png": "[encoded data removed]",
      "text/plain": [
       "<matplotlib.figure.Figure at 0x7f02084324a8>"
      ]
     },
     "metadata": {
      "needs_background": "light"
     },
     "output_type": "display_data"
    }
   ],
   "source": [
    "import numpy as np\n",
    "print(sortedDict.keys())\n",
    "\n",
    "gain = 0\n",
    "print(\"### Gain ###\")\n",
    "\n",
    "for gainError in errorArray[0]:\n",
    "    gain += np.mean(gainError)\n",
    "    print(\"Mean: {}. Median: {}\".format(np.mean(gainError), np.median(gainError)))\n",
    "\n",
    "loss = 0\n",
    "print(\"### Loss ###\")\n",
    "\n",
    "for lossError in errorArray[1]:\n",
    "    loss += np.mean(lossError)\n",
    "    print(\"Mean: {}. Median: {}\".format(np.mean(lossError), np.median(lossError)))\n",
    "    \n",
    "print(\"Mean Total - Gain: {}. Loss: {}\".format(gain / 5, loss / 5))\n",
    "plotGrid(errorArray[0], errorArray[1])"
   ]
  }
 ],
 "metadata": {
  "kernelspec": {
   "display_name": "acopEnv",
   "language": "python",
   "name": "acopenv"
  },
  "language_info": {
   "codemirror_mode": {
    "name": "ipython",
    "version": 3
   },
   "file_extension": ".py",
   "mimetype": "text/x-python",
   "name": "python",
   "nbconvert_exporter": "python",
   "pygments_lexer": "ipython3",
   "version": "3.6.9"
  }
 },
 "nbformat": 4,
 "nbformat_minor": 2
}
