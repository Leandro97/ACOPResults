{
 "cells": [
  {
   "cell_type": "markdown",
   "metadata": {},
   "source": [
    "# Imports "
   ]
  },
  {
   "cell_type": "code",
   "execution_count": 1,
   "metadata": {},
   "outputs": [
    {
     "name": "stderr",
     "output_type": "stream",
     "text": [
      "/home/leandro/.local/lib/python3.6/site-packages/sklearn/utils/deprecation.py:143: FutureWarning: The sklearn.utils.testing module is  deprecated in version 0.22 and will be removed in version 0.24. The corresponding classes / functions should instead be imported from sklearn.utils. Anything that cannot be imported from sklearn.utils is now part of the private API.\n",
      "  warnings.warn(message, FutureWarning)\n",
      "  0%|          | 0/43 [00:00<?, ?it/s]"
     ]
    },
    {
     "name": "stdout",
     "output_type": "stream",
     "text": [
      "[0, 40, 40, 40, 10, 70]\n",
      "2 chs: 40 entries\n",
      "3 chs: 40 entries\n",
      "4 chs: 40 entries\n",
      "5 chs: 10 entries\n",
      "6 chs: 70 entries\n",
      "Dataset entries: 130\n"
     ]
    },
    {
     "name": "stderr",
     "output_type": "stream",
     "text": [
      " 81%|████████▏ | 35/43 [00:03<00:01,  7.18it/s]"
     ]
    },
    {
     "name": "stdout",
     "output_type": "stream",
     "text": [
      "RANSACRegressor model failed to execute\n",
      "RANSAC could not find a valid consensus set. All `max_trials` iterations were skipped because each randomly chosen sub-sample failed the passing criteria. See estimator attributes for diagnostics (n_skips*).\n",
      "StackingRegressor model failed to execute\n",
      "__init__() missing 1 required positional argument: 'estimators'\n"
     ]
    },
    {
     "name": "stderr",
     "output_type": "stream",
     "text": [
      "100%|██████████| 43/43 [00:03<00:00, 10.97it/s]\n",
      " 35%|███▍      | 15/43 [00:00<00:01, 23.52it/s]"
     ]
    },
    {
     "name": "stdout",
     "output_type": "stream",
     "text": [
      "GammaRegressor model failed to execute\n",
      "Some value(s) of y are out of the valid range for family GammaDistribution\n"
     ]
    },
    {
     "name": "stderr",
     "output_type": "stream",
     "text": [
      " 79%|███████▉  | 34/43 [00:02<00:01,  8.25it/s]"
     ]
    },
    {
     "name": "stdout",
     "output_type": "stream",
     "text": [
      "RANSACRegressor model failed to execute\n",
      "RANSAC could not find a valid consensus set. All `max_trials` iterations were skipped because each randomly chosen sub-sample failed the passing criteria. See estimator attributes for diagnostics (n_skips*).\n",
      "StackingRegressor model failed to execute\n",
      "__init__() missing 1 required positional argument: 'estimators'\n"
     ]
    },
    {
     "name": "stderr",
     "output_type": "stream",
     "text": [
      "100%|██████████| 43/43 [00:03<00:00, 13.38it/s]\n",
      " 77%|███████▋  | 33/43 [00:03<00:01,  5.56it/s]"
     ]
    },
    {
     "name": "stdout",
     "output_type": "stream",
     "text": [
      "RANSACRegressor model failed to execute\n",
      "RANSAC could not find a valid consensus set. All `max_trials` iterations were skipped because each randomly chosen sub-sample failed the passing criteria. See estimator attributes for diagnostics (n_skips*).\n"
     ]
    },
    {
     "name": "stderr",
     "output_type": "stream",
     "text": [
      "100%|██████████| 43/43 [00:03<00:00, 11.30it/s]\n",
      "  0%|          | 0/43 [00:00<?, ?it/s]"
     ]
    },
    {
     "name": "stdout",
     "output_type": "stream",
     "text": [
      "StackingRegressor model failed to execute\n",
      "__init__() missing 1 required positional argument: 'estimators'\n"
     ]
    },
    {
     "name": "stderr",
     "output_type": "stream",
     "text": [
      " 35%|███▍      | 15/43 [00:00<00:01, 27.89it/s]"
     ]
    },
    {
     "name": "stdout",
     "output_type": "stream",
     "text": [
      "GammaRegressor model failed to execute\n",
      "Some value(s) of y are out of the valid range for family GammaDistribution\n"
     ]
    },
    {
     "name": "stderr",
     "output_type": "stream",
     "text": [
      " 77%|███████▋  | 33/43 [00:01<00:00, 15.87it/s]"
     ]
    },
    {
     "name": "stdout",
     "output_type": "stream",
     "text": [
      "RANSACRegressor model failed to execute\n",
      "RANSAC could not find a valid consensus set. All `max_trials` iterations were skipped because each randomly chosen sub-sample failed the passing criteria. See estimator attributes for diagnostics (n_skips*).\n"
     ]
    },
    {
     "name": "stderr",
     "output_type": "stream",
     "text": [
      " 98%|█████████▊| 42/43 [00:02<00:00, 16.37it/s]"
     ]
    },
    {
     "name": "stdout",
     "output_type": "stream",
     "text": [
      "StackingRegressor model failed to execute\n",
      "__init__() missing 1 required positional argument: 'estimators'\n"
     ]
    },
    {
     "name": "stderr",
     "output_type": "stream",
     "text": [
      "100%|██████████| 43/43 [00:02<00:00, 18.03it/s]\n",
      " 84%|████████▎ | 36/43 [00:03<00:00, 12.12it/s]"
     ]
    },
    {
     "name": "stdout",
     "output_type": "stream",
     "text": [
      "RANSACRegressor model failed to execute\n",
      "RANSAC could not find a valid consensus set. All `max_trials` iterations were skipped because each randomly chosen sub-sample failed the passing criteria. See estimator attributes for diagnostics (n_skips*).\n",
      "StackingRegressor model failed to execute\n",
      "__init__() missing 1 required positional argument: 'estimators'\n"
     ]
    },
    {
     "name": "stderr",
     "output_type": "stream",
     "text": [
      "100%|██████████| 43/43 [00:03<00:00, 13.10it/s]\n",
      " 30%|███       | 13/43 [00:01<00:02, 11.83it/s]"
     ]
    },
    {
     "name": "stdout",
     "output_type": "stream",
     "text": [
      "GammaRegressor model failed to execute\n",
      "Some value(s) of y are out of the valid range for family GammaDistribution\n"
     ]
    },
    {
     "name": "stderr",
     "output_type": "stream",
     "text": [
      " 81%|████████▏ | 35/43 [00:02<00:00, 14.41it/s]"
     ]
    },
    {
     "name": "stdout",
     "output_type": "stream",
     "text": [
      "RANSACRegressor model failed to execute\n",
      "RANSAC could not find a valid consensus set. All `max_trials` iterations were skipped because each randomly chosen sub-sample failed the passing criteria. See estimator attributes for diagnostics (n_skips*).\n",
      "StackingRegressor model failed to execute\n",
      "__init__() missing 1 required positional argument: 'estimators'\n"
     ]
    },
    {
     "name": "stderr",
     "output_type": "stream",
     "text": [
      "100%|██████████| 43/43 [00:03<00:00, 13.32it/s]\n",
      " 84%|████████▎ | 36/43 [00:03<00:00,  9.75it/s]"
     ]
    },
    {
     "name": "stdout",
     "output_type": "stream",
     "text": [
      "RANSACRegressor model failed to execute\n",
      "RANSAC could not find a valid consensus set. All `max_trials` iterations were skipped because each randomly chosen sub-sample failed the passing criteria. See estimator attributes for diagnostics (n_skips*).\n",
      "StackingRegressor model failed to execute\n",
      "__init__() missing 1 required positional argument: 'estimators'\n"
     ]
    },
    {
     "name": "stderr",
     "output_type": "stream",
     "text": [
      "100%|██████████| 43/43 [00:03<00:00, 11.67it/s]\n",
      " 35%|███▍      | 15/43 [00:00<00:01, 27.34it/s]"
     ]
    },
    {
     "name": "stdout",
     "output_type": "stream",
     "text": [
      "GammaRegressor model failed to execute\n",
      "Some value(s) of y are out of the valid range for family GammaDistribution\n"
     ]
    },
    {
     "name": "stderr",
     "output_type": "stream",
     "text": [
      " 77%|███████▋  | 33/43 [00:01<00:00, 15.37it/s]"
     ]
    },
    {
     "name": "stdout",
     "output_type": "stream",
     "text": [
      "RANSACRegressor model failed to execute\n",
      "RANSAC could not find a valid consensus set. All `max_trials` iterations were skipped because each randomly chosen sub-sample failed the passing criteria. See estimator attributes for diagnostics (n_skips*).\n"
     ]
    },
    {
     "name": "stderr",
     "output_type": "stream",
     "text": [
      " 88%|████████▊ | 38/43 [00:02<00:00, 13.99it/s]"
     ]
    },
    {
     "name": "stdout",
     "output_type": "stream",
     "text": [
      "StackingRegressor model failed to execute\n",
      "__init__() missing 1 required positional argument: 'estimators'\n"
     ]
    },
    {
     "name": "stderr",
     "output_type": "stream",
     "text": [
      "100%|██████████| 43/43 [00:02<00:00, 15.90it/s]\n",
      " 98%|█████████▊| 42/43 [00:02<00:00, 17.42it/s]"
     ]
    },
    {
     "name": "stdout",
     "output_type": "stream",
     "text": [
      "StackingRegressor model failed to execute\n",
      "__init__() missing 1 required positional argument: 'estimators'\n"
     ]
    },
    {
     "name": "stderr",
     "output_type": "stream",
     "text": [
      "100%|██████████| 43/43 [00:02<00:00, 15.36it/s]\n",
      " 30%|███       | 13/43 [00:00<00:01, 18.64it/s]"
     ]
    },
    {
     "name": "stdout",
     "output_type": "stream",
     "text": [
      "GammaRegressor model failed to execute\n",
      "Some value(s) of y are out of the valid range for family GammaDistribution\n"
     ]
    },
    {
     "name": "stderr",
     "output_type": "stream",
     "text": [
      " 84%|████████▎ | 36/43 [00:02<00:00, 16.11it/s]"
     ]
    },
    {
     "name": "stdout",
     "output_type": "stream",
     "text": [
      "StackingRegressor model failed to execute\n",
      "__init__() missing 1 required positional argument: 'estimators'\n"
     ]
    },
    {
     "name": "stderr",
     "output_type": "stream",
     "text": [
      "100%|██████████| 43/43 [00:02<00:00, 14.47it/s]\n",
      " 95%|█████████▌| 41/43 [00:03<00:00, 12.90it/s]"
     ]
    },
    {
     "name": "stdout",
     "output_type": "stream",
     "text": [
      "StackingRegressor model failed to execute\n",
      "__init__() missing 1 required positional argument: 'estimators'\n"
     ]
    },
    {
     "name": "stderr",
     "output_type": "stream",
     "text": [
      "100%|██████████| 43/43 [00:03<00:00, 12.18it/s]\n",
      " 30%|███       | 13/43 [00:00<00:01, 17.21it/s]"
     ]
    },
    {
     "name": "stdout",
     "output_type": "stream",
     "text": [
      "GammaRegressor model failed to execute\n",
      "Some value(s) of y are out of the valid range for family GammaDistribution\n"
     ]
    },
    {
     "name": "stderr",
     "output_type": "stream",
     "text": [
      "100%|██████████| 43/43 [00:02<00:00, 15.73it/s]\n",
      "  0%|          | 0/43 [00:00<?, ?it/s]"
     ]
    },
    {
     "name": "stdout",
     "output_type": "stream",
     "text": [
      "StackingRegressor model failed to execute\n",
      "__init__() missing 1 required positional argument: 'estimators'\n"
     ]
    },
    {
     "name": "stderr",
     "output_type": "stream",
     "text": [
      "100%|██████████| 43/43 [00:03<00:00, 11.90it/s]\n",
      "  0%|          | 0/43 [00:00<?, ?it/s]"
     ]
    },
    {
     "name": "stdout",
     "output_type": "stream",
     "text": [
      "StackingRegressor model failed to execute\n",
      "__init__() missing 1 required positional argument: 'estimators'\n"
     ]
    },
    {
     "name": "stderr",
     "output_type": "stream",
     "text": [
      " 35%|███▍      | 15/43 [00:00<00:00, 32.91it/s]"
     ]
    },
    {
     "name": "stdout",
     "output_type": "stream",
     "text": [
      "GammaRegressor model failed to execute\n",
      "Some value(s) of y are out of the valid range for family GammaDistribution\n"
     ]
    },
    {
     "name": "stderr",
     "output_type": "stream",
     "text": [
      " 95%|█████████▌| 41/43 [00:02<00:00, 15.52it/s]"
     ]
    },
    {
     "name": "stdout",
     "output_type": "stream",
     "text": [
      "StackingRegressor model failed to execute\n",
      "__init__() missing 1 required positional argument: 'estimators'\n"
     ]
    },
    {
     "name": "stderr",
     "output_type": "stream",
     "text": [
      "100%|██████████| 43/43 [00:02<00:00, 16.07it/s]\n",
      " 95%|█████████▌| 41/43 [00:03<00:00, 12.64it/s]"
     ]
    },
    {
     "name": "stdout",
     "output_type": "stream",
     "text": [
      "StackingRegressor model failed to execute\n",
      "__init__() missing 1 required positional argument: 'estimators'\n"
     ]
    },
    {
     "name": "stderr",
     "output_type": "stream",
     "text": [
      "100%|██████████| 43/43 [00:03<00:00, 11.94it/s]\n",
      " 30%|███       | 13/43 [00:00<00:01, 18.26it/s]"
     ]
    },
    {
     "name": "stdout",
     "output_type": "stream",
     "text": [
      "GammaRegressor model failed to execute\n",
      "Some value(s) of y are out of the valid range for family GammaDistribution\n"
     ]
    },
    {
     "name": "stderr",
     "output_type": "stream",
     "text": [
      " 77%|███████▋  | 33/43 [00:03<00:01,  7.25it/s]"
     ]
    },
    {
     "name": "stdout",
     "output_type": "stream",
     "text": [
      "RANSACRegressor model failed to execute\n",
      "RANSAC could not find a valid consensus set. All `max_trials` iterations were skipped because each randomly chosen sub-sample failed the passing criteria. See estimator attributes for diagnostics (n_skips*).\n"
     ]
    },
    {
     "name": "stderr",
     "output_type": "stream",
     "text": [
      " 98%|█████████▊| 42/43 [00:04<00:00,  9.53it/s]"
     ]
    },
    {
     "name": "stdout",
     "output_type": "stream",
     "text": [
      "StackingRegressor model failed to execute\n",
      "__init__() missing 1 required positional argument: 'estimators'\n"
     ]
    },
    {
     "name": "stderr",
     "output_type": "stream",
     "text": [
      "100%|██████████| 43/43 [00:04<00:00, 10.25it/s]\n"
     ]
    }
   ],
   "source": [
    "import ipynb.fs.full.PrepareData as data\n",
    "from sklearn.multioutput import MultiOutputRegressor\n",
    "import itertools\n",
    "\n",
    "strategyArray = []\n",
    "errorArray    = [[], []]"
   ]
  },
  {
   "cell_type": "markdown",
   "metadata": {},
   "source": [
    "# Sorting the dataset"
   ]
  },
  {
   "cell_type": "code",
   "execution_count": 2,
   "metadata": {
    "scrolled": false
   },
   "outputs": [
    {
     "name": "stdout",
     "output_type": "stream",
     "text": [
      "dict_keys(['AdaBoostRegressor', 'BaggingRegressor', 'LassoCV', 'OrthogonalMatchingPursuitCV', 'ElasticNetCV'])\n"
     ]
    }
   ],
   "source": [
    "sortedDict = {}\n",
    "commonRegressors = data.commonRegressors\n",
    "\n",
    "for regressor in commonRegressors:\n",
    "    sortedDict[regressor] = 0\n",
    "    \n",
    "    for i in range(data.ampNumber):\n",
    "        sortedDict[regressor] += data.finalList[i][regressor][0] + data.finalList[i][regressor][1]\n",
    "\n",
    "sortedDict = dict(sorted(sortedDict.items(), key = lambda x : x[1]))\n",
    "sortedDict = dict(itertools.islice(sortedDict.items(), 5))\n",
    "\n",
    "print(sortedDict.keys())"
   ]
  },
  {
   "cell_type": "markdown",
   "metadata": {},
   "source": [
    "# Processing data"
   ]
  },
  {
   "cell_type": "code",
   "execution_count": 3,
   "metadata": {},
   "outputs": [],
   "source": [
    "from sklearn.metrics import mean_absolute_error\n",
    "\n",
    "def getMAE(yTrue, yPredicted):\n",
    "    gainErrors = []\n",
    "    lossErrors = []\n",
    "    \n",
    "    rangeList = list(range(len(yTrue[0])))\n",
    "    \n",
    "    for true, predicted in zip(yTrue, yPredicted):\n",
    "        gainTrue      = [true[x] for x in rangeList[0::2]]\n",
    "        gainPredicted = [predicted[x] for x in rangeList[0::2]]\n",
    "        lossTrue      = [true[x] for x in rangeList[1::2]]\n",
    "        lossPredicted = [predicted[x] for x in rangeList[1::2]]\n",
    "        \n",
    "        gainErrors.append(mean_absolute_error(gainTrue, gainPredicted))\n",
    "        lossErrors.append(mean_absolute_error(lossTrue, lossPredicted))\n",
    "        \n",
    "    return gainErrors, lossErrors"
   ]
  },
  {
   "cell_type": "markdown",
   "metadata": {},
   "source": [
    "# Plotting function"
   ]
  },
  {
   "cell_type": "code",
   "execution_count": 4,
   "metadata": {},
   "outputs": [],
   "source": [
    "import matplotlib.pyplot as plt\n",
    "\n",
    "def plotGrid(gainData, lossData):\n",
    "    fontSize = 32\n",
    "    \n",
    "    fig, axis = plt.subplots(2, figsize = (10, 10))\n",
    "    \n",
    "    axis[0].boxplot(gainData)\n",
    "    axis[0].set_title(\"Test error for Gain\", fontsize = fontSize)\n",
    "    axis[0].get_xaxis().set_visible(False)\n",
    "    axis[0].yaxis.set_tick_params(labelsize = fontSize)\n",
    "    axis[0].set_yticklabels(range(0, 4))\n",
    "    axis[0].set_ylim(0, 3)\n",
    "    \n",
    "    axis[1].boxplot(lossData)\n",
    "    axis[1].set_title(\"Test error for Loss\", fontsize = fontSize)\n",
    "    axis[1].xaxis.set_tick_params(labelsize = fontSize)\n",
    "    axis[1].yaxis.set_tick_params(labelsize = fontSize)\n",
    "    axis[1].set_xticklabels(strategyArray)\n",
    "    axis[1].set_yticklabels(range(0, 4))\n",
    "    axis[1].set_ylim(0, 3)\n",
    "\n",
    "    #fig.text(0.053, 0.5, 'Erro Médio Absoluto (dB)', va='center', rotation='vertical', fontsize = fontSize)\n",
    "\n",
    "    plt.gcf().subplots_adjust(bottom = 0.08)\n",
    "    fig.savefig(\"../../graphs/perVar-{}amp.pdf\".format(data.ampNumber), format = 'pdf', dpi = 1000, bbox_inches = \"tight\")"
   ]
  },
  {
   "cell_type": "markdown",
   "metadata": {},
   "source": [
    "# Building the models"
   ]
  },
  {
   "cell_type": "code",
   "execution_count": 5,
   "metadata": {},
   "outputs": [],
   "source": [
    "cvData = []\n",
    "X, y = data.loadDataset()\n",
    "\n",
    "for i in range(5):\n",
    "    X_train, X_test, y_train, y_test = data.train_test_split(X, y, test_size = 0.2, random_state = i)\n",
    "    cvData.append([X_train, X_test, y_train, y_test])\n",
    "    \n",
    "count = 1"
   ]
  },
  {
   "cell_type": "code",
   "execution_count": 6,
   "metadata": {
    "scrolled": true
   },
   "outputs": [
    {
     "name": "stdout",
     "output_type": "stream",
     "text": [
      "[17.  0. 18.  0. 18.  0. 19.  1. 18.  0. 19.  2. 19.  0. 24.  0.] [ 1.68495273e+01  1.60877036e-04  1.81234237e+01 -2.37827983e-08\n",
      "  1.80543608e+01  1.40794870e-02  1.85919929e+01  6.56636260e-01\n",
      "  1.83479874e+01  1.77630648e-01  1.97343598e+01  1.88504039e+00\n",
      "  1.80298383e+01  2.96651626e-02  2.30650407e+01  2.75303116e-01]\n",
      "[17.  0. 18.  0. 18.  0. 19.  1. 18.  0. 20.  2. 18.  0. 24.  0.] [1.69144113e+01 1.52959171e-04 1.80883789e+01 2.52138551e-08\n",
      " 1.80181180e+01 1.13244669e-02 1.85973467e+01 6.71919826e-01\n",
      " 1.83840679e+01 1.09094766e-01 1.96932346e+01 1.94996742e+00\n",
      " 1.80566371e+01 2.81372220e-02 2.30329543e+01 2.25265825e-01]\n",
      "[16.  0. 19.  0. 18.  0. 18.  0. 18.  0. 21.  3. 20.  2. 24.  1.] [1.69275504e+01 9.45301378e-06 1.80720235e+01 2.98023224e-08\n",
      " 1.83526389e+01 3.81480219e-01 1.80715568e+01 3.76149301e-02\n",
      " 1.84765243e+01 2.65412548e-01 2.09137809e+01 3.30611865e+00\n",
      " 2.03952980e+01 2.86423446e+00 2.33712723e+01 9.66518614e-01]\n",
      "[17.  0. 18.  0. 17.  0. 18.  0. 23.  4. 17.  0. 22.  4. 22.  0.] [1.69127133e+01 4.66939841e-01 1.83119571e+01 6.41931123e-08\n",
      " 1.79018504e+01 1.65222154e-03 1.89115636e+01 1.15617429e+00\n",
      " 2.14968465e+01 3.16383991e+00 1.75698856e+01 7.74304197e-04\n",
      " 2.11895209e+01 3.46425205e+00 2.33096854e+01 9.27585321e-01]\n",
      "[17.  0. 18.  0. 19.  1. 18.  0. 19.  1. 21.  3. 21.  3. 23.  1.] [1.69111541e+01 9.82331921e-06 1.80593992e+01 3.84795230e-08\n",
      " 1.82916424e+01 2.86064804e-01 1.80603547e+01 2.96872668e-02\n",
      " 1.84490429e+01 2.17047174e-01 2.08705590e+01 3.34195595e+00\n",
      " 2.03854693e+01 2.79871763e+00 2.34912342e+01 1.00416350e+00]\n"
     ]
    }
   ],
   "source": [
    "from sklearn.linear_model import BayesianRidge\n",
    "\n",
    "errorArray[0].append([])\n",
    "errorArray[1].append([])\n",
    "\n",
    "for i in range(5):\n",
    "    finalResult = []\n",
    "\n",
    "    for j in range(0, data.ampNumber * 2):\n",
    "        model = MultiOutputRegressor(BayesianRidge())\n",
    "        model.fit(cvData[i][0], cvData[i][2][:, j: j + 1])\n",
    "\n",
    "        result = model.predict(cvData[i][1])\n",
    "\n",
    "        if len(finalResult) == 0:\n",
    "            finalResult = result\n",
    "        else:\n",
    "            finalResult = data.np.hstack((finalResult, result))\n",
    "\n",
    "    print(cvData[i][-1][0], finalResult[0])\n",
    "    \n",
    "    mae = getMAE(cvData[i][3], finalResult)\n",
    "\n",
    "    errorArray[0][-1].extend(mae[0])\n",
    "    errorArray[1][-1].extend(mae[1])\n",
    "\n",
    "strategyArray.append(\"BR\")\n",
    "count += 1"
   ]
  },
  {
   "cell_type": "code",
   "execution_count": 7,
   "metadata": {},
   "outputs": [
    {
     "name": "stdout",
     "output_type": "stream",
     "text": [
      "[17.  0. 18.  0. 18.  0. 19.  1. 18.  0. 19.  2. 19.  0. 24.  0.] [16.857449    0.         18.12261839  0.         18.0023479   0.\n",
      " 18.68190577  0.69970759 18.30437051  0.11547426 19.72848557  1.88629348\n",
      " 18.00064302  0.         23.03150005  0.2017161 ]\n",
      "[17.  0. 18.  0. 18.  0. 19.  1. 18.  0. 20.  2. 18.  0. 24.  0.] [16.92199934  0.         18.07876235  0.         17.96917504  0.\n",
      " 18.69210271  0.6961098  18.3462111   0.05809078 19.70216875  1.93881117\n",
      " 18.03135565  0.         23.02152539  0.17180327]\n",
      "[16.  0. 19.  0. 18.  0. 18.  0. 18.  0. 21.  3. 20.  2. 24.  1.] [16.92585749  0.         18.07995035  0.         18.38752843  0.39752568\n",
      " 18.          0.         18.48717985  0.30087398 20.92947169  3.33033331\n",
      " 20.42259366  2.91132064 23.46468527  1.04206045]\n",
      "[17.  0. 18.  0. 17.  0. 18.  0. 23.  4. 17.  0. 22.  4. 22.  0.] [16.91206542  0.45211444 18.31689127  0.         17.89655632  0.\n",
      " 18.9021511   1.13252954 21.52753848  3.19271451 17.5712394   0.\n",
      " 21.19668476  3.46975097 23.33757486  0.92438998]\n",
      "[17.  0. 18.  0. 19.  1. 18.  0. 19.  1. 21.  3. 21.  3. 23.  1.] [16.9086516   0.         18.06245168  0.         18.32165269  0.27971818\n",
      " 18.          0.         18.46645795  0.24244001 20.88121179  3.33939634\n",
      " 20.41729459  2.8187901  23.60430593  1.06240307]\n"
     ]
    }
   ],
   "source": [
    "from sklearn.ensemble import RandomForestRegressor\n",
    "\n",
    "errorArray[0].append([])\n",
    "errorArray[1].append([])\n",
    "\n",
    "for i in range(5):\n",
    "    finalResult = []\n",
    "\n",
    "    for j in range(0, data.ampNumber * 2):\n",
    "        model = MultiOutputRegressor(RandomForestRegressor())\n",
    "        model.fit(cvData[i][0], cvData[i][2][:, j: j + 1])\n",
    "\n",
    "        result = model.predict(cvData[i][1])\n",
    "\n",
    "        if len(finalResult) == 0:\n",
    "            finalResult = result\n",
    "        else:\n",
    "            finalResult = data.np.hstack((finalResult, result))\n",
    "\n",
    "    print(cvData[i][-1][0], finalResult[0])\n",
    "    \n",
    "    mae = getMAE(cvData[i][3], finalResult)\n",
    "\n",
    "    errorArray[0][-1].extend(mae[0])\n",
    "    errorArray[1][-1].extend(mae[1])\n",
    "\n",
    "strategyArray.append(\"RF\".format(count))\n",
    "count += 1"
   ]
  },
  {
   "cell_type": "code",
   "execution_count": 8,
   "metadata": {},
   "outputs": [
    {
     "name": "stdout",
     "output_type": "stream",
     "text": [
      "[17.  0. 18.  0. 18.  0. 19.  1. 18.  0. 19.  2. 19.  0. 24.  0.] [16.84848485  0.         18.12121212  0.         18.          0.\n",
      " 18.66666667  0.6969697  18.3030303   0.12121212 19.72727273  1.87878788\n",
      " 18.          0.         23.03030303  0.21212121]\n",
      "[17.  0. 18.  0. 18.  0. 19.  1. 18.  0. 20.  2. 18.  0. 24.  0.] [16.91428571  0.         18.08571429  0.         17.97142857  0.\n",
      " 18.68571429  0.71428571 18.34285714  0.05714286 19.68571429  1.94285714\n",
      " 18.02857143  0.         23.          0.17142857]\n",
      "[16.  0. 19.  0. 18.  0. 18.  0. 18.  0. 21.  3. 20.  2. 24.  1.] [16.92857143  0.         18.07142857  0.         18.39285714  0.39285714\n",
      " 18.          0.         18.5         0.28571429 20.92857143  3.32142857\n",
      " 20.42857143  2.89285714 23.46428571  1.03571429]\n",
      "[17.  0. 18.  0. 17.  0. 18.  0. 23.  4. 17.  0. 22.  4. 22.  0.] [16.9137931   0.46551724 18.31034483  0.         17.89655172  0.\n",
      " 18.9137931   1.15517241 21.51724138  3.17241379 17.56896552  0.\n",
      " 21.18965517  3.46551724 23.32758621  0.93103448]\n",
      "[17.  0. 18.  0. 19.  1. 18.  0. 19.  1. 21.  3. 21.  3. 23.  1.] [16.91176471  0.         18.05882353  0.         18.32352941  0.29411765\n",
      " 18.          0.         18.47058824  0.23529412 20.88235294  3.35294118\n",
      " 20.41176471  2.82352941 23.58823529  1.05882353]\n"
     ]
    }
   ],
   "source": [
    "from sklearn.tree import DecisionTreeRegressor\n",
    "\n",
    "errorArray[0].append([])\n",
    "errorArray[1].append([])\n",
    "\n",
    "for i in range(5):\n",
    "    finalResult = []\n",
    "\n",
    "    for j in range(0, data.ampNumber * 2):\n",
    "        model = MultiOutputRegressor(DecisionTreeRegressor())\n",
    "        model.fit(cvData[i][0], cvData[i][2][:, j: j + 1])\n",
    "\n",
    "        result = model.predict(cvData[i][1])\n",
    "\n",
    "        if len(finalResult) == 0:\n",
    "            finalResult = result\n",
    "        else:\n",
    "            finalResult = data.np.hstack((finalResult, result))\n",
    "\n",
    "    print(cvData[i][-1][0], finalResult[0])\n",
    "    \n",
    "    mae = getMAE(cvData[i][3], finalResult)\n",
    "\n",
    "    errorArray[0][-1].extend(mae[0])\n",
    "    errorArray[1][-1].extend(mae[1])\n",
    "\n",
    "strategyArray.append(\"DT\")\n",
    "count += 1"
   ]
  },
  {
   "cell_type": "code",
   "execution_count": 9,
   "metadata": {},
   "outputs": [
    {
     "name": "stdout",
     "output_type": "stream",
     "text": [
      "[17.  0. 18.  0. 18.  0. 19.  1. 18.  0. 19.  2. 19.  0. 24.  0.] [1.68489127e+01 2.11082942e-04 1.81212064e+01 2.48317266e-04\n",
      " 1.80245672e+01 5.88093246e-04 1.86335969e+01 6.94550242e-01\n",
      " 1.83095373e+01 2.63035570e-01 1.97272477e+01 1.87875515e+00\n",
      " 1.80049506e+01 5.07544188e-03 2.30303287e+01 2.68239606e-01]\n",
      "[17.  0. 18.  0. 18.  0. 19.  1. 18.  0. 20.  2. 18.  0. 24.  0.] [1.69119621e+01 2.29885348e-04 1.80893918e+01 2.61766999e-04\n",
      " 1.80297218e+01 5.83298538e-04 1.86628050e+01 7.12153767e-01\n",
      " 1.83523363e+01 7.02144995e-02 1.96856770e+01 1.94281311e+00\n",
      " 1.81223253e+01 5.14524151e-03 2.30000035e+01 2.16457603e-01]\n",
      "[16.  0. 19.  0. 18.  0. 18.  0. 18.  0. 21.  3. 20.  2. 24.  1.] [1.69281883e+01 2.42158197e-04 1.80923616e+01 2.59113188e-04\n",
      " 1.83923923e+01 3.92497816e-01 1.80088339e+01 4.39142695e-02\n",
      " 1.84960992e+01 2.75751832e-01 2.09255382e+01 3.30294320e+00\n",
      " 2.04238932e+01 2.88977003e+00 2.34597474e+01 9.93452329e-01]\n",
      "[17.  0. 18.  0. 17.  0. 18.  0. 23.  4. 17.  0. 22.  4. 22.  0.] [1.69113467e+01 4.65884357e-01 1.83108653e+01 2.84798150e-04\n",
      " 1.78973217e+01 1.52439024e-04 1.89022046e+01 1.15584346e+00\n",
      " 2.15152702e+01 3.17048917e+00 1.75704985e+01 1.56528595e-03\n",
      " 2.11813147e+01 3.46391966e+00 2.33258380e+01 9.15515864e-01]\n",
      "[17.  0. 18.  0. 19.  1. 18.  0. 19.  1. 21.  3. 21.  3. 23.  1.] [1.68936664e+01 2.48500980e-04 1.80712324e+01 2.09497359e-04\n",
      " 1.83231676e+01 2.92366006e-01 1.80007960e+01 1.20970286e-03\n",
      " 1.84436289e+01 1.99176456e-01 2.08796272e+01 3.35022574e+00\n",
      " 2.04071542e+01 2.82045744e+00 2.35747683e+01 1.00551683e+00]\n"
     ]
    }
   ],
   "source": [
    "from sklearn.linear_model import LassoCV\n",
    "\n",
    "errorArray[0].append([])\n",
    "errorArray[1].append([])\n",
    "\n",
    "for i in range(5):\n",
    "    finalResult = []\n",
    "\n",
    "    for j in range(0, data.ampNumber * 2):\n",
    "        model = MultiOutputRegressor(LassoCV())\n",
    "        model.fit(cvData[i][0], cvData[i][2][:, j: j + 1])\n",
    "\n",
    "        result = model.predict(cvData[i][1])\n",
    "\n",
    "        if len(finalResult) == 0:\n",
    "            finalResult = result\n",
    "        else:\n",
    "            finalResult = data.np.hstack((finalResult, result))\n",
    "\n",
    "    print(cvData[i][-1][0], finalResult[0])\n",
    "    \n",
    "    mae = getMAE(cvData[i][3], finalResult)\n",
    "\n",
    "    errorArray[0][-1].extend(mae[0])\n",
    "    errorArray[1][-1].extend(mae[1])\n",
    "\n",
    "strategyArray.append(\"LCV\")\n",
    "count += 1"
   ]
  },
  {
   "cell_type": "code",
   "execution_count": 10,
   "metadata": {},
   "outputs": [
    {
     "name": "stdout",
     "output_type": "stream",
     "text": [
      "[17.  0. 18.  0. 18.  0. 19.  1. 18.  0. 19.  2. 19.  0. 24.  0.] [16.82317073  0.20731707 18.52439024  0.26219512 18.15243902  0.17682927\n",
      " 18.51219512  0.61585366 19.48780488  1.32926829 18.92073171  1.22560976\n",
      " 19.79268293  1.87804878 23.08536585  0.66463415]\n",
      "[17.  0. 18.  0. 18.  0. 19.  1. 18.  0. 20.  2. 18.  0. 24.  0.] [16.79878049  0.22560976 18.57926829  0.27439024 18.11585366  0.17073171\n",
      " 18.49390244  0.63414634 19.56707317  1.35365854 18.86585366  1.21341463\n",
      " 19.7804878   1.80487805 22.98170732  0.59146341]\n",
      "[16.  0. 19.  0. 18.  0. 18.  0. 18.  0. 21.  3. 20.  2. 24.  1.] [16.78658537  0.23780488 18.56707317  0.27439024 18.15853659  0.17682927\n",
      " 18.5304878   0.68292683 19.58536585  1.3902439  18.88414634  1.17073171\n",
      " 19.82317073  1.8597561  22.95121951  0.59146341]\n",
      "[17.  0. 18.  0. 17.  0. 18.  0. 23.  4. 17.  0. 22.  4. 22.  0.] [16.81097561  0.2195122  18.54268293  0.26219512 18.11585366  0.15243902\n",
      " 18.47560976  0.62804878 19.62195122  1.40853659 18.8902439   1.22560976\n",
      " 19.90243902  1.97560976 23.          0.6402439 ]\n",
      "[17.  0. 18.  0. 19.  1. 18.  0. 19.  1. 21.  3. 21.  3. 23.  1.] [16.76829268  0.24390244 18.54878049  0.23170732 18.14634146  0.17073171\n",
      " 18.52439024  0.67682927 19.58536585  1.3597561  18.93902439  1.30487805\n",
      " 19.87804878  1.92682927 23.00609756  0.66463415]\n"
     ]
    }
   ],
   "source": [
    "from sklearn.dummy import DummyRegressor\n",
    "\n",
    "errorArray[0].append([])\n",
    "errorArray[1].append([])\n",
    "\n",
    "for i in range(5):\n",
    "    finalResult = []\n",
    "\n",
    "    for j in range(0, data.ampNumber * 2):\n",
    "        model = MultiOutputRegressor(DummyRegressor())\n",
    "        model.fit(cvData[i][0], cvData[i][2][:, j: j + 1])\n",
    "\n",
    "        result = model.predict(cvData[i][1])\n",
    "\n",
    "        if len(finalResult) == 0:\n",
    "            finalResult = result\n",
    "        else:\n",
    "            finalResult = data.np.hstack((finalResult, result))\n",
    "\n",
    "    print(cvData[i][-1][0], finalResult[0])\n",
    "    \n",
    "    mae = getMAE(cvData[i][3], finalResult)\n",
    "\n",
    "    errorArray[0][-1].extend(mae[0])\n",
    "    errorArray[1][-1].extend(mae[1])\n",
    "\n",
    "strategyArray.append(\"SM\".format(count))\n",
    "count += 1"
   ]
  },
  {
   "cell_type": "code",
   "execution_count": 11,
   "metadata": {
    "scrolled": true
   },
   "outputs": [
    {
     "name": "stdout",
     "output_type": "stream",
     "text": [
      "dict_keys(['AdaBoostRegressor', 'BaggingRegressor', 'LassoCV', 'OrthogonalMatchingPursuitCV', 'ElasticNetCV'])\n",
      "### Gain ###\n",
      "Mean: 0.5420845857216368. Median: 0.4833114854166567\n",
      "Mean: 0.5384243141727025. Median: 0.4871078224608132\n",
      "Mean: 0.5385411962391341. Median: 0.48571428571428577\n",
      "Mean: 0.5409452244257026. Median: 0.485896578154847\n",
      "Mean: 0.8990110053539561. Median: 0.811737804878049\n",
      "### Loss ###\n",
      "Mean: 0.39095439605112337. Median: 0.3160394145005707\n",
      "Mean: 0.3869134648766929. Median: 0.3182163920109179\n",
      "Mean: 0.3866706731557535. Median: 0.3161764705882353\n",
      "Mean: 0.3888091846755337. Median: 0.3136392171664391\n",
      "Mean: 0.8404558298631766. Median: 0.767530487804878\n",
      "Mean Total - Gain: 0.6118012651826265. Loss: 0.47876070972445606\n"
     ]
    },
    {
     "data": {
      "image/png": "[encoded data removed]",
      "text/plain": [
       "<matplotlib.figure.Figure at 0x7fce9a6c0390>"
      ]
     },
     "metadata": {
      "needs_background": "light"
     },
     "output_type": "display_data"
    }
   ],
   "source": [
    "import numpy as np\n",
    "print(sortedDict.keys())\n",
    "\n",
    "gain = 0\n",
    "print(\"### Gain ###\")\n",
    "\n",
    "for gainError in errorArray[0]:\n",
    "    gain += np.mean(gainError)\n",
    "    print(\"Mean: {}. Median: {}\".format(np.mean(gainError), np.median(gainError)))\n",
    "\n",
    "loss = 0\n",
    "print(\"### Loss ###\")\n",
    "\n",
    "for lossError in errorArray[1]:\n",
    "    loss += np.mean(lossError)\n",
    "    print(\"Mean: {}. Median: {}\".format(np.mean(lossError), np.median(lossError)))\n",
    "    \n",
    "print(\"Mean Total - Gain: {}. Loss: {}\".format(gain / 5, loss / 5))\n",
    "plotGrid(errorArray[0], errorArray[1])"
   ]
  }
 ],
 "metadata": {
  "kernelspec": {
   "display_name": "acopEnv",
   "language": "python",
   "name": "acopenv"
  },
  "language_info": {
   "codemirror_mode": {
    "name": "ipython",
    "version": 3
   },
   "file_extension": ".py",
   "mimetype": "text/x-python",
   "name": "python",
   "nbconvert_exporter": "python",
   "pygments_lexer": "ipython3",
   "version": "3.6.9"
  }
 },
 "nbformat": 4,
 "nbformat_minor": 2
}
