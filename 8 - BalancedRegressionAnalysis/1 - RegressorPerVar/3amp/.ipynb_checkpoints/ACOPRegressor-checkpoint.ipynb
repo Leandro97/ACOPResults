{
 "cells": [
  {
   "cell_type": "markdown",
   "metadata": {},
   "source": [
    "# Imports "
   ]
  },
  {
   "cell_type": "code",
   "execution_count": 1,
   "metadata": {},
   "outputs": [
    {
     "name": "stderr",
     "output_type": "stream",
     "text": [
      "/home/leandro/.local/lib/python3.6/site-packages/sklearn/utils/deprecation.py:143: FutureWarning: The sklearn.utils.testing module is  deprecated in version 0.22 and will be removed in version 0.24. The corresponding classes / functions should instead be imported from sklearn.utils. Anything that cannot be imported from sklearn.utils is now part of the private API.\n",
      "  warnings.warn(message, FutureWarning)\n",
      "  0%|          | 0/43 [00:00<?, ?it/s]"
     ]
    },
    {
     "name": "stdout",
     "output_type": "stream",
     "text": [
      "[250, 247, 243, 250, 240, 247, 250, 253, 249, 247, 245, 248, 248]\n",
      "2 chs: 250 entries\n",
      "3 chs: 247 entries\n",
      "4 chs: 243 entries\n",
      "5 chs: 250 entries\n",
      "6 chs: 240 entries\n",
      "7 chs: 247 entries\n",
      "8 chs: 250 entries\n",
      "9 chs: 253 entries\n",
      "10 chs: 249 entries\n",
      "15 chs: 247 entries\n",
      "20 chs: 245 entries\n",
      "30 chs: 248 entries\n",
      "40 chs: 248 entries\n",
      "Dataset entries: 3120\n"
     ]
    },
    {
     "name": "stderr",
     "output_type": "stream",
     "text": [
      " 74%|███████▍  | 32/43 [00:26<00:04,  2.32it/s]"
     ]
    },
    {
     "name": "stdout",
     "output_type": "stream",
     "text": [
      "RANSACRegressor model failed to execute\n",
      "RANSAC could not find a valid consensus set. All `max_trials` iterations were skipped because each randomly chosen sub-sample failed the passing criteria. See estimator attributes for diagnostics (n_skips*).\n"
     ]
    },
    {
     "name": "stderr",
     "output_type": "stream",
     "text": [
      " 95%|█████████▌| 41/43 [00:27<00:00,  4.32it/s]"
     ]
    },
    {
     "name": "stdout",
     "output_type": "stream",
     "text": [
      "StackingRegressor model failed to execute\n",
      "__init__() missing 1 required positional argument: 'estimators'\n"
     ]
    },
    {
     "name": "stderr",
     "output_type": "stream",
     "text": [
      "100%|██████████| 43/43 [00:43<00:00,  1.01s/it]\n",
      " 21%|██        | 9/43 [00:00<00:02, 13.54it/s]"
     ]
    },
    {
     "name": "stdout",
     "output_type": "stream",
     "text": [
      "GammaRegressor model failed to execute\n",
      "Some value(s) of y are out of the valid range for family GammaDistribution\n"
     ]
    },
    {
     "name": "stderr",
     "output_type": "stream",
     "text": [
      " 74%|███████▍  | 32/43 [00:10<00:02,  4.42it/s]"
     ]
    },
    {
     "name": "stdout",
     "output_type": "stream",
     "text": [
      "RANSACRegressor model failed to execute\n",
      "RANSAC could not find a valid consensus set. All `max_trials` iterations were skipped because each randomly chosen sub-sample failed the passing criteria. See estimator attributes for diagnostics (n_skips*).\n"
     ]
    },
    {
     "name": "stderr",
     "output_type": "stream",
     "text": [
      " 88%|████████▊ | 38/43 [00:12<00:01,  4.36it/s]"
     ]
    },
    {
     "name": "stdout",
     "output_type": "stream",
     "text": [
      "StackingRegressor model failed to execute\n",
      "__init__() missing 1 required positional argument: 'estimators'\n"
     ]
    },
    {
     "name": "stderr",
     "output_type": "stream",
     "text": [
      "100%|██████████| 43/43 [00:12<00:00,  3.42it/s]\n",
      " 88%|████████▊ | 38/43 [00:15<00:01,  3.36it/s]"
     ]
    },
    {
     "name": "stdout",
     "output_type": "stream",
     "text": [
      "StackingRegressor model failed to execute\n",
      "__init__() missing 1 required positional argument: 'estimators'\n"
     ]
    },
    {
     "name": "stderr",
     "output_type": "stream",
     "text": [
      "100%|██████████| 43/43 [00:15<00:00,  2.70it/s]\n",
      " 21%|██        | 9/43 [00:00<00:02, 12.93it/s]"
     ]
    },
    {
     "name": "stdout",
     "output_type": "stream",
     "text": [
      "GammaRegressor model failed to execute\n",
      "Some value(s) of y are out of the valid range for family GammaDistribution\n"
     ]
    },
    {
     "name": "stderr",
     "output_type": "stream",
     "text": [
      " 88%|████████▊ | 38/43 [00:09<00:01,  2.98it/s]"
     ]
    },
    {
     "name": "stdout",
     "output_type": "stream",
     "text": [
      "StackingRegressor model failed to execute\n",
      "__init__() missing 1 required positional argument: 'estimators'\n"
     ]
    },
    {
     "name": "stderr",
     "output_type": "stream",
     "text": [
      "100%|██████████| 43/43 [00:09<00:00,  4.34it/s]\n",
      " 88%|████████▊ | 38/43 [00:10<00:01,  3.75it/s]"
     ]
    },
    {
     "name": "stdout",
     "output_type": "stream",
     "text": [
      "StackingRegressor model failed to execute\n",
      "__init__() missing 1 required positional argument: 'estimators'\n"
     ]
    },
    {
     "name": "stderr",
     "output_type": "stream",
     "text": [
      "100%|██████████| 43/43 [00:11<00:00,  3.85it/s]\n",
      " 21%|██        | 9/43 [00:00<00:03, 10.82it/s]"
     ]
    },
    {
     "name": "stdout",
     "output_type": "stream",
     "text": [
      "GammaRegressor model failed to execute\n",
      "Some value(s) of y are out of the valid range for family GammaDistribution\n"
     ]
    },
    {
     "name": "stderr",
     "output_type": "stream",
     "text": [
      " 74%|███████▍  | 32/43 [00:09<00:02,  4.66it/s]"
     ]
    },
    {
     "name": "stdout",
     "output_type": "stream",
     "text": [
      "RANSACRegressor model failed to execute\n",
      "RANSAC could not find a valid consensus set. All `max_trials` iterations were skipped because each randomly chosen sub-sample failed the passing criteria. See estimator attributes for diagnostics (n_skips*).\n"
     ]
    },
    {
     "name": "stderr",
     "output_type": "stream",
     "text": [
      " 91%|█████████ | 39/43 [00:10<00:00,  4.76it/s]"
     ]
    },
    {
     "name": "stdout",
     "output_type": "stream",
     "text": [
      "StackingRegressor model failed to execute\n",
      "__init__() missing 1 required positional argument: 'estimators'\n"
     ]
    },
    {
     "name": "stderr",
     "output_type": "stream",
     "text": [
      "100%|██████████| 43/43 [00:16<00:00,  2.66it/s]\n"
     ]
    }
   ],
   "source": [
    "import ipynb.fs.full.PrepareData as data\n",
    "from sklearn.multioutput import MultiOutputRegressor\n",
    "import itertools\n",
    "\n",
    "strategyArray = []\n",
    "errorArray    = [[], []]"
   ]
  },
  {
   "cell_type": "markdown",
   "metadata": {},
   "source": [
    "# Sorting the dataset"
   ]
  },
  {
   "cell_type": "code",
   "execution_count": 2,
   "metadata": {
    "scrolled": false
   },
   "outputs": [
    {
     "name": "stdout",
     "output_type": "stream",
     "text": [
      "dict_keys(['TweedieRegressor', 'GeneralizedLinearRegressor', 'BayesianRidge', 'OrthogonalMatchingPursuitCV', 'ElasticNetCV'])\n"
     ]
    }
   ],
   "source": [
    "sortedDict = {}\n",
    "commonRegressors = data.commonRegressors\n",
    "\n",
    "for regressor in commonRegressors:\n",
    "    sortedDict[regressor] = 0\n",
    "    \n",
    "    for i in range(data.ampNumber):\n",
    "        sortedDict[regressor] += data.finalList[i][regressor][0] + data.finalList[i][regressor][1]\n",
    "\n",
    "sortedDict = dict(sorted(sortedDict.items(), key = lambda x : x[1]))\n",
    "sortedDict = dict(itertools.islice(sortedDict.items(), 5))\n",
    "\n",
    "print(sortedDict.keys())"
   ]
  },
  {
   "cell_type": "markdown",
   "metadata": {},
   "source": [
    "# Processing data"
   ]
  },
  {
   "cell_type": "code",
   "execution_count": 3,
   "metadata": {},
   "outputs": [],
   "source": [
    "from sklearn.metrics import mean_absolute_error\n",
    "\n",
    "def getMAE(yTrue, yPredicted):\n",
    "    gainErrors = []\n",
    "    lossErrors = []\n",
    "    \n",
    "    rangeList = list(range(len(yTrue[0])))\n",
    "    \n",
    "    for true, predicted in zip(yTrue, yPredicted):\n",
    "        gainTrue      = [true[x] for x in rangeList[0::2]]\n",
    "        gainPredicted = [predicted[x] for x in rangeList[0::2]]\n",
    "        lossTrue      = [true[x] for x in rangeList[1::2]]\n",
    "        lossPredicted = [predicted[x] for x in rangeList[1::2]]\n",
    "        \n",
    "        gainErrors.append(mean_absolute_error(gainTrue, gainPredicted))\n",
    "        lossErrors.append(mean_absolute_error(lossTrue, lossPredicted))\n",
    "        \n",
    "    return gainErrors, lossErrors"
   ]
  },
  {
   "cell_type": "markdown",
   "metadata": {},
   "source": [
    "# Plotting function"
   ]
  },
  {
   "cell_type": "code",
   "execution_count": 4,
   "metadata": {},
   "outputs": [],
   "source": [
    "import matplotlib.pyplot as plt\n",
    "\n",
    "def plotGrid(gainData, lossData):\n",
    "    fontSize = 32\n",
    "    \n",
    "    fig, axis = plt.subplots(2, figsize = (10, 10))\n",
    "    \n",
    "    axis[0].boxplot(gainData)\n",
    "    axis[0].set_title(\"Test error for Gain\", fontsize = fontSize)\n",
    "    axis[0].get_xaxis().set_visible(False)\n",
    "    axis[0].yaxis.set_tick_params(labelsize = fontSize)\n",
    "    axis[0].set_yticklabels(range(0, 4))\n",
    "    axis[0].set_ylim(0, 3)\n",
    "    \n",
    "    axis[1].boxplot(lossData)\n",
    "    axis[1].set_title(\"Test error for Loss\", fontsize = fontSize)\n",
    "    axis[1].xaxis.set_tick_params(labelsize = fontSize)\n",
    "    axis[1].yaxis.set_tick_params(labelsize = fontSize)\n",
    "    axis[1].set_xticklabels(strategyArray)\n",
    "    axis[1].set_yticklabels(range(0, 4))\n",
    "    axis[1].set_ylim(0, 3)\n",
    "\n",
    "    #fig.text(0.053, 0.5, 'Erro Médio Absoluto (dB)', va='center', rotation='vertical', fontsize = fontSize)\n",
    "\n",
    "    plt.gcf().subplots_adjust(bottom = 0.08)\n",
    "    fig.savefig(\"../../graphs/perVar-{}amp.pdf\".format(data.ampNumber), format = 'pdf', dpi = 1000, bbox_inches = \"tight\")"
   ]
  },
  {
   "cell_type": "markdown",
   "metadata": {},
   "source": [
    "# Building the models"
   ]
  },
  {
   "cell_type": "code",
   "execution_count": 5,
   "metadata": {},
   "outputs": [],
   "source": [
    "cvData = []\n",
    "X, y = data.loadDataset()\n",
    "\n",
    "for i in range(5):\n",
    "    X_train, X_test, y_train, y_test = data.train_test_split(X, y, test_size = 0.2, random_state = i)\n",
    "    cvData.append([X_train, X_test, y_train, y_test])\n",
    "    \n",
    "count = 1"
   ]
  },
  {
   "cell_type": "code",
   "execution_count": 6,
   "metadata": {
    "scrolled": true
   },
   "outputs": [
    {
     "name": "stdout",
     "output_type": "stream",
     "text": [
      "[17.  0. 19.  1. 24.  0.] [17.03982917  0.27122255 19.1513361   0.9827189  21.70776613  0.06343962]\n",
      "[17.  0. 23.  5. 24.  1.] [17.02762574  0.2713309  19.14938296  0.98427136 21.69415826  0.11465769]\n",
      "[17.  0. 19.  1. 19.  0.] [16.99231369  0.27584119 19.16943497  0.99323962 21.70645249  0.04651535]\n",
      "[17.  0. 19.  1. 22.  1.] [17.02193042  0.26967766 19.14684126  0.973003   21.69548528  0.65684048]\n",
      "[17.  0. 19.  1. 21.  0.] [17.02118189  0.26348174 19.15848783  0.98890294 21.72126941  0.09180937]\n"
     ]
    }
   ],
   "source": [
    "from sklearn.linear_model import BayesianRidge\n",
    "\n",
    "errorArray[0].append([])\n",
    "errorArray[1].append([])\n",
    "\n",
    "for i in range(5):\n",
    "    finalResult = []\n",
    "\n",
    "    for j in range(0, data.ampNumber * 2):\n",
    "        model = MultiOutputRegressor(BayesianRidge())\n",
    "        model.fit(cvData[i][0], cvData[i][2][:, j: j + 1])\n",
    "\n",
    "        result = model.predict(cvData[i][1])\n",
    "\n",
    "        if len(finalResult) == 0:\n",
    "            finalResult = result\n",
    "        else:\n",
    "            finalResult = data.np.hstack((finalResult, result))\n",
    "\n",
    "    print(cvData[i][-1][0], finalResult[0])\n",
    "    \n",
    "    mae = getMAE(cvData[i][3], finalResult)\n",
    "\n",
    "    errorArray[0][-1].extend(mae[0])\n",
    "    errorArray[1][-1].extend(mae[1])\n",
    "\n",
    "strategyArray.append(\"BR\")\n",
    "count += 1"
   ]
  },
  {
   "cell_type": "code",
   "execution_count": 7,
   "metadata": {},
   "outputs": [
    {
     "name": "stdout",
     "output_type": "stream",
     "text": [
      "[17.  0. 19.  1. 24.  0.] [17.06589539  0.29630792 18.99833624  0.86573672 21.58961127  0.06151856]\n",
      "[17.  0. 23.  5. 24.  1.] [17.03340693  0.26631616 19.2275343   1.05236823 21.69423762  0.1129673 ]\n",
      "[17.  0. 19.  1. 19.  0.] [16.97703165  0.25781065 19.20202357  0.98367491 21.81909166  0.0446415 ]\n",
      "[17.  0. 19.  1. 22.  1.] [17.02125717  0.25990684 19.04148693  0.87080705 21.57204469  0.65930246]\n",
      "[17.  0. 19.  1. 21.  0.] [17.02128958  0.2327027  19.24673454  1.07473677 21.72950923  0.08997169]\n"
     ]
    }
   ],
   "source": [
    "from sklearn.ensemble import RandomForestRegressor\n",
    "\n",
    "errorArray[0].append([])\n",
    "errorArray[1].append([])\n",
    "\n",
    "for i in range(5):\n",
    "    finalResult = []\n",
    "\n",
    "    for j in range(0, data.ampNumber * 2):\n",
    "        model = MultiOutputRegressor(RandomForestRegressor())\n",
    "        model.fit(cvData[i][0], cvData[i][2][:, j: j + 1])\n",
    "\n",
    "        result = model.predict(cvData[i][1])\n",
    "\n",
    "        if len(finalResult) == 0:\n",
    "            finalResult = result\n",
    "        else:\n",
    "            finalResult = data.np.hstack((finalResult, result))\n",
    "\n",
    "    print(cvData[i][-1][0], finalResult[0])\n",
    "    \n",
    "    mae = getMAE(cvData[i][3], finalResult)\n",
    "\n",
    "    errorArray[0][-1].extend(mae[0])\n",
    "    errorArray[1][-1].extend(mae[1])\n",
    "\n",
    "strategyArray.append(\"RF\".format(count))\n",
    "count += 1"
   ]
  },
  {
   "cell_type": "code",
   "execution_count": 8,
   "metadata": {},
   "outputs": [
    {
     "name": "stdout",
     "output_type": "stream",
     "text": [
      "[17.  0. 19.  1. 24.  0.] [17.06666667  0.2974359  19.00512821  0.86153846 21.58974359  0.06153846]\n",
      "[17.  0. 23.  5. 24.  1.] [17.03141361  0.27225131 19.21989529  1.04188482 21.71204188  0.11518325]\n",
      "[17.  0. 19.  1. 19.  0.] [16.97435897  0.25641026 19.21025641  0.97435897 21.78974359  0.04615385]\n",
      "[17.  0. 19.  1. 22.  1.] [17.02631579  0.26315789 19.03157895  0.87368421 21.59473684  0.65789474]\n",
      "[17.  0. 19.  1. 21.  0.] [17.01970443  0.23152709 19.25123153  1.09359606 21.74384236  0.08866995]\n"
     ]
    }
   ],
   "source": [
    "from sklearn.tree import DecisionTreeRegressor\n",
    "\n",
    "errorArray[0].append([])\n",
    "errorArray[1].append([])\n",
    "\n",
    "for i in range(5):\n",
    "    finalResult = []\n",
    "\n",
    "    for j in range(0, data.ampNumber * 2):\n",
    "        model = MultiOutputRegressor(DecisionTreeRegressor())\n",
    "        model.fit(cvData[i][0], cvData[i][2][:, j: j + 1])\n",
    "\n",
    "        result = model.predict(cvData[i][1])\n",
    "\n",
    "        if len(finalResult) == 0:\n",
    "            finalResult = result\n",
    "        else:\n",
    "            finalResult = data.np.hstack((finalResult, result))\n",
    "\n",
    "    print(cvData[i][-1][0], finalResult[0])\n",
    "    \n",
    "    mae = getMAE(cvData[i][3], finalResult)\n",
    "\n",
    "    errorArray[0][-1].extend(mae[0])\n",
    "    errorArray[1][-1].extend(mae[1])\n",
    "\n",
    "strategyArray.append(\"DT\")\n",
    "count += 1"
   ]
  },
  {
   "cell_type": "code",
   "execution_count": 9,
   "metadata": {},
   "outputs": [
    {
     "name": "stdout",
     "output_type": "stream",
     "text": [
      "[17.  0. 19.  1. 24.  0.] [17.05773676  0.26385224 19.15137437  0.98219125 21.70770422  0.06547289]\n",
      "[17.  0. 23.  5. 24.  1.] [17.03265104  0.271777   19.2014189   1.00548181 21.69415408  0.10386102]\n",
      "[17.  0. 19.  1. 19.  0.] [16.99050896  0.27604845 19.17504574  0.99341851 21.70538134  0.04615385]\n",
      "[17.  0. 19.  1. 22.  1.] [17.02631579  0.26749593 19.13518193  0.95008076 21.69725126  0.65492118]\n",
      "[17.  0. 19.  1. 21.  0.] [17.02285714  0.25956817 19.21541676  1.04189986 21.72202865  0.09001199]\n"
     ]
    }
   ],
   "source": [
    "from sklearn.linear_model import LassoCV\n",
    "\n",
    "errorArray[0].append([])\n",
    "errorArray[1].append([])\n",
    "\n",
    "for i in range(5):\n",
    "    finalResult = []\n",
    "\n",
    "    for j in range(0, data.ampNumber * 2):\n",
    "        model = MultiOutputRegressor(LassoCV())\n",
    "        model.fit(cvData[i][0], cvData[i][2][:, j: j + 1])\n",
    "\n",
    "        result = model.predict(cvData[i][1])\n",
    "\n",
    "        if len(finalResult) == 0:\n",
    "            finalResult = result\n",
    "        else:\n",
    "            finalResult = data.np.hstack((finalResult, result))\n",
    "\n",
    "    print(cvData[i][-1][0], finalResult[0])\n",
    "    \n",
    "    mae = getMAE(cvData[i][3], finalResult)\n",
    "\n",
    "    errorArray[0][-1].extend(mae[0])\n",
    "    errorArray[1][-1].extend(mae[1])\n",
    "\n",
    "strategyArray.append(\"LCV\")\n",
    "count += 1"
   ]
  },
  {
   "cell_type": "code",
   "execution_count": 10,
   "metadata": {},
   "outputs": [
    {
     "name": "stdout",
     "output_type": "stream",
     "text": [
      "[17.  0. 19.  1. 24.  0.] [17.03135889  0.27061556 19.15137437  0.98219125 21.70770422  0.27680991]\n",
      "[17.  0. 23.  5. 24.  1.] [17.03019744  0.271777   19.14866434  0.98335269 21.69415408  0.2775842 ]\n",
      "[17.  0. 19.  1. 19.  0.] [17.03174603  0.27719706 19.1656988   0.99341851 21.70538134  0.28261711]\n",
      "[17.  0. 19.  1. 22.  1.] [17.03135889  0.27138986 19.14905149  0.9767712  21.69725126  0.28803717]\n",
      "[17.  0. 19.  1. 21.  0.] [17.02826171  0.26287263 19.15640728  0.98722416 21.72202865  0.28261711]\n"
     ]
    }
   ],
   "source": [
    "from sklearn.dummy import DummyRegressor\n",
    "\n",
    "errorArray[0].append([])\n",
    "errorArray[1].append([])\n",
    "\n",
    "for i in range(5):\n",
    "    finalResult = []\n",
    "\n",
    "    for j in range(0, data.ampNumber * 2):\n",
    "        model = MultiOutputRegressor(DummyRegressor())\n",
    "        model.fit(cvData[i][0], cvData[i][2][:, j: j + 1])\n",
    "\n",
    "        result = model.predict(cvData[i][1])\n",
    "\n",
    "        if len(finalResult) == 0:\n",
    "            finalResult = result\n",
    "        else:\n",
    "            finalResult = data.np.hstack((finalResult, result))\n",
    "\n",
    "    print(cvData[i][-1][0], finalResult[0])\n",
    "    \n",
    "    mae = getMAE(cvData[i][3], finalResult)\n",
    "\n",
    "    errorArray[0][-1].extend(mae[0])\n",
    "    errorArray[1][-1].extend(mae[1])\n",
    "\n",
    "strategyArray.append(\"SM\".format(count))\n",
    "count += 1"
   ]
  },
  {
   "cell_type": "code",
   "execution_count": 11,
   "metadata": {
    "scrolled": true
   },
   "outputs": [
    {
     "name": "stdout",
     "output_type": "stream",
     "text": [
      "dict_keys(['TweedieRegressor', 'GeneralizedLinearRegressor', 'BayesianRidge', 'OrthogonalMatchingPursuitCV', 'ElasticNetCV'])\n",
      "### Gain ###\n",
      "Mean: 0.822425129735045. Median: 0.8265524860023905\n",
      "Mean: 0.824480379797068. Median: 0.8259826257897084\n",
      "Mean: 0.8242722288461394. Median: 0.8281786941580762\n",
      "Mean: 0.8226048687130861. Median: 0.8261352616022061\n",
      "Mean: 0.8217164144219946. Median: 0.8263646922183506\n",
      "### Loss ###\n",
      "Mean: 0.5071907330642093. Median: 0.4801459717839005\n",
      "Mean: 0.5109808838540352. Median: 0.49736325348563937\n",
      "Mean: 0.5110285926377489. Median: 0.49828178694158076\n",
      "Mean: 0.5077974633627013. Median: 0.48391252790349876\n",
      "Mean: 0.5494487454088753. Median: 0.5220028390760098\n",
      "Mean Total - Gain: 0.8230998043026666. Loss: 0.517289283665514\n"
     ]
    },
    {
     "data": {
      "image/png": "[encoded data removed]",
      "text/plain": [
       "<matplotlib.figure.Figure at 0x7f8aabb90fd0>"
      ]
     },
     "metadata": {
      "needs_background": "light"
     },
     "output_type": "display_data"
    }
   ],
   "source": [
    "import numpy as np\n",
    "print(sortedDict.keys())\n",
    "\n",
    "gain = 0\n",
    "print(\"### Gain ###\")\n",
    "\n",
    "for gainError in errorArray[0]:\n",
    "    gain += np.mean(gainError)\n",
    "    print(\"Mean: {}. Median: {}\".format(np.mean(gainError), np.median(gainError)))\n",
    "\n",
    "loss = 0\n",
    "print(\"### Loss ###\")\n",
    "\n",
    "for lossError in errorArray[1]:\n",
    "    loss += np.mean(lossError)\n",
    "    print(\"Mean: {}. Median: {}\".format(np.mean(lossError), np.median(lossError)))\n",
    "    \n",
    "print(\"Mean Total - Gain: {}. Loss: {}\".format(gain / 5, loss / 5))\n",
    "plotGrid(errorArray[0], errorArray[1])"
   ]
  }
 ],
 "metadata": {
  "kernelspec": {
   "display_name": "acopEnv",
   "language": "python",
   "name": "acopenv"
  },
  "language_info": {
   "codemirror_mode": {
    "name": "ipython",
    "version": 3
   },
   "file_extension": ".py",
   "mimetype": "text/x-python",
   "name": "python",
   "nbconvert_exporter": "python",
   "pygments_lexer": "ipython3",
   "version": "3.6.9"
  }
 },
 "nbformat": 4,
 "nbformat_minor": 2
}
