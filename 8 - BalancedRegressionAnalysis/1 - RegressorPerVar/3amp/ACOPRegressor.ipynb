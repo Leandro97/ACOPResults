{
 "cells": [
  {
   "cell_type": "markdown",
   "metadata": {},
   "source": [
    "# Imports "
   ]
  },
  {
   "cell_type": "code",
   "execution_count": 1,
   "metadata": {},
   "outputs": [
    {
     "name": "stderr",
     "output_type": "stream",
     "text": [
      "/home/leandro/.local/lib/python3.6/site-packages/sklearn/utils/deprecation.py:143: FutureWarning: The sklearn.utils.testing module is  deprecated in version 0.22 and will be removed in version 0.24. The corresponding classes / functions should instead be imported from sklearn.utils. Anything that cannot be imported from sklearn.utils is now part of the private API.\n",
      "  warnings.warn(message, FutureWarning)\n",
      " 12%|█▏        | 5/43 [00:00<00:00, 45.52it/s]"
     ]
    },
    {
     "name": "stdout",
     "output_type": "stream",
     "text": [
      "[104, 779, 214, 307, 262, 294, 1154, 1105, 770, 1126, 728, 1125, 924]\n",
      "2 chs: 104 entries\n",
      "3 chs: 779 entries\n",
      "4 chs: 214 entries\n",
      "5 chs: 307 entries\n",
      "6 chs: 262 entries\n",
      "7 chs: 294 entries\n",
      "8 chs: 1154 entries\n",
      "9 chs: 1105 entries\n",
      "10 chs: 770 entries\n",
      "15 chs: 1126 entries\n",
      "20 chs: 728 entries\n",
      "30 chs: 1125 entries\n",
      "40 chs: 924 entries\n"
     ]
    },
    {
     "name": "stderr",
     "output_type": "stream",
     "text": [
      " 91%|█████████ | 39/43 [00:06<00:00,  5.48it/s]"
     ]
    },
    {
     "name": "stdout",
     "output_type": "stream",
     "text": [
      "StackingRegressor model failed to execute\n",
      "__init__() missing 1 required positional argument: 'estimators'\n"
     ]
    },
    {
     "name": "stderr",
     "output_type": "stream",
     "text": [
      "100%|██████████| 43/43 [00:07<00:00,  6.10it/s]\n",
      " 26%|██▌       | 11/43 [00:00<00:02, 13.17it/s]"
     ]
    },
    {
     "name": "stdout",
     "output_type": "stream",
     "text": [
      "GammaRegressor model failed to execute\n",
      "Some value(s) of y are out of the valid range for family GammaDistribution\n"
     ]
    },
    {
     "name": "stderr",
     "output_type": "stream",
     "text": [
      " 98%|█████████▊| 42/43 [00:05<00:00,  6.03it/s]"
     ]
    },
    {
     "name": "stdout",
     "output_type": "stream",
     "text": [
      "StackingRegressor model failed to execute\n",
      "__init__() missing 1 required positional argument: 'estimators'\n"
     ]
    },
    {
     "name": "stderr",
     "output_type": "stream",
     "text": [
      "100%|██████████| 43/43 [00:05<00:00,  7.31it/s]\n",
      " 88%|████████▊ | 38/43 [00:07<00:00,  6.24it/s]"
     ]
    },
    {
     "name": "stdout",
     "output_type": "stream",
     "text": [
      "StackingRegressor model failed to execute\n",
      "__init__() missing 1 required positional argument: 'estimators'\n"
     ]
    },
    {
     "name": "stderr",
     "output_type": "stream",
     "text": [
      "100%|██████████| 43/43 [00:08<00:00,  5.12it/s]\n",
      " 21%|██        | 9/43 [00:01<00:06,  5.31it/s]"
     ]
    },
    {
     "name": "stdout",
     "output_type": "stream",
     "text": [
      "GammaRegressor model failed to execute\n",
      "Some value(s) of y are out of the valid range for family GammaDistribution\n"
     ]
    },
    {
     "name": "stderr",
     "output_type": "stream",
     "text": [
      " 88%|████████▊ | 38/43 [00:06<00:01,  4.39it/s]"
     ]
    },
    {
     "name": "stdout",
     "output_type": "stream",
     "text": [
      "StackingRegressor model failed to execute\n",
      "__init__() missing 1 required positional argument: 'estimators'\n"
     ]
    },
    {
     "name": "stderr",
     "output_type": "stream",
     "text": [
      "100%|██████████| 43/43 [00:07<00:00,  5.89it/s]\n",
      " 77%|███████▋  | 33/43 [00:07<00:03,  2.94it/s]"
     ]
    },
    {
     "name": "stdout",
     "output_type": "stream",
     "text": [
      "RANSACRegressor model failed to execute\n",
      "RANSAC could not find a valid consensus set. All `max_trials` iterations were skipped because each randomly chosen sub-sample failed the passing criteria. See estimator attributes for diagnostics (n_skips*).\n"
     ]
    },
    {
     "name": "stderr",
     "output_type": "stream",
     "text": [
      " 88%|████████▊ | 38/43 [00:08<00:01,  4.86it/s]"
     ]
    },
    {
     "name": "stdout",
     "output_type": "stream",
     "text": [
      "StackingRegressor model failed to execute\n",
      "__init__() missing 1 required positional argument: 'estimators'\n"
     ]
    },
    {
     "name": "stderr",
     "output_type": "stream",
     "text": [
      "100%|██████████| 43/43 [00:08<00:00,  5.14it/s]\n",
      " 21%|██        | 9/43 [00:01<00:05,  6.36it/s]"
     ]
    },
    {
     "name": "stdout",
     "output_type": "stream",
     "text": [
      "GammaRegressor model failed to execute\n",
      "Some value(s) of y are out of the valid range for family GammaDistribution\n"
     ]
    },
    {
     "name": "stderr",
     "output_type": "stream",
     "text": [
      " 77%|███████▋  | 33/43 [00:06<00:01,  6.02it/s]"
     ]
    },
    {
     "name": "stdout",
     "output_type": "stream",
     "text": [
      "RANSACRegressor model failed to execute\n",
      "RANSAC could not find a valid consensus set. All `max_trials` iterations were skipped because each randomly chosen sub-sample failed the passing criteria. See estimator attributes for diagnostics (n_skips*).\n"
     ]
    },
    {
     "name": "stderr",
     "output_type": "stream",
     "text": [
      " 88%|████████▊ | 38/43 [00:07<00:00,  8.29it/s]"
     ]
    },
    {
     "name": "stdout",
     "output_type": "stream",
     "text": [
      "StackingRegressor model failed to execute\n",
      "__init__() missing 1 required positional argument: 'estimators'\n"
     ]
    },
    {
     "name": "stderr",
     "output_type": "stream",
     "text": [
      "100%|██████████| 43/43 [00:07<00:00,  5.40it/s]\n"
     ]
    }
   ],
   "source": [
    "import ipynb.fs.full.PrepareData as data\n",
    "from sklearn.multioutput import MultiOutputRegressor\n",
    "import itertools\n",
    "\n",
    "strategyArray = []\n",
    "errorArray    = [[], []]"
   ]
  },
  {
   "cell_type": "markdown",
   "metadata": {},
   "source": [
    "# Sorting the dataset"
   ]
  },
  {
   "cell_type": "code",
   "execution_count": 2,
   "metadata": {
    "scrolled": false
   },
   "outputs": [
    {
     "name": "stdout",
     "output_type": "stream",
     "text": [
      "dict_keys(['BaggingRegressor', 'RandomForestRegressor', 'XGBRegressor', 'DecisionTreeRegressor', 'TransformedTargetRegressor'])\n"
     ]
    }
   ],
   "source": [
    "sortedDict = {}\n",
    "commonRegressors = data.commonRegressors\n",
    "\n",
    "for regressor in commonRegressors:\n",
    "    sortedDict[regressor] = 0\n",
    "    \n",
    "    for i in range(data.ampNumber):\n",
    "        sortedDict[regressor] += data.finalList[i][regressor][0] + data.finalList[i][regressor][1]\n",
    "\n",
    "sortedDict = dict(sorted(sortedDict.items(), key = lambda x : x[1]))\n",
    "sortedDict = dict(itertools.islice(sortedDict.items(), 5))\n",
    "\n",
    "print(sortedDict.keys())"
   ]
  },
  {
   "cell_type": "markdown",
   "metadata": {},
   "source": [
    "# Processing data"
   ]
  },
  {
   "cell_type": "code",
   "execution_count": 3,
   "metadata": {},
   "outputs": [],
   "source": [
    "from sklearn.metrics import mean_absolute_error\n",
    "\n",
    "def getMAE(yTrue, yPredicted):\n",
    "    gainErrors = []\n",
    "    lossErrors = []\n",
    "    \n",
    "    rangeList = list(range(len(yTrue[0])))\n",
    "    \n",
    "    for true, predicted in zip(yTrue, yPredicted):\n",
    "        gainTrue      = [true[x] for x in rangeList[0::2]]\n",
    "        gainPredicted = [predicted[x] for x in rangeList[0::2]]\n",
    "        lossTrue      = [true[x] for x in rangeList[1::2]]\n",
    "        lossPredicted = [predicted[x] for x in rangeList[1::2]]\n",
    "        \n",
    "        gainErrors.append(mean_absolute_error(gainTrue, gainPredicted))\n",
    "        lossErrors.append(mean_absolute_error(lossTrue, lossPredicted))\n",
    "        \n",
    "    return gainErrors, lossErrors"
   ]
  },
  {
   "cell_type": "markdown",
   "metadata": {},
   "source": [
    "# Plotting function"
   ]
  },
  {
   "cell_type": "code",
   "execution_count": 4,
   "metadata": {},
   "outputs": [],
   "source": [
    "import matplotlib.pyplot as plt\n",
    "\n",
    "def plotGrid(gainData, lossData):\n",
    "    fig, axis = plt.subplots(2, figsize = (10, 10))\n",
    "    #fig.suptitle(\"One regressor per variable - {} amplifiers\".format(data.ampNumber), fontsize = 20)\n",
    "    \n",
    "    axis[0].boxplot(gainData)\n",
    "    axis[0].set_title(\"Gain test error\", fontsize = 18)\n",
    "    axis[0].xaxis.set_tick_params(labelsize = 14)\n",
    "    axis[0].set_ylim(0, 5)\n",
    "    \n",
    "    axis[1].boxplot(lossData)\n",
    "    axis[1].set_title(\"Loss test error\", fontsize = 18)\n",
    "    axis[1].xaxis.set_tick_params(labelsize = 14)\n",
    "    axis[1].set_xticklabels(strategyArray, rotation = -45, ha = 'left')\n",
    "    axis[1].set_ylim(0, 5)\n",
    "\n",
    "    fig.text(0.08, 0.5, 'Mean Absolute error (dB)', va='center', rotation='vertical', fontsize = 18)\n",
    "\n",
    "    plt.gcf().subplots_adjust(bottom = 0.15)\n",
    "    fig.savefig(\"../../graphs/perVar-{}amps.eps\".format(data.ampNumber), format = 'eps', dpi = 1000, bbox_inches = \"tight\")"
   ]
  },
  {
   "cell_type": "markdown",
   "metadata": {},
   "source": [
    "# Building the models"
   ]
  },
  {
   "cell_type": "code",
   "execution_count": 5,
   "metadata": {},
   "outputs": [],
   "source": [
    "X, y = data.loadDataset()\n",
    "X_train, X_test, y_train, y_test = data.train_test_split(X, y, test_size = 0.3, random_state = 0)\n",
    "\n",
    "count = 1"
   ]
  },
  {
   "cell_type": "code",
   "execution_count": 6,
   "metadata": {
    "scrolled": true
   },
   "outputs": [
    {
     "name": "stdout",
     "output_type": "stream",
     "text": [
      "[22.  9. 23.  3. 24.  1.] [23.82373686  2.92234628 18.73668037  7.92186194 23.84548757  0.19247616]\n"
     ]
    }
   ],
   "source": [
    "from sklearn.ensemble import BaggingRegressor\n",
    "from sklearn.tree import ExtraTreeRegressor\n",
    "\n",
    "finalY      = []\n",
    "finalResult = []\n",
    "\n",
    "for i in range(0, data.ampNumber * 2):\n",
    "    extra_tree = ExtraTreeRegressor(criterion = \"mse\", random_state = 0)\n",
    "    model      = MultiOutputRegressor(BaggingRegressor(base_estimator = extra_tree, \n",
    "                                                       n_estimators   = 100,\n",
    "                                                       random_state   = 0))\n",
    "\n",
    "    model.fit(X_train, y_train[:, i: i + 1])\n",
    "\n",
    "    result = model.predict(X_test)\n",
    "    \n",
    "    if len(finalY) == 0:\n",
    "        finalY = y_test[:, i: i + 1]\n",
    "        finalResult = result\n",
    "    else:        \n",
    "        finalY      = data.np.hstack((finalY, y_test[:, i: i + 1]))\n",
    "        finalResult = data.np.hstack((finalResult, result))\n",
    "    \n",
    "print(finalY[0], finalResult[0])\n",
    "\n",
    "strategyArray.append(\"{} - BaggingRegressor\".format(count))\n",
    "result = getMAE(finalY, finalResult)\n",
    "\n",
    "errorArray[0].append(result[0])\n",
    "errorArray[1].append(result[1])\n",
    "\n",
    "count += 1"
   ]
  },
  {
   "cell_type": "code",
   "execution_count": 7,
   "metadata": {},
   "outputs": [
    {
     "name": "stdout",
     "output_type": "stream",
     "text": [
      "[22.  9. 23.  3. 24.  1.] [23.82455731  2.86737331 18.74001123  7.89188882 23.83777109  0.18687757]\n"
     ]
    }
   ],
   "source": [
    "from sklearn.ensemble import RandomForestRegressor\n",
    "\n",
    "finalY      = []\n",
    "finalResult = []\n",
    "\n",
    "for i in range(0, data.ampNumber * 2):\n",
    "    model = MultiOutputRegressor(RandomForestRegressor())\n",
    "    model.fit(X_train, y_train[:, i: i + 1])\n",
    "\n",
    "    result = model.predict(X_test)\n",
    "    \n",
    "    if len(finalY) == 0:\n",
    "        finalY = y_test[:, i: i + 1]\n",
    "        finalResult = result\n",
    "    else:        \n",
    "        finalY      = data.np.hstack((finalY, y_test[:, i: i + 1]))\n",
    "        finalResult = data.np.hstack((finalResult, result))\n",
    "    \n",
    "print(finalY[0], finalResult[0])\n",
    "\n",
    "strategyArray.append(\"{} - RandomForestRegressor\".format(count))\n",
    "result = getMAE(finalY, finalResult)\n",
    "\n",
    "errorArray[0].append(result[0])\n",
    "errorArray[1].append(result[1])\n",
    "\n",
    "count += 1"
   ]
  },
  {
   "cell_type": "code",
   "execution_count": 8,
   "metadata": {},
   "outputs": [
    {
     "name": "stdout",
     "output_type": "stream",
     "text": [
      "[22.  9. 23.  3. 24.  1.] [23.82826     2.9062517  18.703043    7.9218435  23.843761    0.18737616]\n"
     ]
    }
   ],
   "source": [
    "from xgboost import XGBRegressor\n",
    "\n",
    "finalY      = []\n",
    "finalResult = []\n",
    "\n",
    "for i in range(0, data.ampNumber * 2):\n",
    "    model = MultiOutputRegressor(XGBRegressor())\n",
    "    model.fit(X_train, y_train[:, i: i + 1])\n",
    "\n",
    "    result = model.predict(X_test)\n",
    "    \n",
    "    if len(finalY) == 0:\n",
    "        finalY = y_test[:, i: i + 1]\n",
    "        finalResult = result\n",
    "    else:        \n",
    "        finalY      = data.np.hstack((finalY, y_test[:, i: i + 1]))\n",
    "        finalResult = data.np.hstack((finalResult, result))\n",
    "    \n",
    "print(finalY[0], finalResult[0])\n",
    "\n",
    "strategyArray.append(\"{} - XGBRegressor\".format(count))\n",
    "result = getMAE(finalY, finalResult)\n",
    "\n",
    "errorArray[0].append(result[0])\n",
    "errorArray[1].append(result[1])\n",
    "\n",
    "count += 1"
   ]
  },
  {
   "cell_type": "code",
   "execution_count": 9,
   "metadata": {},
   "outputs": [
    {
     "name": "stdout",
     "output_type": "stream",
     "text": [
      "[22.  9. 23.  3. 24.  1.] [23.828125  2.90625  18.703125  7.921875 23.84375   0.1875  ]\n"
     ]
    }
   ],
   "source": [
    "from sklearn.tree import DecisionTreeRegressor\n",
    "\n",
    "finalY      = []\n",
    "finalResult = []\n",
    "\n",
    "for i in range(0, data.ampNumber * 2):\n",
    "    model = MultiOutputRegressor(DecisionTreeRegressor())\n",
    "    model.fit(X_train, y_train[:, i: i + 1])\n",
    "\n",
    "    result = model.predict(X_test)\n",
    "    \n",
    "    if len(finalY) == 0:\n",
    "        finalY = y_test[:, i: i + 1]\n",
    "        finalResult = result\n",
    "    else:        \n",
    "        finalY      = data.np.hstack((finalY, y_test[:, i: i + 1]))\n",
    "        finalResult = data.np.hstack((finalResult, result))\n",
    "    \n",
    "print(finalY[0], finalResult[0])\n",
    "\n",
    "strategyArray.append(\"{} - DecisionTreeRegressor\".format(count))\n",
    "result = getMAE(finalY, finalResult)\n",
    "\n",
    "errorArray[0].append(result[0])\n",
    "errorArray[1].append(result[1])\n",
    "\n",
    "count += 1"
   ]
  },
  {
   "cell_type": "code",
   "execution_count": 10,
   "metadata": {},
   "outputs": [
    {
     "name": "stdout",
     "output_type": "stream",
     "text": [
      "[22.  9. 23.  3. 24.  1.] [23.83648682  2.91674805 18.71777344  7.9246521  23.8409462   0.18540192]\n"
     ]
    }
   ],
   "source": [
    "from sklearn.compose import TransformedTargetRegressor\n",
    "\n",
    "finalY      = []\n",
    "finalResult = []\n",
    "\n",
    "for i in range(0, data.ampNumber * 2):\n",
    "    model = MultiOutputRegressor(TransformedTargetRegressor())\n",
    "    model.fit(X_train, y_train[:, i: i + 1])\n",
    "\n",
    "    result = model.predict(X_test)\n",
    "    \n",
    "    if len(finalY) == 0:\n",
    "        finalY = y_test[:, i: i + 1]\n",
    "        finalResult = result\n",
    "    else:        \n",
    "        finalY      = data.np.hstack((finalY, y_test[:, i: i + 1]))\n",
    "        finalResult = data.np.hstack((finalResult, result))\n",
    "    \n",
    "print(finalY[0], finalResult[0])\n",
    "\n",
    "strategyArray.append(\"{} - TransformedTargetRegressor\".format(count))\n",
    "result = getMAE(finalY, finalResult)\n",
    "\n",
    "errorArray[0].append(result[0])\n",
    "errorArray[1].append(result[1])\n",
    "\n",
    "count += 1"
   ]
  },
  {
   "cell_type": "code",
   "execution_count": 11,
   "metadata": {},
   "outputs": [
    {
     "name": "stdout",
     "output_type": "stream",
     "text": [
      "[22.  9. 23.  3. 24.  1.] [22.09830867  4.71458774 19.8435518   5.71987315 23.43234672  0.17547569]\n"
     ]
    }
   ],
   "source": [
    "from sklearn.dummy import DummyRegressor\n",
    "\n",
    "finalY      = []\n",
    "finalResult = []\n",
    "\n",
    "for i in range(0, data.ampNumber * 2):\n",
    "    model = MultiOutputRegressor(DummyRegressor())\n",
    "    model.fit(X_train, y_train[:, i: i + 1])\n",
    "\n",
    "    result = model.predict(X_test)\n",
    "    \n",
    "    if len(finalY) == 0:\n",
    "        finalY = y_test[:, i: i + 1]\n",
    "        finalResult = result\n",
    "    else:        \n",
    "        finalY      = data.np.hstack((finalY, y_test[:, i: i + 1]))\n",
    "        finalResult = data.np.hstack((finalResult, result))\n",
    "    \n",
    "print(finalY[0], finalResult[0])\n",
    "\n",
    "strategyArray.append(\"{} - DummyRegressor\".format(count))\n",
    "result = getMAE(finalY, finalResult)\n",
    "\n",
    "errorArray[0].append(result[0])\n",
    "errorArray[1].append(result[1])\n",
    "\n",
    "count += 1"
   ]
  },
  {
   "cell_type": "code",
   "execution_count": 12,
   "metadata": {},
   "outputs": [
    {
     "name": "stdout",
     "output_type": "stream",
     "text": [
      "dict_keys(['BaggingRegressor', 'RandomForestRegressor', 'XGBRegressor', 'DecisionTreeRegressor', 'TransformedTargetRegressor'])\n"
     ]
    },
    {
     "data": {
      "image/png": "[encoded data removed]",
      "text/plain": [
       "<matplotlib.figure.Figure at 0x7f38ec290748>"
      ]
     },
     "metadata": {
      "needs_background": "light"
     },
     "output_type": "display_data"
    }
   ],
   "source": [
    "print(sortedDict.keys())\n",
    "plotGrid(errorArray[0], errorArray[1])"
   ]
  }
 ],
 "metadata": {
  "kernelspec": {
   "display_name": "acopEnv",
   "language": "python",
   "name": "acopenv"
  },
  "language_info": {
   "codemirror_mode": {
    "name": "ipython",
    "version": 3
   },
   "file_extension": ".py",
   "mimetype": "text/x-python",
   "name": "python",
   "nbconvert_exporter": "python",
   "pygments_lexer": "ipython3",
   "version": "3.6.9"
  }
 },
 "nbformat": 4,
 "nbformat_minor": 2
}
