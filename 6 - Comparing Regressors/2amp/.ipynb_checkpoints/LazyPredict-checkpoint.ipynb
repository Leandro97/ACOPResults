{
 "cells": [
  {
   "cell_type": "markdown",
   "metadata": {},
   "source": [
    "# Imports and dataset loading"
   ]
  },
  {
   "cell_type": "code",
   "execution_count": 1,
   "metadata": {
    "scrolled": true
   },
   "outputs": [
    {
     "name": "stderr",
     "output_type": "stream",
     "text": [
      "/home/leandro/.local/lib/python3.6/site-packages/sklearn/utils/deprecation.py:143: FutureWarning: The sklearn.utils.testing module is  deprecated in version 0.22 and will be removed in version 0.24. The corresponding classes / functions should instead be imported from sklearn.utils. Anything that cannot be imported from sklearn.utils is now part of the private API.\n",
      "  warnings.warn(message, FutureWarning)\n"
     ]
    }
   ],
   "source": [
    "import numpy as np\n",
    "import matplotlib.pyplot as plt\n",
    "import math\n",
    "\n",
    "from lazypredict.Supervised import LazyRegressor\n",
    "from sklearn.model_selection import train_test_split\n",
    "import pandas as pd\n",
    "\n",
    "import os\n",
    "path      = os.getcwd()\n",
    "ampNumber = int(os.path.basename(path)[0])\n",
    "\n",
    "originalDataset = pd.read_csv('../datasets/dataset-{}.txt'.format(ampNumber), sep = ',', header = None)\n",
    "binaryDataset   = []\n",
    "    \n",
    "for line in originalDataset.values:\n",
    "    myList = [1 if j != 0 else 0 for j in line[:40]]\n",
    "    myList.extend(line[40:])\n",
    "    binaryDataset.append(myList)\n",
    "\n",
    "binaryDataset = pd.DataFrame(binaryDataset)\n",
    "\n",
    "def loadDataset(): \n",
    "    dataset = binaryDataset.values[:, :40]\n",
    "    \n",
    "    for i in range(0, ampNumber * 2, 2):\n",
    "        gain    = np.array(binaryDataset.values[:, 40 + i])\n",
    "        gain    = gain.reshape(-1, 1)\n",
    "        dataset = np.hstack((dataset, gain))\n",
    "        \n",
    "        loss    = np.array(binaryDataset.values[:, 40 + i + 1])\n",
    "        loss    = loss.reshape(-1, 1)\n",
    "        dataset = np.hstack((dataset, loss))\n",
    "                \n",
    "    X, y = np.array(dataset[:, :40]), np.array(dataset[:, 40:])\n",
    "    return X, y"
   ]
  },
  {
   "cell_type": "markdown",
   "metadata": {},
   "source": [
    "# Model setup"
   ]
  },
  {
   "cell_type": "code",
   "execution_count": 2,
   "metadata": {
    "scrolled": true
   },
   "outputs": [
    {
     "name": "stderr",
     "output_type": "stream",
     "text": [
      " 16%|█▋        | 7/43 [00:00<00:00, 65.66it/s]"
     ]
    },
    {
     "name": "stdout",
     "output_type": "stream",
     "text": [
      "AdaBoostRegressor model failed to execute\n",
      "y should be a 1d array, got an array of shape (920, 4) instead.\n",
      "BayesianRidge model failed to execute\n",
      "y should be a 1d array, got an array of shape (920, 4) instead.\n",
      "ElasticNetCV model failed to execute\n",
      "For multi-task outputs, use MultiTaskElasticNetCV\n"
     ]
    },
    {
     "name": "stderr",
     "output_type": "stream",
     "text": [
      "\r",
      " 21%|██        | 9/43 [00:00<00:01, 32.39it/s]"
     ]
    },
    {
     "name": "stdout",
     "output_type": "stream",
     "text": [
      "GammaRegressor model failed to execute\n",
      "y should be a 1d array, got an array of shape (920, 4) instead.\n"
     ]
    },
    {
     "name": "stderr",
     "output_type": "stream",
     "text": [
      " 37%|███▋      | 16/43 [00:00<00:01, 16.19it/s]"
     ]
    },
    {
     "name": "stdout",
     "output_type": "stream",
     "text": [
      "GeneralizedLinearRegressor model failed to execute\n",
      "y should be a 1d array, got an array of shape (920, 4) instead.\n",
      "GradientBoostingRegressor model failed to execute\n",
      "y should be a 1d array, got an array of shape (920, 4) instead.\n",
      "HistGradientBoostingRegressor model failed to execute\n",
      "y should be a 1d array, got an array of shape (920, 4) instead.\n",
      "HuberRegressor model failed to execute\n",
      "y should be a 1d array, got an array of shape (920, 4) instead.\n"
     ]
    },
    {
     "name": "stderr",
     "output_type": "stream",
     "text": [
      " 56%|█████▌    | 24/43 [00:01<00:01, 16.48it/s]"
     ]
    },
    {
     "name": "stdout",
     "output_type": "stream",
     "text": [
      "LarsCV model failed to execute\n",
      "y should be a 1d array, got an array of shape (920, 4) instead.\n",
      "LassoCV model failed to execute\n",
      "For multi-task outputs, use MultiTaskLassoCV\n",
      "LassoLarsCV model failed to execute\n",
      "y should be a 1d array, got an array of shape (920, 4) instead.\n",
      "LassoLarsIC model failed to execute\n",
      "y should be a 1d array, got an array of shape (920, 4) instead.\n",
      "LinearSVR model failed to execute\n",
      "y should be a 1d array, got an array of shape (920, 4) instead.\n"
     ]
    },
    {
     "name": "stderr",
     "output_type": "stream",
     "text": [
      " 77%|███████▋  | 33/43 [00:02<00:01,  7.34it/s]"
     ]
    },
    {
     "name": "stdout",
     "output_type": "stream",
     "text": [
      "NuSVR model failed to execute\n",
      "y should be a 1d array, got an array of shape (920, 4) instead.\n",
      "OrthogonalMatchingPursuitCV model failed to execute\n",
      "y should be a 1d array, got an array of shape (920, 4) instead.\n",
      "PassiveAggressiveRegressor model failed to execute\n",
      "y should be a 1d array, got an array of shape (920, 4) instead.\n",
      "PoissonRegressor model failed to execute\n",
      "y should be a 1d array, got an array of shape (920, 4) instead.\n"
     ]
    },
    {
     "name": "stderr",
     "output_type": "stream",
     "text": [
      "100%|██████████| 43/43 [00:03<00:00, 14.05it/s]"
     ]
    },
    {
     "name": "stdout",
     "output_type": "stream",
     "text": [
      "SGDRegressor model failed to execute\n",
      "y should be a 1d array, got an array of shape (920, 4) instead.\n",
      "SVR model failed to execute\n",
      "y should be a 1d array, got an array of shape (920, 4) instead.\n",
      "StackingRegressor model failed to execute\n",
      "__init__() missing 1 required positional argument: 'estimators'\n",
      "TweedieRegressor model failed to execute\n",
      "y should be a 1d array, got an array of shape (920, 4) instead.\n",
      "XGBRegressor model failed to execute\n",
      "\n",
      "LGBMRegressor model failed to execute\n",
      "y should be a 1d array, got an array of shape (920, 4) instead.\n"
     ]
    },
    {
     "name": "stderr",
     "output_type": "stream",
     "text": [
      "\n"
     ]
    }
   ],
   "source": [
    "summaryList = []\n",
    "\n",
    "#1 regressor per amplifier\n",
    "X, y = loadDataset()\n",
    "\n",
    "for j in range(0, ampNumber * 2):\n",
    "    reg = LazyRegressor(verbose = 0, ignore_warnings = False)\n",
    "\n",
    "    X_train, X_test, y_train, y_test = train_test_split(X, y[:, j], test_size = 0.3, random_state = 0)\n",
    "    models, summary                  = reg.fit(X_train, X_test, y_train, y_test)\n",
    "    \n",
    "    summaryList.append(summary)"
   ]
  },
  {
   "cell_type": "code",
   "execution_count": 4,
   "metadata": {},
   "outputs": [
    {
     "name": "stdout",
     "output_type": "stream",
     "text": [
      "[                            R-Squared  RMSE  Time Taken\n",
      "Model                                                  \n",
      "Lars                             0.02  1.29        0.10\n",
      "OrthogonalMatchingPursuit        0.02  1.29        0.03\n",
      "MLPRegressor                     0.02  1.29        1.39\n",
      "RidgeCV                          0.02  1.29        0.02\n",
      "BaggingRegressor                 0.01  1.29        0.04\n",
      "Ridge                            0.01  1.29        0.01\n",
      "ExtraTreeRegressor               0.01  1.29        0.01\n",
      "DecisionTreeRegressor            0.01  1.29        0.01\n",
      "ExtraTreesRegressor              0.01  1.29        0.12\n",
      "GaussianProcessRegressor         0.01  1.29        0.37\n",
      "RandomForestRegressor            0.01  1.29        0.16\n",
      "RANSACRegressor                  0.01  1.30        0.03\n",
      "TransformedTargetRegressor       0.01  1.30        0.03\n",
      "LinearRegression                 0.01  1.30        0.03\n",
      "LassoLars                       -0.00  1.29        0.03\n",
      "ElasticNet                      -0.00  1.29        0.01\n",
      "DummyRegressor                  -0.00  1.29        0.01\n",
      "Lasso                           -0.00  1.29        0.03\n",
      "KNeighborsRegressor             -0.20  1.43        0.06\n",
      "KernelRidge                   -105.01 14.34        0.23]\n"
     ]
    },
    {
     "ename": "IndexError",
     "evalue": "list index out of range",
     "output_type": "error",
     "traceback": [
      "\u001b[0;31m---------------------------------------------------------------------------\u001b[0m",
      "\u001b[0;31mIndexError\u001b[0m                                Traceback (most recent call last)",
      "\u001b[0;32m<ipython-input-4-53d72fbd89ac>\u001b[0m in \u001b[0;36m<module>\u001b[0;34m\u001b[0m\n\u001b[1;32m     10\u001b[0m     \u001b[0mfinalList\u001b[0m\u001b[0;34m.\u001b[0m\u001b[0mappend\u001b[0m\u001b[0;34m(\u001b[0m\u001b[0;34m[\u001b[0m\u001b[0;34m]\u001b[0m\u001b[0;34m)\u001b[0m\u001b[0;34m\u001b[0m\u001b[0;34m\u001b[0m\u001b[0m\n\u001b[1;32m     11\u001b[0m \u001b[0;34m\u001b[0m\u001b[0m\n\u001b[0;32m---> 12\u001b[0;31m     \u001b[0;32mfor\u001b[0m \u001b[0mj\u001b[0m \u001b[0;32min\u001b[0m \u001b[0mrange\u001b[0m\u001b[0;34m(\u001b[0m\u001b[0mmin\u001b[0m\u001b[0;34m(\u001b[0m\u001b[0mlen\u001b[0m\u001b[0;34m(\u001b[0m\u001b[0msummaryList\u001b[0m\u001b[0;34m[\u001b[0m\u001b[0mi\u001b[0m\u001b[0;34m]\u001b[0m\u001b[0;34m[\u001b[0m\u001b[0;34m'RMSE'\u001b[0m\u001b[0;34m]\u001b[0m\u001b[0;34m)\u001b[0m\u001b[0;34m,\u001b[0m \u001b[0mlen\u001b[0m\u001b[0;34m(\u001b[0m\u001b[0msummaryList\u001b[0m\u001b[0;34m[\u001b[0m\u001b[0mi\u001b[0m \u001b[0;34m+\u001b[0m \u001b[0;36m1\u001b[0m\u001b[0;34m]\u001b[0m\u001b[0;34m[\u001b[0m\u001b[0;34m'RMSE'\u001b[0m\u001b[0;34m]\u001b[0m\u001b[0;34m)\u001b[0m\u001b[0;34m)\u001b[0m\u001b[0;34m)\u001b[0m\u001b[0;34m:\u001b[0m\u001b[0;34m\u001b[0m\u001b[0;34m\u001b[0m\u001b[0m\n\u001b[0m\u001b[1;32m     13\u001b[0m         \u001b[0;32mif\u001b[0m \u001b[0msummaryList\u001b[0m\u001b[0;34m[\u001b[0m\u001b[0mi\u001b[0m\u001b[0;34m]\u001b[0m\u001b[0;34m[\u001b[0m\u001b[0;34m'RMSE'\u001b[0m\u001b[0;34m]\u001b[0m\u001b[0;34m.\u001b[0m\u001b[0mindex\u001b[0m\u001b[0;34m[\u001b[0m\u001b[0mj\u001b[0m\u001b[0;34m]\u001b[0m \u001b[0;32min\u001b[0m \u001b[0msummaryList\u001b[0m\u001b[0;34m[\u001b[0m\u001b[0mi\u001b[0m \u001b[0;34m+\u001b[0m \u001b[0;36m1\u001b[0m\u001b[0;34m]\u001b[0m\u001b[0;34m[\u001b[0m\u001b[0;34m'RMSE'\u001b[0m\u001b[0;34m]\u001b[0m\u001b[0;34m:\u001b[0m \u001b[0;31m#checking if gain model exists in loss dataframe\u001b[0m\u001b[0;34m\u001b[0m\u001b[0;34m\u001b[0m\u001b[0m\n\u001b[1;32m     14\u001b[0m \u001b[0;34m\u001b[0m\u001b[0m\n",
      "\u001b[0;31mIndexError\u001b[0m: list index out of range"
     ]
    }
   ],
   "source": [
    "print(summaryList)\n",
    "finalList = []\n",
    "\n",
    "'''\n",
    "if i % 2 ==0 -> it's a gain regressor\n",
    "else         -> it's a loss regressor\n",
    "'''\n",
    "\n",
    "for i in range(0, ampNumber * 2, 2): \n",
    "    finalList.append([])\n",
    "\n",
    "    for j in range(min(len(summaryList[i]['RMSE']), len(summaryList[i + 1]['RMSE']))):\n",
    "        if summaryList[i]['RMSE'].index[j] in summaryList[i + 1]['RMSE']: #checking if gain model exists in loss dataframe\n",
    "            \n",
    "            '''\n",
    "            summaryList[i]['RMSE'].index[j] -> j model's name for regressor i \n",
    "            summaryList[i]['RMSE'][j]       -> j model's RMSE for regressor i\n",
    "            summaryList[i + 1]['RMSE'][j]   -> j model's RMSE for regressor i + 1\n",
    "            '''\n",
    "            \n",
    "            line = [\n",
    "                summaryList[i]['RMSE'].index[j], \n",
    "                round(summaryList[i]['RMSE'][j], 3),\n",
    "                round(summaryList[i + 1]['RMSE'][j], 3)\n",
    "                   ]\n",
    "            \n",
    "            finalList[-1].append(line)\n",
    "    \n",
    "#finalList[i][j]       -> [name, gain RMSE, loss RMSE] for model #(j + 1) of amp #(i + 1)\n",
    "print(finalList[0][0]) #  [name, gain RMSE, loss RMSE] for model #1 of amp #1\n",
    "print(finalList[1][3]) #  [name, gain RMSE, loss RMSE] for model #4 of amp #2"
   ]
  },
  {
   "cell_type": "markdown",
   "metadata": {},
   "source": [
    "# Draw table"
   ]
  },
  {
   "cell_type": "code",
   "execution_count": null,
   "metadata": {},
   "outputs": [],
   "source": [
    "def sort_gain_loss(item):\n",
    "    return item[1] + item[2]\n",
    "\n",
    "def prepTable(ampIndex):\n",
    "    rowLabels = [] # Nomes das linhas\n",
    "    colLabels = [] # Nomes das colunas   \n",
    "    values    = [] # Valores das células\n",
    "    \n",
    "    colLabels = [\"Amp {} Gain\".format(ampIndex + 1), \"Amp {} Loss\".format(ampIndex + 1), \"Avg\"] \n",
    "    \n",
    "    # TODO: Ordenar esta lista de forma decrescente pela soma de ganho e perda (data[i][1] + data[i][2])\n",
    "    data = finalList[ampIndex] \n",
    "    data.sort(reverse = False, key = sort_gain_loss)\n",
    "    for entry in data:\n",
    "        model = entry[0]\n",
    "        gain  = entry[1]\n",
    "        loss  = entry[2]\n",
    "        avg   = round((gain + loss) / 2, 3)\n",
    "        \n",
    "        rowLabels.append(model)\n",
    "        values.append([gain, loss, avg])    \n",
    "    \n",
    "    return rowLabels, colLabels, values"
   ]
  },
  {
   "cell_type": "code",
   "execution_count": null,
   "metadata": {
    "scrolled": true
   },
   "outputs": [],
   "source": [
    "def drawTable(ampIndex):\n",
    "    rows, cols, values = prepTable(ampIndex)\n",
    "    \n",
    "    plt.figure(figsize = (15, 5))\n",
    "    plt.axis(\"off\")\n",
    "\n",
    "    plt.table(cellText  = values,\n",
    "             rowLabels = rows,\n",
    "             colLabels = cols, \n",
    "             loc=\"upper center\")\n",
    "    \n",
    "    plt.savefig(\"amp{}-table\".format(ampIndex + 1))"
   ]
  },
  {
   "cell_type": "code",
   "execution_count": null,
   "metadata": {},
   "outputs": [],
   "source": [
    "for i in range(ampNumber):\n",
    "    drawTable(i)"
   ]
  }
 ],
 "metadata": {
  "kernelspec": {
   "display_name": "acopEnv",
   "language": "python",
   "name": "acopenv"
  },
  "language_info": {
   "codemirror_mode": {
    "name": "ipython",
    "version": 3
   },
   "file_extension": ".py",
   "mimetype": "text/x-python",
   "name": "python",
   "nbconvert_exporter": "python",
   "pygments_lexer": "ipython3",
   "version": "3.6.9"
  }
 },
 "nbformat": 4,
 "nbformat_minor": 2
}
