{
 "cells": [
  {
   "cell_type": "markdown",
   "metadata": {},
   "source": [
    "## Imports and dataset loading"
   ]
  },
  {
   "cell_type": "code",
   "execution_count": 1,
   "metadata": {},
   "outputs": [
    {
     "name": "stdout",
     "output_type": "stream",
     "text": [
      "0 0\n",
      "0 1\n",
      "0 2\n",
      "1 0\n",
      "1 1\n",
      "1 2\n",
      "2 0\n",
      "2 1\n",
      "2 2\n"
     ]
    }
   ],
   "source": [
    "from sklearn.preprocessing import MinMaxScaler\n",
    "import numpy as np\n",
    "import matplotlib.pyplot as plt\n",
    "import math\n",
    "import pandas as pd\n",
    "\n",
    "originalDataSet = []\n",
    "channelTypes    = [1, 2, 4]\n",
    "ampNumbers      = [2, 3, 4]\n",
    "\n",
    "gainArray = []\n",
    "lossArray = []\n",
    "\n",
    "for ch in channelTypes:\n",
    "    for amp in ampNumbers:\n",
    "        originalDataSet.append(pd.read_csv('datasets/{}_channel_type/dataset-{}.txt'.format(ch, amp), sep = ',',header = None))\n",
    "\n",
    "def loadDataset(channelIndex):    \n",
    "    dataSet = originalDataSet[channelIndex].values\n",
    "    features, result = np.array(dataSet[:, :40]), np.array(dataSet[:, 40:])\n",
    "    return features, result"
   ]
  },
  {
   "cell_type": "markdown",
   "metadata": {},
   "source": [
    "## Setting data for plotting"
   ]
  },
  {
   "cell_type": "code",
   "execution_count": 2,
   "metadata": {},
   "outputs": [],
   "source": [
    "for i in range(9):\n",
    "    gainSlices       = []\n",
    "    lossSlices       = []\n",
    "    features, result = loadDataset(i)\n",
    "    ampNumber        = int(len(result[0]) / 2)\n",
    "        \n",
    "    for j in range(ampNumber):\n",
    "        gainSlices.append(result[:, j * 2])\n",
    "        lossSlices.append(result[:, j * 2 + 1])\n",
    "\n",
    "    gainArray.append(np.stack(gainSlices, axis = -1))\n",
    "    lossArray.append(np.stack(lossSlices, axis = -1))"
   ]
  },
  {
   "cell_type": "markdown",
   "metadata": {},
   "source": [
    "## Plotting functions"
   ]
  },
  {
   "cell_type": "code",
   "execution_count": 3,
   "metadata": {},
   "outputs": [],
   "source": [
    "def set_box_color(bp, color):\n",
    "    plt.setp(bp['boxes'], color=color)\n",
    "    plt.setp(bp['whiskers'], color=color)\n",
    "    plt.setp(bp['caps'], color=color)\n",
    "    plt.setp(bp['medians'], color=color)\n",
    "    \n",
    "def plotGroupedBoxplot():\n",
    "    row = -1\n",
    "    \n",
    "    fig, axis = plt.subplots(3, 3, figsize = (10, 8))\n",
    "    \n",
    "    for i in range(9):\n",
    "        gainData = []\n",
    "        lossData = []\n",
    "        poutData = []\n",
    "        ticks    = []  \n",
    "        col      = i % 3 \n",
    "        \n",
    "        if col == 0:\n",
    "            row += 1\n",
    "\n",
    "        for j in range(ampNumbers[col]):\n",
    "            gainData.append(gainArray[i][:, j])\n",
    "            lossData.append(lossArray[i][:, j])\n",
    "            poutData.append(gainArray[i][:, j] - lossArray[i][:, j])\n",
    "            ticks.append(\"Amp {}\".format(j + 1))\n",
    "        \n",
    "        gainBP = axis[row, col].boxplot(gainData, positions = np.array(range(len(gainData)))*3.0-0.3, sym = \"\")\n",
    "        lossBP = axis[row, col].boxplot(lossData, positions = np.array(range(len(lossData)))*3.0+0.3, sym = \"\")\n",
    "        poutBP = axis[row, col].boxplot(poutData, positions = np.array(range(len(poutData)))*3.0+0.9, sym = \"\")\n",
    "        \n",
    "        axis[row, col].set_xticks(range(0, len(ticks) * 3, 3))\n",
    "        axis[row, col].set_xticklabels(ticks)\n",
    "        axis[row, col].axis(xmin = -3, xmax = len(ticks)*3)\n",
    "        \n",
    "        set_box_color(gainBP, '#2C7BB6')\n",
    "        set_box_color(lossBP, '#D7191C')\n",
    "        set_box_color(poutBP, '#00FF00')\n",
    "\n",
    "    axis[0, 0].set_ylabel(\"1 channel type\", fontsize = 8)\n",
    "    axis[1, 0].set_ylabel(\"2 channel type\", fontsize = 8)\n",
    "    axis[2, 0].set_ylabel(\"4 channel type\", fontsize = 8)\n",
    "    \n",
    "    plt.plot([], c='#2C7BB6', label='Gain')\n",
    "    plt.plot([], c='#D7191C', label='Loss')\n",
    "    plt.plot([], c='#00FF00', label='Output Power')\n",
    "    fig.text(-0.01, 0.5, 'Metrics (dB)', va='center', rotation='vertical', fontsize = 14)\n",
    "    \n",
    "    fig.legend(loc='center right')\n",
    "    fig.tight_layout()\n",
    "\n",
    "    plt.savefig('groupedBoxplot.png')"
   ]
  },
  {
   "cell_type": "markdown",
   "metadata": {},
   "source": [
    "## Plotting"
   ]
  },
  {
   "cell_type": "code",
   "execution_count": 4,
   "metadata": {},
   "outputs": [
    {
     "data": {
      "image/png": "[encoded data removed]",
      "text/plain": [
       "<Figure size 720x576 with 9 Axes>"
      ]
     },
     "metadata": {
      "needs_background": "light"
     },
     "output_type": "display_data"
    }
   ],
   "source": [
    "plotGroupedBoxplot()"
   ]
  }
 ],
 "metadata": {
  "kernelspec": {
   "display_name": "Python 3",
   "language": "python",
   "name": "python3"
  },
  "language_info": {
   "codemirror_mode": {
    "name": "ipython",
    "version": 3
   },
   "file_extension": ".py",
   "mimetype": "text/x-python",
   "name": "python",
   "nbconvert_exporter": "python",
   "pygments_lexer": "ipython3",
   "version": "3.7.3"
  }
 },
 "nbformat": 4,
 "nbformat_minor": 2
}
