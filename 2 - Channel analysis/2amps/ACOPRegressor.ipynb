{
 "cells": [
  {
   "cell_type": "code",
   "execution_count": null,
   "metadata": {},
   "outputs": [],
   "source": []
  },
  {
   "cell_type": "markdown",
   "metadata": {},
   "source": [
    "# Imports and dataset loading"
   ]
  },
  {
   "cell_type": "code",
   "execution_count": 1,
   "metadata": {
    "scrolled": true
   },
   "outputs": [
    {
     "name": "stdout",
     "output_type": "stream",
     "text": [
      "4\n"
     ]
    }
   ],
   "source": [
    "import numpy as np\n",
    "import matplotlib.pyplot as plt\n",
    "import math\n",
    "from sklearn.multioutput import MultiOutputRegressor\n",
    "from sklearn import linear_model\n",
    "from sklearn.neighbors import KNeighborsRegressor\n",
    "from sklearn.kernel_ridge import KernelRidge\n",
    "from sklearn.neural_network import MLPRegressor\n",
    "from sklearn.svm import SVR\n",
    "from sklearn.preprocessing import MinMaxScaler\n",
    "from keras.models import Sequential\n",
    "from keras.layers import Dense\n",
    "from keras.wrappers.scikit_learn import KerasRegressor\n",
    "import autokeras as ak\n",
    "import tensorflow as tf\n",
    "import pandas as pd\n",
    "\n",
    "strategyArray  = []\n",
    "gainArray      = []\n",
    "lossArray      = []\n",
    "channelTypeQnt = 3\n",
    "ampNumber      = 2\n",
    "\n",
    "originalDataSet = []\n",
    "binaryDataSet   = []\n",
    "\n",
    "gainScalerList = []\n",
    "lossScalerList = []\n",
    "\n",
    "originalDataSet.append(pd.read_csv('../datasets/1_channel_type/dataset-{}.txt'.format(ampNumber), sep = ',',header = None))\n",
    "originalDataSet.append(pd.read_csv('../datasets/2_channel_type/dataset-{}.txt'.format(ampNumber), sep = ',',header = None))\n",
    "originalDataSet.append(pd.read_csv('../datasets/4_channel_type/dataset-{}.txt'.format(ampNumber), sep = ',',header = None))\n",
    "\n",
    "for i in range(channelTypeQnt):\n",
    "    binaryDataSet.append([])\n",
    "    for line in originalDataSet[i].values:\n",
    "        myList = [1 if i != 0 else 0 for i in line[:40]]\n",
    "        myList.extend(line[40:])\n",
    "        binaryDataSet[i].append(myList)\n",
    "\n",
    "    binaryDataSet[i] = pd.DataFrame(binaryDataSet[i])\n",
    "    gainScaler       = MinMaxScaler(feature_range = (-1, 1))\n",
    "    lossScaler       = MinMaxScaler(feature_range = (-1, 1))\n",
    "\n",
    "    gainScalerAux = []\n",
    "    lossScalerAux = []\n",
    "    \n",
    "    for j in range(0, ampNumber * 2, 2):\n",
    "        gainScalerAux.extend(binaryDataSet[i].values[:, 40 + j])\n",
    "        lossScalerAux.extend(binaryDataSet[i].values[:, 40 + j + 1])\n",
    "\n",
    "    gainScaler.fit(np.array(gainScalerAux).reshape(-1, 1))\n",
    "    lossScaler.fit(np.array(lossScalerAux).reshape(-1, 1))\n",
    "    \n",
    "    gainScalerList.append(gainScaler)\n",
    "    lossScalerList.append(lossScaler)\n",
    "\n",
    "def loadDataset(channelIndex): \n",
    "    dataSet = binaryDataSet[channelIndex].values[:, :40]\n",
    "    \n",
    "    for i in range(0, ampNumber * 2, 2):\n",
    "        gain    = np.array(binaryDataSet[channelIndex].values[:, 40 + i])\n",
    "        gain    = gainScaler.transform(gain.reshape(-1, 1))\n",
    "        dataSet = np.hstack((dataSet, gain))\n",
    "        \n",
    "        loss    = np.array(binaryDataSet[channelIndex].values[:, 40 + i + 1])\n",
    "        loss    = lossScaler.transform(loss.reshape(-1, 1))\n",
    "        dataSet = np.hstack((dataSet, loss))\n",
    "            \n",
    "    X, y = np.array(dataSet[:, :40]), np.array(dataSet[:, 40:])\n",
    "    \n",
    "    return X, y\n",
    "\n",
    "def invertGainNorm(value, channelIndex):\n",
    "    auxArray = np.array([value, 0, 0, 0, 0, 0]).reshape(-1, 1)\n",
    "    return gainScalerList[channelIndex].inverse_transform(auxArray)[0][0]\n",
    "\n",
    "def invertLossNorm(value, channelIndex):\n",
    "    auxArray = np.array([value, 0, 0, 0, 0, 0]).reshape(-1, 1)\n",
    "    return lossScalerList[channelIndex].inverse_transform(auxArray)[0][0]\n",
    "    \n",
    "def getGainError(value1, value2, channelIndex):\n",
    "    return (invertGainNorm(value1, channelIndex) - invertGainNorm(value2, channelIndex))**2\n",
    "\n",
    "def getLossError(value1, value2, channelIndex):\n",
    "    return (invertLossNorm(value1, channelIndex) - invertLossNorm(value2, channelIndex))**2\n",
    "\n",
    "X, y = loadDataset(0)"
   ]
  },
  {
   "cell_type": "markdown",
   "metadata": {},
   "source": [
    "# Cross validation function"
   ]
  },
  {
   "cell_type": "code",
   "execution_count": 2,
   "metadata": {},
   "outputs": [],
   "source": [
    "def crossValidate(regressor, X, y, folds = 5):\n",
    "    foldSize   = math.ceil(X.shape[0] / folds)\n",
    "    gainErrors = []\n",
    "    lossErrors = []\n",
    "    \n",
    "    for i in range(folds): \n",
    "        sliceBegin = i * foldSize\n",
    "        sliceEnd   = (i + 1) * foldSize\n",
    "        \n",
    "        X_train = np.delete(X, np.s_[sliceBegin: sliceEnd], 0)\n",
    "        y_train = np.delete(y, np.s_[sliceBegin: sliceEnd], 0)\n",
    "        \n",
    "        if isinstance(regressor, Sequential):\n",
    "            regressor.fit(X_train, y_train, epochs = 500, verbose = 0)  \n",
    "        else:\n",
    "            regressor.fit(X_train, y_train)\n",
    "            \n",
    "        X_test = X[sliceBegin: sliceEnd]\n",
    "        y_test = y[sliceBegin: sliceEnd]\n",
    "        \n",
    "        gainError = 0\n",
    "        lossError = 0\n",
    "        \n",
    "        prediction = regressor.predict(X_test)\n",
    "        \n",
    "        for predicted, expected in zip(prediction, y_test):\n",
    "            for i in range(0, ampNumber * 2, 2):\n",
    "                gainError += getGainError(predicted[i], expected[i], 0) \n",
    "                lossError += getLossError(predicted[i + 1], expected[i + 1], 0)\n",
    "                 \n",
    "        gainErrors.append(gainError / foldSize)\n",
    "        lossErrors.append(lossError / foldSize) # average loss error by amp\n",
    "        \n",
    "    return np.array(gainErrors), np.array(lossErrors)"
   ]
  },
  {
   "cell_type": "code",
   "execution_count": 3,
   "metadata": {
    "scrolled": false
   },
   "outputs": [],
   "source": [
    "def trainModel(strategy, channelIndex):   \n",
    "    features, result       = loadDataset(channelIndex)\n",
    "    gainErrors, lossErrors = crossValidate(strategy, features, result)\n",
    "\n",
    "    print(gainErrors, \"=> %0.2f (+/- %0.2f)\" % (math.sqrt(np.mean(gainErrors)), gainErrors.std() * 2))\n",
    "    print(lossErrors, \"=> %0.2f (+/- %0.2f)\" % (math.sqrt(np.mean(lossErrors)), lossErrors.std() * 2))\n",
    "    \n",
    "    gainArray[channelIndex].append(gainErrors)\n",
    "    lossArray[channelIndex].append(lossErrors)\n",
    "    \n",
    "    return gainErrors, lossErrors"
   ]
  },
  {
   "cell_type": "code",
   "execution_count": 4,
   "metadata": {},
   "outputs": [],
   "source": [
    "def setANN():\n",
    "    model = Sequential()\n",
    "    \n",
    "    model.add(Dense(4, input_dim = 4, kernel_initializer = 'random_uniform', activation = 'sigmoid'))\n",
    "    model.add(Dense(8, kernel_initializer = 'normal', activation = 'sigmoid'))\n",
    "    model.add(Dense(16, kernel_initializer = 'normal', activation = 'sigmoid'))\n",
    "    model.add(Dense(16, kernel_initializer = 'normal', activation = 'sigmoid'))\n",
    "    model.add(Dense(32, kernel_initializer = 'normal', activation = 'sigmoid'))  \n",
    "    model.add(Dense(32, kernel_initializer = 'normal', activation = 'sigmoid'))\n",
    "    model.add(Dense(64, kernel_initializer = 'normal', activation = 'sigmoid'))\n",
    "    model.add(Dense(64, kernel_initializer = 'normal', activation = 'sigmoid'))\n",
    "    model.add(Dense(64, kernel_initializer = 'normal', activation = 'sigmoid')) \n",
    "    model.add(Dense(64, kernel_initializer = 'normal', activation = 'sigmoid'))\n",
    "    model.add(Dense(32, kernel_initializer = 'normal', activation = 'sigmoid'))\n",
    "    model.add(Dense(32, kernel_initializer = 'normal', activation = 'sigmoid'))\n",
    "    model.add(Dense(16, kernel_initializer = 'normal', activation = 'sigmoid'))  \n",
    "    model.add(Dense(16, kernel_initializer = 'normal', activation = 'sigmoid'))\n",
    "    model.add(Dense(8, kernel_initializer = 'normal', activation = 'sigmoid'))\n",
    "    model.add(Dense(8, kernel_initializer = 'normal', activation = 'sigmoid'))\n",
    "    model.add(Dense(4, kernel_initializer = 'normal', activation = 'sigmoid'))\n",
    "    model.add(Dense(2, kernel_initializer = 'random_uniform', activation = 'relu'))\n",
    "\n",
    "    # Compile model\n",
    "    model.compile(loss='mean_squared_error', optimizer='adam')\n",
    "    return model"
   ]
  },
  {
   "cell_type": "markdown",
   "metadata": {},
   "source": [
    "# Plotting functions"
   ]
  },
  {
   "cell_type": "code",
   "execution_count": 5,
   "metadata": {},
   "outputs": [],
   "source": [
    "def plotErrorBoxPlots():\n",
    "    fig, axis = plt.subplots(2, 3, figsize = (10, 5))\n",
    "    \n",
    "    p1 = axis[0, 0].boxplot(np.sqrt(gainArray[0]))\n",
    "    axis[0, 0].set_ylabel(\"Gain error (dB)\", fontsize = 8)\n",
    "    axis[0, 0].set_ylim([1, 8])\n",
    "    \n",
    "    axis[0, 1].boxplot(np.sqrt(gainArray[1]))\n",
    "    axis[0, 1].set_ylim([1, 8])\n",
    "    \n",
    "    axis[0, 2].boxplot(np.sqrt(gainArray[2]))\n",
    "    axis[0, 2].set_ylim([1, 8])\n",
    "    \n",
    "    axis[1, 0].boxplot(np.sqrt(lossArray[0]))\n",
    "    axis[1, 0].set_ylabel(\"Loss error (dB)\", fontsize = 8)\n",
    "    axis[1, 0].set_xlabel(\"1 channel type\", fontsize = 8)\n",
    "    axis[1, 0].set_ylim([1, 8])\n",
    "    \n",
    "    axis[1, 1].boxplot(np.sqrt(lossArray[1]))\n",
    "    axis[1, 1].set_xlabel(\"2 channel type\", fontsize = 8)\n",
    "    axis[1, 1].set_ylim([1, 8])\n",
    "    #axis[1, 1].get_yaxis().set_visible(False)\n",
    "    \n",
    "    axis[1, 2].boxplot(np.sqrt(lossArray[2]))\n",
    "    axis[1, 2].set_xlabel(\"4 channel type\", fontsize = 8)\n",
    "    axis[1, 2].set_ylim([1, 8])\n",
    "    #axis[1, 2].get_yaxis().set_visible(False)\n",
    "    \n",
    "    fig.suptitle(\"Train error\", fontsize = 16)\n",
    "    fig.legend(p1[\"boxes\"], strategyArray, handlelength = 0, bbox_to_anchor=(0.7, 0.81), loc = \"right\")\n",
    "    \n",
    "    #fix scale\n",
    "    \n",
    "    plt.show()"
   ]
  },
  {
   "cell_type": "code",
   "execution_count": 6,
   "metadata": {},
   "outputs": [],
   "source": [
    "def plotGainDistribution(regressor):\n",
    "    return\n",
    "    features, result = loadDataset(channelIndex)\n",
    "\n",
    "    predicted = regressor.predict(features)\n",
    "    fig, axis = plt.subplots(figsize = (10, 5))\n",
    "    vFunc     = np.vectorize(invertGainNorm)\n",
    "    \n",
    "    axis.scatter(vFunc(result[:, 0], 0), vFunc(predicted[:, 0], 0))\n",
    "    axis.set_title(\"Gain Distribution\")\n",
    "    axis.set_xlabel(\"Expected\")\n",
    "    axis.set_ylabel(\"Predicted\")\n",
    "\n",
    "    plt.show()"
   ]
  },
  {
   "cell_type": "code",
   "execution_count": 7,
   "metadata": {},
   "outputs": [],
   "source": [
    "def plotLossDistribution(regressor):\n",
    "    return\n",
    "    features, result = loadDataset(0)\n",
    "\n",
    "    predicted = regressor.predict(features)\n",
    "    fig, axis = plt.subplots(figsize = (10, 5))\n",
    "    vFunc     = np.vectorize(invertLossNorm)\n",
    "    \n",
    "    axis.scatter(vFunc(result[:, 1], 0), vFunc(predicted[:, 1], 0), c = \"m\")\n",
    "    axis.set_title(\"Loss Distribution\")\n",
    "    axis.set_xlabel(\"Expected\")\n",
    "    axis.set_ylabel(\"Predicted\")\n",
    "\n",
    "    plt.show()"
   ]
  },
  {
   "cell_type": "markdown",
   "metadata": {},
   "source": [
    "# Putting all together"
   ]
  },
  {
   "cell_type": "code",
   "execution_count": 8,
   "metadata": {},
   "outputs": [],
   "source": [
    "gainArray = [[],[],[]]\n",
    "lossArray = [[],[],[]]"
   ]
  },
  {
   "cell_type": "code",
   "execution_count": 9,
   "metadata": {},
   "outputs": [
    {
     "name": "stdout",
     "output_type": "stream",
     "text": [
      "4\n",
      "[27.5226384  12.13466531  7.59926115 15.46541086 21.55823596] => 4.11 (+/- 14.02)\n",
      "[23.92150745 20.48821373 12.4965803  13.07435474  7.01676495] => 3.92 (+/- 12.09)\n",
      "4\n",
      "[17.60908373 11.40958729 17.07447413 17.57095655 12.1113111 ] => 3.89 (+/- 5.57)\n",
      "[13.92429971 10.83626591  9.9285608   5.58633471  8.41890031] => 3.12 (+/- 5.50)\n",
      "4\n",
      "[14.64296501 18.64787084 14.14329551 15.61468977 17.37104247] => 4.01 (+/- 3.38)\n",
      "[14.86826489 12.43968168  6.54909262 12.1051641   6.31614149] => 3.23 (+/- 6.84)\n"
     ]
    }
   ],
   "source": [
    "for i in range(channelTypeQnt):\n",
    "    linearSVR = MultiOutputRegressor(SVR(kernel = \"rbf\", C = 1.0, gamma = 'scale', epsilon = 0.2))\n",
    "    trainModel(linearSVR, i)\n",
    "    \n",
    "strategyArray.append(\"1 - SVR (Linear)\")\n",
    "plotGainDistribution(linearSVR)\n",
    "plotLossDistribution(linearSVR)"
   ]
  },
  {
   "cell_type": "code",
   "execution_count": 10,
   "metadata": {},
   "outputs": [
    {
     "name": "stdout",
     "output_type": "stream",
     "text": [
      "4\n",
      "[26.03571394 17.25208915 10.91741796 15.19942739 22.66498752] => 4.29 (+/- 10.73)\n",
      "[20.20197944 18.31949626 18.52708619 10.12705604  8.55241174] => 3.89 (+/- 9.62)\n",
      "4\n",
      "[19.54329703 14.20760873 21.12012761 16.18957028 23.42939202] => 4.35 (+/- 6.65)\n",
      "[14.82238191 15.64525056 11.29580787  8.68700019  7.84719505] => 3.41 (+/- 6.29)\n",
      "4\n",
      "[16.4036857  19.47117476 16.07094286 19.67655394 19.39735278] => 4.27 (+/- 3.22)\n",
      "[16.76876336 11.18636833  7.90699814 11.41945597  6.61388104] => 3.28 (+/- 7.05)\n"
     ]
    }
   ],
   "source": [
    "for i in range(channelTypeQnt):\n",
    "    lasso = MultiOutputRegressor(linear_model.Lasso(alpha = 0.2))\n",
    "    trainModel(lasso, i)\n",
    "    \n",
    "strategyArray.append(\"2 - Lasso\")\n",
    "plotGainDistribution(lasso)\n",
    "plotLossDistribution(lasso)"
   ]
  },
  {
   "cell_type": "code",
   "execution_count": 11,
   "metadata": {},
   "outputs": [
    {
     "name": "stdout",
     "output_type": "stream",
     "text": [
      "4\n",
      "[27.53534982 16.68482167 10.47942735 14.73360176 25.30175005] => 4.35 (+/- 12.92)\n",
      "[21.74023486 21.03793523 17.12621223 10.03933023 11.03605392] => 4.02 (+/- 9.78)\n",
      "4\n",
      "[19.43932528 14.48469735 19.96563608 15.60932428 24.3292198 ] => 4.33 (+/- 6.99)\n",
      "[14.14414452 12.38146835 10.42183999  6.97999543  8.87610519] => 3.25 (+/- 5.05)\n",
      "4\n",
      "[17.16137111 18.89620983 16.26686895 18.96659847 18.21861535] => 4.23 (+/- 2.09)\n",
      "[15.8148166  10.9412985   7.69439694 11.9456486   6.46793816] => 3.25 (+/- 6.61)\n"
     ]
    }
   ],
   "source": [
    "for i in range(channelTypeQnt):\n",
    "    lars = MultiOutputRegressor(linear_model.Lars(n_nonzero_coefs=1))\n",
    "    trainModel(lars, i)\n",
    "    \n",
    "strategyArray.append(\"3 - LARS\")\n",
    "plotGainDistribution(lars)\n",
    "plotLossDistribution(lars)"
   ]
  },
  {
   "cell_type": "code",
   "execution_count": 12,
   "metadata": {},
   "outputs": [
    {
     "name": "stdout",
     "output_type": "stream",
     "text": [
      "4\n",
      "[28.20995519 27.49933909  7.63555947 15.8193632  36.44088832] => 4.81 (+/- 20.31)\n",
      "[28.35782707 24.59701896 13.12683941 14.8427083   9.126329  ] => 4.24 (+/- 14.51)\n",
      "4\n",
      "[17.05036823 57.48619835 19.26009511 17.36308943 16.54409129] => 5.05 (+/- 32.00)\n",
      "[18.93414262 12.97489131 10.05324845  5.68984128 11.72648908] => 3.45 (+/- 8.61)\n",
      "4\n",
      "[44.47945143 18.94181804 52.66276976 21.55496547 23.13767441] => 5.67 (+/- 27.43)\n",
      "[26.30938747 13.2388671  26.30247155 20.11385211 13.669267  ] => 4.46 (+/- 11.50)\n"
     ]
    }
   ],
   "source": [
    "for i in range(channelTypeQnt):\n",
    "    huber = MultiOutputRegressor(linear_model.HuberRegressor(max_iter = 10000))\n",
    "    trainModel(huber, i)\n",
    "    \n",
    "strategyArray.append(\"4 - Huber\")\n",
    "plotGainDistribution(huber)\n",
    "plotLossDistribution(huber)"
   ]
  },
  {
   "cell_type": "code",
   "execution_count": 13,
   "metadata": {},
   "outputs": [
    {
     "name": "stdout",
     "output_type": "stream",
     "text": [
      "4\n",
      "[60.12440945 18.08031496  8.2784252  13.74204724 31.91496063] => 5.14 (+/- 37.15)\n",
      "[12.83181102 26.66110236 10.53291339 10.40755906  6.26299213] => 3.65 (+/- 13.98)\n",
      "4\n",
      "[18.48151724 35.36193103 16.392      19.69917241 12.01296552] => 4.52 (+/- 15.86)\n",
      "[20.23931034 18.86882759 10.09006897  5.94303448  9.15062069] => 3.59 (+/- 11.31)\n",
      "4\n",
      "[20.78929062 19.53656751 18.49675057 21.43286041 25.9197254 ] => 4.61 (+/- 5.10)\n",
      "[13.20320366 12.98617849  8.36951945 11.80924485  8.1175286 ] => 3.30 (+/- 4.44)\n"
     ]
    }
   ],
   "source": [
    "for i in range(channelTypeQnt):\n",
    "    knn = MultiOutputRegressor(KNeighborsRegressor())\n",
    "    trainModel(knn, i)\n",
    "    \n",
    "strategyArray.append(\"5 - KNN\")\n",
    "plotGainDistribution(knn)\n",
    "plotLossDistribution(knn)"
   ]
  },
  {
   "cell_type": "code",
   "execution_count": 14,
   "metadata": {},
   "outputs": [
    {
     "name": "stdout",
     "output_type": "stream",
     "text": [
      "4\n",
      "[34.10655459 16.42489795  7.62774458 13.38500357 33.05207056] => 4.57 (+/- 21.44)\n",
      "[28.73650647 23.78127176 12.57486885 14.03911878  9.36287229] => 4.21 (+/- 14.64)\n",
      "4\n",
      "[16.72409711 14.87003927 18.45141325 16.56475792 10.03881109] => 3.92 (+/- 5.76)\n",
      "[16.28892073 10.33882126  9.66034272  5.52804552  8.32077736] => 3.17 (+/- 7.08)\n",
      "4\n",
      "[20.04343764 19.95875787 13.55347306 13.79117967 16.99177276] => 4.11 (+/- 5.66)\n",
      "[13.93741255 12.56302245  6.36111374 11.36859482  7.79011782] => 3.23 (+/- 5.74)\n"
     ]
    }
   ],
   "source": [
    "from sklearn.ensemble import BaggingRegressor\n",
    "from sklearn.tree import ExtraTreeRegressor\n",
    "\n",
    "for i in range(channelTypeQnt):\n",
    "    extra_tree = ExtraTreeRegressor(criterion = \"mse\", random_state=0)\n",
    "    bret = MultiOutputRegressor(BaggingRegressor(base_estimator = extra_tree, n_estimators = 100, random_state = 0))\n",
    "    trainModel(bret, i)\n",
    "    \n",
    "strategyArray.append(\"6 - Extra Tree\")\n",
    "plotGainDistribution(bret)\n",
    "plotLossDistribution(bret)"
   ]
  },
  {
   "cell_type": "code",
   "execution_count": 15,
   "metadata": {},
   "outputs": [
    {
     "name": "stdout",
     "output_type": "stream",
     "text": [
      "4\n",
      "[34.10655459 16.59308689  7.62774458 13.41025703 33.05207056] => 4.58 (+/- 21.41)\n",
      "[28.73650647 23.59873154 12.57486885 14.16693085  9.36287229] => 4.21 (+/- 14.56)\n",
      "4\n",
      "[16.78546472 14.31846442 19.01064712 16.07799676 10.4861161 ] => 3.92 (+/- 5.71)\n",
      "[13.74229856 10.38824761  9.52515258  5.52571046  8.31660528] => 3.08 (+/- 5.37)\n",
      "4\n",
      "[24.3677857  20.38281623 13.51269284 13.992725   18.44251436] => 4.26 (+/- 8.12)\n",
      "[15.11681463 13.30810211  6.38169423 11.2441357   7.06729191] => 3.26 (+/- 6.84)\n"
     ]
    }
   ],
   "source": [
    "from sklearn.ensemble import RandomForestRegressor\n",
    "\n",
    "for i in range(channelTypeQnt):\n",
    "    randomForest = RandomForestRegressor(max_depth = 8, random_state = 0, n_estimators = 100)\n",
    "    trainModel(randomForest, i)\n",
    "\n",
    "strategyArray.append(\"7 - Random Forest\")\n",
    "plotGainDistribution(randomForest)\n",
    "plotLossDistribution(randomForest)"
   ]
  },
  {
   "cell_type": "markdown",
   "metadata": {},
   "source": [
    "# Plotting error boxplots"
   ]
  },
  {
   "cell_type": "code",
   "execution_count": 16,
   "metadata": {},
   "outputs": [
    {
     "data": {
      "image/png": "[encoded data removed]",
      "text/plain": [
       "<Figure size 720x360 with 6 Axes>"
      ]
     },
     "metadata": {
      "needs_background": "light"
     },
     "output_type": "display_data"
    }
   ],
   "source": [
    "plotErrorBoxPlots()"
   ]
  }
 ],
 "metadata": {
  "kernelspec": {
   "display_name": "acopEnv",
   "language": "python",
   "name": "acopenv"
  },
  "language_info": {
   "codemirror_mode": {
    "name": "ipython",
    "version": 3
   },
   "file_extension": ".py",
   "mimetype": "text/x-python",
   "name": "python",
   "nbconvert_exporter": "python",
   "pygments_lexer": "ipython3",
   "version": "3.6.9"
  }
 },
 "nbformat": 4,
 "nbformat_minor": 2
}
