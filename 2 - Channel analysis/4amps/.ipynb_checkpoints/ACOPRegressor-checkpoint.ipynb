{
 "cells": [
  {
   "cell_type": "markdown",
   "metadata": {},
   "source": [
    "# Imports and dataset loading"
   ]
  },
  {
   "cell_type": "code",
   "execution_count": 1,
   "metadata": {
    "scrolled": true
   },
   "outputs": [
    {
     "name": "stderr",
     "output_type": "stream",
     "text": [
      "Using TensorFlow backend.\n"
     ]
    }
   ],
   "source": [
    "import numpy as np\n",
    "import matplotlib.pyplot as plt\n",
    "import math\n",
    "from sklearn.multioutput import MultiOutputRegressor\n",
    "from sklearn import linear_model\n",
    "from sklearn.neighbors import KNeighborsRegressor\n",
    "from sklearn.kernel_ridge import KernelRidge\n",
    "from sklearn.neural_network import MLPRegressor\n",
    "from sklearn.svm import SVR\n",
    "from sklearn.preprocessing import MinMaxScaler\n",
    "from keras.models import Sequential\n",
    "from keras.layers import Dense\n",
    "from keras.wrappers.scikit_learn import KerasRegressor\n",
    "import pandas as pd\n",
    "\n",
    "strategyArray  = []\n",
    "gainArray      = []\n",
    "lossArray      = []\n",
    "channelTypeQnt = 3\n",
    "ampNumber      = 4\n",
    "\n",
    "originalDataSet = []\n",
    "binaryDataSet   = []\n",
    "\n",
    "gainScalerList = []\n",
    "lossScalerList = []\n",
    "\n",
    "originalDataSet.append(pd.read_csv('../datasets/1_channel_type/dataset-{}.txt'.format(ampNumber), sep = ',',header = None))\n",
    "originalDataSet.append(pd.read_csv('../datasets/2_channel_type/dataset-{}.txt'.format(ampNumber), sep = ',',header = None))\n",
    "originalDataSet.append(pd.read_csv('../datasets/4_channel_type/dataset-{}.txt'.format(ampNumber), sep = ',',header = None))\n",
    "\n",
    "for i in range(channelTypeQnt):\n",
    "    binaryDataSet.append([])\n",
    "    for line in originalDataSet[i].values:\n",
    "        myList = [1 if i != 0 else 0 for i in line[:40]]\n",
    "        myList.extend(line[40:])\n",
    "        binaryDataSet[i].append(myList)\n",
    "\n",
    "    binaryDataSet[i] = pd.DataFrame(binaryDataSet[i])\n",
    "    gainScaler       = MinMaxScaler(feature_range = (-1, 1))\n",
    "    lossScaler       = MinMaxScaler(feature_range = (-1, 1))\n",
    "\n",
    "    gainScalerAux = []\n",
    "    lossScalerAux = []\n",
    "    \n",
    "    for j in range(0, ampNumber * 2, 2):\n",
    "        gainScalerAux.extend(binaryDataSet[i].values[:, 40 + j])\n",
    "        lossScalerAux.extend(binaryDataSet[i].values[:, 40 + j + 1])\n",
    "\n",
    "    gainScaler.fit(np.array(gainScalerAux).reshape(-1, 1))\n",
    "    lossScaler.fit(np.array(lossScalerAux).reshape(-1, 1))\n",
    "    \n",
    "    gainScalerList.append(gainScaler)\n",
    "    lossScalerList.append(lossScaler)\n",
    "\n",
    "def loadDataset(channelIndex): \n",
    "    dataSet = binaryDataSet[channelIndex].values[:, :40]\n",
    "    \n",
    "    for i in range(0, ampNumber * 2, 2):\n",
    "        gain    = np.array(binaryDataSet[channelIndex].values[:, 40 + i])\n",
    "        gain    = gainScaler.transform(gain.reshape(-1, 1))\n",
    "        dataSet = np.hstack((dataSet, gain))\n",
    "        \n",
    "        loss    = np.array(binaryDataSet[channelIndex].values[:, 40 + i + 1])\n",
    "        loss    = lossScaler.transform(loss.reshape(-1, 1))\n",
    "        dataSet = np.hstack((dataSet, loss))\n",
    "            \n",
    "    features, result = np.array(dataSet[:, :40]), np.array(dataSet[:, 40:])\n",
    "    return features, result\n",
    "\n",
    "def invertGainNorm(value, channelIndex):\n",
    "    auxArray = np.array([value, 0, 0, 0, 0, 0]).reshape(-1, 1)\n",
    "    return gainScalerList[channelIndex].inverse_transform(auxArray)[0][0]\n",
    "\n",
    "def invertLossNorm(value, channelIndex):\n",
    "    auxArray = np.array([value, 0, 0, 0, 0, 0]).reshape(-1, 1)\n",
    "    return lossScalerList[channelIndex].inverse_transform(auxArray)[0][0]\n",
    "    \n",
    "def getGainError(value1, value2, channelIndex):\n",
    "    return abs(invertGainNorm(value1, channelIndex) - invertGainNorm(value2, channelIndex))\n",
    "\n",
    "def getLossError(value1, value2, channelIndex):\n",
    "    return abs(invertLossNorm(value1, channelIndex) - invertLossNorm(value2, channelIndex))\n",
    "\n",
    "features, result = loadDataset(0)"
   ]
  },
  {
   "cell_type": "markdown",
   "metadata": {},
   "source": [
    "# Cross validation function"
   ]
  },
  {
   "cell_type": "code",
   "execution_count": 2,
   "metadata": {},
   "outputs": [],
   "source": [
    "def crossValidate(regressor, features, result, folds = 5):\n",
    "    foldSize   = math.ceil(features.shape[0] / folds)\n",
    "    gainErrors = []\n",
    "    lossErrors = []\n",
    "    \n",
    "    for i in range(folds): \n",
    "        sliceBegin = i * foldSize\n",
    "        sliceEnd   = (i + 1) * foldSize\n",
    "        \n",
    "        X_train = np.delete(features, np.s_[sliceBegin: sliceEnd], 0)\n",
    "        y_train = np.delete(result, np.s_[sliceBegin: sliceEnd], 0)\n",
    "        \n",
    "        if isinstance(regressor, Sequential):\n",
    "            regressor.fit(X_train, y_train, epochs = 500, verbose = 0)  \n",
    "        else:\n",
    "            regressor.fit(X_train, y_train)\n",
    "            \n",
    "        X_test = features[sliceBegin: sliceEnd]\n",
    "        y_test = result[sliceBegin: sliceEnd]\n",
    "        \n",
    "        gainError = 0\n",
    "        lossError = 0\n",
    "        \n",
    "        prediction = regressor.predict(X_test)\n",
    "        \n",
    "        for predicted, expected in zip(prediction, y_test):\n",
    "            for i in range(0, ampNumber * 2, 2):\n",
    "                gainError += getGainError(predicted[i], expected[i], 0) \n",
    "                lossError += getLossError(predicted[i + 1], expected[i + 1], 0)\n",
    "                 \n",
    "        gainErrors.append((gainError / ampNumber) / foldSize)\n",
    "        lossErrors.append((lossError / ampNumber) / foldSize) # average loss error by amp\n",
    "        \n",
    "    return np.array(gainErrors), np.array(lossErrors)"
   ]
  },
  {
   "cell_type": "code",
   "execution_count": 3,
   "metadata": {
    "scrolled": false
   },
   "outputs": [],
   "source": [
    "def trainModel(strategy, channelIndex):   \n",
    "    features, result       = loadDataset(channelIndex)\n",
    "    gainErrors, lossErrors = crossValidate(strategy, features, result)\n",
    "\n",
    "    print(gainErrors, \"=> %0.2f (+/- %0.2f)\" % (np.mean(gainErrors), gainErrors.std() * 2))\n",
    "    print(lossErrors, \"=> %0.2f (+/- %0.2f)\" % (np.mean(lossErrors), lossErrors.std() * 2))\n",
    "    \n",
    "    gainArray[channelIndex].append(gainErrors)\n",
    "    lossArray[channelIndex].append(lossErrors)\n",
    "    \n",
    "    return gainErrors, lossErrors"
   ]
  },
  {
   "cell_type": "code",
   "execution_count": 4,
   "metadata": {},
   "outputs": [],
   "source": [
    "def setANN():\n",
    "    model = Sequential()\n",
    "    \n",
    "    model.add(Dense(4, input_dim = 4, kernel_initializer = 'random_uniform', activation = 'sigmoid'))\n",
    "    model.add(Dense(8, kernel_initializer = 'normal', activation = 'sigmoid'))\n",
    "    model.add(Dense(16, kernel_initializer = 'normal', activation = 'sigmoid'))\n",
    "    model.add(Dense(16, kernel_initializer = 'normal', activation = 'sigmoid'))\n",
    "    model.add(Dense(32, kernel_initializer = 'normal', activation = 'sigmoid'))  \n",
    "    model.add(Dense(32, kernel_initializer = 'normal', activation = 'sigmoid'))\n",
    "    model.add(Dense(64, kernel_initializer = 'normal', activation = 'sigmoid'))\n",
    "    model.add(Dense(64, kernel_initializer = 'normal', activation = 'sigmoid'))\n",
    "    model.add(Dense(64, kernel_initializer = 'normal', activation = 'sigmoid')) \n",
    "    model.add(Dense(64, kernel_initializer = 'normal', activation = 'sigmoid'))\n",
    "    model.add(Dense(32, kernel_initializer = 'normal', activation = 'sigmoid'))\n",
    "    model.add(Dense(32, kernel_initializer = 'normal', activation = 'sigmoid'))\n",
    "    model.add(Dense(16, kernel_initializer = 'normal', activation = 'sigmoid'))  \n",
    "    model.add(Dense(16, kernel_initializer = 'normal', activation = 'sigmoid'))\n",
    "    model.add(Dense(8, kernel_initializer = 'normal', activation = 'sigmoid'))\n",
    "    model.add(Dense(8, kernel_initializer = 'normal', activation = 'sigmoid'))\n",
    "    model.add(Dense(4, kernel_initializer = 'normal', activation = 'sigmoid'))\n",
    "    model.add(Dense(2, kernel_initializer = 'random_uniform', activation = 'relu'))\n",
    "\n",
    "    # Compile model\n",
    "    model.compile(loss='mean_squared_error', optimizer='adam')\n",
    "    return model"
   ]
  },
  {
   "cell_type": "markdown",
   "metadata": {},
   "source": [
    "# Plotting functions"
   ]
  },
  {
   "cell_type": "code",
   "execution_count": 5,
   "metadata": {},
   "outputs": [],
   "source": [
    "def plotErrorBoxPlots():\n",
    "    fig, axis = plt.subplots(2, 3, figsize = (10, 5))\n",
    "    \n",
    "    p1 = axis[0, 0].boxplot(gainArray[0])\n",
    "    axis[0, 0].set_ylabel(\"Gain Absolute Error (dB)\", fontsize = 8)\n",
    "    axis[0, 0].set_ylim([1, 5])\n",
    "    \n",
    "    axis[0, 1].boxplot(gainArray[1])\n",
    "    axis[0, 1].set_ylim([1, 5])\n",
    "    #axis[0, 1].get_yaxis().set_visible(False)\n",
    "    \n",
    "    axis[0, 2].boxplot(gainArray[2])\n",
    "    axis[0, 2].set_ylim([1, 5])\n",
    "    #axis[0, 2].get_yaxis().set_visible(False)\n",
    "    \n",
    "    axis[1, 0].boxplot(lossArray[0])\n",
    "    axis[1, 0].set_ylabel(\"Loss Absolute Error (dB)\", fontsize = 8)\n",
    "    axis[1, 0].set_xlabel(\"1 channel type\", fontsize = 8)\n",
    "    axis[1, 0].set_ylim([1, 5])\n",
    "    \n",
    "    axis[1, 1].boxplot(lossArray[1])\n",
    "    axis[1, 1].set_xlabel(\"2 channel type\", fontsize = 8)\n",
    "    axis[1, 1].set_ylim([1, 5])\n",
    "    #axis[1, 1].get_yaxis().set_visible(False)\n",
    "    \n",
    "    axis[1, 2].boxplot(lossArray[2])\n",
    "    axis[1, 2].set_xlabel(\"4 channel type\", fontsize = 8)\n",
    "    axis[1, 2].set_ylim([1, 5])\n",
    "    #axis[1, 2].get_yaxis().set_visible(False)\n",
    "    \n",
    "    fig.suptitle(\"Train error\", fontsize = 16)\n",
    "    fig.legend(p1[\"boxes\"], strategyArray, handlelength = 0, bbox_to_anchor=(0.7, 0.81), loc = \"right\")\n",
    "    \n",
    "    #fix scale\n",
    "    \n",
    "    plt.show()"
   ]
  },
  {
   "cell_type": "code",
   "execution_count": 6,
   "metadata": {},
   "outputs": [],
   "source": [
    "def plotGainDistribution(regressor):\n",
    "    return\n",
    "    features, result = loadDataset(channelIndex)\n",
    "\n",
    "    predicted = regressor.predict(features)\n",
    "    fig, axis = plt.subplots(figsize = (10, 5))\n",
    "    vFunc     = np.vectorize(invertGainNorm)\n",
    "    \n",
    "    axis.scatter(vFunc(result[:, 0], 0), vFunc(predicted[:, 0], 0))\n",
    "    axis.set_title(\"Gain Distribution\")\n",
    "    axis.set_xlabel(\"Expected\")\n",
    "    axis.set_ylabel(\"Predicted\")\n",
    "\n",
    "    plt.show()"
   ]
  },
  {
   "cell_type": "code",
   "execution_count": 7,
   "metadata": {},
   "outputs": [],
   "source": [
    "def plotLossDistribution(regressor):\n",
    "    return\n",
    "    features, result = loadDataset(0)\n",
    "\n",
    "    predicted = regressor.predict(features)\n",
    "    fig, axis = plt.subplots(figsize = (10, 5))\n",
    "    vFunc     = np.vectorize(invertLossNorm)\n",
    "    \n",
    "    axis.scatter(vFunc(result[:, 1], 0), vFunc(predicted[:, 1], 0), c = \"m\")\n",
    "    axis.set_title(\"Loss Distribution\")\n",
    "    axis.set_xlabel(\"Expected\")\n",
    "    axis.set_ylabel(\"Predicted\")\n",
    "\n",
    "    plt.show()"
   ]
  },
  {
   "cell_type": "markdown",
   "metadata": {},
   "source": [
    "# Putting all together"
   ]
  },
  {
   "cell_type": "code",
   "execution_count": 8,
   "metadata": {},
   "outputs": [],
   "source": [
    "gainArray = [[],[],[]]\n",
    "lossArray = [[],[],[]]"
   ]
  },
  {
   "cell_type": "code",
   "execution_count": 9,
   "metadata": {},
   "outputs": [
    {
     "name": "stdout",
     "output_type": "stream",
     "text": [
      "[1.62509279 1.50471235 1.94001024 1.86212503 1.52696526] => 1.69 (+/- 0.35)\n",
      "[2.85936183 2.76586453 1.97144774 1.88607364 1.64583483] => 2.23 (+/- 0.98)\n",
      "[2.19304812 1.93865609 1.73465462 2.10639161 1.73184843] => 1.94 (+/- 0.38)\n",
      "[2.54515252 2.14816357 2.10059389 2.55873052 2.4660746 ] => 2.36 (+/- 0.40)\n",
      "[2.5520245  2.10954668 2.02852863 2.2960509  2.34670521] => 2.27 (+/- 0.37)\n",
      "[2.20354207 2.24407315 2.27535966 2.52449748 1.98904992] => 2.25 (+/- 0.34)\n"
     ]
    }
   ],
   "source": [
    "for i in range(channelTypeQnt):\n",
    "    linearSVR = MultiOutputRegressor(SVR(kernel = \"rbf\", C = 1.0, gamma = 'scale', epsilon = 0.2))\n",
    "    trainModel(linearSVR, i)\n",
    "    \n",
    "strategyArray.append(\"1 - SVR (Linear)\")\n",
    "plotGainDistribution(linearSVR)\n",
    "plotLossDistribution(linearSVR)"
   ]
  },
  {
   "cell_type": "code",
   "execution_count": 10,
   "metadata": {},
   "outputs": [
    {
     "name": "stdout",
     "output_type": "stream",
     "text": [
      "[2.3316141  2.05579403 2.22312317 2.10437485 1.74994721] => 2.09 (+/- 0.39)\n",
      "[2.6606353  2.70471449 2.21126541 2.1600231  1.85837188] => 2.32 (+/- 0.64)\n",
      "[2.08384844 1.93628567 1.61421614 2.21979041 1.68248435] => 1.91 (+/- 0.46)\n",
      "[2.67199504 2.22815505 2.18923883 2.45692342 2.49914729] => 2.41 (+/- 0.36)\n",
      "[2.07722876 2.12410943 2.13505897 2.07956252 2.39307262] => 2.16 (+/- 0.24)\n",
      "[2.41783785 2.28400315 2.37966189 2.62958176 2.00690164] => 2.34 (+/- 0.41)\n"
     ]
    }
   ],
   "source": [
    "for i in range(channelTypeQnt):\n",
    "    lasso = MultiOutputRegressor(linear_model.Lasso(alpha = 0.2))\n",
    "    trainModel(lasso, i)\n",
    "    \n",
    "strategyArray.append(\"2 - Lasso\")\n",
    "plotGainDistribution(lasso)\n",
    "plotLossDistribution(lasso)"
   ]
  },
  {
   "cell_type": "code",
   "execution_count": 11,
   "metadata": {},
   "outputs": [
    {
     "name": "stdout",
     "output_type": "stream",
     "text": [
      "[2.24709319 1.94918795 2.21027888 2.08250545 1.64737317] => 2.03 (+/- 0.43)\n",
      "[2.59923028 2.69266172 2.12531684 2.06818936 1.67775807] => 2.23 (+/- 0.74)\n",
      "[2.1645718  1.9460953  1.59493255 2.17773034 1.6282444 ] => 1.90 (+/- 0.50)\n",
      "[2.58652373 2.14618298 2.13262835 2.45663199 2.42700899] => 2.35 (+/- 0.36)\n",
      "[2.10071511 2.12370213 2.16353903 2.05440857 2.37636996] => 2.16 (+/- 0.22)\n",
      "[2.3866585  2.26951525 2.30246852 2.60505635 2.04514861] => 2.32 (+/- 0.36)\n"
     ]
    }
   ],
   "source": [
    "for i in range(channelTypeQnt):\n",
    "    lars = MultiOutputRegressor(linear_model.Lars(n_nonzero_coefs=1))\n",
    "    trainModel(lars, i)\n",
    "    \n",
    "strategyArray.append(\"3 - LARS\")\n",
    "plotGainDistribution(lars)\n",
    "plotLossDistribution(lars)"
   ]
  },
  {
   "cell_type": "code",
   "execution_count": 12,
   "metadata": {},
   "outputs": [
    {
     "name": "stdout",
     "output_type": "stream",
     "text": [
      "[1.95725949 1.55476008 1.96241377 1.91729115 1.65074942] => 1.81 (+/- 0.34)\n",
      "[3.17621179 2.86221986 1.76302104 1.54821299 1.86322234] => 2.24 (+/- 1.30)\n",
      "[2.0614365  1.94041859 1.77327372 1.95098703 1.9247668 ] => 1.93 (+/- 0.18)\n",
      "[2.65716473 2.03120602 2.05033552 2.45903295 2.52021961] => 2.34 (+/- 0.51)\n",
      "[3.86840904 3.1165178  2.43737684 2.75720741 2.5127243 ] => 2.94 (+/- 1.04)\n",
      "[3.75820746 2.62097506 3.2738199  2.74711908 2.67115371] => 3.01 (+/- 0.88)\n"
     ]
    }
   ],
   "source": [
    "for i in range(channelTypeQnt):\n",
    "    huber = MultiOutputRegressor(linear_model.HuberRegressor(max_iter = 10000))\n",
    "    trainModel(huber, i)\n",
    "    \n",
    "strategyArray.append(\"4 - Huber\")\n",
    "plotGainDistribution(huber)\n",
    "plotLossDistribution(huber)"
   ]
  },
  {
   "cell_type": "code",
   "execution_count": 13,
   "metadata": {},
   "outputs": [
    {
     "name": "stdout",
     "output_type": "stream",
     "text": [
      "[1.6706278  1.60964126 2.19775785 2.04887892 1.64103139] => 1.83 (+/- 0.48)\n",
      "[2.8157997  3.33240658 1.92056801 1.61080717 2.13071749] => 2.36 (+/- 1.25)\n",
      "[2.1651087  2.0726087  1.94891304 2.08456522 1.57815217] => 1.97 (+/- 0.42)\n",
      "[2.5010942  2.08681159 2.0411087  2.70952899 2.27344203] => 2.32 (+/- 0.51)\n",
      "[2.80833333 1.89896641 2.29450904 2.07719638 2.14173127] => 2.24 (+/- 0.62)\n",
      "[2.34302756 2.56522825 2.75309216 2.72497847 1.83632214] => 2.44 (+/- 0.67)\n"
     ]
    }
   ],
   "source": [
    "for i in range(channelTypeQnt):\n",
    "    knn = MultiOutputRegressor(KNeighborsRegressor())\n",
    "    trainModel(knn, i)\n",
    "    \n",
    "strategyArray.append(\"5 - KNN\")\n",
    "plotGainDistribution(knn)\n",
    "plotLossDistribution(knn)"
   ]
  },
  {
   "cell_type": "code",
   "execution_count": 14,
   "metadata": {},
   "outputs": [
    {
     "name": "stdout",
     "output_type": "stream",
     "text": [
      "[1.76764278 1.58457601 2.05159077 1.88993071 1.55916372] => 1.77 (+/- 0.37)\n",
      "[2.77220616 2.85870015 1.85866404 1.73557874 1.89213749] => 2.22 (+/- 0.97)\n",
      "[2.08982381 1.93546836 1.77239481 2.06984663 1.57107316] => 1.89 (+/- 0.39)\n",
      "[2.5146169  2.1666376  2.00052753 2.49583552 2.13043948] => 2.26 (+/- 0.41)\n",
      "[3.0304771  2.29521402 2.40755486 2.2921194  2.36571955] => 2.48 (+/- 0.56)\n",
      "[2.23205173 2.25851394 2.28429322 2.43663855 2.14134216] => 2.27 (+/- 0.19)\n"
     ]
    }
   ],
   "source": [
    "from sklearn.ensemble import BaggingRegressor\n",
    "from sklearn.tree import ExtraTreeRegressor\n",
    "\n",
    "for i in range(channelTypeQnt):\n",
    "    extra_tree = ExtraTreeRegressor(criterion = \"mse\", random_state=0)\n",
    "    bret = MultiOutputRegressor(BaggingRegressor(base_estimator = extra_tree, n_estimators = 100, random_state = 0))\n",
    "    trainModel(bret, i)\n",
    "    \n",
    "strategyArray.append(\"6 - Extra Tree\")\n",
    "plotGainDistribution(bret)\n",
    "plotLossDistribution(bret)"
   ]
  },
  {
   "cell_type": "code",
   "execution_count": 15,
   "metadata": {},
   "outputs": [
    {
     "name": "stdout",
     "output_type": "stream",
     "text": [
      "[1.76759216 1.57942073 2.04994145 1.89566924 1.55884706] => 1.77 (+/- 0.37)\n",
      "[2.77208567 2.88297863 1.86136838 1.65916213 1.89260358] => 2.21 (+/- 1.02)\n",
      "[2.17807577 1.93114278 1.77891446 2.07460795 1.54894064] => 1.90 (+/- 0.44)\n",
      "[2.52448911 2.17343304 1.98264783 2.51425356 2.0956857 ] => 2.26 (+/- 0.44)\n",
      "[2.65225039 2.25955487 2.10221859 2.18470704 2.62838394] => 2.37 (+/- 0.46)\n",
      "[2.24322186 2.2956749  2.29198779 2.40334479 2.0801255 ] => 2.26 (+/- 0.21)\n"
     ]
    }
   ],
   "source": [
    "from sklearn.ensemble import RandomForestRegressor\n",
    "\n",
    "for i in range(channelTypeQnt):\n",
    "    randomForest = RandomForestRegressor(max_depth = 8, random_state = 0, n_estimators = 100)\n",
    "    trainModel(randomForest, i)\n",
    "\n",
    "strategyArray.append(\"7 - Random Forest\")\n",
    "plotGainDistribution(randomForest)\n",
    "plotLossDistribution(randomForest)"
   ]
  },
  {
   "cell_type": "markdown",
   "metadata": {},
   "source": [
    "# Plotting error boxplots"
   ]
  },
  {
   "cell_type": "code",
   "execution_count": 16,
   "metadata": {},
   "outputs": [
    {
     "data": {
      "image/png": "[encoded data removed]",
      "text/plain": [
       "<Figure size 720x360 with 6 Axes>"
      ]
     },
     "metadata": {
      "needs_background": "light"
     },
     "output_type": "display_data"
    }
   ],
   "source": [
    "plotErrorBoxPlots()"
   ]
  }
 ],
 "metadata": {
  "kernelspec": {
   "display_name": "Python 3",
   "language": "python",
   "name": "python3"
  },
  "language_info": {
   "codemirror_mode": {
    "name": "ipython",
    "version": 3
   },
   "file_extension": ".py",
   "mimetype": "text/x-python",
   "name": "python",
   "nbconvert_exporter": "python",
   "pygments_lexer": "ipython3",
   "version": "3.7.3"
  }
 },
 "nbformat": 4,
 "nbformat_minor": 2
}
