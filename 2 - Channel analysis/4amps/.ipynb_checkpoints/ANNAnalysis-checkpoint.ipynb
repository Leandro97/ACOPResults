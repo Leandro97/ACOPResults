{
 "cells": [
  {
   "cell_type": "markdown",
   "metadata": {},
   "source": [
    "## Imports and dataset loading"
   ]
  },
  {
   "cell_type": "code",
   "execution_count": 1,
   "metadata": {},
   "outputs": [],
   "source": [
    "from sklearn.preprocessing import MinMaxScaler\n",
    "import numpy as np\n",
    "import matplotlib.pyplot as plt\n",
    "import math\n",
    "import pandas as pd\n",
    "import tensorflow as tf\n",
    "\n",
    "from tensorflow import keras\n",
    "from tensorflow.keras import layers\n",
    "from sklearn.multioutput import MultiOutputRegressor\n",
    "from sklearn.neural_network import MLPRegressor\n",
    "from sklearn.preprocessing import MinMaxScaler\n",
    "from sklearn.model_selection import cross_validate\n",
    "\n",
    "ampNumber   = 4\n",
    "layerArray  = [2, 3, 4, 5, 6]\n",
    "neuronArray = [32, 64, 128, 256, 512, 1024]\n",
    "markers     = [\"o\", \"^\", \"P\", \"s\", \"D\", \"x\"]\n",
    "\n",
    "trainErrors    = []\n",
    "testGainArray  = []\n",
    "testLossArray  = []\n",
    "binaryDataSet  = []\n",
    "\n",
    "originalDataSet = pd.read_csv('../datasets/4_channel_type/dataset-{}.txt'.format(ampNumber), sep = ',',header = None)\n",
    "\n",
    "for line in originalDataSet.values:\n",
    "    myList = [1 if j != 0 else 0 for j in line[:40]]\n",
    "    myList.extend(line[40:])\n",
    "    binaryDataSet.append(myList)\n",
    "\n",
    "binaryDataSet = pd.DataFrame(binaryDataSet)\n",
    "gainScaler    = MinMaxScaler(feature_range = (-1, 1))\n",
    "lossScaler    = MinMaxScaler(feature_range = (-1, 1))\n",
    "\n",
    "gainScalerAux = []\n",
    "lossScalerAux = []\n",
    "    \n",
    "for j in range(0, ampNumber * 2, 2):\n",
    "    gainScalerAux.extend(binaryDataSet.values[:, 40 + j])\n",
    "    lossScalerAux.extend(binaryDataSet.values[:, 40 + j + 1])\n",
    "\n",
    "gainScaler.fit(np.array(gainScalerAux).reshape(-1, 1))\n",
    "lossScaler.fit(np.array(lossScalerAux).reshape(-1, 1))\n",
    "\n",
    "def loadDataset(): \n",
    "    dataSet = binaryDataSet.values[:, :40]\n",
    "    \n",
    "    for i in range(0, ampNumber * 2, 2):\n",
    "        gain    = np.array(binaryDataSet.values[:, 40 + i])\n",
    "        gain    = gainScaler.transform(gain.reshape(-1, 1))\n",
    "        dataSet = np.hstack((dataSet, gain))\n",
    "        \n",
    "        loss    = np.array(binaryDataSet.values[:, 40 + i + 1])\n",
    "        loss    = lossScaler.transform(loss.reshape(-1, 1))\n",
    "        dataSet = np.hstack((dataSet, loss))\n",
    "            \n",
    "    features, result = np.array(dataSet[:, :40]), np.array(dataSet[:, 40:])\n",
    "    return features, result\n",
    "\n",
    "def invertGainNorm(value):\n",
    "    auxArray = np.array([value, 0, 0, 0, 0, 0]).reshape(-1, 1)\n",
    "    return gainScaler.inverse_transform(auxArray)[0][0]\n",
    "\n",
    "def invertLossNorm(value):\n",
    "    auxArray = np.array([value, 0, 0, 0, 0, 0]).reshape(-1, 1)\n",
    "    return lossScaler.inverse_transform(auxArray)[0][0]\n",
    "    \n",
    "def getGainError(value1, value2):\n",
    "    return abs(invertGainNorm(value1) - invertGainNorm(value2))\n",
    "\n",
    "def getLossError(value1, value2):\n",
    "    return abs(invertLossNorm(value1) - invertLossNorm(value2))"
   ]
  },
  {
   "cell_type": "markdown",
   "metadata": {},
   "source": [
    "## Train and validation functions"
   ]
  },
  {
   "cell_type": "code",
   "execution_count": 2,
   "metadata": {},
   "outputs": [],
   "source": [
    "from sklearn.metrics import mean_absolute_error\n",
    "\n",
    "def getTrainError(regressor, X, y):\n",
    "    errors = []\n",
    "    \n",
    "    for i in range(30):\n",
    "        history = regressor.fit(X, y, epochs = 50, verbose = False)\n",
    "        errors.append(history.history[\"mean_squared_error\"])\n",
    "    \n",
    "    return np.mean(errors)\n",
    "\n",
    "def getTestErrors(regressor, X, y, folds = 5):\n",
    "    foldSize       = math.ceil(X.shape[0] / folds)\n",
    "    testGainErrors = []\n",
    "    testLossErrors = []\n",
    "    \n",
    "    for i in range(folds): \n",
    "        sliceBegin = i * foldSize\n",
    "        sliceEnd   = (i + 1) * foldSize\n",
    "        \n",
    "        X_train = np.delete(X, np.s_[sliceBegin: sliceEnd], 0)\n",
    "        y_train = np.delete(y, np.s_[sliceBegin: sliceEnd], 0)\n",
    "        X_test  = X[sliceBegin: sliceEnd]\n",
    "        y_test  = y[sliceBegin: sliceEnd]\n",
    "\n",
    "        regressor.fit(X_train, y_train)\n",
    "        \n",
    "        gainError  = 0\n",
    "        lossError  = 0\n",
    "        prediction = regressor.predict(X_test)\n",
    "        \n",
    "        for predicted, expected in zip(prediction, y_test):\n",
    "            for i in range(0, ampNumber * 2, 2):\n",
    "                gainError += getGainError(predicted[i], expected[i]) \n",
    "                lossError += getLossError(predicted[i + 1], expected[i + 1])\n",
    "                 \n",
    "        testGainErrors.append((gainError / ampNumber) / foldSize)\n",
    "        testLossErrors.append((lossError / ampNumber) / foldSize)\n",
    "        \n",
    "    return np.array(testGainErrors), np.array(testLossErrors)"
   ]
  },
  {
   "cell_type": "code",
   "execution_count": 3,
   "metadata": {},
   "outputs": [
    {
     "name": "stderr",
     "output_type": "stream",
     "text": [
      "Using TensorFlow backend.\n"
     ]
    }
   ],
   "source": [
    "import pandas\n",
    "from keras.models import Sequential\n",
    "from keras.layers import Dense\n",
    "from keras.wrappers.scikit_learn import KerasRegressor\n",
    "from sklearn.model_selection import cross_val_score\n",
    "from sklearn.model_selection import KFold\n",
    "from sklearn.preprocessing import StandardScaler\n",
    "from sklearn.pipeline import Pipeline\n",
    "\n",
    "def trainModel(strategy):    \n",
    "    features, result = loadDataset()\n",
    "    trainError       = getTrainError(strategy, features, result)\n",
    "    print(trainError)\n",
    "    \n",
    "    return trainError\n",
    "\n",
    "def testModel(strategy):    \n",
    "    features, result       = loadDataset()\n",
    "    gainErrors, lossErrors = getTestErrors(strategy, features, result)\n",
    "    \n",
    "    print(\"Test errors\")\n",
    "    print(gainErrors, \"=> %0.2f (+/- %0.2f)\" % (np.mean(gainErrors), gainErrors.std() * 2))\n",
    "    print(lossErrors, \"=> %0.2f (+/- %0.2f)\" % (np.mean(lossErrors), lossErrors.std() * 2))\n",
    "    print()\n",
    "    \n",
    "    return np.mean(gainErrors), np.mean(lossErrors)\n",
    "\n",
    "def setModel(layerNumber, neuronNumber):\n",
    "    model = Sequential()\n",
    "    \n",
    "    if layerNumber == 2:\n",
    "        model = keras.Sequential([\n",
    "                    layers.Dense(neuronNumber, activation='relu', input_shape = [40]),\n",
    "                    layers.Dense(neuronNumber, activation='relu'),\n",
    "                    layers.Dense(2 * ampNumber)\n",
    "                ])\n",
    "\n",
    "    if layerNumber == 3:\n",
    "        model = keras.Sequential([\n",
    "                    layers.Dense(neuronNumber, activation='relu', input_shape = [40]),\n",
    "                    layers.Dense(neuronNumber, activation='relu'),\n",
    "                    layers.Dense(neuronNumber, activation='relu'),\n",
    "                    layers.Dense(2 * ampNumber)\n",
    "                ])\n",
    "        \n",
    "    if layerNumber == 4:\n",
    "        model = keras.Sequential([\n",
    "                    layers.Dense(neuronNumber, activation='relu', input_shape = [40]),\n",
    "                    layers.Dense(neuronNumber, activation='relu'),\n",
    "                    layers.Dense(neuronNumber, activation='relu'),\n",
    "                    layers.Dense(neuronNumber, activation='relu'),\n",
    "                    layers.Dense(2 * ampNumber)\n",
    "                ])\n",
    "        \n",
    "    if layerNumber == 5:\n",
    "        model = keras.Sequential([\n",
    "                    layers.Dense(neuronNumber, activation='relu', input_shape = [40]),\n",
    "                    layers.Dense(neuronNumber, activation='relu'),\n",
    "                    layers.Dense(neuronNumber, activation='relu'),\n",
    "                    layers.Dense(neuronNumber, activation='relu'),\n",
    "                    layers.Dense(neuronNumber, activation='relu'),\n",
    "                    layers.Dense(2 * ampNumber)\n",
    "                ])\n",
    "        \n",
    "    if layerNumber == 6:\n",
    "        model = keras.Sequential([\n",
    "                    layers.Dense(neuronNumber, activation='relu', input_shape = [40]),\n",
    "                    layers.Dense(neuronNumber, activation='relu'),\n",
    "                    layers.Dense(neuronNumber, activation='relu'),\n",
    "                    layers.Dense(neuronNumber, activation='relu'),\n",
    "                    layers.Dense(neuronNumber, activation='relu'),\n",
    "                    layers.Dense(neuronNumber, activation='relu'),\n",
    "                    layers.Dense(2 * ampNumber)\n",
    "                ])\n",
    "    return model"
   ]
  },
  {
   "cell_type": "markdown",
   "metadata": {},
   "source": [
    "## Plotting functions"
   ]
  },
  {
   "cell_type": "code",
   "execution_count": 7,
   "metadata": {},
   "outputs": [],
   "source": [
    "def plotError():\n",
    "    fig, axis = plt.subplots(figsize = (10, 5))\n",
    "\n",
    "    for i in range(len(layerArray)):\n",
    "        axis.plot(neuronArray, trainErrors[i])\n",
    "        axis.scatter(neuronArray, trainErrors[i], marker = markers[i])\n",
    "    \n",
    "    axis.set_title(\"Gain error for {} amplifiers\".format(ampNumber))\n",
    "    axis.set_xlabel(\"Neuron number\")\n",
    "    axis.set_ylabel(\"MSE (dB)\")\n",
    "    axis.legend([\"{} hidden layers\".format(x) for x in layerArray])\n",
    "\n",
    "    plt.show()\n",
    "\n",
    "def plotLossError():\n",
    "    fig, axis = plt.subplots(figsize = (10, 5))\n",
    "\n",
    "    for i in range(len(layerArray)):\n",
    "        axis.plot(neuronArray, trainLossArray[i])\n",
    "        axis.scatter(neuronArray, trainLossArray[i], marker = markers[i])\n",
    "    \n",
    "    axis.set_title(\"Loss error for {} amplifiers\".format(ampNumber))\n",
    "    axis.set_xlabel(\"Neuron number\")\n",
    "    axis.set_ylabel(\"MAE (dB)\")\n",
    "    axis.legend([\"{} hidden layers\".format(x) for x in layerArray])\n",
    "\n",
    "    plt.show()"
   ]
  },
  {
   "cell_type": "markdown",
   "metadata": {},
   "source": [
    "## Putting all together"
   ]
  },
  {
   "cell_type": "code",
   "execution_count": 5,
   "metadata": {},
   "outputs": [
    {
     "name": "stdout",
     "output_type": "stream",
     "text": [
      "2 layers\n",
      "WARNING:tensorflow:From /home/leandro/anaconda3/lib/python3.7/site-packages/keras/backend/tensorflow_backend.py:58: The name tf.get_default_graph is deprecated. Please use tf.compat.v1.get_default_graph instead.\n",
      "\n",
      "WARNING:tensorflow:From /home/leandro/anaconda3/lib/python3.7/site-packages/tensorflow_core/python/ops/resource_variable_ops.py:1630: calling BaseResourceVariable.__init__ (from tensorflow.python.ops.resource_variable_ops) with constraint is deprecated and will be removed in a future version.\n",
      "Instructions for updating:\n",
      "If using Keras pass *_constraint arguments to layers.\n",
      "0.16029546\n",
      "0.1602247\n",
      "0.1601234\n",
      "0.16006537\n",
      "0.16005807\n",
      "0.1600697\n",
      "3 layers\n",
      "0.16031222\n",
      "0.16009805\n",
      "0.15998305\n",
      "0.15999445\n",
      "0.15996398\n",
      "0.15999281\n",
      "4 layers\n",
      "0.16026594\n",
      "0.16006833\n",
      "0.15997656\n",
      "0.15997529\n",
      "0.15999566\n",
      "0.16007331\n",
      "5 layers\n",
      "0.1602256\n",
      "0.16008103\n",
      "0.16003321\n",
      "0.16010916\n",
      "0.16010514\n",
      "0.16028981\n",
      "6 layers\n",
      "0.16028556\n",
      "0.16012336\n",
      "0.16010424\n",
      "0.16014485\n",
      "0.16037713\n",
      "0.16032107\n",
      "[[0.16029546, 0.1602247, 0.1601234, 0.16006537, 0.16005807, 0.1600697], [0.16031222, 0.16009805, 0.15998305, 0.15999445, 0.15996398, 0.15999281], [0.16026594, 0.16006833, 0.15997656, 0.15997529, 0.15999566, 0.16007331], [0.1602256, 0.16008103, 0.16003321, 0.16010916, 0.16010514, 0.16028981], [0.16028556, 0.16012336, 0.16010424, 0.16014485, 0.16037713, 0.16032107]]\n"
     ]
    },
    {
     "ename": "NameError",
     "evalue": "name 'regressor' is not defined",
     "output_type": "error",
     "traceback": [
      "\u001b[0;31m---------------------------------------------------------------------------\u001b[0m",
      "\u001b[0;31mNameError\u001b[0m                                 Traceback (most recent call last)",
      "\u001b[0;32m<ipython-input-5-87ba11695adc>\u001b[0m in \u001b[0;36m<module>\u001b[0;34m\u001b[0m\n\u001b[1;32m     16\u001b[0m \u001b[0;34m\u001b[0m\u001b[0m\n\u001b[1;32m     17\u001b[0m \u001b[0mfeatures\u001b[0m\u001b[0;34m,\u001b[0m \u001b[0mresult\u001b[0m \u001b[0;34m=\u001b[0m \u001b[0mloadDataset\u001b[0m\u001b[0;34m(\u001b[0m\u001b[0;34m)\u001b[0m\u001b[0;34m\u001b[0m\u001b[0;34m\u001b[0m\u001b[0m\n\u001b[0;32m---> 18\u001b[0;31m \u001b[0mprediction\u001b[0m       \u001b[0;34m=\u001b[0m \u001b[0mregressor\u001b[0m\u001b[0;34m.\u001b[0m\u001b[0mpredict\u001b[0m\u001b[0;34m(\u001b[0m\u001b[0mfeatures\u001b[0m\u001b[0;34m[\u001b[0m\u001b[0;36m0\u001b[0m\u001b[0;34m]\u001b[0m\u001b[0;34m)\u001b[0m\u001b[0;34m\u001b[0m\u001b[0;34m\u001b[0m\u001b[0m\n\u001b[0m\u001b[1;32m     19\u001b[0m \u001b[0mprint\u001b[0m\u001b[0;34m(\u001b[0m\u001b[0mprediction\u001b[0m\u001b[0;34m,\u001b[0m \u001b[0mresult\u001b[0m\u001b[0;34m[\u001b[0m\u001b[0;36m0\u001b[0m\u001b[0;34m]\u001b[0m\u001b[0;34m)\u001b[0m\u001b[0;34m\u001b[0m\u001b[0;34m\u001b[0m\u001b[0m\n",
      "\u001b[0;31mNameError\u001b[0m: name 'regressor' is not defined"
     ]
    }
   ],
   "source": [
    "for layerNumber in layerArray:\n",
    "    print(layerNumber, \"layers\")\n",
    "    trainErrors.append([])\n",
    "    \n",
    "    for neurons in neuronArray:\n",
    "        model = setModel(layerNumber, neurons)\n",
    "        model.compile(loss      = 'mse',\n",
    "                      optimizer = \"adam\",\n",
    "                      metrics   = ['mae', 'mse'])\n",
    "\n",
    "        \n",
    "        trainError = trainModel(model)\n",
    "        trainErrors[-1].append(trainError)\n",
    "\n",
    "print(trainErrors)"
   ]
  },
  {
   "cell_type": "code",
   "execution_count": 8,
   "metadata": {},
   "outputs": [
    {
     "data": {
      "image/png": "[encoded data removed]",
      "text/plain": [
       "<Figure size 720x360 with 1 Axes>"
      ]
     },
     "metadata": {
      "needs_background": "light"
     },
     "output_type": "display_data"
    },
    {
     "ename": "NameError",
     "evalue": "name 'trainLossArray' is not defined",
     "output_type": "error",
     "traceback": [
      "\u001b[0;31m---------------------------------------------------------------------------\u001b[0m",
      "\u001b[0;31mNameError\u001b[0m                                 Traceback (most recent call last)",
      "\u001b[0;32m<ipython-input-8-5b0b04d0fff5>\u001b[0m in \u001b[0;36m<module>\u001b[0;34m\u001b[0m\n\u001b[1;32m      1\u001b[0m \u001b[0mplotGainError\u001b[0m\u001b[0;34m(\u001b[0m\u001b[0;34m)\u001b[0m\u001b[0;34m\u001b[0m\u001b[0;34m\u001b[0m\u001b[0m\n\u001b[0;32m----> 2\u001b[0;31m \u001b[0mplotLossError\u001b[0m\u001b[0;34m(\u001b[0m\u001b[0;34m)\u001b[0m\u001b[0;34m\u001b[0m\u001b[0;34m\u001b[0m\u001b[0m\n\u001b[0m",
      "\u001b[0;32m<ipython-input-7-543de5c7e24b>\u001b[0m in \u001b[0;36mplotLossError\u001b[0;34m()\u001b[0m\n\u001b[1;32m     17\u001b[0m \u001b[0;34m\u001b[0m\u001b[0m\n\u001b[1;32m     18\u001b[0m     \u001b[0;32mfor\u001b[0m \u001b[0mi\u001b[0m \u001b[0;32min\u001b[0m \u001b[0mrange\u001b[0m\u001b[0;34m(\u001b[0m\u001b[0mlen\u001b[0m\u001b[0;34m(\u001b[0m\u001b[0mlayerArray\u001b[0m\u001b[0;34m)\u001b[0m\u001b[0;34m)\u001b[0m\u001b[0;34m:\u001b[0m\u001b[0;34m\u001b[0m\u001b[0;34m\u001b[0m\u001b[0m\n\u001b[0;32m---> 19\u001b[0;31m         \u001b[0maxis\u001b[0m\u001b[0;34m.\u001b[0m\u001b[0mplot\u001b[0m\u001b[0;34m(\u001b[0m\u001b[0mneuronArray\u001b[0m\u001b[0;34m,\u001b[0m \u001b[0mtrainLossArray\u001b[0m\u001b[0;34m[\u001b[0m\u001b[0mi\u001b[0m\u001b[0;34m]\u001b[0m\u001b[0;34m)\u001b[0m\u001b[0;34m\u001b[0m\u001b[0;34m\u001b[0m\u001b[0m\n\u001b[0m\u001b[1;32m     20\u001b[0m         \u001b[0maxis\u001b[0m\u001b[0;34m.\u001b[0m\u001b[0mscatter\u001b[0m\u001b[0;34m(\u001b[0m\u001b[0mneuronArray\u001b[0m\u001b[0;34m,\u001b[0m \u001b[0mtrainLossArray\u001b[0m\u001b[0;34m[\u001b[0m\u001b[0mi\u001b[0m\u001b[0;34m]\u001b[0m\u001b[0;34m,\u001b[0m \u001b[0mmarker\u001b[0m \u001b[0;34m=\u001b[0m \u001b[0mmarkers\u001b[0m\u001b[0;34m[\u001b[0m\u001b[0mi\u001b[0m\u001b[0;34m]\u001b[0m\u001b[0;34m)\u001b[0m\u001b[0;34m\u001b[0m\u001b[0;34m\u001b[0m\u001b[0m\n\u001b[1;32m     21\u001b[0m \u001b[0;34m\u001b[0m\u001b[0m\n",
      "\u001b[0;31mNameError\u001b[0m: name 'trainLossArray' is not defined"
     ]
    },
    {
     "data": {
      "image/png": "[encoded data removed]",
      "text/plain": [
       "<Figure size 720x360 with 1 Axes>"
      ]
     },
     "metadata": {
      "needs_background": "light"
     },
     "output_type": "display_data"
    }
   ],
   "source": [
    "plotError()"
   ]
  }
 ],
 "metadata": {
  "kernelspec": {
   "display_name": "Python 3",
   "language": "python",
   "name": "python3"
  },
  "language_info": {
   "codemirror_mode": {
    "name": "ipython",
    "version": 3
   },
   "file_extension": ".py",
   "mimetype": "text/x-python",
   "name": "python",
   "nbconvert_exporter": "python",
   "pygments_lexer": "ipython3",
   "version": "3.7.3"
  }
 },
 "nbformat": 4,
 "nbformat_minor": 2
}
