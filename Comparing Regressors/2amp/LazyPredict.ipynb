{
 "cells": [
  {
   "cell_type": "markdown",
   "metadata": {},
   "source": [
    "# Imports and dataset loading"
   ]
  },
  {
   "cell_type": "code",
   "execution_count": 1,
   "metadata": {
    "scrolled": true
   },
   "outputs": [
    {
     "name": "stderr",
     "output_type": "stream",
     "text": [
      "/home/leandro/Documentos/Mestrado/ACOPResults/acopEnv/lib/python3.6/site-packages/sklearn/utils/deprecation.py:143: FutureWarning: The sklearn.utils.testing module is  deprecated in version 0.22 and will be removed in version 0.24. The corresponding classes / functions should instead be imported from sklearn.utils. Anything that cannot be imported from sklearn.utils is now part of the private API.\n",
      "  warnings.warn(message, FutureWarning)\n"
     ]
    }
   ],
   "source": [
    "import numpy as np\n",
    "import matplotlib.pyplot as plt\n",
    "import math\n",
    "\n",
    "from lazypredict.Supervised import LazyRegressor\n",
    "from sklearn.model_selection import train_test_split\n",
    "import pandas as pd\n",
    "\n",
    "import os\n",
    "path      = os.getcwd()\n",
    "ampNumber = int(os.path.basename(path)[0])\n",
    "\n",
    "originalDataset = pd.read_csv('dataset-{}.txt'.format(ampNumber), sep = ',', header = None)\n",
    "binaryDataset   = []\n",
    "    \n",
    "for line in originalDataset.values:\n",
    "    myList = [1 if j != 0 else 0 for j in line[:40]]\n",
    "    myList.extend(line[40:])\n",
    "    binaryDataset.append(myList)\n",
    "\n",
    "binaryDataset = pd.DataFrame(binaryDataset)\n",
    "\n",
    "def loadDataset(): \n",
    "    dataset = binaryDataset.values[:, :40]\n",
    "    \n",
    "    for i in range(0, ampNumber * 2, 2):\n",
    "        gain    = np.array(binaryDataset.values[:, 40 + i])\n",
    "        gain    = gain.reshape(-1, 1)\n",
    "        dataset = np.hstack((dataset, gain))\n",
    "        \n",
    "        loss    = np.array(binaryDataset.values[:, 40 + i + 1])\n",
    "        loss    = loss.reshape(-1, 1)\n",
    "        dataset = np.hstack((dataset, loss))\n",
    "                \n",
    "    X, y = np.array(dataset[:, :40]), np.array(dataset[:, 40:])\n",
    "    return X, y"
   ]
  },
  {
   "cell_type": "markdown",
   "metadata": {},
   "source": [
    "# Model setup"
   ]
  },
  {
   "cell_type": "code",
   "execution_count": null,
   "metadata": {
    "scrolled": true
   },
   "outputs": [
    {
     "name": "stderr",
     "output_type": "stream",
     "text": [
      " 16%|█▋        | 7/43 [00:00<00:01, 18.60it/s]"
     ]
    }
   ],
   "source": [
    "summaryList = []\n",
    "\n",
    "#1 regressor per amplifier\n",
    "X, y = loadDataset()\n",
    "\n",
    "for j in range(0, ampNumber * 2):\n",
    "    reg = LazyRegressor(verbose = 0, ignore_warnings = False)\n",
    "\n",
    "    X_train, X_test, y_train, y_test = train_test_split(X, y[:, j], test_size = 0.3, random_state = 0)\n",
    "    models, summary                  = reg.fit(X_train, X_test, y_train, y_test)\n",
    "    \n",
    "    summaryList.append(summary)"
   ]
  },
  {
   "cell_type": "code",
   "execution_count": null,
   "metadata": {},
   "outputs": [],
   "source": [
    "finalList = []\n",
    "\n",
    "'''\n",
    "if i % 2 ==0 -> it's a gain regressor\n",
    "else         -> it's a loss regressor\n",
    "'''\n",
    "\n",
    "for i in range(0, ampNumber * 2, 2): \n",
    "    finalList.append([])\n",
    "\n",
    "    for j in range(min(len(summaryList[i]['RMSE']), len(summaryList[i + 1]['RMSE']))):\n",
    "        if summaryList[i]['RMSE'].index[j] in summaryList[i + 1]['RMSE']: #checking if gain model exists in loss dataframe\n",
    "            \n",
    "            '''\n",
    "            summaryList[i]['RMSE'].index[j] -> j model's name for regressor i \n",
    "            summaryList[i]['RMSE'][j]       -> j model's RMSE for regressor i\n",
    "            summaryList[i + 1]['RMSE'][j]   -> j model's RMSE for regressor i + 1\n",
    "            '''\n",
    "            \n",
    "            line = [summaryList[i]['RMSE'].index[j], summaryList[i]['RMSE'][j], summaryList[i + 1]['RMSE'][j]]\n",
    "            finalList[-1].append(line)\n",
    "    \n",
    "#finalList[i][j]       -> [name, gain RMSE, loss RMSE] for model #(j + 1) of amp #(i + 1)\n",
    "print(finalList[0][0]) #  [name, gain RMSE, loss RMSE] for model #1 of amp #1\n",
    "print(finalList[1][3]) #  [name, gain RMSE, loss RMSE] for model #4 of amp #2"
   ]
  },
  {
   "cell_type": "markdown",
   "metadata": {},
   "source": [
    "# Draw table"
   ]
  },
  {
   "cell_type": "code",
   "execution_count": null,
   "metadata": {},
   "outputs": [],
   "source": [
    "def prepTable(ampIndex):\n",
    "    rowLabels = [] # Nomes das linhas\n",
    "    colLabels = [] # Nomes das colunas   \n",
    "    values    = [] # Valores das células\n",
    "    \n",
    "    colLabels = [\"Amp {} Gain\".format(ampIndex + 1), \"Amp {} Loss\".format(ampIndex + 1), \"Avg\"] \n",
    "    \n",
    "    # TODO: Ordenar esta lista de forma decrescente pela soma de ganho e perda (data[i][1] + data[i][2])\n",
    "    data = finalList[ampIndex] \n",
    "    \n",
    "    for entry in data:\n",
    "        model = entry['''TODO''']\n",
    "        gain  = entry['''TODO''']\n",
    "        loss  = entry['''TODO''']\n",
    "        avg   = round((gain + loss) / 2, 3)\n",
    "        \n",
    "        rowLabels.append(model)\n",
    "        values.append([gain, loss, avg])    \n",
    "    \n",
    "    return rowLabels, colLabels, values"
   ]
  },
  {
   "cell_type": "code",
   "execution_count": null,
   "metadata": {
    "scrolled": true
   },
   "outputs": [],
   "source": [
    "def drawTable(ampIndex):\n",
    "    rows, cols, values = prepTable(ampIndex)\n",
    "    \n",
    "    print(rows, cols, values)\n",
    "    fig = plt.figure(figsize = (15, 5))\n",
    "    ax  = fig.add_subplot()\n",
    "    ax.axis(\"off\")\n",
    "\n",
    "    # TODO: colocar coluna \"RMSE (dB)\" englobando as colunas de erro (consultar documento)\n",
    "    ax.table(cellText  = values,\n",
    "             rowLabels = rows,\n",
    "             colLabels = cols, loc=\"upper center\")\n",
    "    \n",
    "    plt.savefig(\"amp{}-table\".format(ampIndex + 1))"
   ]
  },
  {
   "cell_type": "code",
   "execution_count": null,
   "metadata": {},
   "outputs": [],
   "source": [
    "for i in range(ampNumber):\n",
    "    drawTable(0)"
   ]
  }
 ],
 "metadata": {
  "kernelspec": {
   "display_name": "acopEnv",
   "language": "python",
   "name": "acopenv"
  },
  "language_info": {
   "codemirror_mode": {
    "name": "ipython",
    "version": 3
   },
   "file_extension": ".py",
   "mimetype": "text/x-python",
   "name": "python",
   "nbconvert_exporter": "python",
   "pygments_lexer": "ipython3",
   "version": "3.6.9"
  }
 },
 "nbformat": 4,
 "nbformat_minor": 2
}
