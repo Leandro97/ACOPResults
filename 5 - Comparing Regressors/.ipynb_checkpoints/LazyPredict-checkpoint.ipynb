{
 "cells": [
  {
   "cell_type": "markdown",
   "metadata": {},
   "source": [
    "# Imports and dataset loading"
   ]
  },
  {
   "cell_type": "code",
   "execution_count": 1,
   "metadata": {
    "scrolled": true
   },
   "outputs": [
    {
     "name": "stderr",
     "output_type": "stream",
     "text": [
      "/home/leandro/Documentos/Mestrado/ACOPResults/acopEnv/lib/python3.6/site-packages/sklearn/utils/deprecation.py:143: FutureWarning: The sklearn.utils.testing module is  deprecated in version 0.22 and will be removed in version 0.24. The corresponding classes / functions should instead be imported from sklearn.utils. Anything that cannot be imported from sklearn.utils is now part of the private API.\n",
      "  warnings.warn(message, FutureWarning)\n"
     ]
    }
   ],
   "source": [
    "import numpy as np\n",
    "import matplotlib.pyplot as plt\n",
    "import math\n",
    "from sklearn.multioutput import MultiOutputRegressor\n",
    "from sklearn import linear_model\n",
    "from sklearn.neighbors import KNeighborsRegressor\n",
    "from sklearn.kernel_ridge import KernelRidge\n",
    "from sklearn.neural_network import MLPRegressor\n",
    "from sklearn.svm import SVR\n",
    "from sklearn.preprocessing import MinMaxScaler\n",
    "from keras.models import Sequential\n",
    "from keras.layers import Dense\n",
    "from keras.wrappers.scikit_learn import KerasRegressor\n",
    "from lazypredict.Supervised import LazyRegressor\n",
    "from sklearn.model_selection import train_test_split\n",
    "import autokeras as ak\n",
    "import tensorflow as tf\n",
    "import pandas as pd\n",
    "\n",
    "strategyArray = []\n",
    "gainArray     = []\n",
    "lossArray     = []\n",
    "datasetQnt    = 4\n",
    "ampNumber     = [4, 2, 3, 4]\n",
    "\n",
    "originalDataset = []\n",
    "binaryDataset   = []\n",
    "\n",
    "gainScalerList = []\n",
    "lossScalerList = []\n",
    "\n",
    "for i in range(datasetQnt):\n",
    "    if i == 0:\n",
    "        originalDataset.append(pd.read_csv('dataset.txt', sep = ',',header = None))\n",
    "    else:\n",
    "        originalDataset.append(pd.read_csv('dataset-{}.txt'.format(ampNumber[i]), sep = ',',header = None))\n",
    "        \n",
    "for i in range(datasetQnt):\n",
    "    binaryDataset.append([])\n",
    "    \n",
    "    for line in originalDataset[i].values:\n",
    "        myList = [1 if i != 0 else 0 for i in line[:40]]\n",
    "        myList.extend(line[40:])\n",
    "        binaryDataset[i].append(myList)\n",
    "\n",
    "    binaryDataset[i] = pd.DataFrame(binaryDataset[i])\n",
    "    gainScaler       = MinMaxScaler(feature_range = (-1, 1))\n",
    "    lossScaler       = MinMaxScaler(feature_range = (-1, 1))\n",
    "\n",
    "    gainScalerAux = []\n",
    "    lossScalerAux = []\n",
    "    \n",
    "    for j in range(0, ampNumber[i] * 2, 2):\n",
    "        gainScalerAux.extend(binaryDataset[i].values[:, 40 + j])\n",
    "        lossScalerAux.extend(binaryDataset[i].values[:, 40 + j + 1])\n",
    "\n",
    "    gainScaler.fit(np.array(gainScalerAux).reshape(-1, 1))\n",
    "    lossScaler.fit(np.array(lossScalerAux).reshape(-1, 1))\n",
    "    \n",
    "    gainScalerList.append(gainScaler)\n",
    "    lossScalerList.append(lossScaler)\n",
    "\n",
    "def loadDataset(datasetIndex): \n",
    "    dataSet = binaryDataset[datasetIndex].values[:, :40]\n",
    "    \n",
    "    for i in range(0, ampNumber[datasetIndex] * 2, 2):\n",
    "        gain    = np.array(binaryDataset[datasetIndex].values[:, 40 + i])\n",
    "        gain    = gainScaler.transform(gain.reshape(-1, 1))\n",
    "        dataSet = np.hstack((dataSet, gain))\n",
    "        \n",
    "        loss    = np.array(binaryDataset[datasetIndex].values[:, 40 + i + 1])\n",
    "        loss    = lossScaler.transform(loss.reshape(-1, 1))\n",
    "        dataset = np.hstack((dataSet, loss))\n",
    "            \n",
    "    X, y = np.array(dataset[:, :40]), np.array(dataset[:, 40:])\n",
    "    return X, y\n",
    "\n",
    "def invertGainNorm(value, datasetIndex):\n",
    "    auxArray = np.array([value, 0, 0, 0, 0, 0]).reshape(-1, 1)\n",
    "    return gainScalerList[datasetIndex].inverse_transform(auxArray)[0][0]\n",
    "\n",
    "def invertLossNorm(value, datasetIndex):\n",
    "    auxArray = np.array([value, 0, 0, 0, 0, 0]).reshape(-1, 1)\n",
    "    return lossScalerList[datasetIndex].inverse_transform(auxArray)[0][0]\n",
    "    \n",
    "def getGainError(value1, value2, datasetIndex):\n",
    "    return (invertGainNorm(value1, datasetIndex) - invertGainNorm(value2, datasetIndex))**2\n",
    "\n",
    "def getLossError(value1, value2, datasetIndex):\n",
    "    return (invertLossNorm(value1, datasetIndex) - invertLossNorm(value2, datasetIndex))**2"
   ]
  },
  {
   "cell_type": "markdown",
   "metadata": {},
   "source": [
    "# Model setup"
   ]
  },
  {
   "cell_type": "code",
   "execution_count": 2,
   "metadata": {},
   "outputs": [
    {
     "name": "stderr",
     "output_type": "stream",
     "text": [
      " 19%|█▊        | 8/43 [00:00<00:00, 75.35it/s]"
     ]
    },
    {
     "name": "stdout",
     "output_type": "stream",
     "text": [
      "AdaBoostRegressor model failed to execute\n",
      "y should be a 1d array, got an array of shape (639, 2) instead.\n",
      "BayesianRidge model failed to execute\n",
      "y should be a 1d array, got an array of shape (639, 2) instead.\n",
      "ElasticNetCV model failed to execute\n",
      "For multi-task outputs, use MultiTaskElasticNetCV\n"
     ]
    },
    {
     "name": "stderr",
     "output_type": "stream",
     "text": [
      " 40%|███▉      | 17/43 [00:00<00:00, 33.83it/s]"
     ]
    },
    {
     "name": "stdout",
     "output_type": "stream",
     "text": [
      "GammaRegressor model failed to execute\n",
      "y should be a 1d array, got an array of shape (639, 2) instead.\n",
      "GeneralizedLinearRegressor model failed to execute\n",
      "y should be a 1d array, got an array of shape (639, 2) instead.\n",
      "GradientBoostingRegressor model failed to execute\n",
      "y should be a 1d array, got an array of shape (639, 2) instead.\n",
      "HistGradientBoostingRegressor model failed to execute\n",
      "y should be a 1d array, got an array of shape (639, 2) instead.\n",
      "HuberRegressor model failed to execute\n",
      "y should be a 1d array, got an array of shape (639, 2) instead.\n"
     ]
    },
    {
     "name": "stderr",
     "output_type": "stream",
     "text": [
      "\r",
      " 51%|█████     | 22/43 [00:00<00:00, 36.80it/s]"
     ]
    },
    {
     "name": "stdout",
     "output_type": "stream",
     "text": [
      "LarsCV model failed to execute\n",
      "y should be a 1d array, got an array of shape (639, 2) instead.\n",
      "LassoCV model failed to execute\n",
      "For multi-task outputs, use MultiTaskLassoCV\n",
      "LassoLarsCV model failed to execute\n",
      "y should be a 1d array, got an array of shape (639, 2) instead.\n",
      "LassoLarsIC model failed to execute\n",
      "y should be a 1d array, got an array of shape (639, 2) instead.\n",
      "LinearSVR model failed to execute\n",
      "y should be a 1d array, got an array of shape (639, 2) instead.\n"
     ]
    },
    {
     "name": "stderr",
     "output_type": "stream",
     "text": [
      " 77%|███████▋  | 33/43 [00:01<00:00, 30.46it/s]"
     ]
    },
    {
     "name": "stdout",
     "output_type": "stream",
     "text": [
      "NuSVR model failed to execute\n",
      "y should be a 1d array, got an array of shape (639, 2) instead.\n",
      "OrthogonalMatchingPursuitCV model failed to execute\n",
      "y should be a 1d array, got an array of shape (639, 2) instead.\n",
      "PassiveAggressiveRegressor model failed to execute\n",
      "y should be a 1d array, got an array of shape (639, 2) instead.\n",
      "PoissonRegressor model failed to execute\n",
      "y should be a 1d array, got an array of shape (639, 2) instead.\n"
     ]
    },
    {
     "name": "stderr",
     "output_type": "stream",
     "text": [
      "100%|██████████| 43/43 [00:01<00:00, 34.14it/s]\n",
      " 14%|█▍        | 6/43 [00:00<00:00, 54.50it/s]"
     ]
    },
    {
     "name": "stdout",
     "output_type": "stream",
     "text": [
      "SGDRegressor model failed to execute\n",
      "y should be a 1d array, got an array of shape (639, 2) instead.\n",
      "SVR model failed to execute\n",
      "y should be a 1d array, got an array of shape (639, 2) instead.\n",
      "StackingRegressor model failed to execute\n",
      "__init__() missing 1 required positional argument: 'estimators'\n",
      "TweedieRegressor model failed to execute\n",
      "y should be a 1d array, got an array of shape (639, 2) instead.\n",
      "XGBRegressor model failed to execute\n",
      "only size-1 arrays can be converted to Python scalars\n",
      "LGBMRegressor model failed to execute\n",
      "y should be a 1d array, got an array of shape (639, 2) instead.\n",
      "AdaBoostRegressor model failed to execute\n",
      "y should be a 1d array, got an array of shape (639, 2) instead.\n",
      "BayesianRidge model failed to execute\n",
      "y should be a 1d array, got an array of shape (639, 2) instead.\n",
      "ElasticNetCV model failed to execute"
     ]
    },
    {
     "name": "stderr",
     "output_type": "stream",
     "text": [
      "\r",
      " 21%|██        | 9/43 [00:00<00:01, 31.08it/s]"
     ]
    },
    {
     "name": "stdout",
     "output_type": "stream",
     "text": [
      "\n",
      "For multi-task outputs, use MultiTaskElasticNetCV\n",
      "GammaRegressor model failed to execute\n",
      "y should be a 1d array, got an array of shape (639, 2) instead.\n"
     ]
    },
    {
     "name": "stderr",
     "output_type": "stream",
     "text": [
      " 42%|████▏     | 18/43 [00:00<00:00, 33.61it/s]"
     ]
    },
    {
     "name": "stdout",
     "output_type": "stream",
     "text": [
      "GeneralizedLinearRegressor model failed to execute\n",
      "y should be a 1d array, got an array of shape (639, 2) instead.\n",
      "GradientBoostingRegressor model failed to execute\n",
      "y should be a 1d array, got an array of shape (639, 2) instead.\n",
      "HistGradientBoostingRegressor model failed to execute\n",
      "y should be a 1d array, got an array of shape (639, 2) instead.\n",
      "HuberRegressor model failed to execute\n",
      "y should be a 1d array, got an array of shape (639, 2) instead.\n",
      "LarsCV model failed to execute\n",
      "y should be a 1d array, got an array of shape (639, 2) instead.\n",
      "LassoCV model failed to execute\n",
      "For multi-task outputs, use MultiTaskLassoCV\n"
     ]
    },
    {
     "name": "stderr",
     "output_type": "stream",
     "text": [
      "\r",
      " 58%|█████▊    | 25/43 [00:00<00:00, 39.79it/s]"
     ]
    },
    {
     "name": "stdout",
     "output_type": "stream",
     "text": [
      "LassoLarsCV model failed to execute\n",
      "y should be a 1d array, got an array of shape (639, 2) instead.\n",
      "LassoLarsIC model failed to execute\n",
      "y should be a 1d array, got an array of shape (639, 2) instead.\n",
      "LinearSVR model failed to execute\n",
      "y should be a 1d array, got an array of shape (639, 2) instead.\n"
     ]
    },
    {
     "name": "stderr",
     "output_type": "stream",
     "text": [
      " 77%|███████▋  | 33/43 [00:01<00:00, 22.99it/s]"
     ]
    },
    {
     "name": "stdout",
     "output_type": "stream",
     "text": [
      "NuSVR model failed to execute\n",
      "y should be a 1d array, got an array of shape (639, 2) instead.\n",
      "OrthogonalMatchingPursuitCV model failed to execute\n",
      "y should be a 1d array, got an array of shape (639, 2) instead.\n",
      "PassiveAggressiveRegressor model failed to execute\n",
      "y should be a 1d array, got an array of shape (639, 2) instead.\n",
      "PoissonRegressor model failed to execute\n",
      "y should be a 1d array, got an array of shape (639, 2) instead.\n",
      "RANSACRegressor model failed to execute\n",
      "RANSAC could not find a valid consensus set. All `max_trials` iterations were skipped because each randomly chosen sub-sample failed the passing criteria. See estimator attributes for diagnostics (n_skips*).\n"
     ]
    },
    {
     "name": "stderr",
     "output_type": "stream",
     "text": [
      "100%|██████████| 43/43 [00:01<00:00, 29.03it/s]\n",
      "  0%|          | 0/43 [00:00<?, ?it/s]"
     ]
    },
    {
     "name": "stdout",
     "output_type": "stream",
     "text": [
      "SGDRegressor model failed to execute\n",
      "y should be a 1d array, got an array of shape (639, 2) instead.\n",
      "SVR model failed to execute\n",
      "y should be a 1d array, got an array of shape (639, 2) instead.\n",
      "StackingRegressor model failed to execute\n",
      "__init__() missing 1 required positional argument: 'estimators'\n",
      "TweedieRegressor model failed to execute\n",
      "y should be a 1d array, got an array of shape (639, 2) instead.\n",
      "XGBRegressor model failed to execute\n",
      "only size-1 arrays can be converted to Python scalars\n",
      "LGBMRegressor model failed to execute\n",
      "y should be a 1d array, got an array of shape (639, 2) instead.\n"
     ]
    },
    {
     "name": "stderr",
     "output_type": "stream",
     "text": [
      " 28%|██▊       | 12/43 [00:00<00:01, 18.79it/s]"
     ]
    },
    {
     "name": "stdout",
     "output_type": "stream",
     "text": [
      "GammaRegressor model failed to execute\n",
      "Some value(s) of y are out of the valid range for family GammaDistribution\n"
     ]
    },
    {
     "name": "stderr",
     "output_type": "stream",
     "text": [
      " 74%|███████▍  | 32/43 [00:04<00:01,  8.47it/s]"
     ]
    },
    {
     "name": "stdout",
     "output_type": "stream",
     "text": [
      "PoissonRegressor model failed to execute\n",
      "Some value(s) of y are out of the valid range for family PoissonDistribution\n",
      "RANSACRegressor model failed to execute\n",
      "RANSAC could not find a valid consensus set. All `max_trials` iterations were skipped because each randomly chosen sub-sample failed the passing criteria. See estimator attributes for diagnostics (n_skips*).\n"
     ]
    },
    {
     "name": "stderr",
     "output_type": "stream",
     "text": [
      " 88%|████████▊ | 38/43 [00:05<00:00,  9.66it/s]"
     ]
    },
    {
     "name": "stdout",
     "output_type": "stream",
     "text": [
      "StackingRegressor model failed to execute\n",
      "__init__() missing 1 required positional argument: 'estimators'\n"
     ]
    },
    {
     "name": "stderr",
     "output_type": "stream",
     "text": [
      "100%|██████████| 43/43 [00:05<00:00,  7.69it/s]\n",
      " 70%|██████▉   | 30/43 [00:00<00:00, 142.88it/s]"
     ]
    },
    {
     "name": "stdout",
     "output_type": "stream",
     "text": [
      "AdaBoostRegressor model failed to execute\n",
      "y should be a 1d array, got an array of shape (639, 0) instead.\n",
      "BaggingRegressor model failed to execute\n",
      "Found array with 0 feature(s) (shape=(639, 0)) while a minimum of 1 is required.\n",
      "BayesianRidge model failed to execute\n",
      "y should be a 1d array, got an array of shape (639, 0) instead.\n",
      "DecisionTreeRegressor model failed to execute\n",
      "Found array with 0 feature(s) (shape=(639, 0)) while a minimum of 1 is required.\n",
      "DummyRegressor model failed to execute\n",
      "Found array with 0 feature(s) (shape=(639, 0)) while a minimum of 1 is required.\n",
      "ElasticNet model failed to execute\n",
      "Found array with 0 feature(s) (shape=(639, 0)) while a minimum of 1 is required.\n",
      "ElasticNetCV model failed to execute\n",
      "Found array with 0 feature(s) (shape=(639, 0)) while a minimum of 1 is required.\n",
      "ExtraTreeRegressor model failed to execute\n",
      "Found array with 0 feature(s) (shape=(639, 0)) while a minimum of 1 is required.\n",
      "ExtraTreesRegressor model failed to execute\n",
      "Found array with 0 feature(s) (shape=(639, 0)) while a minimum of 1 is required.\n",
      "GammaRegressor model failed to execute\n",
      "y should be a 1d array, got an array of shape (639, 0) instead.\n",
      "GaussianProcessRegressor model failed to execute\n",
      "Found array with 0 feature(s) (shape=(639, 0)) while a minimum of 1 is required.\n",
      "GeneralizedLinearRegressor model failed to execute\n",
      "y should be a 1d array, got an array of shape (639, 0) instead.\n",
      "GradientBoostingRegressor model failed to execute\n",
      "Found array with 0 feature(s) (shape=(639, 0)) while a minimum of 1 is required.\n",
      "HistGradientBoostingRegressor model failed to execute\n",
      "y should be a 1d array, got an array of shape (639, 0) instead.\n",
      "HuberRegressor model failed to execute\n",
      "y should be a 1d array, got an array of shape (639, 0) instead.\n",
      "KNeighborsRegressor model failed to execute\n",
      "Found array with 0 feature(s) (shape=(639, 0)) while a minimum of 1 is required.\n",
      "KernelRidge model failed to execute\n",
      "Found array with 0 feature(s) (shape=(639, 0)) while a minimum of 1 is required.\n",
      "Lars model failed to execute\n",
      "Found array with 0 feature(s) (shape=(639, 0)) while a minimum of 1 is required.\n",
      "LarsCV model failed to execute\n",
      "y should be a 1d array, got an array of shape (639, 0) instead.\n",
      "Lasso model failed to execute\n",
      "Found array with 0 feature(s) (shape=(639, 0)) while a minimum of 1 is required.\n",
      "LassoCV model failed to execute\n",
      "Found array with 0 feature(s) (shape=(639, 0)) while a minimum of 1 is required.\n",
      "LassoLars model failed to execute\n",
      "Found array with 0 feature(s) (shape=(639, 0)) while a minimum of 1 is required.\n",
      "LassoLarsCV model failed to execute\n",
      "y should be a 1d array, got an array of shape (639, 0) instead.\n",
      "LassoLarsIC model failed to execute\n",
      "y should be a 1d array, got an array of shape (639, 0) instead.\n",
      "LinearRegression model failed to execute\n",
      "Found array with 0 feature(s) (shape=(639, 0)) while a minimum of 1 is required.\n",
      "LinearSVR model failed to execute\n",
      "y should be a 1d array, got an array of shape (639, 0) instead.\n",
      "MLPRegressor model failed to execute\n",
      "Found array with 0 feature(s) (shape=(639, 0)) while a minimum of 1 is required.\n",
      "NuSVR model failed to execute\n",
      "y should be a 1d array, got an array of shape (639, 0) instead.\n",
      "OrthogonalMatchingPursuit model failed to execute\n",
      "Found array with 0 feature(s) (shape=(639, 0)) while a minimum of 1 is required.\n",
      "OrthogonalMatchingPursuitCV model failed to execute\n",
      "y should be a 1d array, got an array of shape (639, 0) instead.\n"
     ]
    },
    {
     "name": "stderr",
     "output_type": "stream",
     "text": [
      "\r",
      "100%|██████████| 43/43 [00:00<00:00, 151.81it/s]"
     ]
    },
    {
     "name": "stdout",
     "output_type": "stream",
     "text": [
      "PassiveAggressiveRegressor model failed to execute\n",
      "y should be a 1d array, got an array of shape (639, 0) instead.\n",
      "PoissonRegressor model failed to execute\n",
      "y should be a 1d array, got an array of shape (639, 0) instead.\n",
      "RANSACRegressor model failed to execute\n",
      "Found array with 0 feature(s) (shape=(639, 0)) while a minimum of 1 is required.\n",
      "RandomForestRegressor model failed to execute\n",
      "Found array with 0 feature(s) (shape=(639, 0)) while a minimum of 1 is required.\n",
      "Ridge model failed to execute\n",
      "Found array with 0 feature(s) (shape=(639, 0)) while a minimum of 1 is required.\n",
      "RidgeCV model failed to execute\n",
      "Found array with 0 feature(s) (shape=(639, 0)) while a minimum of 1 is required.\n",
      "SGDRegressor model failed to execute\n",
      "y should be a 1d array, got an array of shape (639, 0) instead.\n",
      "SVR model failed to execute\n",
      "y should be a 1d array, got an array of shape (639, 0) instead.\n",
      "StackingRegressor model failed to execute\n",
      "__init__() missing 1 required positional argument: 'estimators'\n",
      "TransformedTargetRegressor model failed to execute\n",
      "Found array with 0 feature(s) (shape=(639, 0)) while a minimum of 1 is required.\n",
      "TweedieRegressor model failed to execute\n",
      "y should be a 1d array, got an array of shape (639, 0) instead.\n",
      "XGBRegressor model failed to execute\n",
      "only size-1 arrays can be converted to Python scalars\n",
      "LGBMRegressor model failed to execute\n",
      "y should be a 1d array, got an array of shape (639, 0) instead.\n"
     ]
    },
    {
     "name": "stderr",
     "output_type": "stream",
     "text": [
      "\n"
     ]
    }
   ],
   "source": [
    "index                 = 0\n",
    "X, y                  = loadDataset(index)\n",
    "individualPredictions = []\n",
    "\n",
    "for i in range(0, ampNumber[index] * 2, 2):\n",
    "    reg = LazyRegressor(verbose = 0, ignore_warnings = False)\n",
    "\n",
    "    X_train, X_test, y_train, y_test = train_test_split(X, y[:, i: i + 2], test_size = 0.3, random_state = 0)\n",
    "    models, predictions              = reg.fit(X_train, X_test, y_train, y_test)\n",
    "    \n",
    "    individualPredictions.append(predictions)"
   ]
  },
  {
   "cell_type": "code",
   "execution_count": 3,
   "metadata": {
    "scrolled": true
   },
   "outputs": [
    {
     "name": "stdout",
     "output_type": "stream",
     "text": [
      "Model\n",
      "BaggingRegressor                        0.55\n",
      "GaussianProcessRegressor                0.55\n",
      "Ridge                                   0.55\n",
      "ExtraTreeRegressor                      0.55\n",
      "DecisionTreeRegressor                   0.55\n",
      "ExtraTreesRegressor                     0.55\n",
      "LinearRegression                        0.55\n",
      "TransformedTargetRegressor              0.55\n",
      "RidgeCV                                 0.55\n",
      "RandomForestRegressor                   0.55\n",
      "MLPRegressor                            0.55\n",
      "Lars                                    0.55\n",
      "OrthogonalMatchingPursuit               0.57\n",
      "KNeighborsRegressor                     0.61\n",
      "LassoLars                               0.61\n",
      "DummyRegressor                          0.61\n",
      "ElasticNet                              0.61\n",
      "Lasso                                   0.61\n",
      "KernelRidge                             0.77\n",
      "RANSACRegressor              639690319895.15\n",
      "Name: RMSE, dtype: float64\n",
      "\n"
     ]
    }
   ],
   "source": [
    "print(individualPredictions[0]['RMSE'])\n",
    "print()"
   ]
  },
  {
   "cell_type": "code",
   "execution_count": 4,
   "metadata": {},
   "outputs": [
    {
     "name": "stdout",
     "output_type": "stream",
     "text": [
      "<class 'pandas.core.frame.DataFrame'>\n"
     ]
    }
   ],
   "source": [
    "print(type(individualPredictions[0]))"
   ]
  }
 ],
 "metadata": {
  "kernelspec": {
   "display_name": "acopEnv",
   "language": "python",
   "name": "acopenv"
  },
  "language_info": {
   "codemirror_mode": {
    "name": "ipython",
    "version": 3
   },
   "file_extension": ".py",
   "mimetype": "text/x-python",
   "name": "python",
   "nbconvert_exporter": "python",
   "pygments_lexer": "ipython3",
   "version": "3.6.9"
  }
 },
 "nbformat": 4,
 "nbformat_minor": 2
}
