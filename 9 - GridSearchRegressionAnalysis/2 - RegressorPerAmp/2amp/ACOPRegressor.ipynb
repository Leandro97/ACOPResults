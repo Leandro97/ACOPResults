{
 "cells": [
  {
   "cell_type": "markdown",
   "metadata": {},
   "source": [
    "# Imports "
   ]
  },
  {
   "cell_type": "code",
   "execution_count": 1,
   "metadata": {},
   "outputs": [
    {
     "name": "stderr",
     "output_type": "stream",
     "text": [
      "/home/leandro/.local/lib/python3.6/site-packages/sklearn/utils/deprecation.py:143: FutureWarning: The sklearn.utils.testing module is  deprecated in version 0.22 and will be removed in version 0.24. The corresponding classes / functions should instead be imported from sklearn.utils. Anything that cannot be imported from sklearn.utils is now part of the private API.\n",
      "  warnings.warn(message, FutureWarning)\n",
      " 12%|█▏        | 5/43 [00:00<00:00, 48.79it/s]"
     ]
    },
    {
     "name": "stdout",
     "output_type": "stream",
     "text": [
      "[60, 49, 59, 59, 59, 59, 309, 309, 289, 49, 239, 269, 49]\n",
      "2 chs: 60 entries\n",
      "3 chs: 49 entries\n",
      "4 chs: 59 entries\n",
      "5 chs: 59 entries\n",
      "6 chs: 59 entries\n",
      "7 chs: 59 entries\n",
      "8 chs: 309 entries\n",
      "9 chs: 309 entries\n",
      "10 chs: 289 entries\n",
      "15 chs: 49 entries\n",
      "20 chs: 239 entries\n",
      "30 chs: 269 entries\n",
      "40 chs: 49 entries\n"
     ]
    },
    {
     "name": "stderr",
     "output_type": "stream",
     "text": [
      " 77%|███████▋  | 33/43 [00:04<00:01,  5.06it/s]"
     ]
    },
    {
     "name": "stdout",
     "output_type": "stream",
     "text": [
      "RANSACRegressor model failed to execute\n",
      "RANSAC could not find a valid consensus set. All `max_trials` iterations were skipped because each randomly chosen sub-sample failed the passing criteria. See estimator attributes for diagnostics (n_skips*).\n"
     ]
    },
    {
     "name": "stderr",
     "output_type": "stream",
     "text": [
      " 95%|█████████▌| 41/43 [00:05<00:00,  7.44it/s]"
     ]
    },
    {
     "name": "stdout",
     "output_type": "stream",
     "text": [
      "StackingRegressor model failed to execute\n",
      "__init__() missing 1 required positional argument: 'estimators'\n"
     ]
    },
    {
     "name": "stderr",
     "output_type": "stream",
     "text": [
      "100%|██████████| 43/43 [00:05<00:00,  7.75it/s]\n",
      " 30%|███       | 13/43 [00:00<00:01, 18.06it/s]"
     ]
    },
    {
     "name": "stdout",
     "output_type": "stream",
     "text": [
      "GammaRegressor model failed to execute\n",
      "Some value(s) of y are out of the valid range for family GammaDistribution\n"
     ]
    },
    {
     "name": "stderr",
     "output_type": "stream",
     "text": [
      " 93%|█████████▎| 40/43 [00:05<00:00,  5.32it/s]"
     ]
    },
    {
     "name": "stdout",
     "output_type": "stream",
     "text": [
      "StackingRegressor model failed to execute\n",
      "__init__() missing 1 required positional argument: 'estimators'\n"
     ]
    },
    {
     "name": "stderr",
     "output_type": "stream",
     "text": [
      "100%|██████████| 43/43 [00:05<00:00,  8.03it/s]\n",
      " 74%|███████▍  | 32/43 [00:05<00:02,  4.58it/s]"
     ]
    },
    {
     "name": "stdout",
     "output_type": "stream",
     "text": [
      "RANSACRegressor model failed to execute\n",
      "RANSAC could not find a valid consensus set. All `max_trials` iterations were skipped because each randomly chosen sub-sample failed the passing criteria. See estimator attributes for diagnostics (n_skips*).\n"
     ]
    },
    {
     "name": "stderr",
     "output_type": "stream",
     "text": [
      " 95%|█████████▌| 41/43 [00:06<00:00,  7.44it/s]"
     ]
    },
    {
     "name": "stdout",
     "output_type": "stream",
     "text": [
      "StackingRegressor model failed to execute\n",
      "__init__() missing 1 required positional argument: 'estimators'\n"
     ]
    },
    {
     "name": "stderr",
     "output_type": "stream",
     "text": [
      "100%|██████████| 43/43 [00:06<00:00,  6.43it/s]\n",
      " 30%|███       | 13/43 [00:00<00:01, 19.33it/s]"
     ]
    },
    {
     "name": "stdout",
     "output_type": "stream",
     "text": [
      "GammaRegressor model failed to execute\n",
      "Some value(s) of y are out of the valid range for family GammaDistribution\n"
     ]
    },
    {
     "name": "stderr",
     "output_type": "stream",
     "text": [
      " 93%|█████████▎| 40/43 [00:04<00:00,  7.31it/s]"
     ]
    },
    {
     "name": "stdout",
     "output_type": "stream",
     "text": [
      "StackingRegressor model failed to execute\n",
      "__init__() missing 1 required positional argument: 'estimators'\n"
     ]
    },
    {
     "name": "stderr",
     "output_type": "stream",
     "text": [
      "100%|██████████| 43/43 [00:04<00:00,  9.86it/s]\n"
     ]
    }
   ],
   "source": [
    "import numpy as np\n",
    "import ipynb.fs.full.PrepareData as data\n",
    "from sklearn.model_selection import GridSearchCV\n",
    "from sklearn.multioutput import MultiOutputRegressor\n",
    "import itertools\n",
    "\n",
    "strategyArray = []\n",
    "errorArray    = [[], []]"
   ]
  },
  {
   "cell_type": "markdown",
   "metadata": {},
   "source": [
    "# Sorting the dataset"
   ]
  },
  {
   "cell_type": "code",
   "execution_count": 2,
   "metadata": {
    "scrolled": false
   },
   "outputs": [
    {
     "name": "stdout",
     "output_type": "stream",
     "text": [
      "dict_keys(['MLPRegressor', 'TransformedTargetRegressor', 'RandomForestRegressor', 'BaggingRegressor', 'ExtraTreesRegressor'])\n"
     ]
    }
   ],
   "source": [
    "sortedDict = {}\n",
    "commonRegressors = data.commonRegressors\n",
    "\n",
    "for regressor in commonRegressors:\n",
    "    sortedDict[regressor] = 0\n",
    "    \n",
    "    for i in range(data.ampNumber):\n",
    "        sortedDict[regressor] += data.finalList[i][regressor][0] + data.finalList[i][regressor][1]\n",
    "\n",
    "sortedDict = dict(sorted(sortedDict.items(), key = lambda x : x[1]))\n",
    "sortedDict = dict(itertools.islice(sortedDict.items(), 5))\n",
    "\n",
    "print(sortedDict.keys())"
   ]
  },
  {
   "cell_type": "markdown",
   "metadata": {},
   "source": [
    "# Processing data"
   ]
  },
  {
   "cell_type": "code",
   "execution_count": 3,
   "metadata": {},
   "outputs": [],
   "source": [
    "from sklearn.metrics import mean_absolute_error\n",
    "\n",
    "def getMAE(yTrue, yPredicted):\n",
    "    gainErrors = []\n",
    "    lossErrors = []\n",
    "    \n",
    "    rangeList = list(range(len(yTrue[0])))\n",
    "    \n",
    "    for true, predicted in zip(yTrue, yPredicted):\n",
    "        gainTrue      = [true[x] for x in rangeList[0::2]]\n",
    "        gainPredicted = [predicted[x] for x in rangeList[0::2]]\n",
    "        lossTrue      = [true[x] for x in rangeList[1::2]]\n",
    "        lossPredicted = [predicted[x] for x in rangeList[1::2]]\n",
    "        \n",
    "        gainErrors.append(mean_absolute_error(gainTrue, gainPredicted))\n",
    "        lossErrors.append(mean_absolute_error(lossTrue, lossPredicted))\n",
    "        \n",
    "    return gainErrors, lossErrors"
   ]
  },
  {
   "cell_type": "markdown",
   "metadata": {},
   "source": [
    "# Plotting function"
   ]
  },
  {
   "cell_type": "code",
   "execution_count": 4,
   "metadata": {},
   "outputs": [],
   "source": [
    "import matplotlib.pyplot as plt\n",
    "\n",
    "def plotGrid(gainData, lossData):\n",
    "    fig, axis = plt.subplots(2, figsize = (10, 10))\n",
    "    #fig.suptitle(\"One regressor per amplifier - {} amplifiers\".format(data.ampNumber), fontsize = 20)\n",
    "    \n",
    "    axis[0].boxplot(gainData)\n",
    "    axis[0].set_title(\"Gain test error\", fontsize = 18)\n",
    "    axis[0].xaxis.set_tick_params(labelsize = 14)\n",
    "    axis[0].set_ylim(0, 5)\n",
    "    \n",
    "    axis[1].boxplot(lossData)\n",
    "    axis[1].set_title(\"Loss test error\", fontsize = 18)\n",
    "    axis[1].xaxis.set_tick_params(labelsize = 14)\n",
    "    axis[1].set_xticklabels(strategyArray, rotation = -45, ha = 'left')\n",
    "    axis[1].set_ylim(0, 5)\n",
    "\n",
    "    fig.text(0.08, 0.5, 'Mean Absolute error (dB)', va='center', rotation='vertical', fontsize = 18)\n",
    "\n",
    "    plt.gcf().subplots_adjust(bottom = 0.15)\n",
    "    fig.savefig(\"../../graphs/perAmp-{}amps.eps\".format(data.ampNumber), format = 'eps', dpi = 1000, bbox_inches = \"tight\")"
   ]
  },
  {
   "cell_type": "markdown",
   "metadata": {},
   "source": [
    "# Building the models"
   ]
  },
  {
   "cell_type": "code",
   "execution_count": 5,
   "metadata": {},
   "outputs": [],
   "source": [
    "X, y = data.loadDataset()\n",
    "X_train, X_test, y_train, y_test = data.train_test_split(X, y, test_size = 0.3, random_state = 0)\n",
    "\n",
    "count = 1"
   ]
  },
  {
   "cell_type": "code",
   "execution_count": 6,
   "metadata": {
    "scrolled": true
   },
   "outputs": [
    {
     "name": "stdout",
     "output_type": "stream",
     "text": [
      "Gain error: 0.7231939395401668 +- 0.6043295653041589\n",
      "Loss error: 1.1088078963618924 +- 0.7411300405023404\n"
     ]
    }
   ],
   "source": [
    "from sklearn.neural_network import MLPRegressor\n",
    "\n",
    "finalY      = []\n",
    "finalResult = []\n",
    "\n",
    "for i in range(0, data.ampNumber * 2, 2):\n",
    "    model = MultiOutputRegressor(MLPRegressor())\n",
    "    \n",
    "    param_grid = {\n",
    "        'estimator__activation': [\"identity\", \"logistic\", \"tanh\", \"relu\"],\n",
    "        'estimator__hidden_layer_sizes': [(100,), (50, 50)]\n",
    "    }\n",
    "    \n",
    "    grid = GridSearchCV(model, param_grid=param_grid)\n",
    "    grid.fit(X_train, y_train[:, i: i + 2])\n",
    "    \n",
    "    model = grid.best_estimator_\n",
    "    model.fit(X_train, y_train[:, i: i + 2])   \n",
    "    \n",
    "    result = model.predict(X_test)\n",
    "    \n",
    "    if len(finalY) == 0:\n",
    "        finalY = y_test[:, i: i + 2]\n",
    "        finalResult = result\n",
    "    else:        \n",
    "        finalY      = data.np.hstack((finalY, y_test[:, i: i + 2]))\n",
    "        finalResult = data.np.hstack((finalResult, result))\n",
    "\n",
    "strategyArray.append(\"{} - MLPRegressor\".format(count))\n",
    "result = getMAE(finalY, finalResult)\n",
    "\n",
    "errorArray[0].append(result[0])\n",
    "errorArray[1].append(result[1])\n",
    "\n",
    "count += 1\n",
    "print(\"Gain error: {} +- {}\".format(np.mean(result[0]), np.std(result[0])))\n",
    "print(\"Loss error: {} +- {}\".format(np.mean(result[1]), np.std(result[1])))"
   ]
  },
  {
   "cell_type": "code",
   "execution_count": 7,
   "metadata": {},
   "outputs": [
    {
     "name": "stdout",
     "output_type": "stream",
     "text": [
      "Gain error: 0.594323476155599 +- 0.6011503791693816\n",
      "Loss error: 1.1142743428548176 +- 0.7330462772812684\n"
     ]
    }
   ],
   "source": [
    "from sklearn.compose import TransformedTargetRegressor\n",
    "\n",
    "finalY      = []\n",
    "finalResult = []\n",
    "\n",
    "for i in range(0, data.ampNumber * 2, 2):\n",
    "    model = MultiOutputRegressor(TransformedTargetRegressor())\n",
    "    model.fit(X_train, y_train[:, i: i + 2])\n",
    "\n",
    "    result = model.predict(X_test)\n",
    "    \n",
    "    if len(finalY) == 0:\n",
    "        finalY = y_test[:, i: i + 2]\n",
    "        finalResult = result\n",
    "    else:        \n",
    "        finalY      = data.np.hstack((finalY, y_test[:, i: i + 2]))\n",
    "        finalResult = data.np.hstack((finalResult, result))\n",
    "\n",
    "strategyArray.append(\"{} - TransformedTargetRegressor\".format(count))\n",
    "result = getMAE(finalY, finalResult)\n",
    "\n",
    "errorArray[0].append(result[0])\n",
    "errorArray[1].append(result[1])\n",
    "\n",
    "count += 1\n",
    "print(\"Gain error: {} +- {}\".format(np.mean(result[0]), np.std(result[0])))\n",
    "print(\"Loss error: {} +- {}\".format(np.mean(result[1]), np.std(result[1])))"
   ]
  },
  {
   "cell_type": "code",
   "execution_count": 8,
   "metadata": {},
   "outputs": [
    {
     "name": "stdout",
     "output_type": "stream",
     "text": [
      "Gain error: 0.5777647006434053 +- 0.5951573083568983\n",
      "Loss error: 1.1069908955601682 +- 0.7416132218581631\n"
     ]
    }
   ],
   "source": [
    "from sklearn.ensemble import RandomForestRegressor\n",
    "\n",
    "finalY      = []\n",
    "finalResult = []\n",
    "\n",
    "for i in range(0, data.ampNumber * 2, 2):\n",
    "    model = MultiOutputRegressor(RandomForestRegressor())\n",
    "    \n",
    "    param_grid = {\n",
    "        'estimator__n_estimators': [50, 100, 200],\n",
    "        'estimator__min_samples_split': [1, 3, 4, 5],\n",
    "        'estimator__max_leaf_nodes': [None, 1, 5, 10]\n",
    "    }\n",
    "    \n",
    "    grid = GridSearchCV(model, param_grid=param_grid)\n",
    "    grid.fit(X_train, y_train[:, i: i + 2])\n",
    "    \n",
    "    model = grid.best_estimator_\n",
    "    model.fit(X_train, y_train[:, i: i + 2])\n",
    "\n",
    "    result = model.predict(X_test)\n",
    "    \n",
    "    if len(finalY) == 0:\n",
    "        finalY = y_test[:, i: i + 2]\n",
    "        finalResult = result\n",
    "    else:        \n",
    "        finalY      = data.np.hstack((finalY, y_test[:, i: i + 2]))\n",
    "        finalResult = data.np.hstack((finalResult, result))\n",
    "\n",
    "strategyArray.append(\"{} - RandomForestRegressor\".format(count))\n",
    "result = getMAE(finalY, finalResult)\n",
    "\n",
    "errorArray[0].append(result[0])\n",
    "errorArray[1].append(result[1])\n",
    "\n",
    "count += 1\n",
    "print(\"Gain error: {} +- {}\".format(np.mean(result[0]), np.std(result[0])))\n",
    "print(\"Loss error: {} +- {}\".format(np.mean(result[1]), np.std(result[1])))"
   ]
  },
  {
   "cell_type": "code",
   "execution_count": 9,
   "metadata": {},
   "outputs": [
    {
     "name": "stdout",
     "output_type": "stream",
     "text": [
      "Gain error: 0.5789772766837915 +- 0.5970879905632361\n",
      "Loss error: 1.1039912752038392 +- 0.737713238143127\n"
     ]
    }
   ],
   "source": [
    "from sklearn.ensemble import BaggingRegressor\n",
    "\n",
    "finalY      = []\n",
    "finalResult = []\n",
    "\n",
    "for i in range(0, data.ampNumber * 2, 2):\n",
    "    model = MultiOutputRegressor(BaggingRegressor())\n",
    "    \n",
    "    param_grid = {\n",
    "        'estimator__n_estimators': [5, 50, 100]\n",
    "    }\n",
    "    \n",
    "    grid = GridSearchCV(model, param_grid=param_grid)\n",
    "    grid.fit(X_train, y_train[:, i: i + 2])\n",
    "    \n",
    "    model = grid.best_estimator_\n",
    "    model.fit(X_train, y_train[:, i: i + 2])\n",
    "\n",
    "    result = model.predict(X_test)\n",
    "    \n",
    "    if len(finalY) == 0:\n",
    "        finalY = y_test[:, i: i + 2]\n",
    "        finalResult = result\n",
    "    else:        \n",
    "        finalY      = data.np.hstack((finalY, y_test[:, i: i + 2]))\n",
    "        finalResult = data.np.hstack((finalResult, result))\n",
    "\n",
    "strategyArray.append(\"{} - BaggingRegressor\".format(count))\n",
    "result = getMAE(finalY, finalResult)\n",
    "\n",
    "errorArray[0].append(result[0])\n",
    "errorArray[1].append(result[1])\n",
    "\n",
    "count += 1\n",
    "print(\"Gain error: {} +- {}\".format(np.mean(result[0]), np.std(result[0])))\n",
    "print(\"Loss error: {} +- {}\".format(np.mean(result[1]), np.std(result[1])))"
   ]
  },
  {
   "cell_type": "code",
   "execution_count": 10,
   "metadata": {},
   "outputs": [
    {
     "name": "stdout",
     "output_type": "stream",
     "text": [
      "Gain error: 0.5864317382809757 +- 0.5886741614021627\n",
      "Loss error: 1.121477474603917 +- 0.7203181822582402\n"
     ]
    }
   ],
   "source": [
    "from sklearn.ensemble import ExtraTreesRegressor\n",
    "\n",
    "finalY      = []\n",
    "finalResult = []\n",
    "\n",
    "for i in range(0, data.ampNumber * 2, 2):\n",
    "    model = MultiOutputRegressor(ExtraTreesRegressor())\n",
    "    \n",
    "    param_grid = {\n",
    "        'estimator__n_estimators': [5, 50, 100],\n",
    "        'estimator__max_features': ['auto', 'sqrt', 'log2'],\n",
    "        'estimator__max_depth': [5, 50, 100]\n",
    "    }\n",
    "    \n",
    "    grid = GridSearchCV(model, param_grid=param_grid)\n",
    "    grid.fit(X_train, y_train[:, i: i + 2])\n",
    "    \n",
    "    model = grid.best_estimator_\n",
    "    model.fit(X_train, y_train[:, i: i + 2])\n",
    "\n",
    "    result = model.predict(X_test)\n",
    "    \n",
    "    if len(finalY) == 0:\n",
    "        finalY = y_test[:, i: i + 2]\n",
    "        finalResult = result\n",
    "    else:        \n",
    "        finalY      = data.np.hstack((finalY, y_test[:, i: i + 2]))\n",
    "        finalResult = data.np.hstack((finalResult, result))\n",
    "\n",
    "strategyArray.append(\"{} - ExtraTreesRegressor\".format(count))\n",
    "result = getMAE(finalY, finalResult)\n",
    "\n",
    "errorArray[0].append(result[0])\n",
    "errorArray[1].append(result[1])\n",
    "\n",
    "count += 1\n",
    "print(\"Gain error: {} +- {}\".format(np.mean(result[0]), np.std(result[0])))\n",
    "print(\"Loss error: {} +- {}\".format(np.mean(result[1]), np.std(result[1])))"
   ]
  },
  {
   "cell_type": "code",
   "execution_count": 11,
   "metadata": {},
   "outputs": [
    {
     "name": "stdout",
     "output_type": "stream",
     "text": [
      "Gain error: 0.9648817883895132 +- 1.0050046008188278\n",
      "Loss error: 1.9205875468164795 +- 0.8182232615348035\n"
     ]
    }
   ],
   "source": [
    "from sklearn.dummy import DummyRegressor\n",
    "\n",
    "finalY      = []\n",
    "finalResult = []\n",
    "\n",
    "for i in range(0, data.ampNumber * 2, 2):\n",
    "    model = MultiOutputRegressor(DummyRegressor())\n",
    "    model.fit(X_train, y_train[:, i: i + 2])\n",
    "\n",
    "    result = model.predict(X_test)\n",
    "    \n",
    "    if len(finalY) == 0:\n",
    "        finalY = y_test[:, i: i + 2]\n",
    "        finalResult = result\n",
    "    else:        \n",
    "        finalY      = data.np.hstack((finalY, y_test[:, i: i + 2]))\n",
    "        finalResult = data.np.hstack((finalResult, result))\n",
    "\n",
    "strategyArray.append(\"{} - DummyRegressor\".format(count))\n",
    "result = getMAE(finalY, finalResult)\n",
    "\n",
    "errorArray[0].append(result[0])\n",
    "errorArray[1].append(result[1])\n",
    "\n",
    "count += 1\n",
    "print(\"Gain error: {} +- {}\".format(np.mean(result[0]), np.std(result[0])))\n",
    "print(\"Loss error: {} +- {}\".format(np.mean(result[1]), np.std(result[1])))"
   ]
  },
  {
   "cell_type": "code",
   "execution_count": 12,
   "metadata": {},
   "outputs": [
    {
     "name": "stdout",
     "output_type": "stream",
     "text": [
      "dict_keys(['MLPRegressor', 'TransformedTargetRegressor', 'RandomForestRegressor', 'BaggingRegressor', 'ExtraTreesRegressor'])\n"
     ]
    },
    {
     "data": {
      "image/png": "[encoded data removed]",
      "text/plain": [
       "<matplotlib.figure.Figure at 0x7f1dec6e98d0>"
      ]
     },
     "metadata": {
      "needs_background": "light"
     },
     "output_type": "display_data"
    }
   ],
   "source": [
    "print(sortedDict.keys())\n",
    "plotGrid(errorArray[0], errorArray[1])"
   ]
  }
 ],
 "metadata": {
  "kernelspec": {
   "display_name": "acopEnv",
   "language": "python",
   "name": "acopenv"
  },
  "language_info": {
   "codemirror_mode": {
    "name": "ipython",
    "version": 3
   },
   "file_extension": ".py",
   "mimetype": "text/x-python",
   "name": "python",
   "nbconvert_exporter": "python",
   "pygments_lexer": "ipython3",
   "version": "3.6.9"
  }
 },
 "nbformat": 4,
 "nbformat_minor": 2
}
