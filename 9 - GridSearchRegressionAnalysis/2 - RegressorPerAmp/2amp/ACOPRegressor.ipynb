{
 "cells": [
  {
   "cell_type": "markdown",
   "metadata": {},
   "source": [
    "# Imports "
   ]
  },
  {
   "cell_type": "code",
   "execution_count": 1,
   "metadata": {},
   "outputs": [
    {
     "name": "stderr",
     "output_type": "stream",
     "text": [
      "/home/leandro/.local/lib/python3.6/site-packages/sklearn/utils/deprecation.py:143: FutureWarning: The sklearn.utils.testing module is  deprecated in version 0.22 and will be removed in version 0.24. The corresponding classes / functions should instead be imported from sklearn.utils. Anything that cannot be imported from sklearn.utils is now part of the private API.\n",
      "  warnings.warn(message, FutureWarning)\n",
      "  7%|▋         | 3/43 [00:00<00:01, 23.86it/s]"
     ]
    },
    {
     "name": "stdout",
     "output_type": "stream",
     "text": [
      "[200, 179, 219, 199, 209, 219, 1239, 1238, 976, 179, 809, 919, 219]\n",
      "2 chs: 200 entries\n",
      "3 chs: 179 entries\n",
      "4 chs: 219 entries\n",
      "5 chs: 199 entries\n",
      "6 chs: 209 entries\n",
      "7 chs: 219 entries\n",
      "8 chs: 1239 entries\n",
      "9 chs: 1238 entries\n",
      "10 chs: 976 entries\n",
      "15 chs: 179 entries\n",
      "20 chs: 809 entries\n",
      "30 chs: 919 entries\n",
      "40 chs: 219 entries\n"
     ]
    },
    {
     "name": "stderr",
     "output_type": "stream",
     "text": [
      " 74%|███████▍  | 32/43 [00:08<00:03,  3.08it/s]"
     ]
    },
    {
     "name": "stdout",
     "output_type": "stream",
     "text": [
      "RANSACRegressor model failed to execute\n",
      "RANSAC could not find a valid consensus set. All `max_trials` iterations were skipped because each randomly chosen sub-sample failed the passing criteria. See estimator attributes for diagnostics (n_skips*).\n"
     ]
    },
    {
     "name": "stderr",
     "output_type": "stream",
     "text": [
      " 88%|████████▊ | 38/43 [00:09<00:01,  4.09it/s]"
     ]
    },
    {
     "name": "stdout",
     "output_type": "stream",
     "text": [
      "StackingRegressor model failed to execute\n",
      "__init__() missing 1 required positional argument: 'estimators'\n"
     ]
    },
    {
     "name": "stderr",
     "output_type": "stream",
     "text": [
      "100%|██████████| 43/43 [00:09<00:00,  4.30it/s]\n",
      " 21%|██        | 9/43 [00:00<00:03, 10.80it/s]"
     ]
    },
    {
     "name": "stdout",
     "output_type": "stream",
     "text": [
      "GammaRegressor model failed to execute\n",
      "Some value(s) of y are out of the valid range for family GammaDistribution\n"
     ]
    },
    {
     "name": "stderr",
     "output_type": "stream",
     "text": [
      " 88%|████████▊ | 38/43 [00:07<00:01,  4.14it/s]"
     ]
    },
    {
     "name": "stdout",
     "output_type": "stream",
     "text": [
      "StackingRegressor model failed to execute\n",
      "__init__() missing 1 required positional argument: 'estimators'\n"
     ]
    },
    {
     "name": "stderr",
     "output_type": "stream",
     "text": [
      "100%|██████████| 43/43 [00:07<00:00,  5.47it/s]\n",
      " 91%|█████████ | 39/43 [00:09<00:01,  3.88it/s]"
     ]
    },
    {
     "name": "stdout",
     "output_type": "stream",
     "text": [
      "StackingRegressor model failed to execute\n",
      "__init__() missing 1 required positional argument: 'estimators'\n"
     ]
    },
    {
     "name": "stderr",
     "output_type": "stream",
     "text": [
      "100%|██████████| 43/43 [00:10<00:00,  4.27it/s]\n",
      " 21%|██        | 9/43 [00:00<00:02, 12.96it/s]"
     ]
    },
    {
     "name": "stdout",
     "output_type": "stream",
     "text": [
      "GammaRegressor model failed to execute\n",
      "Some value(s) of y are out of the valid range for family GammaDistribution\n"
     ]
    },
    {
     "name": "stderr",
     "output_type": "stream",
     "text": [
      " 91%|█████████ | 39/43 [00:06<00:00,  4.84it/s]"
     ]
    },
    {
     "name": "stdout",
     "output_type": "stream",
     "text": [
      "StackingRegressor model failed to execute\n",
      "__init__() missing 1 required positional argument: 'estimators'\n"
     ]
    },
    {
     "name": "stderr",
     "output_type": "stream",
     "text": [
      "100%|██████████| 43/43 [00:07<00:00,  5.92it/s]\n"
     ]
    }
   ],
   "source": [
    "import numpy as np\n",
    "import ipynb.fs.full.PrepareData as data\n",
    "from sklearn.model_selection import GridSearchCV\n",
    "from sklearn.multioutput import MultiOutputRegressor\n",
    "import itertools\n",
    "\n",
    "strategyArray = []\n",
    "errorArray    = [[], []]"
   ]
  },
  {
   "cell_type": "markdown",
   "metadata": {},
   "source": [
    "# Sorting the dataset"
   ]
  },
  {
   "cell_type": "code",
   "execution_count": 2,
   "metadata": {
    "scrolled": false
   },
   "outputs": [
    {
     "name": "stdout",
     "output_type": "stream",
     "text": [
      "dict_keys(['BaggingRegressor', 'LassoCV', 'GradientBoostingRegressor', 'ElasticNetCV', 'RandomForestRegressor'])\n"
     ]
    }
   ],
   "source": [
    "sortedDict = {}\n",
    "commonRegressors = data.commonRegressors\n",
    "\n",
    "for regressor in commonRegressors:\n",
    "    sortedDict[regressor] = 0\n",
    "    \n",
    "    for i in range(data.ampNumber):\n",
    "        sortedDict[regressor] += data.finalList[i][regressor][0] + data.finalList[i][regressor][1]\n",
    "\n",
    "sortedDict = dict(sorted(sortedDict.items(), key = lambda x : x[1]))\n",
    "sortedDict = dict(itertools.islice(sortedDict.items(), 5))\n",
    "\n",
    "print(sortedDict.keys())"
   ]
  },
  {
   "cell_type": "markdown",
   "metadata": {},
   "source": [
    "# Processing data"
   ]
  },
  {
   "cell_type": "code",
   "execution_count": 3,
   "metadata": {},
   "outputs": [],
   "source": [
    "from sklearn.metrics import mean_absolute_error\n",
    "\n",
    "def getMAE(yTrue, yPredicted):\n",
    "    gainErrors = []\n",
    "    lossErrors = []\n",
    "    \n",
    "    rangeList = list(range(len(yTrue[0])))\n",
    "    \n",
    "    for true, predicted in zip(yTrue, yPredicted):\n",
    "        gainTrue      = [true[x] for x in rangeList[0::2]]\n",
    "        gainPredicted = [predicted[x] for x in rangeList[0::2]]\n",
    "        lossTrue      = [true[x] for x in rangeList[1::2]]\n",
    "        lossPredicted = [predicted[x] for x in rangeList[1::2]]\n",
    "        \n",
    "        gainErrors.append(mean_absolute_error(gainTrue, gainPredicted))\n",
    "        lossErrors.append(mean_absolute_error(lossTrue, lossPredicted))\n",
    "        \n",
    "    return gainErrors, lossErrors"
   ]
  },
  {
   "cell_type": "markdown",
   "metadata": {},
   "source": [
    "# Plotting function"
   ]
  },
  {
   "cell_type": "code",
   "execution_count": 4,
   "metadata": {},
   "outputs": [],
   "source": [
    "import matplotlib.pyplot as plt\n",
    "\n",
    "def plotGrid(gainData, lossData):\n",
    "    fig, axis = plt.subplots(2, figsize = (10, 10))\n",
    "    #fig.suptitle(\"One regressor per amplifier - {} amplifiers\".format(data.ampNumber), fontsize = 20)\n",
    "    \n",
    "    axis[0].boxplot(gainData)\n",
    "    axis[0].set_title(\"Gain test error\", fontsize = 18)\n",
    "    axis[0].xaxis.set_tick_params(labelsize = 14)\n",
    "    axis[0].set_ylim(0, 5)\n",
    "    \n",
    "    axis[1].boxplot(lossData)\n",
    "    axis[1].set_title(\"Loss test error\", fontsize = 18)\n",
    "    axis[1].xaxis.set_tick_params(labelsize = 14)\n",
    "    axis[1].set_xticklabels(strategyArray, rotation = -45, ha = 'left')\n",
    "    axis[1].set_ylim(0, 5)\n",
    "\n",
    "    fig.text(0.08, 0.5, 'Mean Absolute error (dB)', va='center', rotation='vertical', fontsize = 18)\n",
    "\n",
    "    plt.gcf().subplots_adjust(bottom = 0.15)\n",
    "    fig.savefig(\"../../graphs/perAmp-{}amps.eps\".format(data.ampNumber), format = 'eps', dpi = 1000, bbox_inches = \"tight\")"
   ]
  },
  {
   "cell_type": "markdown",
   "metadata": {},
   "source": [
    "# Building the models"
   ]
  },
  {
   "cell_type": "code",
   "execution_count": 5,
   "metadata": {},
   "outputs": [],
   "source": [
    "X, y = data.loadDataset()\n",
    "X_train, X_test, y_train, y_test = data.train_test_split(X, y, test_size = 0.3, random_state = 0)\n",
    "\n",
    "count = 1"
   ]
  },
  {
   "cell_type": "code",
   "execution_count": 6,
   "metadata": {
    "scrolled": true
   },
   "outputs": [
    {
     "name": "stdout",
     "output_type": "stream",
     "text": [
      "Gain error: 1.4212860537838916 +- 0.8828887915506913\n",
      "Loss error: 1.3840248767510224 +- 0.8422336071085986\n"
     ]
    }
   ],
   "source": [
    "from sklearn.ensemble import BaggingRegressor\n",
    "from sklearn.tree import ExtraTreeRegressor\n",
    "\n",
    "finalY      = []\n",
    "finalResult = []\n",
    "\n",
    "for i in range(0, data.ampNumber * 2, 2):\n",
    "    extra_tree = ExtraTreeRegressor()\n",
    "    model      = MultiOutputRegressor(BaggingRegressor(base_estimator = extra_tree,\n",
    "                                                       random_state   = 0))\n",
    "    \n",
    "    param_grid = {\n",
    "        'estimator__n_estimators': [5, 50, 100],\n",
    "        'estimator__base_estimator__max_leaf_nodes': [None, 5, 50, 100],\n",
    "        'estimator__base_estimator__splitter': ['random', 'best']\n",
    "    }\n",
    "    \n",
    "    grid = GridSearchCV(model, param_grid=param_grid)\n",
    "    grid.fit(X_train, y_train[:, i: i + 2])\n",
    "    \n",
    "    model = grid.best_estimator_\n",
    "    model.fit(X_train, y_train[:, i: i + 2])   \n",
    "    \n",
    "    result = model.predict(X_test)\n",
    "    \n",
    "    if len(finalY) == 0:\n",
    "        finalY = y_test[:, i: i + 2]\n",
    "        finalResult = result\n",
    "    else:        \n",
    "        finalY      = data.np.hstack((finalY, y_test[:, i: i + 2]))\n",
    "        finalResult = data.np.hstack((finalResult, result))\n",
    "\n",
    "strategyArray.append(\"{} - BaggingRegressor\".format(count))\n",
    "result = getMAE(finalY, finalResult)\n",
    "\n",
    "errorArray[0].append(result[0])\n",
    "errorArray[1].append(result[1])\n",
    "\n",
    "count += 1\n",
    "print(\"Gain error: {} +- {}\".format(np.mean(result[0]), np.std(result[0])))\n",
    "print(\"Loss error: {} +- {}\".format(np.mean(result[1]), np.std(result[1])))"
   ]
  },
  {
   "cell_type": "code",
   "execution_count": 7,
   "metadata": {},
   "outputs": [
    {
     "name": "stdout",
     "output_type": "stream",
     "text": [
      "Gain error: 1.4186261386801693 +- 0.8916006381508884\n",
      "Loss error: 1.3869506383724128 +- 0.8487335839146976\n"
     ]
    }
   ],
   "source": [
    "from sklearn.linear_model import LassoCV\n",
    "\n",
    "finalY      = []\n",
    "finalResult = []\n",
    "\n",
    "for i in range(0, data.ampNumber * 2, 2):\n",
    "    model = MultiOutputRegressor(LassoCV())\n",
    "    \n",
    "    param_grid = {\n",
    "        'estimator__selection': ['cyclic', 'random'],\n",
    "        'estimator__alphas': [np.logspace(-4, -0.5, 30)]\n",
    "    }\n",
    "    \n",
    "    grid = GridSearchCV(model, param_grid=param_grid)\n",
    "    grid.fit(X_train, y_train[:, i: i + 2])\n",
    "    \n",
    "    model = grid.best_estimator_\n",
    "    model.fit(X_train, y_train[:, i: i + 2])\n",
    "\n",
    "    result = model.predict(X_test)\n",
    "    \n",
    "    if len(finalY) == 0:\n",
    "        finalY = y_test[:, i: i + 2]\n",
    "        finalResult = result\n",
    "    else:        \n",
    "        finalY      = data.np.hstack((finalY, y_test[:, i: i + 2]))\n",
    "        finalResult = data.np.hstack((finalResult, result))\n",
    "\n",
    "strategyArray.append(\"{} - LassoCV\".format(count))\n",
    "result = getMAE(finalY, finalResult)\n",
    "\n",
    "errorArray[0].append(result[0])\n",
    "errorArray[1].append(result[1])\n",
    "\n",
    "count += 1\n",
    "print(\"Gain error: {} +- {}\".format(np.mean(result[0]), np.std(result[0])))\n",
    "print(\"Loss error: {} +- {}\".format(np.mean(result[1]), np.std(result[1])))"
   ]
  },
  {
   "cell_type": "code",
   "execution_count": 8,
   "metadata": {},
   "outputs": [
    {
     "name": "stdout",
     "output_type": "stream",
     "text": [
      "Gain error: 1.4134528794800443 +- 0.8991318782432165\n",
      "Loss error: 1.3879992394309142 +- 0.8422789825727484\n"
     ]
    }
   ],
   "source": [
    "from sklearn.ensemble import GradientBoostingRegressor\n",
    "\n",
    "finalY      = []\n",
    "finalResult = []\n",
    "\n",
    "for i in range(0, data.ampNumber * 2, 2):\n",
    "    model = MultiOutputRegressor(GradientBoostingRegressor())\n",
    "    \n",
    "    param_grid = {\n",
    "        'estimator__learning_rate': [.1, .5, .7, 1],\n",
    "        'estimator__n_estimators': [10, 50, 100],\n",
    "        'estimator__subsample': [.1, .5, .7, 1]\n",
    "    }\n",
    "    \n",
    "    grid = GridSearchCV(model, param_grid=param_grid)\n",
    "    grid.fit(X_train, y_train[:, i: i + 2])\n",
    "    \n",
    "    model = grid.best_estimator_\n",
    "    model.fit(X_train, y_train[:, i: i + 2])\n",
    "\n",
    "    result = model.predict(X_test)\n",
    "    \n",
    "    if len(finalY) == 0:\n",
    "        finalY = y_test[:, i: i + 2]\n",
    "        finalResult = result\n",
    "    else:        \n",
    "        finalY      = data.np.hstack((finalY, y_test[:, i: i + 2]))\n",
    "        finalResult = data.np.hstack((finalResult, result))\n",
    "\n",
    "strategyArray.append(\"{} - GradientBoostingRegressor\".format(count))\n",
    "result = getMAE(finalY, finalResult)\n",
    "\n",
    "errorArray[0].append(result[0])\n",
    "errorArray[1].append(result[1])\n",
    "\n",
    "count += 1\n",
    "print(\"Gain error: {} +- {}\".format(np.mean(result[0]), np.std(result[0])))\n",
    "print(\"Loss error: {} +- {}\".format(np.mean(result[1]), np.std(result[1])))"
   ]
  },
  {
   "cell_type": "code",
   "execution_count": 9,
   "metadata": {},
   "outputs": [
    {
     "name": "stdout",
     "output_type": "stream",
     "text": [
      "Gain error: 1.4225314436396947 +- 0.8914168890999388\n",
      "Loss error: 1.3888674550966789 +- 0.8484686228054309\n"
     ]
    }
   ],
   "source": [
    "from sklearn.linear_model import ElasticNetCV\n",
    "\n",
    "finalY      = []\n",
    "finalResult = []\n",
    "\n",
    "for i in range(0, data.ampNumber * 2, 2):\n",
    "    model = MultiOutputRegressor(ElasticNetCV())\n",
    "    \n",
    "    param_grid = {\n",
    "        'estimator__selection': ['cyclic', 'random'],\n",
    "        'estimator__l1_ratio': [.1, .5, .9, 1]\n",
    "    }\n",
    "    \n",
    "    grid = GridSearchCV(model, param_grid=param_grid)\n",
    "    grid.fit(X_train, y_train[:, i: i + 2])\n",
    "    \n",
    "    model = grid.best_estimator_\n",
    "    model.fit(X_train, y_train[:, i: i + 2])\n",
    "\n",
    "    result = model.predict(X_test)\n",
    "    \n",
    "    if len(finalY) == 0:\n",
    "        finalY = y_test[:, i: i + 2]\n",
    "        finalResult = result\n",
    "    else:        \n",
    "        finalY      = data.np.hstack((finalY, y_test[:, i: i + 2]))\n",
    "        finalResult = data.np.hstack((finalResult, result))\n",
    "\n",
    "strategyArray.append(\"{} - ElasticNetCV\".format(count))\n",
    "result = getMAE(finalY, finalResult)\n",
    "\n",
    "errorArray[0].append(result[0])\n",
    "errorArray[1].append(result[1])\n",
    "\n",
    "count += 1\n",
    "print(\"Gain error: {} +- {}\".format(np.mean(result[0]), np.std(result[0])))\n",
    "print(\"Loss error: {} +- {}\".format(np.mean(result[1]), np.std(result[1])))"
   ]
  },
  {
   "cell_type": "code",
   "execution_count": 10,
   "metadata": {},
   "outputs": [
    {
     "name": "stdout",
     "output_type": "stream",
     "text": [
      "Gain error: 1.4187303603362411 +- 0.8882344238332224\n",
      "Loss error: 1.3844735297084112 +- 0.8490474449493169\n"
     ]
    }
   ],
   "source": [
    "from sklearn.ensemble import RandomForestRegressor\n",
    "\n",
    "finalY      = []\n",
    "finalResult = []\n",
    "\n",
    "for i in range(0, data.ampNumber * 2, 2):\n",
    "    model = MultiOutputRegressor(RandomForestRegressor())\n",
    "    \n",
    "    param_grid = {\n",
    "        'estimator__n_estimators': [50, 100, 200],\n",
    "        'estimator__min_samples_split': [1, 3, 4, 5],\n",
    "        'estimator__max_leaf_nodes': [None, 1, 5, 10]\n",
    "    }\n",
    "    \n",
    "    grid = GridSearchCV(model, param_grid=param_grid)\n",
    "    grid.fit(X_train, y_train[:, i: i + 2])\n",
    "    \n",
    "    model = grid.best_estimator_\n",
    "    model.fit(X_train, y_train[:, i: i + 2])\n",
    "\n",
    "    result = model.predict(X_test)\n",
    "    \n",
    "    if len(finalY) == 0:\n",
    "        finalY = y_test[:, i: i + 2]\n",
    "        finalResult = result\n",
    "    else:        \n",
    "        finalY      = data.np.hstack((finalY, y_test[:, i: i + 2]))\n",
    "        finalResult = data.np.hstack((finalResult, result))\n",
    "\n",
    "strategyArray.append(\"{} - RandomForestRegressor\".format(count))\n",
    "result = getMAE(finalY, finalResult)\n",
    "\n",
    "errorArray[0].append(result[0])\n",
    "errorArray[1].append(result[1])\n",
    "\n",
    "count += 1\n",
    "print(\"Gain error: {} +- {}\".format(np.mean(result[0]), np.std(result[0])))\n",
    "print(\"Loss error: {} +- {}\".format(np.mean(result[1]), np.std(result[1])))"
   ]
  },
  {
   "cell_type": "code",
   "execution_count": 11,
   "metadata": {},
   "outputs": [
    {
     "name": "stdout",
     "output_type": "stream",
     "text": [
      "Gain error: 2.4131867919421572 +- 1.1865646456219878\n",
      "Loss error: 1.7854367242779263 +- 0.9683626615293187\n"
     ]
    }
   ],
   "source": [
    "from sklearn.dummy import DummyRegressor\n",
    "\n",
    "finalY      = []\n",
    "finalResult = []\n",
    "\n",
    "for i in range(0, data.ampNumber * 2, 2):\n",
    "    model = MultiOutputRegressor(DummyRegressor())\n",
    "    model.fit(X_train, y_train[:, i: i + 2])\n",
    "\n",
    "    result = model.predict(X_test)\n",
    "    \n",
    "    if len(finalY) == 0:\n",
    "        finalY = y_test[:, i: i + 2]\n",
    "        finalResult = result\n",
    "    else:        \n",
    "        finalY      = data.np.hstack((finalY, y_test[:, i: i + 2]))\n",
    "        finalResult = data.np.hstack((finalResult, result))\n",
    "\n",
    "strategyArray.append(\"{} - DummyRegressor\".format(count))\n",
    "result = getMAE(finalY, finalResult)\n",
    "\n",
    "errorArray[0].append(result[0])\n",
    "errorArray[1].append(result[1])\n",
    "\n",
    "count += 1\n",
    "print(\"Gain error: {} +- {}\".format(np.mean(result[0]), np.std(result[0])))\n",
    "print(\"Loss error: {} +- {}\".format(np.mean(result[1]), np.std(result[1])))"
   ]
  },
  {
   "cell_type": "code",
   "execution_count": 12,
   "metadata": {},
   "outputs": [
    {
     "name": "stdout",
     "output_type": "stream",
     "text": [
      "dict_keys(['BaggingRegressor', 'LassoCV', 'GradientBoostingRegressor', 'ElasticNetCV', 'RandomForestRegressor'])\n"
     ]
    },
    {
     "data": {
      "image/png": "[encoded data removed]",
      "text/plain": [
       "<matplotlib.figure.Figure at 0x7fe997ac42b0>"
      ]
     },
     "metadata": {
      "needs_background": "light"
     },
     "output_type": "display_data"
    }
   ],
   "source": [
    "print(sortedDict.keys())\n",
    "plotGrid(errorArray[0], errorArray[1])"
   ]
  }
 ],
 "metadata": {
  "kernelspec": {
   "display_name": "acopEnv",
   "language": "python",
   "name": "acopenv"
  },
  "language_info": {
   "codemirror_mode": {
    "name": "ipython",
    "version": 3
   },
   "file_extension": ".py",
   "mimetype": "text/x-python",
   "name": "python",
   "nbconvert_exporter": "python",
   "pygments_lexer": "ipython3",
   "version": "3.6.9"
  }
 },
 "nbformat": 4,
 "nbformat_minor": 2
}
