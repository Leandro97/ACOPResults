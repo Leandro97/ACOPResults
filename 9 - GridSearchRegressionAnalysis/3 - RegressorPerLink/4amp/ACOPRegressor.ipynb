{
 "cells": [
  {
   "cell_type": "markdown",
   "metadata": {},
   "source": [
    "# Imports "
   ]
  },
  {
   "cell_type": "code",
   "execution_count": 1,
   "metadata": {},
   "outputs": [
    {
     "name": "stderr",
     "output_type": "stream",
     "text": [
      "/home/leandro/.local/lib/python3.6/site-packages/sklearn/utils/deprecation.py:143: FutureWarning: The sklearn.utils.testing module is  deprecated in version 0.22 and will be removed in version 0.24. The corresponding classes / functions should instead be imported from sklearn.utils. Anything that cannot be imported from sklearn.utils is now part of the private API.\n",
      "  warnings.warn(message, FutureWarning)\n",
      "  7%|▋         | 3/43 [00:00<00:01, 24.46it/s]"
     ]
    },
    {
     "name": "stdout",
     "output_type": "stream",
     "text": [
      "[31, 27, 359, 356, 341, 367, 379, 366, 378, 374, 372, 343, 324]\n",
      "2 chs: 31 entries\n",
      "3 chs: 27 entries\n",
      "4 chs: 359 entries\n",
      "5 chs: 356 entries\n",
      "6 chs: 341 entries\n",
      "7 chs: 367 entries\n",
      "8 chs: 379 entries\n",
      "9 chs: 366 entries\n",
      "10 chs: 378 entries\n",
      "15 chs: 374 entries\n",
      "20 chs: 372 entries\n",
      "30 chs: 343 entries\n",
      "40 chs: 324 entries\n"
     ]
    },
    {
     "name": "stderr",
     "output_type": "stream",
     "text": [
      " 79%|███████▉  | 34/43 [00:04<00:01,  5.14it/s]"
     ]
    },
    {
     "name": "stdout",
     "output_type": "stream",
     "text": [
      "StackingRegressor model failed to execute\n",
      "__init__() missing 1 required positional argument: 'estimators'\n"
     ]
    },
    {
     "name": "stderr",
     "output_type": "stream",
     "text": [
      "100%|██████████| 43/43 [00:05<00:00,  7.27it/s]\n",
      " 30%|███       | 13/43 [00:00<00:01, 20.51it/s]"
     ]
    },
    {
     "name": "stdout",
     "output_type": "stream",
     "text": [
      "GammaRegressor model failed to execute\n",
      "Some value(s) of y are out of the valid range for family GammaDistribution\n"
     ]
    },
    {
     "name": "stderr",
     "output_type": "stream",
     "text": [
      " 95%|█████████▌| 41/43 [00:08<00:00,  6.37it/s]"
     ]
    },
    {
     "name": "stdout",
     "output_type": "stream",
     "text": [
      "StackingRegressor model failed to execute\n",
      "__init__() missing 1 required positional argument: 'estimators'\n"
     ]
    },
    {
     "name": "stderr",
     "output_type": "stream",
     "text": [
      "100%|██████████| 43/43 [00:13<00:00,  3.21it/s]\n",
      " 88%|████████▊ | 38/43 [00:05<00:00,  6.17it/s]"
     ]
    },
    {
     "name": "stdout",
     "output_type": "stream",
     "text": [
      "StackingRegressor model failed to execute\n",
      "__init__() missing 1 required positional argument: 'estimators'\n"
     ]
    },
    {
     "name": "stderr",
     "output_type": "stream",
     "text": [
      "100%|██████████| 43/43 [00:05<00:00,  7.26it/s]\n",
      " 26%|██▌       | 11/43 [00:00<00:01, 26.25it/s]"
     ]
    },
    {
     "name": "stdout",
     "output_type": "stream",
     "text": [
      "GammaRegressor model failed to execute\n",
      "Some value(s) of y are out of the valid range for family GammaDistribution\n"
     ]
    },
    {
     "name": "stderr",
     "output_type": "stream",
     "text": [
      " 77%|███████▋  | 33/43 [00:04<00:02,  4.71it/s]"
     ]
    },
    {
     "name": "stdout",
     "output_type": "stream",
     "text": [
      "RANSACRegressor model failed to execute\n",
      "RANSAC could not find a valid consensus set. All `max_trials` iterations were skipped because each randomly chosen sub-sample failed the passing criteria. See estimator attributes for diagnostics (n_skips*).\n"
     ]
    },
    {
     "name": "stderr",
     "output_type": "stream",
     "text": [
      " 95%|█████████▌| 41/43 [00:04<00:00,  7.62it/s]"
     ]
    },
    {
     "name": "stdout",
     "output_type": "stream",
     "text": [
      "StackingRegressor model failed to execute\n",
      "__init__() missing 1 required positional argument: 'estimators'\n"
     ]
    },
    {
     "name": "stderr",
     "output_type": "stream",
     "text": [
      "100%|██████████| 43/43 [00:05<00:00,  8.20it/s]\n",
      " 74%|███████▍  | 32/43 [00:04<00:01,  7.54it/s]"
     ]
    },
    {
     "name": "stdout",
     "output_type": "stream",
     "text": [
      "RANSACRegressor model failed to execute\n",
      "RANSAC could not find a valid consensus set. All `max_trials` iterations were skipped because each randomly chosen sub-sample failed the passing criteria. See estimator attributes for diagnostics (n_skips*).\n"
     ]
    },
    {
     "name": "stderr",
     "output_type": "stream",
     "text": [
      " 88%|████████▊ | 38/43 [00:05<00:00,  6.73it/s]"
     ]
    },
    {
     "name": "stdout",
     "output_type": "stream",
     "text": [
      "StackingRegressor model failed to execute\n",
      "__init__() missing 1 required positional argument: 'estimators'\n"
     ]
    },
    {
     "name": "stderr",
     "output_type": "stream",
     "text": [
      "100%|██████████| 43/43 [00:05<00:00,  7.43it/s]\n",
      " 30%|███       | 13/43 [00:00<00:01, 15.99it/s]"
     ]
    },
    {
     "name": "stdout",
     "output_type": "stream",
     "text": [
      "GammaRegressor model failed to execute\n",
      "Some value(s) of y are out of the valid range for family GammaDistribution\n"
     ]
    },
    {
     "name": "stderr",
     "output_type": "stream",
     "text": [
      " 95%|█████████▌| 41/43 [00:05<00:00,  7.94it/s]"
     ]
    },
    {
     "name": "stdout",
     "output_type": "stream",
     "text": [
      "StackingRegressor model failed to execute\n",
      "__init__() missing 1 required positional argument: 'estimators'\n"
     ]
    },
    {
     "name": "stderr",
     "output_type": "stream",
     "text": [
      "100%|██████████| 43/43 [00:05<00:00,  8.00it/s]\n",
      " 93%|█████████▎| 40/43 [00:04<00:00,  4.85it/s]"
     ]
    },
    {
     "name": "stdout",
     "output_type": "stream",
     "text": [
      "StackingRegressor model failed to execute\n",
      "__init__() missing 1 required positional argument: 'estimators'\n"
     ]
    },
    {
     "name": "stderr",
     "output_type": "stream",
     "text": [
      "100%|██████████| 43/43 [00:05<00:00,  8.31it/s]\n",
      " 23%|██▎       | 10/43 [00:00<00:02, 13.66it/s]"
     ]
    },
    {
     "name": "stdout",
     "output_type": "stream",
     "text": [
      "GammaRegressor model failed to execute\n",
      "Some value(s) of y are out of the valid range for family GammaDistribution\n"
     ]
    },
    {
     "name": "stderr",
     "output_type": "stream",
     "text": [
      " 93%|█████████▎| 40/43 [00:05<00:00,  7.89it/s]"
     ]
    },
    {
     "name": "stdout",
     "output_type": "stream",
     "text": [
      "StackingRegressor model failed to execute\n",
      "__init__() missing 1 required positional argument: 'estimators'\n"
     ]
    },
    {
     "name": "stderr",
     "output_type": "stream",
     "text": [
      "100%|██████████| 43/43 [00:08<00:00,  4.96it/s]\n"
     ]
    }
   ],
   "source": [
    "import numpy as np\n",
    "import ipynb.fs.full.PrepareData as data\n",
    "from sklearn.model_selection import GridSearchCV\n",
    "from sklearn.multioutput import MultiOutputRegressor\n",
    "import itertools\n",
    "\n",
    "strategyArray = []\n",
    "errorArray    = [[], []]"
   ]
  },
  {
   "cell_type": "markdown",
   "metadata": {},
   "source": [
    "# Sorting the dataset"
   ]
  },
  {
   "cell_type": "code",
   "execution_count": 2,
   "metadata": {
    "scrolled": false
   },
   "outputs": [
    {
     "name": "stdout",
     "output_type": "stream",
     "text": [
      "dict_keys(['LassoCV', 'GradientBoostingRegressor', 'Ridge', 'ElasticNetCV', 'XGBRegressor'])\n"
     ]
    }
   ],
   "source": [
    "sortedDict = {}\n",
    "commonRegressors = data.commonRegressors\n",
    "\n",
    "for regressor in commonRegressors:\n",
    "    sortedDict[regressor] = 0\n",
    "    \n",
    "    for i in range(data.ampNumber):\n",
    "        sortedDict[regressor] += data.finalList[i][regressor][0] + data.finalList[i][regressor][1]\n",
    "\n",
    "\n",
    "sortedDict = dict(sorted(sortedDict.items(), key = lambda x : x[1]))\n",
    "sortedDict = dict(itertools.islice(sortedDict.items(), 5))\n",
    "\n",
    "print(sortedDict.keys())"
   ]
  },
  {
   "cell_type": "markdown",
   "metadata": {},
   "source": [
    "# Processing data"
   ]
  },
  {
   "cell_type": "code",
   "execution_count": 3,
   "metadata": {},
   "outputs": [],
   "source": [
    "from sklearn.metrics import mean_absolute_error\n",
    "\n",
    "def getMAE(yTrue, yPredicted):\n",
    "    gainErrors = []\n",
    "    lossErrors = []\n",
    "    \n",
    "    rangeList = list(range(len(yTrue[0])))\n",
    "    \n",
    "    for true, predicted in zip(yTrue, yPredicted):\n",
    "        gainTrue      = [true[x] for x in rangeList[0::2]]\n",
    "        gainPredicted = [predicted[x] for x in rangeList[0::2]]\n",
    "        lossTrue      = [true[x] for x in rangeList[1::2]]\n",
    "        lossPredicted = [predicted[x] for x in rangeList[1::2]]\n",
    "        \n",
    "        gainErrors.append(mean_absolute_error(gainTrue, gainPredicted))\n",
    "        lossErrors.append(mean_absolute_error(lossTrue, lossPredicted))\n",
    "        \n",
    "    return gainErrors, lossErrors"
   ]
  },
  {
   "cell_type": "markdown",
   "metadata": {},
   "source": [
    "# Plotting function"
   ]
  },
  {
   "cell_type": "code",
   "execution_count": 4,
   "metadata": {},
   "outputs": [],
   "source": [
    "import matplotlib.pyplot as plt\n",
    "\n",
    "def plotGrid(gainData, lossData):\n",
    "    fig, axis = plt.subplots(2, figsize = (10, 10))\n",
    "    #fig.suptitle(\"One regressor per link - {} amplifiers\".format(data.ampNumber), fontsize = 20)\n",
    "    \n",
    "    axis[0].boxplot(gainData)\n",
    "    axis[0].set_title(\"Gain test error\", fontsize = 18)\n",
    "    axis[0].xaxis.set_tick_params(labelsize = 14)\n",
    "    axis[0].set_ylim(0, 5)\n",
    "    \n",
    "    axis[1].boxplot(lossData)\n",
    "    axis[1].set_title(\"Loss test error\", fontsize = 18)\n",
    "    axis[1].xaxis.set_tick_params(labelsize = 14)\n",
    "    axis[1].set_xticklabels(strategyArray, rotation = -45, ha = 'left')\n",
    "    axis[1].set_ylim(0, 5)\n",
    "\n",
    "    fig.text(0.08, 0.5, 'Mean Absolute error (dB)', va='center', rotation='vertical', fontsize = 18)\n",
    "\n",
    "    plt.gcf().subplots_adjust(bottom = 0.15)\n",
    "    fig.savefig(\"../../graphs/perLink-{}amps.eps\".format(data.ampNumber), format = 'eps', dpi = 1000, bbox_inches = \"tight\")"
   ]
  },
  {
   "cell_type": "markdown",
   "metadata": {},
   "source": [
    "# Building the models"
   ]
  },
  {
   "cell_type": "code",
   "execution_count": 5,
   "metadata": {},
   "outputs": [],
   "source": [
    "X, y = data.loadDataset()\n",
    "X_train, X_test, y_train, y_test = data.train_test_split(X, y, test_size = 0.3, random_state = 0)\n",
    "\n",
    "count = 1"
   ]
  },
  {
   "cell_type": "code",
   "execution_count": 6,
   "metadata": {},
   "outputs": [
    {
     "name": "stdout",
     "output_type": "stream",
     "text": [
      "Gain error: 2.0534110731565383 +- 0.9252457442385962\n",
      "Loss error: 1.112018608005657 +- 1.017151303194098\n"
     ]
    }
   ],
   "source": [
    "from sklearn.linear_model import LassoCV\n",
    "\n",
    "model = MultiOutputRegressor(LassoCV())\n",
    "\n",
    "param_grid = {\n",
    "    'estimator__selection': ['cyclic', 'random'],\n",
    "    'estimator__alphas': [np.logspace(-4, -0.5, 30)]\n",
    "}\n",
    "\n",
    "grid = GridSearchCV(model, param_grid=param_grid)\n",
    "grid.fit(X_train, y_train)\n",
    "\n",
    "model = grid.best_estimator_\n",
    "model.fit(X_train, y_train)\n",
    "\n",
    "result = model.predict(X_test)\n",
    "\n",
    "strategyArray.append(\"{} - LassoCV\".format(count))\n",
    "result = getMAE(y_test, result)\n",
    "\n",
    "errorArray[0].append(result[0])\n",
    "errorArray[1].append(result[1])\n",
    "\n",
    "count += 1\n",
    "print(\"Gain error: {} +- {}\".format(np.mean(result[0]), np.std(result[0])))\n",
    "print(\"Loss error: {} +- {}\".format(np.mean(result[1]), np.std(result[1])))"
   ]
  },
  {
   "cell_type": "code",
   "execution_count": 7,
   "metadata": {},
   "outputs": [
    {
     "name": "stdout",
     "output_type": "stream",
     "text": [
      "Gain error: 2.042631939664553 +- 0.951056907192939\n",
      "Loss error: 1.1380975753555727 +- 1.0010794106041276\n"
     ]
    }
   ],
   "source": [
    "from sklearn.ensemble import GradientBoostingRegressor\n",
    "\n",
    "model = MultiOutputRegressor(GradientBoostingRegressor())\n",
    "\n",
    "param_grid = {\n",
    "    'estimator__learning_rate': [.1, .5, .7, 1],\n",
    "    'estimator__n_estimators': [10, 50, 100],\n",
    "    'estimator__subsample': [.1, .5, .7, 1]\n",
    "}\n",
    "\n",
    "grid = GridSearchCV(model, param_grid=param_grid)\n",
    "grid.fit(X_train, y_train)\n",
    "\n",
    "model = grid.best_estimator_\n",
    "model.fit(X_train, y_train)\n",
    "\n",
    "result = model.predict(X_test)\n",
    "\n",
    "strategyArray.append(\"{} - GradientBoostingRegressor\".format(count))\n",
    "result = getMAE(y_test, result)\n",
    "\n",
    "errorArray[0].append(result[0])\n",
    "errorArray[1].append(result[1])\n",
    "\n",
    "count += 1\n",
    "print(\"Gain error: {} +- {}\".format(np.mean(result[0]), np.std(result[0])))\n",
    "print(\"Loss error: {} +- {}\".format(np.mean(result[1]), np.std(result[1])))"
   ]
  },
  {
   "cell_type": "code",
   "execution_count": 8,
   "metadata": {},
   "outputs": [
    {
     "name": "stdout",
     "output_type": "stream",
     "text": [
      "Gain error: 2.0534065361181146 +- 0.9348096032623412\n",
      "Loss error: 1.1622771876006446 +- 1.0103418262631307\n"
     ]
    }
   ],
   "source": [
    "from sklearn.linear_model import Ridge\n",
    "\n",
    "model = MultiOutputRegressor(Ridge())\n",
    "\n",
    "param_grid = {\n",
    "    'estimator__solver': ['auto', 'svd', 'cholesky', 'lsqr', 'sparse_cg', 'sag', 'saga'],\n",
    "    'estimator__max_iter': [500, 1000, 2000]\n",
    "}\n",
    "\n",
    "grid = GridSearchCV(model, param_grid=param_grid)\n",
    "grid.fit(X_train, y_train)\n",
    "\n",
    "model = grid.best_estimator_\n",
    "model.fit(X_train, y_train)\n",
    "\n",
    "result = model.predict(X_test)\n",
    "\n",
    "strategyArray.append(\"{} - Ridge\".format(count))\n",
    "result = getMAE(y_test, result)\n",
    "\n",
    "errorArray[0].append(result[0])\n",
    "errorArray[1].append(result[1])\n",
    "\n",
    "count += 1\n",
    "print(\"Gain error: {} +- {}\".format(np.mean(result[0]), np.std(result[0])))\n",
    "print(\"Loss error: {} +- {}\".format(np.mean(result[1]), np.std(result[1])))"
   ]
  },
  {
   "cell_type": "code",
   "execution_count": 9,
   "metadata": {},
   "outputs": [
    {
     "name": "stdout",
     "output_type": "stream",
     "text": [
      "Gain error: 2.057155045775042 +- 0.9229068726452615\n",
      "Loss error: 1.1237541546209004 +- 1.0198757621141694\n"
     ]
    }
   ],
   "source": [
    "from sklearn.linear_model import ElasticNetCV\n",
    "\n",
    "model = MultiOutputRegressor(ElasticNetCV())\n",
    "\n",
    "param_grid = {\n",
    "    'estimator__selection': ['cyclic', 'random'],\n",
    "    'estimator__l1_ratio': [.1, .5, .7, 1]\n",
    "}\n",
    "\n",
    "grid = GridSearchCV(model, param_grid=param_grid)\n",
    "grid.fit(X_train, y_train)\n",
    "\n",
    "model = grid.best_estimator_\n",
    "model.fit(X_train, y_train)\n",
    "\n",
    "result = model.predict(X_test)\n",
    "\n",
    "strategyArray.append(\"{} - ElasticNetCV\".format(count))\n",
    "result = getMAE(y_test, result)\n",
    "\n",
    "errorArray[0].append(result[0])\n",
    "errorArray[1].append(result[1])\n",
    "\n",
    "count += 1\n",
    "print(\"Gain error: {} +- {}\".format(np.mean(result[0]), np.std(result[0])))\n",
    "print(\"Loss error: {} +- {}\".format(np.mean(result[1]), np.std(result[1])))"
   ]
  },
  {
   "cell_type": "code",
   "execution_count": 10,
   "metadata": {},
   "outputs": [
    {
     "name": "stdout",
     "output_type": "stream",
     "text": [
      "Gain error: 2.0294942810850323 +- 0.9844363879158601\n",
      "Loss error: 1.1046105045822496 +- 1.0291728627066878\n"
     ]
    }
   ],
   "source": [
    "import xgboost as xgb\n",
    "\n",
    "model = MultiOutputRegressor(xgb.XGBRegressor())\n",
    "model.fit(X_train, y_train)\n",
    "\n",
    "result = model.predict(X_test)\n",
    "\n",
    "strategyArray.append(\"{} - XGBRegressor\".format(count))\n",
    "result = getMAE(y_test, result)\n",
    "\n",
    "errorArray[0].append(result[0])\n",
    "errorArray[1].append(result[1])\n",
    "\n",
    "count += 1\n",
    "print(\"Gain error: {} +- {}\".format(np.mean(result[0]), np.std(result[0])))\n",
    "print(\"Loss error: {} +- {}\".format(np.mean(result[1]), np.std(result[1])))"
   ]
  },
  {
   "cell_type": "code",
   "execution_count": 11,
   "metadata": {},
   "outputs": [
    {
     "name": "stdout",
     "output_type": "stream",
     "text": [
      "Gain error: 2.4881497882171733 +- 0.6934096954213148\n",
      "Loss error: 2.286176357335387 +- 1.0980386273805225\n"
     ]
    }
   ],
   "source": [
    "from sklearn.dummy import DummyRegressor\n",
    "\n",
    "model = MultiOutputRegressor(DummyRegressor())\n",
    "\n",
    "model.fit(X_train, y_train)\n",
    "\n",
    "result = model.predict(X_test)\n",
    "\n",
    "strategyArray.append(\"{} - DummyRegressor\".format(count))\n",
    "result = getMAE(y_test, result)\n",
    "\n",
    "errorArray[0].append(result[0])\n",
    "errorArray[1].append(result[1])\n",
    "\n",
    "count += 1\n",
    "print(\"Gain error: {} +- {}\".format(np.mean(result[0]), np.std(result[0])))\n",
    "print(\"Loss error: {} +- {}\".format(np.mean(result[1]), np.std(result[1])))"
   ]
  },
  {
   "cell_type": "code",
   "execution_count": 12,
   "metadata": {},
   "outputs": [
    {
     "name": "stdout",
     "output_type": "stream",
     "text": [
      "dict_keys(['LassoCV', 'GradientBoostingRegressor', 'Ridge', 'ElasticNetCV', 'XGBRegressor'])\n"
     ]
    },
    {
     "data": {
      "image/png": "[encoded data removed]",
      "text/plain": [
       "<matplotlib.figure.Figure at 0x7fc32c3a5dd8>"
      ]
     },
     "metadata": {
      "needs_background": "light"
     },
     "output_type": "display_data"
    }
   ],
   "source": [
    "print(sortedDict.keys())\n",
    "plotGrid(errorArray[0],errorArray[1])"
   ]
  }
 ],
 "metadata": {
  "kernelspec": {
   "display_name": "acopEnv",
   "language": "python",
   "name": "acopenv"
  },
  "language_info": {
   "codemirror_mode": {
    "name": "ipython",
    "version": 3
   },
   "file_extension": ".py",
   "mimetype": "text/x-python",
   "name": "python",
   "nbconvert_exporter": "python",
   "pygments_lexer": "ipython3",
   "version": "3.6.9"
  }
 },
 "nbformat": 4,
 "nbformat_minor": 2
}
